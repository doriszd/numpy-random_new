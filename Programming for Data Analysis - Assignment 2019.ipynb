{
 "cells": [
  {
   "cell_type": "markdown",
   "metadata": {},
   "source": [
    "# Programming for Data Analysis\n",
    "\n",
    "# Assignment 2019 \n",
    "\n"
   ]
  },
  {
   "cell_type": "markdown",
   "metadata": {},
   "source": [
    "## What are random numbers?"
   ]
  },
  {
   "cell_type": "markdown",
   "metadata": {},
   "source": [
    "![random numbers](new.png)"
   ]
  },
  {
   "cell_type": "markdown",
   "metadata": {},
   "source": [
    "\n",
    "\n",
    "Random numbers have been used for many thousands of years. Whether we talk about flipping a coin or rolling a dice, the goal is to leave the end result up to random chance. It is the same case with random number generators in a computer. The aim is to achieve an unpredictable, random result that could not be guessed. Computers generate random numbers for everything from cryptography to gambling. There are two categories of random numbers, “true” random numbers and pseudorandom numbers. Its difference is important for the security of encryption systems. To generate a “true” random number, the computer measures some type of physical phenomenon that takes place outside of the computer. For example the computer could rely on atmospheric noise or simply use the exact time you press keys on your keyboard as a source of unpredictable data (www.howtogeek.com). This type of random numbers is mostly used in programs in which data security is main priority. In this work we are going to focus more on pseudorandom numbers as they are a sample of numbers that look close to true random numbers but were generated using some deterministic process (machinelearningmastery.com).  Pseudorandom number generators (PRNGs) refer to an algorithm that uses mathematical formulas to produce sequences of random numbers (www.geeksforgeeks.org). One of the ways to generate random numbers is by using NumPy random numbers package. For that purpose, NumPy provides various routines that use particular algorithm to generate pseudorandom numbers.In order to dive in it into more details, in the next few paragraphs I will be focusing more on NumPy library and its features. \n"
   ]
  },
  {
   "cell_type": "markdown",
   "metadata": {},
   "source": [
    "## NumPy package\n",
    "  \n",
    "  NumPy (Numerical Python) is a library for the Python programing language. It is intrinsically integrated with Python (en.wikipedia.org). It is a successor for two earlier scientific libraries, Numeric code and Numarray.https://docs.scipy.org/doc/numpy-1.14.0/index.html As NumPy, its initial release was in 2006. The primary creator of NumPy is American data scientist and businessman, Travis Oliphant. NumPy is a distributed, volunteer, open-source project, and everyone is welcome to give their contribution. \n",
    "Some of the features that NumPy contains are powerful N-dimensional array objects, sophisticated functions, tools for integrating C/C++ and Fortran code and many others. Besides its obvious scientific uses, NumPy can also be used as an efficient multi-dimensional container of generic data. Arbitrary data-types can be defined. This allows NumPy to seamlessly and speedily integrate with a wide variety of databases.https://docs.scipy.org/doc/numpy-1.14.0/about.html\n",
    "\n",
    "At the core of the NumPy package, is the ndarray object. This encapsulates n-dimensional arrays of homogeneous data types, with many operations being performed in compiled code for performance. There are several important differences between NumPy arrays and the standard Python sequences:\n",
    "\n",
    "- NumPy arrays have a fixed size at creation while Python lists can grow dynamically. Changing the size of an ndarray will create a new array and delete the original. There are some NumPy’s benefits over Python lists, which include: being more compact, faster access in reading and writing items, being more convenient and more efficient (https://towardsdatascience.com).\n",
    "\n",
    "- The elements in a NumPy array are all required to be of the same data type, and thus will be the same size in memory. \n",
    "\n",
    "- NumPy arrays facilitate advanced mathematical and other types of operations on large numbers of data. Typically, such operations are executed more efficiently and with less code than is possible using Python’s built-in sequences.\n",
    "\n",
    "- In order to efficiently use most of today’s scientific/mathematical Python-based software, just knowing how to use Python’s built-in sequence types is insufficient, it is also crucial to know how to use NumPy arrays (https://numpy.org).\n",
    "\n",
    " "
   ]
  },
  {
   "cell_type": "markdown",
   "metadata": {},
   "source": [
    "The more important attributes of an ndarray object are:\n",
    "\n",
    "##### 1. ndarray.ndim\n",
    "\n",
    "This function returns the number of axes or dimensions of the array. In order to use ndarray.ndim function I have to import numpy package first. This is an example of one-dimensional array. The list of numbers from 4 to 7. "
   ]
  },
  {
   "cell_type": "code",
   "execution_count": 3,
   "metadata": {},
   "outputs": [],
   "source": [
    "#Import numpy as np\n",
    "import numpy as np\n",
    "#numpy.array function is used to generate numbers\n",
    "a = np.array([4, 5, 6, 7])"
   ]
  },
  {
   "cell_type": "code",
   "execution_count": 4,
   "metadata": {},
   "outputs": [
    {
     "data": {
      "text/plain": [
       "array([4, 5, 6, 7])"
      ]
     },
     "execution_count": 4,
     "metadata": {},
     "output_type": "execute_result"
    }
   ],
   "source": [
    "#call the value a\n",
    "a"
   ]
  },
  {
   "cell_type": "code",
   "execution_count": 5,
   "metadata": {},
   "outputs": [
    {
     "data": {
      "text/plain": [
       "1"
      ]
     },
     "execution_count": 5,
     "metadata": {},
     "output_type": "execute_result"
    }
   ],
   "source": [
    "#number of axes of the array    \n",
    "a.ndim"
   ]
  },
  {
   "cell_type": "markdown",
   "metadata": {},
   "source": [
    "##### 2. ndarray.shape\n",
    "\n",
    "This function returns the dimensions of the array. In this situation we got output 4 which means it is one-dimensional array with 4 elements in it. "
   ]
  },
  {
   "cell_type": "code",
   "execution_count": 6,
   "metadata": {},
   "outputs": [
    {
     "data": {
      "text/plain": [
       "(4,)"
      ]
     },
     "execution_count": 6,
     "metadata": {},
     "output_type": "execute_result"
    }
   ],
   "source": [
    "#dimensions of the array\n",
    "a.shape"
   ]
  },
  {
   "cell_type": "markdown",
   "metadata": {},
   "source": [
    "##### 3. ndarray.size\n",
    "\n",
    "This function shows the total number of elements in the array. It is equal to the number of elements of ndarray.shape."
   ]
  },
  {
   "cell_type": "code",
   "execution_count": 7,
   "metadata": {},
   "outputs": [
    {
     "data": {
      "text/plain": [
       "4"
      ]
     },
     "execution_count": 7,
     "metadata": {},
     "output_type": "execute_result"
    }
   ],
   "source": [
    "#total number of elements in the array\n",
    "a.size"
   ]
  },
  {
   "cell_type": "markdown",
   "metadata": {},
   "source": [
    "##### 4.ndarray.dtype\n",
    "\n",
    "This function describes the type of elements in the array. It tells us if the element is for example integer or float number. NumPy provides types of its own (int32, int64, float64...). This type of element is int32. "
   ]
  },
  {
   "cell_type": "code",
   "execution_count": 8,
   "metadata": {},
   "outputs": [
    {
     "data": {
      "text/plain": [
       "dtype('int32')"
      ]
     },
     "execution_count": 8,
     "metadata": {},
     "output_type": "execute_result"
    }
   ],
   "source": [
    "#type of elements in the array\n",
    "a.dtype"
   ]
  },
  {
   "cell_type": "markdown",
   "metadata": {},
   "source": [
    "##### 5.ndarray.itemsize\n",
    "\n",
    "This function shows the size in bytes of each element of the array. For example, an array of elements of type float64 has itemsize 8 (=64/8). In this case as we got an output that this array type is int32 which means that its itemsize is 4 bytes (32/8=4). "
   ]
  },
  {
   "cell_type": "code",
   "execution_count": 9,
   "metadata": {},
   "outputs": [
    {
     "data": {
      "text/plain": [
       "4"
      ]
     },
     "execution_count": 9,
     "metadata": {},
     "output_type": "execute_result"
    }
   ],
   "source": [
    "#size in bytes of each element of the array\n",
    "a.itemsize"
   ]
  },
  {
   "cell_type": "markdown",
   "metadata": {},
   "source": [
    "## Why is NumPy fast?\n",
    "\n",
    "Vectorization describes the absence of any explicit looping, indexing or other features in the code, these things are taking place “behind the scenes” in pre-compiled C code. The advantages of vectorized code are:\n",
    "\n",
    "- vectorized code is easier and more concise to read\n",
    "\n",
    "- fewer lines of code generally means fewer bugs\n",
    "\n",
    "- the code resembles standard mathematical notation \n",
    "\n",
    "- vectorization results in more “Pythonic” code. Without vectorization, our code would be littered with inefficient and difficult to read for loops.\n",
    "\n",
    "Broadcasting is the term used to describe the implicit element-by-element behavior of operations. In NumPy all operations, not just arithmetic operations, but also logical, bit-wise, functional, etc., behave in this implicit element-by-element fashion,  they broadcast. You can read more about numpy package here: https://numpy.org/devdocs/user/whatisnumpy.html"
   ]
  },
  {
   "cell_type": "markdown",
   "metadata": {},
   "source": [
    "## Section 1 - Numpy.random package\n",
    "\n"
   ]
  },
  {
   "cell_type": "markdown",
   "metadata": {},
   "source": [
    "As mentioned before, the focus of this project is to focus on pseudorandom numbers as they are a sample of numbers that look close to true random numbers but are generated using some deterministic process. As computers can not produce random numbers itself, they need packages and algorithms that would deal with it. Numpy.random rackage is one of the libraries in Python that generates pseudorandom data. \n",
    "\n",
    "Within the package there are many different functions and distributions. You can find more information about numpy.random package and its features here: https://docs.scipy.org/doc/numpy-1.15.0/reference/routines.random.html#\n",
    "\n",
    "Numpy.random package consists of 4 parts:\n",
    "\n",
    "##### 1. Simple random data\n",
    "##### 2. Permutations\n",
    "##### 3. Distributions\n",
    "##### 4. Random generator\n",
    "\n",
    "\n",
    "Each of these sections will be discussed in more details in the text below. In the next paragraph I will talk about the use of Simple random data and permutations. "
   ]
  },
  {
   "cell_type": "markdown",
   "metadata": {},
   "source": [
    "## Section 2 - Simple random data and Permutations"
   ]
  },
  {
   "cell_type": "markdown",
   "metadata": {},
   "source": [
    "Simple random data functions:\n",
    "\n",
    "\n",
    "- rand(d0, d1, …, dn) - Random values in a given shape.\n",
    "- randn(d0, d1, …, dn) - Return a sample (or samples) from the “standard normal” distribution.\n",
    "- randint(low[, high, size, dtype]) - Return random integers from low (inclusive) to high (exclusive).\n",
    "- random_integers(low[, high, size]) - Random integers of type np.int between low and high, inclusive.\n",
    "- random_sample([size]) - Return random floats in the half-open interval [0.0, 1.0).\n",
    "- random([size]) - Return random floats in the half-open interval [0.0, 1.0).\n",
    "- ranf([size]) - Return random floats in the half-open interval [0.0, 1.0).\n",
    "- sample([size]) - Return random floats in the half-open interval [0.0, 1.0).\n",
    "- choice(a[, size, replace, p]) - Generates a random sample from a given 1-D array\n",
    "- bytes(length) - Return random bytes."
   ]
  },
  {
   "cell_type": "markdown",
   "metadata": {},
   "source": [
    "##### numpy.random.rand"
   ]
  },
  {
   "cell_type": "markdown",
   "metadata": {},
   "source": [
    "This function gives random values in a given shape. It creates an array of the given shape and populates it with given samples \n",
    "from a uniform distribution. Numbers 4 and 2 signify 4 rows and 2 columns. "
   ]
  },
  {
   "cell_type": "code",
   "execution_count": 10,
   "metadata": {},
   "outputs": [],
   "source": [
    "#import numpy package as np \n",
    "import numpy as np\n",
    "#numpy random function \"rand\" is defined as b\n",
    "b = np.random.rand(4,2)"
   ]
  },
  {
   "cell_type": "code",
   "execution_count": 11,
   "metadata": {},
   "outputs": [
    {
     "data": {
      "text/plain": [
       "array([[0.73693233, 0.15829833],\n",
       "       [0.22121269, 0.21365328],\n",
       "       [0.02975488, 0.01198172],\n",
       "       [0.32356118, 0.97715618]])"
      ]
     },
     "execution_count": 11,
     "metadata": {},
     "output_type": "execute_result"
    }
   ],
   "source": [
    "#call the function b\n",
    "b"
   ]
  },
  {
   "cell_type": "markdown",
   "metadata": {},
   "source": [
    "##### numpy.random.randn"
   ]
  },
  {
   "cell_type": "markdown",
   "metadata": {},
   "source": [
    "This function returns a sample or more samples from the “standard normal” distribution. A single float randomly sampled from the distribution is returned if no argument is provided."
   ]
  },
  {
   "cell_type": "code",
   "execution_count": 12,
   "metadata": {},
   "outputs": [],
   "source": [
    "#import numpy package as np\n",
    "import numpy as np\n",
    "#numpy random function randn is defined as b\n",
    "b = np.random.randn()"
   ]
  },
  {
   "cell_type": "code",
   "execution_count": 13,
   "metadata": {},
   "outputs": [
    {
     "data": {
      "text/plain": [
       "1.9723151330030761"
      ]
     },
     "execution_count": 13,
     "metadata": {},
     "output_type": "execute_result"
    }
   ],
   "source": [
    "#call the function b\n",
    "b"
   ]
  },
  {
   "cell_type": "markdown",
   "metadata": {},
   "source": [
    "##### numpy.random.randint"
   ]
  },
  {
   "cell_type": "markdown",
   "metadata": {},
   "source": [
    "This function returns random integers from low (inclusive) to high (exclusive). It returns random integers from discrete uniform distribution. As you can see in the example below we got 2 arrays with 4 elements in each. All numbers are in range from 0 to 5 (not including 5)."
   ]
  },
  {
   "cell_type": "code",
   "execution_count": 14,
   "metadata": {},
   "outputs": [],
   "source": [
    "#import numpy package as np\n",
    "import numpy as np\n",
    "#numpy random function randint (random integer) is defined as b\n",
    "b = np.random.randint(5, size=(2, 4))"
   ]
  },
  {
   "cell_type": "code",
   "execution_count": 15,
   "metadata": {},
   "outputs": [
    {
     "data": {
      "text/plain": [
       "array([[1, 4, 4, 0],\n",
       "       [1, 2, 2, 2]])"
      ]
     },
     "execution_count": 15,
     "metadata": {},
     "output_type": "execute_result"
    }
   ],
   "source": [
    "#call the function b\n",
    "b"
   ]
  },
  {
   "cell_type": "markdown",
   "metadata": {},
   "source": [
    "##### numpy.random.random_integers"
   ]
  },
  {
   "cell_type": "markdown",
   "metadata": {},
   "source": [
    "As we can see above, when using randint function high integer is exclusive, while using random_integers high integer is inclusive. So this function is very similar to randint function. In this case there are 3 rows, each row has 2 elements in it and high integer is included. "
   ]
  },
  {
   "cell_type": "code",
   "execution_count": 16,
   "metadata": {},
   "outputs": [
    {
     "name": "stderr",
     "output_type": "stream",
     "text": [
      "C:\\Users\\gener\\Anaconda4\\lib\\site-packages\\ipykernel_launcher.py:4: DeprecationWarning: This function is deprecated. Please call randint(1, 5 + 1) instead\n",
      "  after removing the cwd from sys.path.\n"
     ]
    }
   ],
   "source": [
    "#import numpy package as np\n",
    "import numpy as np\n",
    "#numpy random function random_integers is defined as b\n",
    "c = np.random.random_integers(5, size=(3,2))"
   ]
  },
  {
   "cell_type": "code",
   "execution_count": 17,
   "metadata": {},
   "outputs": [
    {
     "data": {
      "text/plain": [
       "array([[5, 2],\n",
       "       [1, 1],\n",
       "       [5, 1]])"
      ]
     },
     "execution_count": 17,
     "metadata": {},
     "output_type": "execute_result"
    }
   ],
   "source": [
    "#call the function c\n",
    "c"
   ]
  },
  {
   "cell_type": "markdown",
   "metadata": {},
   "source": [
    "##### numpy.random.random_sample,  numpy.random.random,  numpy.random.ranf,  numpy.random_sample"
   ]
  },
  {
   "cell_type": "markdown",
   "metadata": {},
   "source": [
    "These 4 functions return floats. Results are from the “continuous uniform” distribution over the stated interval. I will show two examples of these functions. In the first case using random_sample function it gives back random floats in the half-open interval from 0.0 to 1.0. In this case I got back float number: 04779..."
   ]
  },
  {
   "cell_type": "code",
   "execution_count": 18,
   "metadata": {},
   "outputs": [],
   "source": [
    "#import numpy package as np\n",
    "import numpy as np\n",
    "#numpy random function random sample is defined as b\n",
    "b = np.random.random_sample()"
   ]
  },
  {
   "cell_type": "code",
   "execution_count": 19,
   "metadata": {},
   "outputs": [
    {
     "data": {
      "text/plain": [
       "0.4520132245663273"
      ]
     },
     "execution_count": 19,
     "metadata": {},
     "output_type": "execute_result"
    }
   ],
   "source": [
    "#call the function b\n",
    "b"
   ]
  },
  {
   "cell_type": "markdown",
   "metadata": {},
   "source": [
    "In the second example, we got 5 different arrays, all of them are in the range from 0.0 to 1.0.  Results are also chosen from the “continuous uniform” distribution."
   ]
  },
  {
   "cell_type": "code",
   "execution_count": 20,
   "metadata": {},
   "outputs": [],
   "source": [
    "#import numpy package as np\n",
    "import numpy as np\n",
    "#numpy random function random sample is defined as b\n",
    "b = np.random.random_sample((5,))"
   ]
  },
  {
   "cell_type": "code",
   "execution_count": 21,
   "metadata": {},
   "outputs": [
    {
     "data": {
      "text/plain": [
       "array([0.76907525, 0.63312787, 0.54005274, 0.577996  , 0.87320467])"
      ]
     },
     "execution_count": 21,
     "metadata": {},
     "output_type": "execute_result"
    }
   ],
   "source": [
    "#call the function b\n",
    "b"
   ]
  },
  {
   "cell_type": "markdown",
   "metadata": {},
   "source": [
    "##### numpy.random.choice"
   ]
  },
  {
   "cell_type": "markdown",
   "metadata": {},
   "source": [
    "This function generates a random sample from a given 1-D array. There are 4 different parameters a : 1-D array-like or int, size : int or tuple of ints, optional, replace : boolean, optional, p : 1-D array-like, optional"
   ]
  },
  {
   "cell_type": "code",
   "execution_count": 22,
   "metadata": {},
   "outputs": [],
   "source": [
    "#import numpy package as np\n",
    "import numpy as np\n",
    "#numpy random function choice is defined as b\n",
    "b = np.random.choice(5, 3)"
   ]
  },
  {
   "cell_type": "code",
   "execution_count": 23,
   "metadata": {},
   "outputs": [
    {
     "data": {
      "text/plain": [
       "array([0, 2, 0])"
      ]
     },
     "execution_count": 23,
     "metadata": {},
     "output_type": "execute_result"
    }
   ],
   "source": [
    "#call the function b\n",
    "b"
   ]
  },
  {
   "cell_type": "markdown",
   "metadata": {},
   "source": [
    "##### numpy.random.bytes"
   ]
  },
  {
   "cell_type": "markdown",
   "metadata": {},
   "source": [
    "This function returns random bytes. "
   ]
  },
  {
   "cell_type": "code",
   "execution_count": 24,
   "metadata": {},
   "outputs": [],
   "source": [
    "#import numpy package as np\n",
    "import numpy as np\n",
    "#numpy random function bytes is defined as b\n",
    "b = np.random.bytes(10)"
   ]
  },
  {
   "cell_type": "code",
   "execution_count": 25,
   "metadata": {},
   "outputs": [
    {
     "data": {
      "text/plain": [
       "b'Q\\x1d\\xc9=SknmT\\xe3'"
      ]
     },
     "execution_count": 25,
     "metadata": {},
     "output_type": "execute_result"
    }
   ],
   "source": [
    "#call the function b\n",
    "b"
   ]
  },
  {
   "cell_type": "markdown",
   "metadata": {},
   "source": [
    "### Permutations"
   ]
  },
  {
   "cell_type": "markdown",
   "metadata": {},
   "source": [
    "A random permutation is a random ordering of a set of objects, that is, a permutation-valued random variable. The use of random permutations is often fundamental to fields that use randomized algorithms such as coding theory, cryptography, and simulation. A good example of a random permutation is the shuffling of a deck of cards: this is ideally a random permutation of the 52 cards.https://en.wikipedia.org/wiki/Random_permutation\n",
    "A permutation, also called an “arrangement number” or “order”, is a rearrangement of the elements of an ordered list. This method takes a list as an input and return an object list of tuples that contain all permutation in a list form. https://www.geeksforgeeks.org/permutation-and-combination-in-python/ There are 2 permutation functions: shuffle(x) and permutation(x). \n",
    "\n",
    "##### numpy.random.shuffle(x)  "
   ]
  },
  {
   "cell_type": "markdown",
   "metadata": {},
   "source": [
    "This function shuffles the array along the first axis of a multi-dimensional array. The order of sub-arrays is changed but their contents remains the same. In the example below I defined b as interval from 0 to 15 (15 is not included). Using random.shuffle function it returned the list of random numbers from 0 to 15 (not included) in random order. "
   ]
  },
  {
   "cell_type": "code",
   "execution_count": 26,
   "metadata": {},
   "outputs": [
    {
     "data": {
      "text/plain": [
       "array([13,  0, 14,  3, 11,  9, 12,  1,  4,  5,  7,  8,  2, 10,  6])"
      ]
     },
     "execution_count": 26,
     "metadata": {},
     "output_type": "execute_result"
    }
   ],
   "source": [
    "# Import numpy as np\n",
    "import numpy as np\n",
    "# I defined b as a range of all numbers from 0 to 14 (included)\n",
    "b = np.arange(15)\n",
    "# using numpy random.shuffle function numbers from 0 to 14 are shuffled in random order\n",
    "np.random.shuffle(b)\n",
    "# print all numbers in random order from 0 to 14 (included)\n",
    "b"
   ]
  },
  {
   "cell_type": "markdown",
   "metadata": {},
   "source": [
    "In the second example there are multi-dimensional arrays that are only shuffled along the first axis. There are 5 arrays that have 3 elements. In the first part there are 5 arrays which are in order from 0 to 14 (included). In the second part of the code there is a multi-dimensional array that doesn't start with 0 like the previous one. There are still 5 arrays with 3 elements in them, but the numbers have changed their order. The first array starts with 12 and continues to 13 and 14, the second arrays starts with 3 and it goes up to 5 and so on. From this example we can see that the numbers have been shuffled along the first axis. "
   ]
  },
  {
   "cell_type": "code",
   "execution_count": 27,
   "metadata": {},
   "outputs": [
    {
     "name": "stdout",
     "output_type": "stream",
     "text": [
      "Before Shufflling multi-dimensional array\n",
      "[[ 0  1  2]\n",
      " [ 3  4  5]\n",
      " [ 6  7  8]\n",
      " [ 9 10 11]\n",
      " [12 13 14]]\n",
      "After Shufflling multi-dimensional array\n",
      "[[ 9 10 11]\n",
      " [ 6  7  8]\n",
      " [ 3  4  5]\n",
      " [ 0  1  2]\n",
      " [12 13 14]]\n"
     ]
    }
   ],
   "source": [
    "# Code adjusted from: https://pynative.com/python-random-shuffle/\n",
    "# Import numpy as np\n",
    "import numpy as np\n",
    "print(\"Before Shufflling multi-dimensional array\")\n",
    "#\n",
    "b = np.arange(15).reshape((5, 3))\n",
    "print(b)\n",
    "\n",
    "print (\"After Shufflling multi-dimensional array\")\n",
    "b_new = np.random.shuffle(b)\n",
    "print(b)"
   ]
  },
  {
   "cell_type": "markdown",
   "metadata": {},
   "source": [
    "#### numpy.random.permutation(x)"
   ]
  },
  {
   "cell_type": "markdown",
   "metadata": {},
   "source": [
    "numpy.random.permutation function randomly permute a sequence, or return a permuted range. If x is a multi-dimensional array, it is only shuffled along its first index."
   ]
  },
  {
   "cell_type": "code",
   "execution_count": 28,
   "metadata": {},
   "outputs": [
    {
     "data": {
      "text/plain": [
       "array([[0, 1, 2],\n",
       "       [6, 7, 8],\n",
       "       [3, 4, 5]])"
      ]
     },
     "execution_count": 28,
     "metadata": {},
     "output_type": "execute_result"
    }
   ],
   "source": [
    "b = np.arange(9).reshape((3, 3))\n",
    "np.random.permutation(b)"
   ]
  },
  {
   "cell_type": "markdown",
   "metadata": {},
   "source": [
    "Difference between shuffle and permutation functions:\n",
    "\n",
    "The functions shuffle and permutation both reshuffle the original array (that is, randomly disorder the original element order)\n",
    "The difference between these functions are:\n",
    "\n",
    "- Shuffle operates directly on the original array, changing the order of the original array, no return value.\n",
    "\n",
    "- Permutation does not operate directly on the original array, but instead returns a new shuffled array without changing the original array.\n",
    "\n",
    "More information can be found here: http://programmersought.com/article/42301751121/;jsessionid=A113BA7B1FC347E1462F95F1517A0197"
   ]
  },
  {
   "cell_type": "markdown",
   "metadata": {},
   "source": [
    "## 3. Distribution functions "
   ]
  },
  {
   "cell_type": "markdown",
   "metadata": {},
   "source": [
    "Every time we are working with a dataset, our dataset represents some kind of a sample and using this sample, we need to understand its patterns so that we can make predictions based on them. Datasets are composed of two main types of data: Numerical (eg. integers), and categorical (eg. names). Based on that data it is possible to calculate some predictions like Probability Mass Functions and Probability Density Functions. There are many probability distributions, but in this work I will focus on 5 distributions that data scientists find most useful (https://towardsdatascience.com/). \n",
    "\n",
    "1. Poisson distribution\n",
    "2. Uniform distribution\n",
    "3. Binominal distribution\n",
    "4. Normal distribution\n",
    "5. Exponential distribution\n",
    "\n",
    "More information and plots about each distribution can be seen below.\n"
   ]
  },
  {
   "cell_type": "markdown",
   "metadata": {},
   "source": [
    "#### 1. Poisson distribution"
   ]
  },
  {
   "cell_type": "markdown",
   "metadata": {},
   "source": [
    "Poisson Distribution is applicable in situations where events occur at random points of time and space wherein our interest lies only in the number of occurrences of the event. It gives us the probability of a given number of events happening in a fixed interval of time. https://www.statisticshowto.datasciencecentral.com/poisson-distribution/\n",
    "\n",
    "A distribution is called Poisson distribution when the following assumptions are valid:\n",
    "\n",
    "1. Any successful event should not influence the outcome of another successful event.\n",
    "2. The probability of success over a short interval must equal the probability of success over a longer interval.\n",
    "3. The probability of success in an interval approaches zero as the interval becomes smaller."
   ]
  },
  {
   "cell_type": "markdown",
   "metadata": {},
   "source": [
    "The Poisson distribution has the following characteristics:\n",
    "\n",
    "- It is a discrete distribution.\n",
    "- Each occurrence is independent of the other occurrences.\n",
    "- It describes discrete occurrences over an interval.\n",
    "- The occurrences in each interval can range from zero to infinity.\n",
    "- The mean number of occurrences must be constant throughout the experiment.\n",
    "\n",
    "https://www.onlinemathlearning.com/poisson-distribution.html"
   ]
  },
  {
   "cell_type": "code",
   "execution_count": 29,
   "metadata": {},
   "outputs": [],
   "source": [
    "import numpy as np\n",
    "b = np.random.poisson(8, 100)"
   ]
  },
  {
   "cell_type": "code",
   "execution_count": 30,
   "metadata": {},
   "outputs": [
    {
     "data": {
      "text/plain": [
       "array([ 7,  5,  6,  9,  6,  8,  7,  9,  4,  5,  5, 10,  8,  6,  8,  7, 11,\n",
       "        6,  6,  8, 12,  8,  3,  3,  5, 12,  6,  6,  4,  3, 10,  8,  9,  9,\n",
       "       10,  9,  6,  3,  9,  5,  6,  9,  9,  7,  5,  5,  9,  6,  6,  9,  9,\n",
       "        4, 11, 10,  9, 11,  5,  6,  4,  7,  8,  3, 10, 13,  8,  8,  8, 15,\n",
       "        5,  9,  8, 10,  5,  9,  9,  6,  3, 11,  6,  3,  4,  4,  5,  7, 14,\n",
       "        6,  5,  6, 10,  7,  2, 16, 11, 11,  4,  5,  6,  5,  6, 11])"
      ]
     },
     "execution_count": 30,
     "metadata": {},
     "output_type": "execute_result"
    }
   ],
   "source": [
    "b"
   ]
  },
  {
   "cell_type": "code",
   "execution_count": 42,
   "metadata": {},
   "outputs": [
    {
     "data": {
      "image/png": "[encoded data removed]",
      "text/plain": [
       "<Figure size 432x288 with 1 Axes>"
      ]
     },
     "metadata": {
      "needs_background": "light"
     },
     "output_type": "display_data"
    }
   ],
   "source": [
    "import matplotlib.pyplot as plt\n",
    "count, bins, ignored = plt.hist(b, 10, density=True)\n",
    "plt.show()"
   ]
  },
  {
   "cell_type": "markdown",
   "metadata": {},
   "source": [
    "Real life example:\n",
    "\n",
    "Suppose you work at a call center, approximately how many calls can you expect in a day? It can be any number. Now, the entire number of calls at a call center in a day is modeled by Poisson distribution. Some more examples are\n",
    "\n",
    "The number of emergency calls recorded at a hospital in a day.\n",
    "The number of thefts reported in an area on a day.\n",
    "The number of customers arriving at a salon in an hour.\n",
    "The number of suicides reported in a particular city.\n",
    "The number of printing errors at each page of the book."
   ]
  },
  {
   "cell_type": "markdown",
   "metadata": {},
   "source": [
    "#### 2. Uniform distribution"
   ]
  },
  {
   "cell_type": "markdown",
   "metadata": {},
   "source": [
    "When you roll a fair die, the outcomes are 1 to 6. The probabilities of getting these outcomes are equally likely and that is the basis of a uniform distribution. You can see that the shape of the Uniform distribution curve is rectangular, the reason why Uniform distribution is called rectangular distribution. For a Uniform Distribution, a and b are the parameters (https://www.analyticsvidhya.com/)."
   ]
  },
  {
   "cell_type": "code",
   "execution_count": 32,
   "metadata": {},
   "outputs": [],
   "source": [
    "import numpy as np\n",
    "b = np.random.uniform(-1,0,100)"
   ]
  },
  {
   "cell_type": "code",
   "execution_count": 33,
   "metadata": {},
   "outputs": [
    {
     "data": {
      "text/plain": [
       "array([-0.28229209, -0.559802  , -0.78574822, -0.0070716 , -0.58874217,\n",
       "       -0.39988511, -0.61807795, -0.60588143, -0.26029593, -0.05338979,\n",
       "       -0.01328237, -0.72443605, -0.71670501, -0.36639626, -0.52667999,\n",
       "       -0.82884261, -0.99383915, -0.51441713, -0.514015  , -0.58996957,\n",
       "       -0.98791602, -0.67340058, -0.03950313, -0.75649314, -0.87715324,\n",
       "       -0.20726179, -0.99537126, -0.74547396, -0.6241077 , -0.60052855,\n",
       "       -0.86633286, -0.16259221, -0.12522225, -0.98453386, -0.96162663,\n",
       "       -0.50669468, -0.37092677, -0.64955558, -0.27714757, -0.41910512,\n",
       "       -0.26773939, -0.67366423, -0.25178251, -0.79389835, -0.99233871,\n",
       "       -0.66813125, -0.07450339, -0.27849347, -0.21443811, -0.26407286,\n",
       "       -0.67894436, -0.73821211, -0.50097174, -0.43994908, -0.88168227,\n",
       "       -0.85068375, -0.71384189, -0.9903016 , -0.23201249, -0.62781899,\n",
       "       -0.57681771, -0.93942183, -0.19377578, -0.6893604 , -0.33218648,\n",
       "       -0.74892957, -0.85062243, -0.06826432, -0.24983211, -0.23643403,\n",
       "       -0.93636743, -0.11222372, -0.56392463, -0.1930005 , -0.58805792,\n",
       "       -0.37207257, -0.91645379, -0.47440359, -0.40175176, -0.21324553,\n",
       "       -0.43142768, -0.65369051, -0.60820904, -0.5465284 , -0.66865162,\n",
       "       -0.31520269, -0.29115267, -0.03186294, -0.49643567, -0.33079635,\n",
       "       -0.9475924 , -0.5745924 , -0.80513253, -0.94312667, -0.09580018,\n",
       "       -0.22990883, -0.64021115, -0.82988605, -0.9011843 , -0.04647343])"
      ]
     },
     "execution_count": 33,
     "metadata": {},
     "output_type": "execute_result"
    }
   ],
   "source": [
    "b"
   ]
  },
  {
   "cell_type": "code",
   "execution_count": 34,
   "metadata": {},
   "outputs": [
    {
     "data": {
      "image/png": "[encoded data removed]",
      "text/plain": [
       "<Figure size 432x288 with 1 Axes>"
      ]
     },
     "metadata": {
      "needs_background": "light"
     },
     "output_type": "display_data"
    }
   ],
   "source": [
    "import matplotlib.pyplot as plt\n",
    "count, bins, ignored = plt.hist(b, 8, density=True)\n",
    "plt.plot(bins, np.ones_like(bins), linewidth=2, color='r')\n",
    "plt.show()"
   ]
  },
  {
   "cell_type": "markdown",
   "metadata": {},
   "source": [
    "#### 3. Binominal distribution"
   ]
  },
  {
   "cell_type": "markdown",
   "metadata": {},
   "source": [
    "A distribution where only two outcomes are possible, such as success or failure, gain or loss, win or lose and where the probability of success and failure is same for all the trials is called a Binomial Distribution.\n",
    "Each trial is independent since the outcome of the previous toss doesn’t determine or affect the outcome of the current toss. An experiment with only two possible outcomes repeated n number of times is called binomial. The parameters of a binomial distribution are n and p where n is the total number of trials and p is the probability of success in each trial.\n",
    "\n",
    "On the basis of the above explanation, the properties of a Binomial Distribution are\n",
    "\n",
    "Each trial is independent.\n",
    "There are only two possible outcomes in a trial- either a success or a failure.\n",
    "A total number of n identical trials are conducted.\n",
    "The probability of success and failure is same for all trials. (Trials are identical.)\n",
    " "
   ]
  },
  {
   "cell_type": "code",
   "execution_count": 35,
   "metadata": {},
   "outputs": [],
   "source": [
    "n, p = 10, .5\n",
    "b = np.random.binomial(n, p, 1000)\n"
   ]
  },
  {
   "cell_type": "code",
   "execution_count": 36,
   "metadata": {},
   "outputs": [
    {
     "data": {
      "text/plain": [
       "array([ 7,  4,  6,  6,  8,  4,  5,  6,  5,  5,  8,  6,  6,  2,  4,  6,  2,\n",
       "        5,  5,  4,  4,  3,  5,  5,  3,  3,  3,  7,  6,  5,  2,  5,  6,  7,\n",
       "        5,  4,  2,  5,  3,  4,  7,  7,  3,  5,  4,  4,  4,  6,  5,  4,  3,\n",
       "        7,  4,  4,  6,  7,  5,  5,  6,  5,  4,  6,  3,  6,  5,  5,  5,  5,\n",
       "        6,  3,  3,  5,  4,  4,  5,  5,  6,  6,  6,  5,  8,  8,  7,  5,  6,\n",
       "        3,  6,  5,  7,  5,  7,  6,  3,  3,  4,  5,  6,  7,  8,  5,  5,  5,\n",
       "        5,  3,  5,  4,  1,  5,  5,  8,  5,  5,  5,  8,  4,  3,  7,  4,  4,\n",
       "        6,  6,  2,  4,  3,  5,  3,  5,  8,  7,  4,  4,  2,  6,  6,  3,  5,\n",
       "        3,  6,  6, 10,  4,  5,  6,  5,  5,  6,  6,  4,  5,  7,  6,  4,  6,\n",
       "        2,  7,  7,  6,  6,  3,  6,  5,  4,  2,  4, 10,  6,  8,  2,  2,  5,\n",
       "        7,  4,  5,  5,  7,  2,  6,  3,  7,  6,  8,  5,  5,  4,  7,  3,  6,\n",
       "        5,  6,  3,  3,  5,  6,  5,  6,  5,  3,  5,  7,  5,  4,  7,  6,  3,\n",
       "        6,  7,  6,  6,  3,  7,  3,  7,  6,  5,  6,  7,  4,  4,  2,  5,  4,\n",
       "        8,  7,  6,  4,  5,  8,  7,  4,  5,  2,  3,  5,  6,  4,  7,  5,  6,\n",
       "        7,  5,  8,  4,  4,  8,  4,  7,  6,  9,  7,  5,  7,  5,  6,  5,  3,\n",
       "        6,  5,  5,  3,  4,  8,  4,  6,  5,  6,  4,  5,  5,  7,  3,  5,  6,\n",
       "        5,  6,  4,  6,  4,  4,  4,  3,  5,  6,  5,  5,  7,  6,  3,  5,  4,\n",
       "        6,  4,  8,  4,  4,  4,  5,  6,  5,  4,  8,  7,  7,  5,  5,  4,  6,\n",
       "        8,  6,  6,  2,  8,  5,  4,  4,  5,  6,  4,  6,  5,  2,  5,  6,  5,\n",
       "        5,  2,  4,  5,  6,  3,  4,  4,  8,  4,  7,  6,  5,  4,  5,  3,  2,\n",
       "        6,  6,  4,  4,  7,  6,  4,  5,  5,  6,  7,  5,  5,  5,  5,  3,  4,\n",
       "        3,  6,  6,  5,  4,  6,  6,  5,  4,  4,  5,  4,  3,  6,  8,  8,  7,\n",
       "        5,  1,  6,  6,  6,  7,  5,  4,  3,  4,  4,  7,  5,  5,  7,  5,  5,\n",
       "        7,  5,  5,  5,  6,  5,  5,  5,  7,  4,  4,  7,  2,  6,  5,  4,  7,\n",
       "        4,  5,  6,  3,  4,  4,  4,  5,  5,  1,  6,  4,  4,  5,  2,  5,  7,\n",
       "        8,  6,  5,  4,  4,  4,  4,  6,  4,  8,  6,  2,  6,  4,  3,  5,  4,\n",
       "        5,  7,  7,  4,  3,  7,  5,  3,  4,  6,  4,  2,  3,  7,  8,  4,  8,\n",
       "        4,  4,  5,  3,  4,  5,  6,  7,  9,  4,  4,  7,  3,  6,  4,  7,  4,\n",
       "        3,  7,  5,  6,  5,  7,  5,  5,  5,  4,  6,  7,  4,  5,  4,  5,  6,\n",
       "        3,  4,  5,  2,  4,  5,  5,  3,  6,  5,  5,  7,  5,  7,  6,  4,  5,\n",
       "        7,  5,  7,  3,  8,  5,  6,  3,  5,  8,  8,  5,  4,  3,  5,  6,  4,\n",
       "        5,  6,  5,  3,  3,  4,  4,  5,  7,  7,  7,  5,  6,  8, 10,  2,  4,\n",
       "        8,  3,  7,  5,  4,  3,  4,  6,  5,  3,  6,  5,  5,  3,  6,  5,  7,\n",
       "        4,  1,  6,  4,  5,  6,  2,  2,  4,  6,  5,  6,  5,  4,  2,  7,  5,\n",
       "        3,  8,  4,  5,  6,  1,  7,  7,  4,  4,  7,  6,  5,  5,  3,  4,  4,\n",
       "        7,  3,  6,  3,  5,  4,  5,  5,  5,  4,  5,  5,  7,  3,  6,  6,  6,\n",
       "        6,  4,  8,  3,  4,  3,  5,  6,  6,  7,  8,  5,  1,  7,  6,  3,  2,\n",
       "        4,  7,  7,  6,  5,  4,  4,  6,  4,  7,  9,  4,  2,  9,  3,  2,  2,\n",
       "        5,  3,  6,  5,  7,  8,  6,  3,  4,  7,  6,  5,  7,  5,  6,  5,  4,\n",
       "        5,  6,  7,  3,  3,  6,  4,  2,  7,  3,  6,  5,  5,  7,  4,  3,  3,\n",
       "        7,  3,  5,  3,  6,  5,  5,  6,  5,  7,  5,  5,  6,  5,  3,  3,  3,\n",
       "        6,  6,  6,  3,  4,  5,  1,  5,  8,  6,  4,  3,  3,  5,  8,  5,  2,\n",
       "        3,  5,  6,  7,  5,  3,  6,  5,  5,  7,  4,  5,  5,  4,  7,  5,  1,\n",
       "        5,  3,  5,  6,  6,  4,  5,  4,  8,  5,  4,  5,  5,  5,  1,  5,  6,\n",
       "        4,  7,  4,  3,  7,  3,  7,  4,  4,  7,  7,  2,  4,  6,  6,  7,  6,\n",
       "        5,  5,  7,  6,  5,  4,  8,  6,  3,  5,  6,  7,  5,  3,  7,  6,  2,\n",
       "        3,  5,  6,  7,  5,  4,  6,  5,  6,  3,  6,  6,  7,  5,  3,  7,  7,\n",
       "        7,  5,  5,  4,  6,  4,  5,  7,  5,  4,  7,  6,  4,  4,  5,  6,  4,\n",
       "        5,  6,  7,  4,  7,  7,  5,  6,  6,  5,  4,  4,  7,  5,  4,  4, 10,\n",
       "        7,  2,  6,  6,  5,  3,  4,  2,  4,  2,  3,  7,  6,  5,  7,  4,  4,\n",
       "        7,  8,  4,  3,  4,  7,  5,  9,  8,  2,  3,  6,  5,  4,  4,  5,  4,\n",
       "        7,  5,  3,  6,  3,  4,  4,  7,  8,  6,  4,  4,  5,  6,  5,  6,  3,\n",
       "        5,  7,  5,  5,  5,  6,  5,  4,  5,  5,  6,  5,  5,  5,  4,  6,  4,\n",
       "        4,  5,  5,  8,  3,  6,  4,  5,  4,  5,  2,  7,  6,  8,  4,  6,  7,\n",
       "        7,  5,  4,  4,  5,  3,  2,  7,  6,  6,  8,  5,  3,  3,  4,  5,  4,\n",
       "        4,  3,  3,  6,  7,  7,  3,  7,  2,  4,  5,  5,  5,  7,  1,  6,  5,\n",
       "        6,  3,  6,  5,  4,  6,  7,  3,  4,  4,  7,  5,  4,  6,  4,  5,  2,\n",
       "        3,  7,  6,  3,  5,  7,  4,  5,  8,  4,  4,  3,  7,  4,  5,  8,  5,\n",
       "        5,  6,  3,  3,  5,  5,  4,  6,  4,  3,  4,  9,  7,  8])"
      ]
     },
     "execution_count": 36,
     "metadata": {},
     "output_type": "execute_result"
    }
   ],
   "source": [
    "b"
   ]
  },
  {
   "cell_type": "markdown",
   "metadata": {},
   "source": [
    "#### 4. Normal distribution"
   ]
  },
  {
   "cell_type": "markdown",
   "metadata": {},
   "source": [
    "It represents the behavior of most of the situations in the universe. That is why it’s called a “normal” distribution. The large sum of (small) random variables often turns out to be normally distributed, contributing to its widespread application. Any distribution is known as Normal distribution if it has the following characteristics:\n",
    "\n",
    "- The mean, median and mode of the distribution coincide.\n",
    "- The curve of the distribution is bell-shaped and symmetrical about the line x=μ.\n",
    "- The total area under the curve is 1.\n",
    "- Exactly half of the values are to the left of the center and the other half to the right.\n",
    "\n",
    "A normal distribution is highly different from Binomial Distribution. However, if the number of trials approaches infinity then the shapes will be quite similar."
   ]
  },
  {
   "cell_type": "code",
   "execution_count": 37,
   "metadata": {},
   "outputs": [],
   "source": [
    "#import numpy as np\n",
    "import numpy as np\n",
    "#mean and standard deviation\n",
    "mu, sigma = 0, 0.1\n",
    "b = np.random.normal(mu, sigma, 1000)"
   ]
  },
  {
   "cell_type": "code",
   "execution_count": 38,
   "metadata": {},
   "outputs": [
    {
     "data": {
      "text/plain": [
       "array([-0.02969556, -0.06951654,  0.19366274, -0.10401886, -0.16423258,\n",
       "        0.23049288,  0.07767783,  0.01439669,  0.0374116 ,  0.03318737,\n",
       "        0.23362756, -0.01047019,  0.12762031, -0.1108763 , -0.02746765,\n",
       "        0.1285398 ,  0.07415388,  0.14033668,  0.13779305, -0.01494267,\n",
       "        0.00604409, -0.21187013, -0.11355578, -0.00544569,  0.16514717,\n",
       "        0.17140301, -0.09359984, -0.07183876,  0.05937635,  0.04529954,\n",
       "        0.08085499,  0.15129673,  0.16251044,  0.00525951,  0.01068246,\n",
       "       -0.02637394, -0.18567227, -0.02610562,  0.10218946,  0.12968859,\n",
       "       -0.01090522,  0.00767024,  0.03871895,  0.12686926,  0.02540678,\n",
       "       -0.01631723, -0.04853322,  0.08481662,  0.00727   ,  0.13841571,\n",
       "       -0.2608158 , -0.19717086, -0.13765058,  0.09310117,  0.03745126,\n",
       "        0.02523672,  0.1782683 ,  0.00040143,  0.00329685,  0.05424515,\n",
       "       -0.04724783, -0.01764581, -0.25342734, -0.1109481 , -0.05060924,\n",
       "        0.08447783, -0.17585496,  0.13464001,  0.16175317, -0.02586155,\n",
       "        0.01228022,  0.05680294, -0.12091434,  0.03187782,  0.1248778 ,\n",
       "       -0.02333912, -0.18715141, -0.15143136,  0.01385057,  0.12178824,\n",
       "       -0.01045046,  0.03000132,  0.01838702,  0.12500777,  0.15041273,\n",
       "       -0.14672597, -0.14565276, -0.10022292, -0.03832796, -0.06572159,\n",
       "       -0.05075774, -0.10794014,  0.1524089 , -0.02024629, -0.03152804,\n",
       "       -0.06767832, -0.13659058,  0.12975056,  0.12565995, -0.0109974 ,\n",
       "        0.016664  ,  0.19358758, -0.06894454,  0.07841458, -0.10019323,\n",
       "        0.06897928,  0.04575936,  0.08800698, -0.12377183, -0.04942929,\n",
       "        0.05301476, -0.13490291, -0.07305113, -0.0824826 ,  0.08434832,\n",
       "       -0.00909581, -0.00804611,  0.04471767, -0.02581107, -0.02735629,\n",
       "        0.10020826,  0.20345198, -0.00516387, -0.04111804, -0.1281451 ,\n",
       "        0.12559944, -0.03139634,  0.03692205,  0.04506247,  0.02514971,\n",
       "        0.03183705,  0.16361361,  0.11018907, -0.04485733, -0.03360732,\n",
       "       -0.03921298,  0.14495088, -0.0991386 ,  0.08503814,  0.0777382 ,\n",
       "       -0.03740971,  0.05185681,  0.01002488,  0.00672181, -0.09680595,\n",
       "       -0.09154714, -0.0090347 ,  0.06407004,  0.13671951, -0.03975034,\n",
       "       -0.01375631,  0.12812619,  0.10712273, -0.08701425, -0.08024743,\n",
       "       -0.00507536, -0.01758429,  0.01502634,  0.06449349, -0.11824066,\n",
       "       -0.11643822,  0.14524322,  0.02908478, -0.02064941,  0.09291175,\n",
       "        0.24085701, -0.09219995, -0.0178939 , -0.00212284, -0.02546431,\n",
       "       -0.05363064, -0.22599454, -0.01158705, -0.11780535,  0.01538413,\n",
       "        0.00289284, -0.02626177,  0.06321624, -0.00859284, -0.04171086,\n",
       "        0.00993547, -0.16320427,  0.07602431, -0.03278482,  0.04810607,\n",
       "       -0.09185368, -0.21503383, -0.02255947, -0.03837145, -0.0592419 ,\n",
       "       -0.03431949,  0.12915835, -0.12432402, -0.03417196,  0.08888126,\n",
       "       -0.06325699, -0.20371026, -0.08582404, -0.06655293, -0.17787242,\n",
       "       -0.09692124,  0.02391424,  0.04459363,  0.06159169, -0.07580536,\n",
       "        0.0338471 , -0.12251318,  0.08020887,  0.0054754 ,  0.05681437,\n",
       "        0.00987262,  0.04263261,  0.10806756,  0.09185414,  0.10003063,\n",
       "        0.01732362,  0.2123407 ,  0.02831755, -0.01725583,  0.00435664,\n",
       "       -0.07758328, -0.08991929,  0.07121703,  0.09171039,  0.13596479,\n",
       "       -0.05461562, -0.12513148, -0.0806885 ,  0.09907579, -0.07051297,\n",
       "       -0.021987  ,  0.05955238,  0.16265009, -0.03192609,  0.09206973,\n",
       "       -0.10482724, -0.00052105, -0.05549794,  0.11098176, -0.14194715,\n",
       "        0.07470685,  0.06455688, -0.10705136, -0.11305033, -0.04697325,\n",
       "       -0.0213691 , -0.13315713,  0.06434691, -0.11890737, -0.01917752,\n",
       "        0.03690075, -0.07701869,  0.05698   , -0.00987245,  0.1561572 ,\n",
       "        0.16604757, -0.13445112, -0.06435053,  0.09321884, -0.1229641 ,\n",
       "       -0.10231221, -0.13738419,  0.0086584 ,  0.08095316,  0.0042107 ,\n",
       "       -0.13227018,  0.01496938,  0.05976973, -0.03037765,  0.0517964 ,\n",
       "       -0.21461874, -0.06327729,  0.03844218, -0.06430202,  0.02858378,\n",
       "       -0.07148119,  0.16227707, -0.00189301, -0.05104747,  0.11904378,\n",
       "       -0.11592931, -0.06341786,  0.26449455, -0.0325533 ,  0.02621216,\n",
       "        0.04042806,  0.03805196, -0.05768642, -0.03913102,  0.08443185,\n",
       "        0.13586548, -0.11409341, -0.02846239, -0.03287708,  0.00909581,\n",
       "       -0.02428926, -0.06255518, -0.02104239,  0.01758509,  0.16756436,\n",
       "        0.08903718, -0.11892771, -0.04356236,  0.11733698, -0.08836564,\n",
       "        0.0207868 , -0.06704224, -0.03136132, -0.09146765, -0.01966876,\n",
       "        0.00133286, -0.0239271 , -0.14651015, -0.00676468, -0.09338994,\n",
       "       -0.23656377,  0.1524191 , -0.09876322, -0.02702705,  0.11493518,\n",
       "        0.16710197,  0.03904655,  0.04256523, -0.01623666,  0.04049487,\n",
       "        0.0447991 ,  0.10072143,  0.03075809,  0.02313886,  0.03337729,\n",
       "        0.02423797, -0.04192543, -0.00203257,  0.08380867, -0.11373992,\n",
       "        0.0891472 , -0.03374537,  0.04707601,  0.08440348,  0.11174044,\n",
       "       -0.06023916,  0.00051572,  0.1312105 , -0.05457662,  0.04615862,\n",
       "        0.02144882, -0.0986526 ,  0.17940296, -0.04225613,  0.06370201,\n",
       "       -0.08989596,  0.04839271,  0.01607217, -0.0230888 , -0.17124722,\n",
       "        0.05929503, -0.00770698, -0.12923464,  0.08164073, -0.21083208,\n",
       "       -0.01584927,  0.02313484, -0.17225511, -0.01322374, -0.11971515,\n",
       "       -0.00417898, -0.17004153, -0.07734605,  0.10228121, -0.00802205,\n",
       "       -0.04780946, -0.15215945, -0.0067947 , -0.02149408, -0.0444653 ,\n",
       "        0.03959939,  0.10042528,  0.07778291, -0.01050222, -0.03274365,\n",
       "        0.03690851,  0.15315673,  0.05800018,  0.00921023, -0.03301532,\n",
       "        0.09957651, -0.03686816,  0.21248949,  0.22073244, -0.08497068,\n",
       "        0.03314756, -0.10736025, -0.01095725, -0.018301  , -0.05745592,\n",
       "        0.11399   ,  0.02756385, -0.10549777,  0.01557894, -0.22447183,\n",
       "       -0.00976453, -0.04281308,  0.21726791,  0.04351972, -0.04554427,\n",
       "        0.09145186,  0.0529655 ,  0.10844879, -0.12490301, -0.08822924,\n",
       "       -0.04924074,  0.07558039, -0.13853569,  0.08609831, -0.16060452,\n",
       "        0.16775012,  0.06327542,  0.07557475, -0.03973936, -0.02180206,\n",
       "       -0.12172175, -0.1184334 , -0.03825675,  0.04973294, -0.08369876,\n",
       "       -0.06382792, -0.13097395, -0.05781646, -0.04816205, -0.02320965,\n",
       "        0.01306215,  0.13360156, -0.07865261,  0.09434756,  0.01960031,\n",
       "        0.02169652,  0.13659266, -0.08092104, -0.0614324 ,  0.0041748 ,\n",
       "        0.10293185, -0.14456531, -0.07457991,  0.08240578,  0.17644194,\n",
       "        0.09023743, -0.10826243,  0.02204183,  0.26394085, -0.06702391,\n",
       "       -0.0263051 ,  0.15751338,  0.00115884,  0.09209068, -0.08178059,\n",
       "        0.04542165, -0.05716052,  0.02309885,  0.10946472,  0.0540031 ,\n",
       "       -0.06198693,  0.08283517, -0.09236244, -0.12301464,  0.05918876,\n",
       "        0.13345456, -0.19897653,  0.05872301,  0.050976  ,  0.08832777,\n",
       "       -0.16621447,  0.10804393, -0.07661557, -0.11948254, -0.07181572,\n",
       "       -0.09331507,  0.04875924,  0.02521014,  0.14125224,  0.0346396 ,\n",
       "        0.007317  , -0.05294225,  0.03078861, -0.05361816, -0.03638524,\n",
       "        0.02136752, -0.06026975, -0.10401155,  0.04524048, -0.16328608,\n",
       "        0.07193286, -0.01550751,  0.02544168,  0.08781014,  0.01394205,\n",
       "       -0.07767509,  0.03261839,  0.00798308, -0.16216525, -0.03490136,\n",
       "        0.15959365, -0.1340147 ,  0.03713497, -0.08088472, -0.0036168 ,\n",
       "        0.01544737,  0.19506408,  0.01053247, -0.14000524,  0.02311804,\n",
       "        0.03011937,  0.14299949, -0.03906777,  0.04660774,  0.00623652,\n",
       "        0.00220925, -0.10168617, -0.00997324,  0.02650705, -0.08957785,\n",
       "       -0.21245359, -0.06170846, -0.01124586, -0.0378658 , -0.08335935,\n",
       "       -0.05439381,  0.31425245,  0.09796967,  0.03372538,  0.06479441,\n",
       "       -0.06211693,  0.06187972, -0.11497481, -0.02070404,  0.07546968,\n",
       "        0.07994479, -0.0793995 , -0.04369334,  0.06753599,  0.05868146,\n",
       "        0.11835053,  0.06137851, -0.16972559,  0.0042292 ,  0.05875686,\n",
       "       -0.03871868,  0.03499158, -0.15373528,  0.04479548,  0.01760871,\n",
       "        0.12290132,  0.00131274,  0.14417954, -0.04865089, -0.12932529,\n",
       "        0.13434469,  0.14350441,  0.11241249,  0.08266263,  0.22543363,\n",
       "        0.03893965,  0.01943157,  0.18195502, -0.08608791,  0.03572632,\n",
       "        0.16985108, -0.03836829, -0.05034222, -0.06254982,  0.00225906,\n",
       "       -0.18948767, -0.08025519, -0.08741079,  0.06186337, -0.09175228,\n",
       "        0.05312063,  0.23219557,  0.04106704, -0.10250041,  0.06372442,\n",
       "        0.10017023,  0.04754222, -0.05558705, -0.08327261, -0.15278896,\n",
       "       -0.13405278, -0.0612637 ,  0.05539138, -0.13931646, -0.05064121,\n",
       "       -0.04445676, -0.09866439,  0.15079044,  0.07147195, -0.05379391,\n",
       "        0.02173347,  0.13565438,  0.03479457, -0.11951712, -0.03596308,\n",
       "        0.11594147, -0.0170269 ,  0.01615569,  0.11558596, -0.24953512,\n",
       "        0.08855033,  0.01738764, -0.04604541,  0.25360772,  0.03655144,\n",
       "        0.00307818, -0.01708495, -0.3120327 ,  0.05374008, -0.02380376,\n",
       "        0.2330033 ,  0.05042046,  0.13912961, -0.01032072,  0.14819959,\n",
       "       -0.09631772,  0.1792261 , -0.03650144, -0.29183976, -0.10728088,\n",
       "        0.00473414, -0.02182229,  0.07085368, -0.01191401,  0.00399208,\n",
       "       -0.0400247 , -0.05604552,  0.0580528 ,  0.08508185, -0.12074419,\n",
       "       -0.02580988, -0.01907089, -0.1444915 , -0.04273548, -0.11960348,\n",
       "        0.02812199, -0.05637676,  0.18649541, -0.08415836,  0.19866634,\n",
       "       -0.04160667, -0.22102619,  0.10268416, -0.15776305, -0.06006037,\n",
       "        0.04464426,  0.0805867 , -0.01333365, -0.04780848, -0.09157293,\n",
       "       -0.08233723, -0.07132593,  0.06005293, -0.12899315, -0.01515131,\n",
       "        0.03973202, -0.05599637, -0.08122482, -0.08732047,  0.17966064,\n",
       "        0.05067903,  0.0305138 , -0.21388293, -0.06921418, -0.09704193,\n",
       "       -0.0668858 ,  0.24170522, -0.04990122, -0.00799668, -0.03687753,\n",
       "        0.13486211,  0.04382188,  0.23122813, -0.06999441, -0.08601606,\n",
       "        0.10231533, -0.04019712, -0.15408298,  0.02650571,  0.0510591 ,\n",
       "       -0.10635161,  0.00605085,  0.01767105,  0.10363694,  0.04157746,\n",
       "       -0.13488798,  0.01340381,  0.03895469, -0.10984081,  0.13469344,\n",
       "        0.01725026, -0.15473098, -0.08930272, -0.00042002, -0.06002486,\n",
       "       -0.06936547, -0.02506047,  0.04190402, -0.2270401 , -0.15715776,\n",
       "        0.0237033 ,  0.0146818 ,  0.01372662, -0.08011606, -0.07770236,\n",
       "        0.15230216, -0.04736718, -0.08570203, -0.03973437,  0.0133438 ,\n",
       "       -0.24783046,  0.14157891,  0.00405758, -0.0707931 ,  0.14867012,\n",
       "        0.08821704, -0.02231712, -0.08884404, -0.19445097, -0.1114753 ,\n",
       "        0.03922954,  0.04007782,  0.0416759 ,  0.00296877,  0.09410911,\n",
       "       -0.11428236,  0.07928391, -0.01422246, -0.0299139 ,  0.07993959,\n",
       "        0.04812048, -0.10112164,  0.17917697,  0.08630991,  0.01092092,\n",
       "       -0.08499686,  0.00112104, -0.23005193,  0.16570321,  0.105102  ,\n",
       "        0.0992765 ,  0.01445416, -0.01521337, -0.04057778,  0.05513404,\n",
       "        0.00172499,  0.04938862, -0.07285608,  0.04805929,  0.03985755,\n",
       "       -0.10665902, -0.0970839 ,  0.07916136, -0.0541909 ,  0.03426727,\n",
       "        0.01078148,  0.16877049, -0.0379392 ,  0.03290744,  0.11702293,\n",
       "       -0.08311544,  0.05908932, -0.05696227, -0.10470522, -0.02045117,\n",
       "        0.0284171 , -0.03984843,  0.08406814,  0.13041011,  0.12818171,\n",
       "        0.126457  , -0.00429349, -0.04693457,  0.14702819,  0.04053469,\n",
       "       -0.00785564,  0.0445581 ,  0.02293976,  0.10899706,  0.06647785,\n",
       "        0.00242804, -0.05273849, -0.05703622, -0.0393362 ,  0.05772899,\n",
       "       -0.05335742, -0.00040869,  0.09452071, -0.05527571,  0.00555913,\n",
       "        0.06287764, -0.03118963, -0.27637438, -0.02929359,  0.101327  ,\n",
       "        0.08527531, -0.07854899, -0.07033221, -0.11667039,  0.08802925,\n",
       "        0.0919067 , -0.03968263, -0.08096592,  0.05650797, -0.10366261,\n",
       "       -0.13032688,  0.03574918,  0.09570105,  0.03599121, -0.04226094,\n",
       "       -0.03078449, -0.18471739, -0.14144051,  0.09380104, -0.15247801,\n",
       "        0.04355777,  0.05648113, -0.02619518, -0.09953781, -0.11496545,\n",
       "        0.00811393,  0.06537611, -0.00034219, -0.04848161, -0.13797782,\n",
       "        0.06897048, -0.04595174, -0.11381422, -0.05644762,  0.07919142,\n",
       "       -0.06142801, -0.23090917,  0.05387725, -0.04867798,  0.02898336,\n",
       "       -0.18556531,  0.07243709, -0.14585406, -0.07969916, -0.18799901,\n",
       "       -0.12138652,  0.10724864, -0.1133659 , -0.0846383 ,  0.06067859,\n",
       "        0.05698993,  0.00675864, -0.10934845, -0.2531764 , -0.12571329,\n",
       "       -0.2726124 , -0.01684635,  0.08903654,  0.01158338,  0.00105444,\n",
       "        0.00593305, -0.2161155 , -0.19155922,  0.20506923,  0.17269919,\n",
       "        0.03382805,  0.09283691, -0.03336709,  0.0976375 , -0.22725289,\n",
       "       -0.00582765,  0.01111197, -0.09160626, -0.07750812,  0.11357332,\n",
       "        0.11260657, -0.03379909,  0.01770962, -0.05735122, -0.0302679 ,\n",
       "       -0.13399928, -0.27061321, -0.08038992, -0.11600532,  0.0298724 ,\n",
       "       -0.07736328, -0.02510696, -0.00331624,  0.05443825, -0.07280206,\n",
       "        0.15607084,  0.19891499, -0.1561921 , -0.02609001,  0.04976778,\n",
       "        0.08886812, -0.12585704,  0.04791967,  0.03301838, -0.04260764,\n",
       "       -0.07192382,  0.09415893,  0.13293208,  0.004057  ,  0.03536331,\n",
       "        0.05971797, -0.04414261,  0.05558835,  0.03449515,  0.04380677,\n",
       "        0.10950361,  0.16109553,  0.2003833 , -0.04143932,  0.07777   ,\n",
       "        0.03147462,  0.0705826 ,  0.0878791 ,  0.07980135, -0.00073222,\n",
       "       -0.01656327, -0.08038663,  0.22507012,  0.11382677,  0.20092194,\n",
       "       -0.02523737,  0.04673637, -0.03519653,  0.0422851 , -0.08951141,\n",
       "       -0.01039237, -0.03906769, -0.05557885,  0.11025365, -0.07982584,\n",
       "        0.0655233 ,  0.14272559, -0.00548509, -0.04074993, -0.08374252,\n",
       "       -0.13287951, -0.18559512, -0.05834671,  0.15867362, -0.00576803,\n",
       "        0.03532721,  0.15070814, -0.07367136, -0.10765186,  0.05591229,\n",
       "       -0.14429684, -0.00658113,  0.06152939,  0.09805478, -0.09455991,\n",
       "       -0.0970766 ,  0.00056706,  0.04664586, -0.06936546, -0.10552188,\n",
       "        0.01207663,  0.08904758, -0.08283756, -0.09912002, -0.0458433 ,\n",
       "       -0.18623298,  0.03210689,  0.00893119,  0.05868801, -0.21350278,\n",
       "        0.11417593,  0.04423088, -0.01501121, -0.0779962 , -0.0073699 ,\n",
       "        0.09982561,  0.12905076, -0.010255  , -0.08566761,  0.01184909,\n",
       "       -0.00042228,  0.12177557, -0.1240806 , -0.10357689, -0.10135009,\n",
       "        0.07300573,  0.00676395, -0.05432418,  0.02471809, -0.06679223,\n",
       "       -0.01128942, -0.1737754 , -0.09078615, -0.04352353,  0.00955052,\n",
       "        0.04614109, -0.04550483,  0.04288398, -0.08510082,  0.00036838])"
      ]
     },
     "execution_count": 38,
     "metadata": {},
     "output_type": "execute_result"
    }
   ],
   "source": [
    "b"
   ]
  },
  {
   "cell_type": "code",
   "execution_count": 39,
   "metadata": {},
   "outputs": [
    {
     "data": {
      "image/png": "[encoded data removed]",
      "text/plain": [
       "<Figure size 432x288 with 1 Axes>"
      ]
     },
     "metadata": {
      "needs_background": "light"
     },
     "output_type": "display_data"
    }
   ],
   "source": [
    "import matplotlib.pyplot as plt\n",
    "count, bins, ignored = plt.hist(b, 30, density=True)\n",
    "plt.plot(bins, 1/(sigma * np.sqrt(2 * np.pi)) *\n",
    "               np.exp( - (bins - mu)**2 / (2 * sigma**2) ),\n",
    "         linewidth=2, color='r')\n",
    "plt.show()"
   ]
  },
  {
   "cell_type": "markdown",
   "metadata": {},
   "source": [
    "#### 5. Exponential distribution"
   ]
  },
  {
   "cell_type": "markdown",
   "metadata": {},
   "source": [
    "Exponential Distribution is used to model the time taken between the occurrence of different events. The exponential distribution is one of the extensively used continuous distributions and it is strictly related to the Poisson distribution.Its probability density function is:\n",
    "\n",
    "![alt text](exponential.png)"
   ]
  },
  {
   "cell_type": "markdown",
   "metadata": {},
   "source": [
    "A continuous random variable x (with scale parameter λ > 0) is said to have an exponential distribution only if its probability density function can be expressed by multiplying the scale parameter to the exponential function of minus scale parameter and x for all x greater than or equal to zero, otherwise the probability density function is equal to zero. More information about exponential distribution get here: https://www.wallstreetmojo.com/exponential-distribution/\n",
    "\n",
    "We should use exponential distribution when:\n",
    "\n",
    "- You have a lot of events going.\n",
    "- They happen at a certain rate (which does not change over time).\n",
    "- Just because one happened the chances of another one happening don’t change.\n",
    "\n",
    "https://www.kdnuggets.com/2019/07/5-probability-distributions-every-data-scientist-should-know.html"
   ]
  },
  {
   "cell_type": "markdown",
   "metadata": {},
   "source": [
    "A real life example for exponential distribution: \n",
    "\n",
    "As I mentioned before, exponential distribution measures time taken between occurance of two events. As an example, we could imagine we work at a restaurant and we want to predict what is going to be the time interval between different customers coming to the restaurant. According to https://towardsdatascience.com/ using an Exponential Distribution for this type of problem, could be the perfect place where to start the analysis. "
   ]
  },
  {
   "cell_type": "markdown",
   "metadata": {},
   "source": [
    "![alt text](exp1.png)"
   ]
  },
  {
   "cell_type": "markdown",
   "metadata": {},
   "source": [
    "Image taken from: https://en.wikipedia.org/wiki/Exponential_distribution"
   ]
  },
  {
   "cell_type": "markdown",
   "metadata": {},
   "source": [
    "## 4.The use of seeds"
   ]
  },
  {
   "cell_type": "markdown",
   "metadata": {},
   "source": [
    "As I have mentioned before computers can't produce random numbers itself, they need human help. That is the reason why random numberes are deterministic which means that they operate by a set of rules, and we call them pseudorandom numbers. The pseudorandom number generator is a mathematical function that generates a sequence of nearly random numbers. It takes a parameter to start off the sequence, called the seed. As the function is deterministic, the same seed will produce the same sequence of numbers every time. https://yourbasic.org/algorithms/random-number-generator-seed/\n",
    "\n",
    "\"A random seed specifies the start point when a computer generates a random number sequence. This can be any number, but it usually comes from seconds on a computer system’s clock (Henkemans & Lee, 2001).\" \n",
    "\n",
    "Quote taken from:https://www.statisticshowto.datasciencecentral.com/random-seed-definition/\n",
    "\n",
    "Generally, the seed value is the previous number generated by the generator. However, when the first time you use the random generator, there is no previous value. So by-default current system time is used as a seed value.  The random module uses the seed value as a base to generate a random number.https://pynative.com/python-random-seed/ \n",
    "\n",
    "Syntax of random.seed()\n",
    "\n",
    "If the seed=None,  then by default, current system time is used. If seed value is in the form of an integer it is used as it is. This method is called when RandomState is initialized. It can be called again to re-seed the generator. RandomState exposes a number of methods for generating random numbers drawn from a variety of probability distributions. In addition to the distribution-specific arguments, each method takes a keyword argument size that defaults to None.\n",
    "\n",
    "- If size is None, then a single value is generated and returned.\n",
    "- If size is an integer, then a 1-D array filled with generated values is returned. \n",
    "- If size is a tuple, then an array with that shape is filled and returned.\n",
    "\n",
    "https://docs.scipy.org/doc/numpy-1.16.0/reference/generated/numpy.random.RandomState.html#numpy.random.RandomState\n",
    "\n",
    "I will show an example which generates the same output every time using random.seed()\n",
    "\n"
   ]
  },
  {
   "cell_type": "code",
   "execution_count": 40,
   "metadata": {},
   "outputs": [
    {
     "name": "stdout",
     "output_type": "stream",
     "text": [
      "Random number with seed 30\n",
      "first -  59\n",
      "Second -  59\n",
      "Third -  59\n"
     ]
    }
   ],
   "source": [
    "# code adjusted from:https://pynative.com/python-random-seed/\n",
    "#import random library\n",
    "import random\n",
    "\n",
    "print (\"Random number with seed 30\")\n",
    "random.seed( 30 )\n",
    "print (\"first - \", random.randint(25,60))\n",
    "\n",
    "#will generate a same random number as previous\n",
    "random.seed( 30 )\n",
    "print (\"Second - \", random.randint(25,60))\n",
    "\n",
    "#will generate a same random number as previous\n",
    "random.seed( 30 )\n",
    "print (\"Third - \", random.randint(25,60))"
   ]
  },
  {
   "cell_type": "markdown",
   "metadata": {},
   "source": [
    "As it is shown in the example above we can see 3 outputs with the number 59. In all 3 situations the seed was 30 which means the output was the same although radint function was called. Random.radint function returns random integers from low (inclusive) to high (exclusive) which means that all integers from 25 to 50 (not included) could be returned as output with the seed 30, but in all three situations we got the same output (59)"
   ]
  },
  {
   "cell_type": "code",
   "execution_count": 41,
   "metadata": {},
   "outputs": [
    {
     "name": "stdout",
     "output_type": "stream",
     "text": [
      "Random number with seed 30\n",
      "first -  59\n",
      "Second -  43\n",
      "Third -  59\n"
     ]
    }
   ],
   "source": [
    "# code adjusted from: https://pynative.com/python-random-seed/\n",
    "# import random library\n",
    "import random\n",
    "\n",
    "print (\"Random number with seed 30\")\n",
    "random.seed( 30 ) #first call\n",
    "print (\"first - \", random.randint(25,60))\n",
    "\n",
    "#generate a different random number as previous value is used as a seed\n",
    "print (\"Second - \", random.randint(25,60))\n",
    "\n",
    "#will generate a same random number as first one because seed value is same\n",
    "random.seed( 30 ) # second call\n",
    "print (\"Third - \", random.randint(25,60))"
   ]
  },
  {
   "cell_type": "markdown",
   "metadata": {},
   "source": [
    "In the example above we can see that the second output is different because the first output (59) is taken as a seed in the second case. The seed in second case was 59 and that number used as a seed generated different output (43). It the second case function random.seed( 30 ) is omitted and then by default previous output was used as a seed. In this example I used randint function to generate random integers, but other functions can be used as well, for example, random.choice, or random.sample.\n",
    "\n",
    "There are algorithms that generate numbers which are based on distributions like the Bernoulli distribution or Poisson distribution and they follow repeated pattern.  "
   ]
  },
  {
   "cell_type": "code",
   "execution_count": null,
   "metadata": {},
   "outputs": [],
   "source": []
  }
 ],
 "metadata": {
  "kernelspec": {
   "display_name": "Python 3",
   "language": "python",
   "name": "python3"
  },
  "language_info": {
   "codemirror_mode": {
    "name": "ipython",
    "version": 3
   },
   "file_extension": ".py",
   "mimetype": "text/x-python",
   "name": "python",
   "nbconvert_exporter": "python",
   "pygments_lexer": "ipython3",
   "version": "3.7.3"
  }
 },
 "nbformat": 4,
 "nbformat_minor": 2
}
