{
 "cells": [
  {
   "cell_type": "markdown",
   "metadata": {},
   "source": [
    "# Programming for Data Analysis\n",
    "\n",
    "\n",
    "\n"
   ]
  },
  {
   "cell_type": "markdown",
   "metadata": {},
   "source": [
    "## What are random numbers?"
   ]
  },
  {
   "cell_type": "markdown",
   "metadata": {},
   "source": [
    "![random numbers](new.png)"
   ]
  },
  {
   "cell_type": "markdown",
   "metadata": {},
   "source": [
    "\n",
    "\n",
    "Random numbers have been used for many thousands of years. Whether we talk about flipping a coin or rolling a dice, the goal is to leave the end result up to random chance. It is the same case with random number generators in a computer. The aim is to achieve an unpredictable, random result that could not be guessed. Computers generate random numbers for everything from cryptography to gambling. There are two categories of random numbers, “true” random numbers and pseudorandom numbers. Its difference is important for the security of encryption systems. To generate a “true” random number, the computer measures some type of physical phenomenon that takes place outside of the computer. For example the computer could rely on atmospheric noise or simply use the exact time you press keys on your keyboard as a source of unpredictable data (www.howtogeek.com). This type of random numbers is mostly used in programs in which data security is main priority. In this work we are going to focus more on pseudorandom numbers as they are a sample of numbers that look close to true random numbers but were generated using some deterministic process (machinelearningmastery.com).  Pseudorandom number generators (PRNGs) refer to an algorithm that uses mathematical formulas to produce sequences of random numbers (www.geeksforgeeks.org). One of the ways to generate random numbers is by using NumPy random numbers package. For that purpose, NumPy provides various routines that use particular algorithm to generate pseudorandom numbers. In order to dive in it into more details, in the next few paragraphs I will be focusing more on NumPy library and its features. \n"
   ]
  },
  {
   "cell_type": "markdown",
   "metadata": {},
   "source": [
    "##  NumPy package\n",
    "  \n",
    "  NumPy (Numerical Python) is a library for the Python programing language. It is intrinsically integrated with Python (en.wikipedia.org). It is a successor for two earlier scientific libraries, Numeric code and Numarray.https://docs.scipy.org/doc/numpy-1.14.0/index.html As NumPy, its initial release was in 2006. The primary creator of NumPy is American data scientist and businessman, Travis Oliphant. NumPy is a distributed, volunteer, open-source project, and everyone is welcome to give their contribution. \n",
    "Some of the features that NumPy contains are powerful N-dimensional array objects, sophisticated functions, tools for integrating C/C++ and Fortran code and many others. Besides its obvious scientific uses, NumPy can also be used as an efficient multi-dimensional container of generic data. Arbitrary data-types can be defined. This allows NumPy to seamlessly and speedily integrate with a wide variety of databases.https://docs.scipy.org/doc/numpy-1.14.0/about.html\n",
    "\n",
    "At the core of the NumPy package, is the ndarray object. This encapsulates n-dimensional arrays of homogeneous data types, with many operations being performed in compiled code for performance. There are several important differences between NumPy arrays and the standard Python sequences:\n",
    "\n",
    "- NumPy arrays have a fixed size at creation while Python lists can grow dynamically. Changing the size of an ndarray will create a new array and delete the original. There are some NumPy's benefits over Python lists, which include: being more compact, faster access in reading and writing items, being more convenient and more efficient (https://towardsdatascience.com).\n",
    "\n",
    "- The elements in a NumPy array are all required to be of the same data type, and thus will be the same size in memory. \n",
    "\n",
    "- NumPy arrays facilitate advanced mathematical and other types of operations on large numbers of data. Typically, such operations are executed more efficiently and with less code than is possible using Python's built-in sequences.\n",
    "\n",
    "- In order to efficiently use most of today's scientific/mathematical Python-based software, just knowing how to use Python's built-in sequence types is insufficient, it is also crucial to know how to use NumPy arrays (https://numpy.org).\n",
    "\n",
    " "
   ]
  },
  {
   "cell_type": "markdown",
   "metadata": {},
   "source": [
    "In the next paragraphs I will show some of more important attributes of an ndarray object:\n",
    "\n",
    "##### 1. ndarray.ndim\n",
    "\n",
    "This function returns the number of axes or dimensions of the array. In order to use ndarray.ndim function I have to import numpy package first. This is an example of one-dimensional array. The list of numbers from 4 to 7. "
   ]
  },
  {
   "cell_type": "code",
   "execution_count": 152,
   "metadata": {},
   "outputs": [],
   "source": [
    "# Import numpy as np\n",
    "import numpy as np\n",
    "# Numpy.array function is used to generate numbers\n",
    "a = np.array([4, 5, 6, 7])"
   ]
  },
  {
   "cell_type": "code",
   "execution_count": 153,
   "metadata": {},
   "outputs": [
    {
     "data": {
      "text/plain": [
       "array([4, 5, 6, 7])"
      ]
     },
     "execution_count": 153,
     "metadata": {},
     "output_type": "execute_result"
    }
   ],
   "source": [
    "# Call the value a\n",
    "a"
   ]
  },
  {
   "cell_type": "code",
   "execution_count": 154,
   "metadata": {},
   "outputs": [
    {
     "data": {
      "text/plain": [
       "1"
      ]
     },
     "execution_count": 154,
     "metadata": {},
     "output_type": "execute_result"
    }
   ],
   "source": [
    "# Number of axes of the array    \n",
    "a.ndim"
   ]
  },
  {
   "cell_type": "code",
   "execution_count": 155,
   "metadata": {},
   "outputs": [
    {
     "data": {
      "image/png": "[encoded data removed]",
      "text/plain": [
       "<Figure size 432x288 with 1 Axes>"
      ]
     },
     "metadata": {
      "needs_background": "light"
     },
     "output_type": "display_data"
    }
   ],
   "source": [
    "# Import numpy as np\n",
    "import numpy as np\n",
    "# Import matplotlib.pyplot as plt\n",
    "import matplotlib.pyplot as plt\n",
    "# b is defined as np.array function.. It starts from 4 up to 7 as in an example above.\n",
    "b = np.array([4, 5, 6, 7])\n",
    "# Call function b\n",
    "plt.plot(b)\n",
    "# Show the plot\n",
    "# Show the title\n",
    "plt.title(\"np.array function\")\n",
    "plt.show()"
   ]
  },
  {
   "cell_type": "markdown",
   "metadata": {},
   "source": [
    "##### 2. ndarray.shape\n",
    "\n",
    "This function returns the dimensions of the array. In this situation we got output 4 which means it is one-dimensional array with 4 elements in it. "
   ]
  },
  {
   "cell_type": "code",
   "execution_count": 156,
   "metadata": {},
   "outputs": [
    {
     "data": {
      "text/plain": [
       "(4,)"
      ]
     },
     "execution_count": 156,
     "metadata": {},
     "output_type": "execute_result"
    }
   ],
   "source": [
    "# Dimensions of the array\n",
    "a.shape"
   ]
  },
  {
   "cell_type": "markdown",
   "metadata": {},
   "source": [
    "##### 3. ndarray.size\n",
    "\n",
    "This function shows the total number of elements in the array. It is equal to the number of elements of ndarray.shape."
   ]
  },
  {
   "cell_type": "code",
   "execution_count": 157,
   "metadata": {},
   "outputs": [
    {
     "data": {
      "text/plain": [
       "4"
      ]
     },
     "execution_count": 157,
     "metadata": {},
     "output_type": "execute_result"
    }
   ],
   "source": [
    "# Total number of elements in the array\n",
    "a.size"
   ]
  },
  {
   "cell_type": "markdown",
   "metadata": {},
   "source": [
    "##### 4.ndarray.dtype\n",
    "\n",
    "This function describes the type of elements in the array. It tells us if the element is for example integer or float. NumPy provides types of its own (int32, int64, float64...). This type of element is int32. "
   ]
  },
  {
   "cell_type": "code",
   "execution_count": 158,
   "metadata": {},
   "outputs": [
    {
     "data": {
      "text/plain": [
       "dtype('int32')"
      ]
     },
     "execution_count": 158,
     "metadata": {},
     "output_type": "execute_result"
    }
   ],
   "source": [
    "# Type of elements in the array\n",
    "a.dtype"
   ]
  },
  {
   "cell_type": "markdown",
   "metadata": {},
   "source": [
    "##### 5.ndarray.itemsize\n",
    "\n",
    "This function shows the size in bytes of each element of the array. For example, an array of elements of type float64 has itemsize 8 (=64/8). In this case as we got an output that this array type is int32 which means that its itemsize is 4 bytes (32/8=4). "
   ]
  },
  {
   "cell_type": "code",
   "execution_count": 159,
   "metadata": {},
   "outputs": [
    {
     "data": {
      "text/plain": [
       "4"
      ]
     },
     "execution_count": 159,
     "metadata": {},
     "output_type": "execute_result"
    }
   ],
   "source": [
    "# Size in bytes of each element of the array\n",
    "a.itemsize"
   ]
  },
  {
   "cell_type": "markdown",
   "metadata": {},
   "source": [
    "###### 6.np.arange\n",
    "\n",
    "Np.arrange is also one of the most important numpy functions. It returns evenly spaced values within a given interval. Values are generated within the half-open interval [start, stop)  For integer arguments the function is equivalent to the Python built-in range function, but returns an ndarray rather than a list. In this example the range is from 0 to 5 where 5 is not included."
   ]
  },
  {
   "cell_type": "code",
   "execution_count": 160,
   "metadata": {},
   "outputs": [
    {
     "data": {
      "text/plain": [
       "array([0, 1, 2, 3, 4])"
      ]
     },
     "execution_count": 160,
     "metadata": {},
     "output_type": "execute_result"
    }
   ],
   "source": [
    "np.arange(5)"
   ]
  },
  {
   "cell_type": "code",
   "execution_count": 161,
   "metadata": {},
   "outputs": [
    {
     "data": {
      "image/png": "[encoded data removed]",
      "text/plain": [
       "<Figure size 432x288 with 1 Axes>"
      ]
     },
     "metadata": {
      "needs_background": "light"
     },
     "output_type": "display_data"
    }
   ],
   "source": [
    "# Import numpy as np\n",
    "import numpy as np\n",
    "# Import matplotlib.pyplot as plt\n",
    "import matplotlib.pyplot as plt\n",
    "# b is defined as np.arange function in range 5. It starts from 0 up to 4 as in an example above.\n",
    "b = np.arange(5)\n",
    "# Call function b\n",
    "plt.plot(b)\n",
    "# Show the plot\n",
    "# Show the title\n",
    "plt.title(\"np.arange function\")\n",
    "plt.show()"
   ]
  },
  {
   "cell_type": "markdown",
   "metadata": {},
   "source": [
    "## Why is NumPy fast?\n",
    "\n",
    "Vectorization describes the absence of any explicit looping, indexing or other features in the code, these things are taking place “behind the scenes” in pre-compiled C code. The advantages of vectorized code are:\n",
    "\n",
    "- vectorized code is easier and more concise to read\n",
    "\n",
    "- fewer lines of code generally means fewer bugs\n",
    "\n",
    "- the code resembles standard mathematical notation \n",
    "\n",
    "- vectorization results in more “Pythonic” code. Without vectorization, our code would be littered with inefficient and difficult to read for loops.\n",
    "\n",
    "Broadcasting is the term used to describe the implicit element-by-element behavior of operations. In NumPy all operations, not just arithmetic operations, but also logical, bit-wise, functional, etc., behave in this implicit element-by-element fashion,  they broadcast. You can read more about numpy package here: https://numpy.org/devdocs/user/whatisnumpy.html"
   ]
  },
  {
   "cell_type": "markdown",
   "metadata": {},
   "source": [
    "References:\n",
    "\n",
    "- https://www.howtogeek.com/183051/htg-explains-how-computers-generate-random-numbers/\n",
    "- https://www.geeksforgeeks.org/pseudo-random-number-generator-prng/\n",
    "- https://docs.scipy.org/doc/numpy-1.14.0/index.html \n",
    "- https://towardsdatascience.com/probability-distributions-in-data-science-cce6e64873a7\n",
    "- https://docs.scipy.org/doc/numpy-1.16.0/reference/routines.random.html\n",
    "- https://numpy.org/devdocs/user/whatisnumpy.html"
   ]
  },
  {
   "cell_type": "markdown",
   "metadata": {},
   "source": [
    "## Section 1 - Numpy.random package\n",
    "\n"
   ]
  },
  {
   "cell_type": "markdown",
   "metadata": {},
   "source": [
    "As mentioned before, the focus of this project is to focus on pseudorandom numbers as they are a sample of numbers that look close to true random numbers but are generated using some deterministic process. As computers can not produce random numbers itself, they need packages and algorithms that would deal with it. Numpy.random package is one of the libraries in Python that generates pseudorandom data. \n",
    "\n",
    "Within the package there are many different functions and distributions. You can find more information about numpy.random package and its features here: https://docs.scipy.org/doc/numpy-1.15.0/reference/routines.random.html#\n",
    "\n",
    "Numpy.random package consists of 4 parts:\n",
    "\n",
    "##### 1. Simple random data\n",
    "##### 2. Permutations\n",
    "##### 3. Distributions\n",
    "##### 4. Random generator\n",
    "\n",
    "\n",
    "Each of these sections will be discussed in more details in the text below. In the next paragraph I will talk about the use of Simple random data and Permutations. "
   ]
  },
  {
   "cell_type": "markdown",
   "metadata": {},
   "source": [
    "## Section 2 - Simple random data and Permutations"
   ]
  },
  {
   "cell_type": "markdown",
   "metadata": {},
   "source": [
    "Simple random data functions:\n",
    "\n",
    "\n",
    "- rand(d0, d1, …, dn) - Random values in a given shape.\n",
    "- randn(d0, d1, …, dn) - Return a sample (or samples) from the “standard normal” distribution.\n",
    "- randint(low[, high, size, dtype]) - Return random integers from low (inclusive) to high (exclusive).\n",
    "- random_integers(low[, high, size]) - Random integers of type np.int between low and high, inclusive.\n",
    "- random_sample([size]) - Return random floats in the half-open interval [0.0, 1.0).\n",
    "- random([size]) - Return random floats in the half-open interval [0.0, 1.0).\n",
    "- ranf([size]) - Return random floats in the half-open interval [0.0, 1.0).\n",
    "- sample([size]) - Return random floats in the half-open interval [0.0, 1.0).\n",
    "- choice(a[, size, replace, p]) - Generates a random sample from a given 1-D array\n",
    "- bytes(length) - Return random bytes.\n",
    "\n",
    "Each of these functions will be explained in details below, but you can also find more information about simple random data and Permutation functions here: https://docs.scipy.org/doc/numpy-1.15.0/reference/routines.random.html"
   ]
  },
  {
   "cell_type": "markdown",
   "metadata": {},
   "source": [
    "##### numpy.random.rand"
   ]
  },
  {
   "cell_type": "markdown",
   "metadata": {},
   "source": [
    "This function gives random values in a given shape. It creates an array of the given shape and populates it with given samples \n",
    "from a uniform distribution. Uniform distribution means that each number has equal chances to be generated. Numbers 4 and 2 signify 4 rows and 2 columns. "
   ]
  },
  {
   "cell_type": "code",
   "execution_count": 162,
   "metadata": {},
   "outputs": [],
   "source": [
    "# Import numpy package as np \n",
    "import numpy as np\n",
    "# Numpy random function \"rand\" is defined as b\n",
    "b = np.random.rand(4,2)"
   ]
  },
  {
   "cell_type": "code",
   "execution_count": 163,
   "metadata": {},
   "outputs": [
    {
     "data": {
      "text/plain": [
       "array([[0.75946237, 0.53472835],\n",
       "       [0.84738118, 0.47424455],\n",
       "       [0.08280987, 0.59293412],\n",
       "       [0.02244109, 0.77410484]])"
      ]
     },
     "execution_count": 163,
     "metadata": {},
     "output_type": "execute_result"
    }
   ],
   "source": [
    "# Call the function b - result returned 4 arrays with 2 elements in each.\n",
    "b"
   ]
  },
  {
   "cell_type": "markdown",
   "metadata": {},
   "source": [
    "In the example below I will show 2d array. The N-dimensional array ( ndarray ) An ndarray is a (usually fixed-size) multidimensional container of items of the same type and size. The number of dimensions and items in an array is defined by its shape https://docs.scipy.org/doc/numpy-1.13.0/reference/arrays.ndarray.html. The function np.random.rand will create an array of the given shape and populate it with random samples from a uniform distribution. In this case given shape is (30, 50). "
   ]
  },
  {
   "cell_type": "code",
   "execution_count": 164,
   "metadata": {},
   "outputs": [
    {
     "data": {
      "text/plain": [
       "<matplotlib.colorbar.Colorbar at 0x1cd463f4160>"
      ]
     },
     "execution_count": 164,
     "metadata": {},
     "output_type": "execute_result"
    },
    {
     "data": {
      "image/png": "[encoded data removed]",
      "text/plain": [
       "<Figure size 432x288 with 2 Axes>"
      ]
     },
     "metadata": {
      "needs_background": "light"
     },
     "output_type": "display_data"
    }
   ],
   "source": [
    "# Code adjusted from: https://scipy-lectures.org/intro/numpy/array_object.html\n",
    "# Import numpy as np\n",
    "# Import matplotlib.pyplot as plt\n",
    "import numpy as np\n",
    "import matplotlib.pyplot as plt\n",
    "# b is defined as np.random.rand function(30, 50)\n",
    "b = np.random.rand(30, 50)\n",
    "# Show the plot\n",
    "plt.imshow(b, cmap=plt.cm.hot)  \n",
    "# Define the colour of the plot\n",
    "plt.title(\"np.random.rand function\")\n",
    "plt.colorbar() "
   ]
  },
  {
   "cell_type": "markdown",
   "metadata": {},
   "source": [
    "##### numpy.random.randn"
   ]
  },
  {
   "cell_type": "markdown",
   "metadata": {},
   "source": [
    "This function returns a sample or more samples from the “standard normal” distribution. A single float randomly sampled from the distribution is returned if no argument is provided."
   ]
  },
  {
   "cell_type": "code",
   "execution_count": 165,
   "metadata": {},
   "outputs": [],
   "source": [
    "# Import numpy package as np\n",
    "import numpy as np\n",
    "# Numpy random function randn is defined as b\n",
    "b = np.random.randn()"
   ]
  },
  {
   "cell_type": "code",
   "execution_count": 166,
   "metadata": {},
   "outputs": [
    {
     "data": {
      "text/plain": [
       "-0.07528228748301587"
      ]
     },
     "execution_count": 166,
     "metadata": {},
     "output_type": "execute_result"
    }
   ],
   "source": [
    "# Call the function b - float number returned\n",
    "b"
   ]
  },
  {
   "cell_type": "markdown",
   "metadata": {},
   "source": [
    "##### numpy.random.randint"
   ]
  },
  {
   "cell_type": "markdown",
   "metadata": {},
   "source": [
    "This function returns random integers from low (inclusive) to high (exclusive). It returns random integers from discrete uniform distribution. As you can see in the example below we got 2 arrays with 4 elements in each. All numbers are in range from 0 to 5 (not including 5)."
   ]
  },
  {
   "cell_type": "code",
   "execution_count": 167,
   "metadata": {},
   "outputs": [],
   "source": [
    "# Import numpy package as np\n",
    "import numpy as np\n",
    "# Numpy random function randint (random integer) is defined as b\n",
    "b = np.random.randint(5, size=(2, 4))"
   ]
  },
  {
   "cell_type": "code",
   "execution_count": 168,
   "metadata": {},
   "outputs": [
    {
     "data": {
      "text/plain": [
       "array([[4, 1, 4, 0],\n",
       "       [0, 4, 2, 0]])"
      ]
     },
     "execution_count": 168,
     "metadata": {},
     "output_type": "execute_result"
    }
   ],
   "source": [
    "# Call the function b - 2 arrays with 4 elements returned\n",
    "b"
   ]
  },
  {
   "cell_type": "markdown",
   "metadata": {},
   "source": [
    "##### numpy.random.random_integers"
   ]
  },
  {
   "cell_type": "markdown",
   "metadata": {},
   "source": [
    "As we can see above, when using randint function high integer is exclusive, while using random_integers high integer is inclusive. So this function is very similar to randint function. In this case there are 3 rows, each row has 2 elements in it and high integer is included. "
   ]
  },
  {
   "cell_type": "code",
   "execution_count": 169,
   "metadata": {},
   "outputs": [],
   "source": [
    "# Import numpy package as np\n",
    "import numpy as np\n",
    "# Ignore the warning received\n",
    "import warnings; warnings.simplefilter('ignore')\n",
    "# Numpy random function random_integers is defined as c\n",
    "c = np.random.random_integers(5, size=(3,2))\n",
    "import warnings; warnings.simplefilter('ignore')"
   ]
  },
  {
   "cell_type": "code",
   "execution_count": 170,
   "metadata": {},
   "outputs": [
    {
     "data": {
      "text/plain": [
       "array([[3, 1],\n",
       "       [1, 5],\n",
       "       [3, 3]])"
      ]
     },
     "execution_count": 170,
     "metadata": {},
     "output_type": "execute_result"
    }
   ],
   "source": [
    "# Call the function c - 3 arrays with 2 elements returned\n",
    "c"
   ]
  },
  {
   "cell_type": "markdown",
   "metadata": {},
   "source": [
    "##### numpy.random.random_sample,  numpy.random.random,  numpy.random.ranf,  numpy.random_sample"
   ]
  },
  {
   "cell_type": "markdown",
   "metadata": {},
   "source": [
    "These 4 functions return floats. Results are from the “continuous uniform” distribution over the stated interval. I will show two examples of these functions. In the first case using random_sample function it gives back random floats in the half-open interval from 0.0 to 1.0. In this case I got back float."
   ]
  },
  {
   "cell_type": "code",
   "execution_count": 171,
   "metadata": {},
   "outputs": [],
   "source": [
    "# Import numpy package as np\n",
    "import numpy as np\n",
    "# Numpy random function random sample is defined as b\n",
    "b = np.random.random_sample()"
   ]
  },
  {
   "cell_type": "code",
   "execution_count": 172,
   "metadata": {},
   "outputs": [
    {
     "data": {
      "text/plain": [
       "0.7762929297443008"
      ]
     },
     "execution_count": 172,
     "metadata": {},
     "output_type": "execute_result"
    }
   ],
   "source": [
    "# Call the function b - float returned\n",
    "b"
   ]
  },
  {
   "cell_type": "markdown",
   "metadata": {},
   "source": [
    "In the second example, we got 5 different arrays, all of them are in the range from 0.0 to 1.0.  Results are also chosen from the “continuous uniform” distribution."
   ]
  },
  {
   "cell_type": "code",
   "execution_count": 173,
   "metadata": {},
   "outputs": [],
   "source": [
    "# Import numpy package as np\n",
    "import numpy as np\n",
    "# Numpy random function random sample is defined as b\n",
    "b = np.random.random_sample((5,))"
   ]
  },
  {
   "cell_type": "code",
   "execution_count": 174,
   "metadata": {},
   "outputs": [
    {
     "data": {
      "text/plain": [
       "array([0.13013189, 0.12178174, 0.4334198 , 0.30916585, 0.31784321])"
      ]
     },
     "execution_count": 174,
     "metadata": {},
     "output_type": "execute_result"
    }
   ],
   "source": [
    "# Call the function b - 5 arrays in range from 0.0 to 1.0\n",
    "b"
   ]
  },
  {
   "cell_type": "markdown",
   "metadata": {},
   "source": [
    "##### numpy.random.choice"
   ]
  },
  {
   "cell_type": "markdown",
   "metadata": {},
   "source": [
    "This function generates a random sample from a given 1-D array. There are 4 different parameters a : 1-D array-like or int, size : int or tuple of ints, optional, replace : boolean, optional, p : 1-D array-like, optional. In the example below I got an array of 3 elements in interval from 0 to 5."
   ]
  },
  {
   "cell_type": "code",
   "execution_count": 175,
   "metadata": {},
   "outputs": [],
   "source": [
    "# Import numpy package as np\n",
    "import numpy as np\n",
    "# Numpy random function choice is defined as b\n",
    "b = np.random.choice(5, 3)"
   ]
  },
  {
   "cell_type": "code",
   "execution_count": 176,
   "metadata": {},
   "outputs": [
    {
     "data": {
      "text/plain": [
       "array([1, 0, 4])"
      ]
     },
     "execution_count": 176,
     "metadata": {},
     "output_type": "execute_result"
    }
   ],
   "source": [
    "# Call the function b - random choice integer in a range from 0 to 5 returned.\n",
    "b"
   ]
  },
  {
   "cell_type": "markdown",
   "metadata": {},
   "source": [
    "##### numpy.random.bytes"
   ]
  },
  {
   "cell_type": "markdown",
   "metadata": {},
   "source": [
    "This function returns random bytes. "
   ]
  },
  {
   "cell_type": "code",
   "execution_count": 177,
   "metadata": {},
   "outputs": [],
   "source": [
    "# Import numpy package as np\n",
    "import numpy as np\n",
    "# Numpy random function bytes is defined as b\n",
    "b = np.random.bytes(10)"
   ]
  },
  {
   "cell_type": "code",
   "execution_count": 178,
   "metadata": {},
   "outputs": [
    {
     "data": {
      "text/plain": [
       "b'\\xa9:\\x9c\\xc1\\xdf!!\\xa0\\x81\\x15'"
      ]
     },
     "execution_count": 178,
     "metadata": {},
     "output_type": "execute_result"
    }
   ],
   "source": [
    "# Call the function b - string of length returned\n",
    "b"
   ]
  },
  {
   "cell_type": "markdown",
   "metadata": {},
   "source": [
    "### Permutations"
   ]
  },
  {
   "cell_type": "markdown",
   "metadata": {},
   "source": [
    "A random permutation is a random ordering of a set of objects, that is, a permutation-valued random variable. The use of random permutations is often fundamental to fields that use randomized algorithms such as coding theory, cryptography, and simulation. A good example of a random permutation is the shuffling of a deck of cards: this is ideally a random permutation of the 52 cards.https://en.wikipedia.org/wiki/Random_permutation\n",
    "A permutation, also called an “arrangement number” or “order”, is a rearrangement of the elements of an ordered list. This method takes a list as an input and return an object list of tuples that contain all permutation in a list form. https://www.geeksforgeeks.org/permutation-and-combination-in-python/ There are 2 permutation functions: shuffle(x) and permutation(x). \n",
    "\n",
    "##### numpy.random.shuffle(x)  "
   ]
  },
  {
   "cell_type": "markdown",
   "metadata": {},
   "source": [
    "This function shuffles the array along the first axis of a multi-dimensional array. The order of sub-arrays is changed but their contents remains the same. In the example below I defined b as interval from 0 to 15 (15 is not included). Using random.shuffle function it returned the list of random numbers from 0 to 15 (not included) in random order. "
   ]
  },
  {
   "cell_type": "code",
   "execution_count": 179,
   "metadata": {},
   "outputs": [
    {
     "data": {
      "text/plain": [
       "array([ 7, 10, 13, 12,  2,  8, 11,  0,  3,  6,  9, 14,  5,  4,  1])"
      ]
     },
     "execution_count": 179,
     "metadata": {},
     "output_type": "execute_result"
    }
   ],
   "source": [
    "# Import numpy as np\n",
    "import numpy as np\n",
    "# I defined b as a range of all numbers from 0 to 14 (included)\n",
    "b = np.arange(15)\n",
    "# Using numpy random.shuffle function numbers from 0 to 14 are shuffled in random order\n",
    "np.random.shuffle(b)\n",
    "# Print all numbers in random order from 0 to 14 (included)\n",
    "b"
   ]
  },
  {
   "cell_type": "markdown",
   "metadata": {},
   "source": [
    "In the second example there are multi-dimensional arrays that are only shuffled along the first axis. There are 5 arrays that have 3 elements. In the first part there are 5 arrays which are in order from 0 to 14 (included). In the second part of the code there is a multi-dimensional array that doesn't start with 0 like the previous one. There are still 5 arrays with 3 elements in them, but the numbers have changed their order. The first array starts with 12 and continues to 13 and 14, the second arrays starts with 3 and it goes up to 5 and so on. From this example we can see that the numbers have been shuffled along the first axis. "
   ]
  },
  {
   "cell_type": "code",
   "execution_count": 180,
   "metadata": {},
   "outputs": [
    {
     "name": "stdout",
     "output_type": "stream",
     "text": [
      "Before Shufflling multi-dimensional array\n",
      "[[ 0  1  2]\n",
      " [ 3  4  5]\n",
      " [ 6  7  8]\n",
      " [ 9 10 11]\n",
      " [12 13 14]]\n",
      "After Shufflling multi-dimensional array\n",
      "[[12 13 14]\n",
      " [ 0  1  2]\n",
      " [ 6  7  8]\n",
      " [ 3  4  5]\n",
      " [ 9 10 11]]\n"
     ]
    }
   ],
   "source": [
    "# Code adjusted from: https://pynative.com/python-random-shuffle/\n",
    "# Import numpy as np\n",
    "import numpy as np\n",
    "print(\"Before Shufflling multi-dimensional array\")\n",
    "# b is defined with functions np.arange and reshape\n",
    "b = np.arange(15).reshape((5, 3))\n",
    "# Print b\n",
    "print(b)\n",
    "# Print (After Shuffling multi-dimentional array)\n",
    "print (\"After Shufflling multi-dimensional array\")\n",
    "# b_new is defined as np.random.shuffle\n",
    "b_new = np.random.shuffle(b)\n",
    "# Print b\n",
    "print(b)"
   ]
  },
  {
   "cell_type": "markdown",
   "metadata": {},
   "source": [
    "#### numpy.random.permutation(x)"
   ]
  },
  {
   "cell_type": "markdown",
   "metadata": {},
   "source": [
    "numpy.random.permutation function randomly permute a sequence, or return a permuted range. If x is a multi-dimensional array, it is only shuffled along its first index."
   ]
  },
  {
   "cell_type": "code",
   "execution_count": 181,
   "metadata": {},
   "outputs": [
    {
     "data": {
      "text/plain": [
       "array([[6, 7, 8],\n",
       "       [3, 4, 5],\n",
       "       [0, 1, 2]])"
      ]
     },
     "execution_count": 181,
     "metadata": {},
     "output_type": "execute_result"
    }
   ],
   "source": [
    "# b is defined with functions np.arange and reshape\n",
    "b = np.arange(9).reshape((3, 3))\n",
    "# Calling b\n",
    "np.random.permutation(b)"
   ]
  },
  {
   "cell_type": "markdown",
   "metadata": {},
   "source": [
    "Difference between shuffle and permutation functions:\n",
    "\n",
    "The functions shuffle and permutation both reshuffle the original array (that is, randomly disorder the original element order). The difference between these functions are:\n",
    "\n",
    "- Shuffle operates directly on the original array, changing the order of the original array, no return value.\n",
    "\n",
    "- Permutation does not operate directly on the original array, but instead returns a new shuffled array without changing the original array.\n",
    "\n",
    "More information can be found here: http://programmersought.com/article/42301751121/;jsessionid=A113BA7B1FC347E1462F95F1517A0197"
   ]
  },
  {
   "cell_type": "markdown",
   "metadata": {},
   "source": [
    "##### References (Section 1 and 2): \n",
    "\n",
    "- https://docs.scipy.org/doc/numpy-1.15.0/reference/routines.random.html#\n",
    "- https://docs.scipy.org/doc/numpy-1.13.0/reference/arrays.ndarray.html\n",
    "- https://scipy-lectures.org/intro/numpy/array_object.html\n",
    "- https://en.wikipedia.org/wiki/Random_permutation\n",
    "- https://www.geeksforgeeks.org/permutation-and-combination-in-python/ \n",
    "- https://pynative.com/python-random-shuffle/\n",
    "- http://programmersought.com/article/42301751121/;jsessionid=A113BA7B1FC347E1462F95F1517A0197"
   ]
  },
  {
   "cell_type": "markdown",
   "metadata": {},
   "source": [
    "## Section 3. Distribution functions "
   ]
  },
  {
   "cell_type": "markdown",
   "metadata": {},
   "source": [
    "Every time we are working with a dataset, our dataset represents some kind of a sample and using this sample, we need to understand its patterns so that we can make predictions based on them. Datasets are composed of two main types of data: Numerical (eg. integers), and categorical (eg. names). Based on that data it is possible to calculate some predictions like Probability Mass Functions and Probability Density Functions. There are many probability distributions, but in this work I will focus on 5 distributions that data scientists find most useful (https://www.kdnuggets.com/2019/07/5-probability-distributions-every-data-scientist-should-know.html). \n",
    "\n",
    "1. Poisson distribution\n",
    "2. Uniform distribution\n",
    "3. Binominal distribution\n",
    "4. Normal distribution\n",
    "5. Exponential distribution\n",
    "\n",
    "More information and plots about each distribution can be seen below.\n"
   ]
  },
  {
   "cell_type": "markdown",
   "metadata": {},
   "source": [
    "#### 1. Poisson distribution"
   ]
  },
  {
   "cell_type": "markdown",
   "metadata": {},
   "source": [
    "Poisson Distribution is applicable in situations where events occur at random points of time and space wherein our interest lies only in the number of occurrences of the event. It gives us the probability of a given number of events happening in a fixed interval of time. https://www.statisticshowto.datasciencecentral.com/poisson-distribution/\n",
    "\n",
    "The Poisson Distribution probability mass function gives the probability of observing k events in a time period given the length of the period and the average events per time:\n",
    "\n",
    "![alt text](poisson.png)\n",
    "\n",
    "Image shows Poisson distribution for probability of k events in time period.\n",
    "\n",
    "A distribution is called Poisson distribution when the following assumptions are valid:\n",
    "\n",
    "1. Any successful event should not influence the outcome of another successful event.\n",
    "2. The probability of success over a short interval must equal the probability of success over a longer interval.\n",
    "3. The probability of success in an interval approaches zero as the interval becomes smaller."
   ]
  },
  {
   "cell_type": "markdown",
   "metadata": {},
   "source": [
    "The Poisson distribution has the following characteristics:\n",
    "\n",
    "- It is a discrete distribution.\n",
    "- Each occurrence is independent of the other occurrences.\n",
    "- It describes discrete occurrences over an interval.\n",
    "- The occurrences in each interval can range from zero to infinity.\n",
    "- The mean number of occurrences must be constant throughout the experiment.\n",
    "\n",
    "https://www.onlinemathlearning.com/poisson-distribution.html\n",
    "\n",
    "In the next 2 examples I will show random.poisson distribution. We can see that the distribution changes as we change the first element in the function. In the first example most of the numbers are distributed around number 1, while in the second example most of the numbers are distributed around number 8. "
   ]
  },
  {
   "cell_type": "code",
   "execution_count": 182,
   "metadata": {},
   "outputs": [],
   "source": [
    "# Import numpy as np\n",
    "import numpy as np\n",
    "# I defined b as numpy random function using poisson distribution\n",
    "b = np.random.poisson(1, 1000)"
   ]
  },
  {
   "cell_type": "code",
   "execution_count": 183,
   "metadata": {},
   "outputs": [
    {
     "data": {
      "text/plain": [
       "array([1, 0, 1, 1, 1, 0, 1, 0, 0, 1, 0, 2, 2, 0, 0, 1, 3, 1, 0, 0, 0, 0,\n",
       "       1, 0, 1, 0, 0, 3, 2, 0, 2, 0, 1, 1, 0, 1, 0, 2, 1, 0, 1, 1, 0, 0,\n",
       "       0, 2, 1, 1, 1, 3, 0, 1, 3, 1, 0, 0, 0, 0, 1, 0, 2, 3, 0, 0, 1, 1,\n",
       "       0, 3, 0, 1, 2, 2, 2, 0, 1, 1, 0, 1, 0, 1, 1, 1, 0, 1, 1, 2, 1, 1,\n",
       "       0, 2, 0, 2, 2, 0, 1, 1, 1, 0, 1, 2, 1, 1, 0, 1, 1, 0, 0, 2, 1, 1,\n",
       "       2, 3, 4, 1, 1, 1, 0, 1, 1, 3, 1, 0, 0, 0, 2, 0, 3, 1, 0, 1, 2, 1,\n",
       "       2, 6, 1, 1, 1, 1, 1, 2, 2, 0, 0, 1, 1, 2, 0, 3, 1, 1, 1, 3, 1, 1,\n",
       "       1, 2, 2, 1, 3, 1, 1, 0, 1, 2, 2, 0, 1, 3, 0, 0, 2, 1, 3, 1, 0, 1,\n",
       "       1, 0, 1, 2, 1, 1, 0, 1, 1, 2, 2, 1, 3, 1, 2, 2, 0, 2, 1, 2, 2, 0,\n",
       "       0, 0, 0, 2, 0, 1, 0, 0, 0, 1, 2, 2, 2, 0, 0, 1, 0, 1, 1, 2, 2, 0,\n",
       "       2, 2, 1, 1, 0, 1, 0, 1, 0, 1, 1, 1, 1, 1, 1, 1, 1, 1, 3, 0, 1, 0,\n",
       "       0, 2, 0, 1, 0, 1, 0, 2, 0, 2, 2, 1, 2, 2, 3, 0, 0, 0, 2, 0, 1, 0,\n",
       "       0, 0, 2, 1, 2, 1, 2, 0, 2, 1, 1, 1, 2, 2, 0, 2, 0, 3, 2, 3, 1, 1,\n",
       "       0, 1, 2, 4, 0, 0, 0, 1, 0, 0, 1, 2, 0, 0, 0, 1, 0, 0, 0, 1, 0, 1,\n",
       "       3, 0, 2, 4, 0, 0, 0, 1, 2, 4, 0, 2, 1, 4, 0, 1, 2, 3, 0, 2, 0, 2,\n",
       "       1, 3, 0, 0, 1, 0, 2, 0, 3, 1, 0, 1, 0, 0, 2, 1, 0, 0, 2, 0, 0, 3,\n",
       "       2, 2, 2, 0, 1, 1, 2, 4, 2, 2, 1, 0, 4, 0, 0, 1, 0, 0, 0, 2, 0, 3,\n",
       "       0, 1, 2, 1, 0, 3, 1, 1, 0, 0, 2, 0, 0, 0, 0, 0, 1, 1, 3, 1, 1, 0,\n",
       "       2, 0, 0, 0, 1, 1, 3, 0, 0, 0, 1, 0, 0, 0, 1, 0, 1, 2, 1, 3, 0, 1,\n",
       "       1, 0, 0, 3, 2, 3, 2, 3, 4, 0, 1, 1, 2, 2, 0, 4, 0, 2, 1, 0, 1, 1,\n",
       "       0, 2, 1, 1, 1, 0, 2, 2, 1, 1, 2, 0, 0, 0, 0, 2, 2, 0, 1, 1, 4, 2,\n",
       "       2, 1, 3, 1, 3, 0, 0, 0, 0, 1, 1, 0, 1, 2, 1, 0, 1, 1, 1, 0, 0, 0,\n",
       "       0, 0, 1, 1, 3, 0, 0, 2, 0, 1, 2, 0, 1, 1, 1, 0, 1, 2, 0, 0, 3, 0,\n",
       "       2, 0, 0, 1, 0, 0, 1, 0, 1, 1, 2, 1, 1, 1, 1, 1, 0, 2, 1, 2, 0, 1,\n",
       "       1, 0, 1, 0, 0, 0, 0, 2, 1, 2, 1, 3, 0, 0, 0, 1, 1, 1, 5, 1, 4, 0,\n",
       "       1, 0, 1, 0, 1, 1, 1, 1, 1, 1, 2, 0, 1, 3, 2, 2, 0, 0, 0, 2, 1, 1,\n",
       "       0, 0, 0, 2, 2, 1, 1, 0, 1, 0, 0, 3, 1, 3, 1, 2, 1, 0, 0, 0, 3, 0,\n",
       "       0, 0, 1, 0, 1, 0, 1, 0, 1, 0, 2, 2, 2, 1, 0, 1, 0, 1, 0, 0, 1, 1,\n",
       "       1, 2, 0, 3, 1, 0, 0, 0, 1, 2, 1, 1, 1, 0, 3, 3, 2, 1, 1, 2, 2, 0,\n",
       "       1, 2, 1, 0, 1, 1, 0, 0, 0, 2, 0, 1, 1, 2, 0, 0, 0, 0, 3, 1, 0, 1,\n",
       "       1, 0, 1, 2, 0, 0, 0, 3, 1, 1, 3, 0, 2, 1, 0, 1, 1, 1, 2, 0, 0, 2,\n",
       "       1, 1, 1, 2, 0, 1, 0, 0, 1, 0, 0, 1, 0, 0, 2, 0, 0, 0, 2, 0, 1, 1,\n",
       "       0, 0, 0, 1, 3, 0, 0, 1, 1, 1, 0, 3, 1, 1, 0, 1, 1, 1, 0, 0, 0, 0,\n",
       "       0, 4, 1, 0, 0, 1, 0, 1, 2, 0, 0, 0, 1, 0, 0, 1, 0, 1, 2, 0, 0, 3,\n",
       "       0, 1, 1, 2, 0, 3, 0, 1, 0, 0, 1, 0, 1, 0, 3, 1, 1, 0, 3, 1, 0, 2,\n",
       "       1, 0, 0, 0, 1, 3, 0, 1, 2, 0, 1, 4, 0, 1, 1, 0, 1, 1, 1, 0, 5, 0,\n",
       "       2, 1, 0, 2, 1, 0, 2, 1, 1, 1, 1, 0, 0, 0, 1, 0, 3, 0, 1, 1, 1, 2,\n",
       "       1, 0, 3, 0, 1, 1, 0, 0, 1, 3, 0, 0, 1, 2, 2, 0, 2, 3, 1, 1, 0, 2,\n",
       "       1, 0, 0, 0, 0, 2, 0, 0, 0, 0, 1, 1, 3, 1, 1, 1, 0, 0, 0, 0, 1, 0,\n",
       "       0, 5, 1, 0, 0, 1, 1, 1, 3, 2, 1, 2, 1, 0, 0, 1, 0, 3, 1, 1, 0, 0,\n",
       "       1, 1, 0, 0, 0, 2, 0, 0, 1, 1, 0, 1, 3, 2, 0, 1, 0, 1, 2, 1, 0, 0,\n",
       "       1, 0, 1, 3, 0, 2, 0, 1, 0, 1, 2, 3, 1, 1, 1, 2, 1, 0, 0, 2, 0, 0,\n",
       "       1, 1, 1, 0, 1, 1, 0, 0, 1, 4, 2, 0, 2, 2, 0, 2, 1, 1, 2, 1, 1, 0,\n",
       "       2, 0, 2, 2, 2, 1, 1, 0, 0, 0, 0, 1, 0, 1, 0, 0, 0, 2, 2, 1, 0, 1,\n",
       "       2, 0, 0, 0, 0, 7, 1, 1, 0, 0, 2, 0, 0, 1, 0, 2, 3, 2, 1, 0, 0, 0,\n",
       "       0, 2, 0, 0, 1, 1, 1, 1, 0, 3])"
      ]
     },
     "execution_count": 183,
     "metadata": {},
     "output_type": "execute_result"
    }
   ],
   "source": [
    "# I called the function b\n",
    "b"
   ]
  },
  {
   "cell_type": "code",
   "execution_count": 184,
   "metadata": {},
   "outputs": [
    {
     "data": {
      "image/png": "[encoded data removed]",
      "text/plain": [
       "<Figure size 432x288 with 1 Axes>"
      ]
     },
     "metadata": {
      "needs_background": "light"
     },
     "output_type": "display_data"
    }
   ],
   "source": [
    "# Import matplotlib.pyplot as plt\n",
    "import matplotlib.pyplot as plt\n",
    "# Count and bins are ignores\n",
    "# b = np.random.poisson distributed in 8 collumns\n",
    "count, bins, ignored = plt.hist(b, 8, density=True)\n",
    "# Show the plot\n",
    "# Title of the plot\n",
    "plt.title(\"np.random.poisson\")\n",
    "plt.show()"
   ]
  },
  {
   "cell_type": "code",
   "execution_count": 185,
   "metadata": {},
   "outputs": [],
   "source": [
    "# Import numpy as np\n",
    "import numpy as np\n",
    "# I defined b as numpy random function using poisson distribution\n",
    "b = np.random.poisson(8, 1000)"
   ]
  },
  {
   "cell_type": "code",
   "execution_count": 186,
   "metadata": {},
   "outputs": [
    {
     "data": {
      "text/plain": [
       "array([ 9,  7, 12,  8,  6,  5,  6,  6,  9,  5,  9,  8,  6,  7, 11,  6, 10,\n",
       "        5,  2,  7,  6,  5,  9,  8,  7,  7,  7, 10,  7,  5,  7,  8,  4,  9,\n",
       "        5,  3,  7, 11,  6,  6,  9, 14,  8,  4,  9, 11,  6,  9, 11, 10,  9,\n",
       "        6,  8,  9, 14,  8, 13,  5,  6,  6, 10,  6,  6,  6,  7,  8, 10,  6,\n",
       "        4,  3, 11,  4, 12,  9,  7,  8,  7, 12,  8,  7,  8,  8,  7, 12,  2,\n",
       "        7,  6,  8,  2, 10,  4,  6,  8, 14,  5,  4,  6,  5,  5,  8,  8,  8,\n",
       "       11, 10, 10,  6,  5,  8,  9,  9,  6, 13,  7,  2,  7,  7,  8,  7,  8,\n",
       "        9,  8,  5,  6,  6,  2,  9,  5,  2, 16,  6, 10, 14, 10,  9, 10, 11,\n",
       "        5,  3,  7,  7,  7,  8, 10,  8, 10,  6,  4,  8,  9,  6,  6, 13,  9,\n",
       "       10,  5,  3, 10,  4, 10,  6,  8, 14, 12,  9,  7,  9,  8,  8,  6,  2,\n",
       "        7,  8, 11,  7,  5,  5,  9, 10, 12,  8,  6,  5, 10,  7,  9,  8,  4,\n",
       "       11, 10,  6,  7, 11,  8,  5,  8,  9,  6, 11,  9, 10,  8, 11,  6, 12,\n",
       "        5,  9, 12,  9, 10, 10, 15, 11, 11, 13,  8,  9,  5, 10, 11,  5,  5,\n",
       "        6, 10, 11,  6,  5,  7,  8,  9,  8,  8,  7, 13, 10,  7,  4,  9,  7,\n",
       "        6,  4,  5,  5, 10,  5,  5,  8, 11, 14,  6,  9, 10,  8,  7,  5, 11,\n",
       "        9,  9,  5, 12,  9,  6,  8,  9,  8,  6,  5,  7,  8,  6,  9,  8, 14,\n",
       "        8,  8, 12, 10,  7,  8,  6,  8,  6,  5,  7, 10,  7,  4,  8, 13,  7,\n",
       "        7, 10,  7,  9, 11,  8,  7,  7, 10,  4, 12, 12,  8,  5,  8, 11, 11,\n",
       "       14,  7,  6,  5, 13,  5,  6, 14, 12,  8, 13,  6,  5, 11,  8,  5,  7,\n",
       "        6, 15, 11,  4, 11,  4,  8,  7,  4,  8,  6,  8,  4,  7, 11,  9, 14,\n",
       "        8, 11,  6,  5,  6,  6,  4,  8, 10, 12, 10,  6, 11,  7,  5,  9,  6,\n",
       "        9,  8,  5,  8,  5,  3,  8,  8,  7,  4, 11,  8,  9,  5,  8,  7,  8,\n",
       "        6, 11,  6,  9,  5, 10,  5, 11,  9,  7,  6,  5,  6, 10, 10, 10,  4,\n",
       "        4,  5,  7,  5,  5,  3,  5, 11,  7,  9, 12,  7, 11, 10,  5,  9,  8,\n",
       "       11,  7,  5, 10,  5, 14,  5,  8,  4,  7,  7,  3, 10,  9,  8,  3,  5,\n",
       "        8,  8, 11, 12,  7,  9,  8,  9,  4, 14,  7,  9, 12,  7,  5,  9,  9,\n",
       "        8,  7, 10,  9, 12,  4,  5,  4, 11, 10,  5, 14,  4,  9, 10, 13, 11,\n",
       "        5,  9,  6,  9,  9,  3,  6,  5,  6,  8, 14,  6,  7,  7, 10, 14,  6,\n",
       "        7, 12,  9,  6, 11,  4,  9,  6,  5,  7,  8,  9, 10,  9,  9,  5,  5,\n",
       "        7,  2,  6,  9,  7,  9,  9,  9,  9,  7,  6,  7,  8,  7,  9, 11, 10,\n",
       "        9,  8,  3,  7,  8,  7,  4,  9,  9, 11,  5,  9, 13,  6,  5,  7,  8,\n",
       "        9, 10,  9,  8,  8,  9,  7,  9, 11, 10,  7,  4,  3,  6,  7,  4,  9,\n",
       "        6, 10, 11,  9,  5,  6,  9,  5,  8, 11,  9,  9,  6,  6, 12,  7,  6,\n",
       "        7, 14, 15,  7,  5,  6, 11,  9,  7,  5, 10,  5,  5,  9, 10,  6, 12,\n",
       "        4,  9, 12,  8,  9,  4,  5,  9,  7,  8, 12,  5,  7, 12,  8,  8,  8,\n",
       "       12, 12, 11,  5,  9, 10,  8,  9,  4,  9, 12,  9,  0,  7, 12,  7,  7,\n",
       "        5,  9, 10, 10, 13,  6,  6,  4,  5,  9,  6, 11,  6,  4, 10,  9,  9,\n",
       "        6,  6,  5,  7,  5,  8,  8,  8,  5,  7,  7,  9,  9, 12,  8,  8, 12,\n",
       "        7,  9, 10, 11,  2, 12, 13,  6, 14,  9, 13,  6, 10,  9,  6,  7, 14,\n",
       "        6,  2,  7, 10,  5,  4,  8,  8,  9, 12, 10,  9,  6, 10,  6, 14, 11,\n",
       "        9,  8,  7,  3,  5,  9,  5,  6,  6, 10, 11, 10, 11,  4, 11,  7,  6,\n",
       "        9, 12,  7, 12, 12,  5,  6,  7,  9,  4, 13,  8,  8,  4,  9,  6,  8,\n",
       "        7,  5,  7,  8,  7, 11,  6,  6,  7, 10,  3,  6, 15,  7,  6,  9,  7,\n",
       "       10,  9,  3,  6,  6, 16,  7,  6, 10,  8, 13,  2, 12,  9,  9, 12,  7,\n",
       "        6, 10, 12,  9,  2, 13, 10,  8,  4, 10,  8,  7, 12,  7,  6, 13,  8,\n",
       "        7,  8, 13,  2, 16,  8,  5,  8,  9,  3,  9, 10,  5,  7,  9, 10,  6,\n",
       "        7,  7,  6,  4, 15,  7,  5,  4,  5,  6,  9, 11, 10,  5,  8,  6, 10,\n",
       "        8, 10, 12,  7,  4,  4,  8, 13,  6, 11,  5, 13, 12,  7, 15,  6, 12,\n",
       "       13,  6, 11,  5, 11,  5,  5, 11,  7,  5,  7, 11,  6,  5,  9, 15,  7,\n",
       "        6,  9,  7,  4, 11, 10,  9,  8,  8,  7,  8,  5,  7,  9,  9, 11,  7,\n",
       "        6,  9,  4,  6,  8,  7,  4, 10,  9, 12,  8,  8,  5, 15, 12,  7, 10,\n",
       "       10,  9, 10,  6,  9,  9,  6,  7,  4,  7,  3,  6,  5, 14,  4, 12,  3,\n",
       "        9,  8, 10,  2, 10,  4,  9, 10,  7,  7,  7,  8,  6,  7,  7, 14,  8,\n",
       "        9, 11,  8, 10,  8,  5,  6,  9,  9, 16,  7, 12,  9,  9,  5,  9,  8,\n",
       "        6,  8,  4,  6,  6, 10,  6,  9, 10, 11,  9,  6,  6,  9,  3,  7,  7,\n",
       "       13,  9, 12,  5,  9, 10,  4, 12,  8,  9, 11,  7,  6,  6,  7,  7,  9,\n",
       "        5,  7,  5,  8, 13,  7,  8,  2,  7,  5,  9,  4, 12,  6, 10,  4,  3,\n",
       "        8,  6,  3,  9,  9,  8,  4,  8, 13,  3,  8,  6, 12,  9,  5,  6, 12,\n",
       "        8,  8,  7,  9, 10, 11,  8,  6, 12, 10,  5, 10, 11,  8])"
      ]
     },
     "execution_count": 186,
     "metadata": {},
     "output_type": "execute_result"
    }
   ],
   "source": [
    "b"
   ]
  },
  {
   "cell_type": "code",
   "execution_count": 187,
   "metadata": {},
   "outputs": [
    {
     "data": {
      "image/png": "[encoded data removed]",
      "text/plain": [
       "<Figure size 432x288 with 1 Axes>"
      ]
     },
     "metadata": {
      "needs_background": "light"
     },
     "output_type": "display_data"
    }
   ],
   "source": [
    "# Import matplotlib.pyplot as plt\n",
    "import matplotlib.pyplot as plt\n",
    "# Counts and bins are ignored\n",
    "# b is defined as numpy random function using poisson distribution\n",
    "count, bins, ignored = plt.hist(b, 8, density=True)\n",
    "# Show the title\n",
    "plt.title(\"Poisson distribution\")\n",
    "# Show the plot\n",
    "plt.show()"
   ]
  },
  {
   "cell_type": "markdown",
   "metadata": {},
   "source": [
    "#### 2. Uniform distribution"
   ]
  },
  {
   "cell_type": "markdown",
   "metadata": {},
   "source": [
    "When you roll a fair die, the outcomes are 1 to 6. The probabilities of getting these outcomes are equally likely and that is the basis of a uniform distribution. You can see that the shape of the Uniform distribution curve is rectangular, the reason why Uniform distribution is called rectangular distribution. For a Uniform Distribution, a and b are the parameters (https://www.analyticsvidhya.com/). As we can see from the example we have 100 elements in an interval from -1 to 0. All numbers had equal chance to be chosen. When we look at the plot below all columns are almost equal size. "
   ]
  },
  {
   "cell_type": "code",
   "execution_count": 188,
   "metadata": {},
   "outputs": [],
   "source": [
    "# Import numpy as np\n",
    "import numpy as np\n",
    "# I defined b as a numpy random.uniform function in a range from -1 to 0. It includes 100 elements\n",
    "b = np.random.uniform(-1,0,100)"
   ]
  },
  {
   "cell_type": "code",
   "execution_count": 189,
   "metadata": {},
   "outputs": [
    {
     "data": {
      "text/plain": [
       "array([-0.03224956, -0.45347817, -0.74275233, -0.75737533, -0.00163347,\n",
       "       -0.43292565, -0.78320037, -0.6225875 , -0.12239026, -0.21179651,\n",
       "       -0.16207091, -0.6913614 , -0.99470888, -0.54177788, -0.11059647,\n",
       "       -0.90579184, -0.68014575, -0.40934623, -0.74547996, -0.67581547,\n",
       "       -0.62575707, -0.29349163, -0.43372253, -0.22799221, -0.78716231,\n",
       "       -0.65358103, -0.32764064, -0.82982296, -0.85088776, -0.73736769,\n",
       "       -0.27768812, -0.49510842, -0.04994406, -0.85541112, -0.05774264,\n",
       "       -0.35837941, -0.86608402, -0.07471299, -0.83197413, -0.19899181,\n",
       "       -0.51073873, -0.36556783, -0.67959192, -0.63067689, -0.22597055,\n",
       "       -0.72984689, -0.52640422, -0.53887827, -0.25735733, -0.7595887 ,\n",
       "       -0.29882952, -0.85337844, -0.50081417, -0.21431886, -0.80382097,\n",
       "       -0.14968288, -0.34973693, -0.15951064, -0.92603052, -0.35014521,\n",
       "       -0.68634269, -0.56023845, -0.44430541, -0.4149862 , -0.2490659 ,\n",
       "       -0.79967739, -0.42336466, -0.10676999, -0.69037414, -0.25156612,\n",
       "       -0.75290029, -0.2237488 , -0.26019918, -0.34851002, -0.04595506,\n",
       "       -0.19464001, -0.21074015, -0.46064961, -0.24577028, -0.39985287,\n",
       "       -0.77921109, -0.46730515, -0.16368867, -0.25496056, -0.52046464,\n",
       "       -0.20820098, -0.10764156, -0.37180486, -0.41826541, -0.65620718,\n",
       "       -0.31712231, -0.96915096, -0.12112094, -0.98610763, -0.04450392,\n",
       "       -0.62977439, -0.77005912, -0.60965024, -0.22690658, -0.61012544])"
      ]
     },
     "execution_count": 189,
     "metadata": {},
     "output_type": "execute_result"
    }
   ],
   "source": [
    "# Call the function b\n",
    "b"
   ]
  },
  {
   "cell_type": "code",
   "execution_count": 190,
   "metadata": {},
   "outputs": [
    {
     "data": {
      "image/png": "[encoded data removed]",
      "text/plain": [
       "<Figure size 432x288 with 1 Axes>"
      ]
     },
     "metadata": {
      "needs_background": "light"
     },
     "output_type": "display_data"
    }
   ],
   "source": [
    "# Import matplotlib.pyplot as plt\n",
    "import matplotlib.pyplot as plt\n",
    "# Count and bins are ignored\n",
    "# I defined b as a numpy random.uniform function in a range from -1 to 0. It includes 100 elements\n",
    "count, bins, ignored = plt.hist(b, 8, density=True)\n",
    "# Linewidth is going to be red\n",
    "plt.plot(bins, np.ones_like(bins), linewidth=2, color='r')\n",
    "# Show the title\n",
    "plt.title(\"np.random.uniform\")\n",
    "# Show the plot\n",
    "plt.show()"
   ]
  },
  {
   "cell_type": "markdown",
   "metadata": {},
   "source": [
    "#### 3. Binominal distribution"
   ]
  },
  {
   "cell_type": "markdown",
   "metadata": {},
   "source": [
    "A distribution where only two outcomes are possible, such as success or failure, gain or loss, win or lose and where the probability of success and failure is same for all the trials is called a Binomial Distribution.\n",
    "Each trial is independent since the outcome of the previous toss doesn't determine or affect the outcome of the current toss. An experiment with only two possible outcomes repeated n number of times is called binomial. The parameters of a binomial distribution are n and p where n is the total number of trials and p is the probability of success in each trial.\n",
    "\n",
    "On the basis of the above explanation, the properties of a Binomial Distribution are\n",
    "\n",
    "Each trial is independent.\n",
    "There are only two possible outcomes in a trial- either a success or a failure.\n",
    "A total number of n identical trials are conducted.\n",
    "The probability of success and failure is same for all trials. (Trials are identical.)\n",
    " "
   ]
  },
  {
   "cell_type": "code",
   "execution_count": 191,
   "metadata": {},
   "outputs": [],
   "source": [
    "# Number of trials, probability of each trial\n",
    "n, p = 10, .5\n",
    "# B is defined as np.random binominal function\n",
    "b = np.random.binomial(n, p, 100)"
   ]
  },
  {
   "cell_type": "code",
   "execution_count": 192,
   "metadata": {},
   "outputs": [
    {
     "data": {
      "text/plain": [
       "array([6, 2, 4, 6, 4, 2, 3, 4, 5, 3, 5, 6, 7, 5, 6, 3, 6, 6, 5, 7, 4, 2,\n",
       "       6, 7, 7, 5, 1, 5, 5, 5, 5, 5, 5, 5, 6, 5, 6, 6, 4, 6, 8, 5, 5, 5,\n",
       "       4, 4, 3, 6, 5, 3, 7, 5, 9, 3, 4, 2, 6, 7, 5, 3, 6, 5, 5, 5, 6, 4,\n",
       "       7, 4, 7, 3, 4, 4, 4, 5, 4, 4, 6, 5, 5, 5, 3, 1, 7, 5, 3, 3, 3, 4,\n",
       "       4, 5, 2, 9, 6, 5, 4, 5, 6, 7, 7, 5])"
      ]
     },
     "execution_count": 192,
     "metadata": {},
     "output_type": "execute_result"
    }
   ],
   "source": [
    "# Result of flipping a coin 10 times, tested 1000 times.\n",
    "b"
   ]
  },
  {
   "cell_type": "markdown",
   "metadata": {},
   "source": [
    "Example taken from: https://docs.scipy.org/doc/numpy-1.15.0/reference/generated/numpy.random.binomial.html#numpy.random.binomial\n",
    "\n",
    "A real world example: a company drills 9 exploration wells, each with an estimated probability of success of 0.1. All nine wells fail. What is the probability of that happening?\n",
    "\n",
    "I will do 20,000 trials of the model, and count the number that generate zero positive results. As it can be seen from the result the probability of all nine wells failing is 38%. \n"
   ]
  },
  {
   "cell_type": "code",
   "execution_count": 193,
   "metadata": {},
   "outputs": [
    {
     "data": {
      "text/plain": [
       "0.38925"
      ]
     },
     "execution_count": 193,
     "metadata": {},
     "output_type": "execute_result"
    }
   ],
   "source": [
    "# Sum of zero positive results in the model of 20000 trials\n",
    "sum(np.random.binomial(9, 0.1, 20000) == 0)/20000."
   ]
  },
  {
   "cell_type": "markdown",
   "metadata": {},
   "source": [
    "#### 4. Normal distribution"
   ]
  },
  {
   "cell_type": "markdown",
   "metadata": {},
   "source": [
    "It represents the behavior of most of the situations in the universe. That is why it's called a “normal” distribution. The large sum of (small) random variables often turns out to be normally distributed, contributing to its widespread application. Any distribution is known as Normal distribution if it has the following characteristics:\n",
    "\n",
    "- The mean, median and mode of the distribution coincide.\n",
    "- The curve of the distribution is bell-shaped and symmetrical about the line x=μ.\n",
    "- The total area under the curve is 1.\n",
    "- Exactly half of the values are to the left of the center and the other half to the right.\n",
    "\n",
    "![alt text](nodis2.png)\n",
    "\n",
    "Image taken from: https://towardsdatascience.com/understanding-the-68-95-99-7-rule-for-a-normal-distribution-b7b7cbf760c2\n",
    "\n",
    "The normal distribution is commonly associated with the 68-95-99.7 rule which you can see in the image above. 68% of the data is within 1 standard deviation (σ) of the mean (μ), 95% of the data is within 2 standard deviations (σ) of the mean (μ), and 99.7% of the data is within 3 standard deviations (σ) of the mean (μ)."
   ]
  },
  {
   "cell_type": "code",
   "execution_count": 194,
   "metadata": {},
   "outputs": [],
   "source": [
    "# Import numpy as np\n",
    "import numpy as np\n",
    "# mu - Mean and sigma - standard deviation\n",
    "mu, sigma = 0, 0.1\n",
    "# b is defined as np.random normal distribution\n",
    "b = np.random.normal(mu, sigma, 1000)"
   ]
  },
  {
   "cell_type": "code",
   "execution_count": 195,
   "metadata": {},
   "outputs": [
    {
     "data": {
      "text/plain": [
       "array([-1.75892272e-02, -4.32455028e-02, -1.09280213e-02, -2.28327228e-01,\n",
       "       -3.56509973e-03, -8.61790592e-02, -9.14574922e-02, -4.93197968e-02,\n",
       "       -1.00263454e-01, -9.29060406e-02, -4.00463222e-02, -7.86997987e-02,\n",
       "        1.29050606e-01,  1.42315169e-02,  1.56481049e-03, -2.81780008e-02,\n",
       "        5.31850847e-02, -5.73349232e-02, -1.33877877e-02, -2.00939428e-01,\n",
       "        1.33056204e-01, -2.24491133e-01,  3.22416984e-02,  1.38682896e-01,\n",
       "       -2.00224570e-02, -1.30654290e-01, -2.06442600e-01,  9.60857692e-02,\n",
       "        1.53955123e-02, -1.68672594e-01,  5.59880966e-02, -1.70493500e-01,\n",
       "        1.73238667e-01, -8.69448846e-03, -5.06978716e-02, -9.86856549e-02,\n",
       "        9.39127906e-03, -1.03473369e-01, -2.53094593e-02,  9.05898927e-02,\n",
       "        1.61589917e-01, -9.90973381e-02, -1.69287139e-02, -1.87989866e-02,\n",
       "       -1.25381111e-02,  6.34398141e-03,  9.42174100e-02,  1.24683841e-01,\n",
       "        2.53683226e-02,  1.88470597e-01,  2.31787025e-01,  7.60699408e-02,\n",
       "       -1.88713113e-01,  1.73633460e-02,  2.87056262e-04, -5.30698201e-02,\n",
       "       -1.31741050e-01, -1.52330540e-01, -3.67353370e-02,  1.68673001e-01,\n",
       "       -2.36696704e-01,  2.41363170e-03, -6.64626942e-02, -1.52770744e-01,\n",
       "        6.27359925e-02,  8.02041918e-02,  5.68501266e-02,  1.56403197e-01,\n",
       "        1.61328845e-01, -1.41151121e-02, -1.02612827e-01,  5.59783396e-02,\n",
       "       -5.20174601e-02, -5.67680563e-02,  7.13281756e-03, -2.44655324e-02,\n",
       "       -8.66946845e-02,  3.01292616e-02,  1.78170292e-01, -2.30873205e-01,\n",
       "        4.03379419e-02,  1.38677713e-01, -1.79071308e-01,  4.26210579e-02,\n",
       "        8.14306153e-02,  1.25252560e-01, -1.29227086e-02, -1.63101096e-02,\n",
       "       -4.58135950e-03, -2.19587650e-01,  9.77907748e-03, -3.64044948e-02,\n",
       "       -4.61289925e-02, -5.69640551e-02,  3.48253285e-02, -1.53600102e-01,\n",
       "       -4.49825957e-02, -1.51509421e-01, -5.72764727e-02, -2.59455856e-03,\n",
       "       -6.38186008e-04,  2.37660114e-03,  5.60394666e-03,  4.04959828e-03,\n",
       "        6.09740420e-02, -7.99129788e-02,  5.93882624e-02,  4.77363455e-02,\n",
       "       -4.84961748e-02, -4.68998146e-03,  7.57439767e-02,  8.71713968e-02,\n",
       "        7.92137948e-02, -2.02323745e-02, -9.81055507e-03, -1.35221123e-01,\n",
       "       -1.01109842e-01, -6.65806600e-02,  1.10181220e-01,  6.99201500e-02,\n",
       "        1.63192217e-02, -6.16247070e-02,  2.25421277e-01,  3.46778804e-02,\n",
       "       -1.17758737e-01, -5.31226900e-02,  2.14242569e-02,  3.07023873e-02,\n",
       "       -9.55934297e-02, -6.40373135e-02,  4.24673057e-02,  8.85142138e-02,\n",
       "        1.02064836e-01, -9.59809554e-02,  1.12939861e-01, -1.21753510e-01,\n",
       "        1.02709721e-01,  3.07835650e-02, -1.07215106e-01,  3.65435372e-02,\n",
       "       -1.80473700e-01,  7.57040578e-02,  1.27458971e-01,  1.44598823e-01,\n",
       "        4.19881309e-02,  8.34247063e-02, -4.65846868e-02,  1.19544147e-02,\n",
       "        1.01433141e-03, -5.52852365e-02, -4.31374803e-02,  7.47509788e-03,\n",
       "       -4.46615407e-02,  9.81292702e-02,  2.16302495e-02, -2.91515122e-02,\n",
       "        7.74864655e-02, -9.58402027e-02, -2.00840253e-02, -4.78387192e-02,\n",
       "        1.66154415e-01,  1.13573914e-02,  1.22152143e-01, -4.69175763e-02,\n",
       "        3.32335302e-03,  4.97705833e-02, -1.44978564e-01,  7.13028594e-02,\n",
       "        1.55230941e-01, -2.28251979e-01, -7.17083131e-02,  8.27566077e-02,\n",
       "        8.34031795e-02, -7.10324790e-02,  6.43730896e-03, -2.08833258e-02,\n",
       "       -4.19161912e-02,  9.25026801e-02,  4.22046688e-02,  1.80460310e-02,\n",
       "        4.98084119e-02, -5.07562272e-02, -1.98195994e-02, -1.62459539e-02,\n",
       "        4.11501928e-02,  4.06646081e-02, -1.24556324e-01, -6.42136026e-02,\n",
       "        6.33458738e-03,  4.40500713e-02,  2.33831751e-02,  5.72317777e-02,\n",
       "        6.29923600e-02, -5.96102244e-02,  7.20647505e-02, -1.81165852e-02,\n",
       "       -3.17391590e-02, -3.84248169e-02,  7.28256547e-02,  9.47763209e-02,\n",
       "        1.30742870e-01,  5.01449604e-02, -1.27216369e-01,  8.27370017e-02,\n",
       "        8.22373622e-02,  1.04042962e-01,  4.92586631e-02,  2.14479376e-02,\n",
       "       -2.79457384e-03,  5.57230351e-02,  3.11644827e-02, -1.38370139e-01,\n",
       "       -1.95043848e-02, -1.52390067e-01,  3.62934759e-02,  1.11393374e-01,\n",
       "        1.44003169e-01,  2.44553553e-02,  4.64192349e-03, -6.27593313e-02,\n",
       "       -1.19245484e-01, -8.56406212e-02, -1.09113660e-02,  7.63793682e-02,\n",
       "        3.04337457e-02, -2.38707212e-02,  7.12457012e-02, -6.64782117e-02,\n",
       "        1.99221945e-02,  6.57921463e-02,  5.62624430e-02,  7.43360039e-02,\n",
       "        2.86415392e-02, -1.36244637e-01, -6.15155457e-02, -6.75433454e-03,\n",
       "        1.95930818e-02, -3.56978258e-03,  2.27757196e-02,  8.86983955e-02,\n",
       "        6.27818187e-02,  5.43171274e-02, -4.49431133e-02, -1.66773611e-01,\n",
       "        2.35247693e-03, -1.19018004e-01,  6.90766502e-02, -8.31457679e-02,\n",
       "       -8.80627809e-04, -1.85980779e-01, -1.72638057e-01, -1.31800196e-01,\n",
       "       -9.51180253e-03, -2.92044613e-02,  4.65523907e-02, -7.54830316e-02,\n",
       "        6.36145513e-03, -4.27994032e-03,  4.11608748e-02, -9.29360113e-02,\n",
       "        2.21271945e-02,  5.41548910e-02,  5.07370274e-02, -8.01807324e-02,\n",
       "        4.71691404e-02,  1.32450745e-02,  4.10526852e-02, -3.99598570e-02,\n",
       "        1.27397445e-01,  5.13859380e-02,  4.06803567e-02, -1.77417449e-03,\n",
       "       -1.13355292e-02, -1.20743242e-01, -2.74544847e-02, -5.84116335e-03,\n",
       "        3.64806044e-03,  3.13258406e-02, -2.31045959e-01,  4.94765744e-02,\n",
       "       -5.17319098e-02,  9.51587103e-03, -1.74787986e-01, -4.47626163e-02,\n",
       "       -1.12585634e-01, -1.20892381e-01, -4.57716901e-03,  1.20950332e-01,\n",
       "        2.07020789e-02,  1.29443752e-02, -3.17926647e-01, -1.00258473e-01,\n",
       "        1.64137947e-01,  1.09138956e-01,  1.45909512e-01,  6.11056284e-02,\n",
       "        1.72290201e-01, -4.30782544e-02, -1.24552169e-01, -1.63769055e-02,\n",
       "       -6.38538851e-02,  1.51581618e-01, -4.81626038e-02,  5.83305789e-02,\n",
       "        1.23286906e-01, -4.72318712e-02,  4.52016571e-02,  1.34595703e-02,\n",
       "        1.10168565e-01,  6.82007793e-02, -7.87477472e-02, -1.52378561e-01,\n",
       "       -1.34925650e-02,  8.20397988e-02, -1.71578442e-01, -1.86871983e-01,\n",
       "        4.94792209e-02, -6.21249907e-03,  1.04010071e-01, -7.49518792e-03,\n",
       "        8.18642598e-02, -4.67327029e-02,  3.87285333e-02, -1.28775414e-01,\n",
       "        7.17040234e-02, -2.81686615e-01,  1.29438604e-01,  9.48406799e-02,\n",
       "       -2.97169270e-01, -8.73794924e-02,  1.60256724e-01,  2.38864846e-02,\n",
       "       -5.93272993e-02, -3.47264574e-02,  1.30421713e-02,  1.91274377e-01,\n",
       "       -6.18529156e-02,  3.46740863e-02, -1.04536330e-01,  2.74441469e-02,\n",
       "        1.56395684e-01, -1.84481629e-02, -1.21689160e-01,  6.02838603e-02,\n",
       "       -1.03979166e-01, -9.21370539e-02, -7.11768118e-02, -4.79942420e-02,\n",
       "       -7.33962783e-02,  2.00879205e-02,  1.10153447e-01,  2.06522817e-01,\n",
       "        5.18397528e-02, -6.40514533e-02, -1.31282097e-02, -6.77983050e-03,\n",
       "       -5.50445696e-02, -1.23184956e-01,  2.47829820e-02,  6.46037062e-02,\n",
       "       -1.12647048e-02, -1.35369058e-02, -1.08414716e-01,  2.04874010e-01,\n",
       "        2.20006060e-01, -4.62004538e-02,  9.48807009e-02,  5.81656965e-02,\n",
       "       -1.28281111e-01, -3.71896957e-03, -1.87852074e-01, -7.76997042e-02,\n",
       "        7.67706877e-02,  1.47001234e-02, -2.24063847e-03,  6.05371410e-02,\n",
       "       -5.83050550e-02, -1.48340435e-01,  2.11049195e-02, -1.00671861e-01,\n",
       "       -2.45343602e-01, -1.16020426e-01,  2.15581391e-01,  2.06697725e-01,\n",
       "       -6.27775974e-03, -3.95316286e-02, -7.55986535e-02, -3.15226947e-02,\n",
       "        1.76525601e-01,  6.04827345e-02, -1.21236409e-01, -8.50050255e-02,\n",
       "        1.03409932e-01,  5.41929602e-02,  2.59672075e-02,  1.23466356e-01,\n",
       "        6.24739129e-02,  3.37299608e-02, -3.67498647e-02,  2.40304150e-01,\n",
       "       -1.86978448e-02,  1.22782656e-01,  1.73317544e-01,  2.36735894e-01,\n",
       "       -6.86568394e-02,  1.30613401e-01, -5.16864010e-02, -1.28298990e-01,\n",
       "       -1.52178912e-02, -1.84087035e-01, -7.37241743e-02,  9.17181341e-02,\n",
       "        2.34499487e-01,  7.59046360e-02,  6.11396534e-02, -1.68124176e-01,\n",
       "        1.18680854e-01, -2.80485718e-02, -5.22133931e-02,  4.94575305e-02,\n",
       "        1.05421542e-02,  3.24678613e-02,  9.09350745e-02, -1.70289345e-01,\n",
       "       -2.13908342e-01,  1.09309559e-01, -8.09827514e-02,  5.68504731e-02,\n",
       "        3.18605036e-02, -1.13401692e-01, -1.38154778e-01,  9.68561201e-02,\n",
       "        1.30571997e-01,  1.56029627e-01, -5.50503642e-02, -2.01782676e-02,\n",
       "        1.49497007e-01, -2.20249963e-01, -7.14706377e-02,  1.48918274e-02,\n",
       "        9.47144505e-02, -1.10168107e-01,  2.45387752e-02,  8.01717397e-02,\n",
       "        1.12511064e-01,  3.76842004e-02,  9.43005970e-03, -1.80025486e-02,\n",
       "       -2.61513102e-01, -1.46335466e-03, -7.81475233e-02, -7.71910264e-02,\n",
       "       -1.27689692e-01,  1.69149470e-02, -1.94073735e-03, -1.35706358e-02,\n",
       "        1.24130586e-01, -9.05348763e-02, -9.24572029e-02, -3.38160274e-02,\n",
       "       -2.53355592e-02,  3.40487849e-02, -2.09362465e-01,  1.11033752e-02,\n",
       "        1.77056930e-02, -5.95094169e-02, -2.30617051e-03,  4.12665764e-03,\n",
       "       -1.32870526e-01,  9.83055511e-02, -2.69440522e-02,  1.97483885e-01,\n",
       "        2.70964460e-02, -5.54079989e-02, -7.59401305e-02,  1.99756349e-01,\n",
       "       -1.45021979e-01, -5.32306825e-02, -8.05880001e-02, -7.34529122e-02,\n",
       "       -1.88122279e-01,  3.33119986e-02,  1.58686473e-02, -1.98913613e-02,\n",
       "        1.69218942e-02,  7.10216554e-02,  2.49996651e-02, -3.78712323e-03,\n",
       "        1.16786465e-01, -1.44804430e-01, -3.90767398e-02,  2.78874320e-02,\n",
       "        1.78069336e-02, -1.04373911e-01, -1.64366184e-02, -2.20745180e-01,\n",
       "        1.44700782e-01, -9.01497383e-02,  1.29303501e-01, -2.08697788e-01,\n",
       "       -9.98464650e-02, -5.33003943e-02, -6.64055936e-02,  8.49536326e-02,\n",
       "       -1.01873400e-01,  7.27939608e-02, -1.32074983e-01,  8.23500837e-02,\n",
       "       -4.50833710e-02,  1.10697934e-01,  1.39484755e-01, -9.01136481e-02,\n",
       "       -7.17524833e-02, -1.66078506e-01,  4.71085345e-02,  2.77737496e-03,\n",
       "        1.64640857e-01,  8.37359999e-02,  1.21478288e-01, -1.33744403e-02,\n",
       "        7.10604720e-02,  1.02047483e-01, -1.35128877e-01, -2.73203704e-02,\n",
       "       -1.94571473e-01, -1.95653349e-01, -8.75461147e-02, -1.02353305e-01,\n",
       "       -3.97285157e-02, -6.92171130e-02,  1.15220280e-02, -4.62740815e-02,\n",
       "       -9.97253023e-02, -1.25630844e-01,  6.33327674e-03,  6.80110558e-04,\n",
       "       -9.57130288e-02, -5.46089509e-02, -3.11379615e-02,  8.24149476e-02,\n",
       "       -1.41032695e-01, -1.24196118e-01, -5.56561671e-03,  6.66932380e-04,\n",
       "        1.34909425e-01,  7.57655106e-02, -1.65360485e-01,  1.56990399e-01,\n",
       "        1.53218893e-01,  1.37509172e-01,  1.37438892e-02, -6.53366438e-02,\n",
       "       -1.68592669e-02, -4.86524713e-02, -2.24775896e-02, -1.18212863e-01,\n",
       "       -1.09984841e-01, -4.10976147e-02, -1.21633721e-01, -7.66362647e-02,\n",
       "       -1.07174278e-01, -3.70720244e-02, -4.48165305e-02,  3.67203834e-02,\n",
       "        1.03088624e-02, -3.69585400e-01, -1.19971937e-02, -1.77821018e-01,\n",
       "       -2.27581337e-02,  3.61741115e-02,  4.66103191e-02,  1.73573978e-02,\n",
       "       -6.54848254e-02,  1.06850966e-02,  4.62785773e-02,  3.02141611e-02,\n",
       "       -8.58847476e-02,  1.01503218e-01, -3.69019127e-02,  3.72212088e-02,\n",
       "       -9.39636815e-03, -4.35616573e-02,  2.02181996e-02,  5.42690566e-02,\n",
       "        1.59378447e-02, -1.29492871e-01, -1.54616699e-01, -1.88568416e-02,\n",
       "       -1.65595701e-02,  2.00840465e-01, -1.51194065e-01,  3.97789831e-02,\n",
       "       -6.45391198e-02, -6.97716353e-02,  1.04026360e-01,  4.96073542e-02,\n",
       "       -3.33529983e-02,  1.39075964e-01,  1.66984023e-01, -1.98660982e-02,\n",
       "       -5.58165945e-02, -1.14353681e-01,  1.74362756e-01,  2.06969416e-02,\n",
       "        3.83157223e-02, -1.46592190e-01, -6.73226427e-03, -5.44025442e-02,\n",
       "       -1.45648055e-01, -1.29839244e-02,  6.90888778e-02, -7.43414271e-02,\n",
       "        1.87101007e-02,  5.45210127e-03,  1.31154258e-01, -2.05874888e-02,\n",
       "       -4.75410910e-02, -9.38024744e-02, -5.17324227e-02,  4.70909325e-02,\n",
       "        8.52713084e-02, -2.65305564e-02, -1.35319412e-02,  9.20183917e-02,\n",
       "       -4.79875580e-02, -6.00753806e-02, -4.15619033e-02, -7.76898339e-02,\n",
       "       -3.06373457e-02,  9.69451817e-02,  7.14481614e-02,  4.37096664e-02,\n",
       "        2.37322467e-02, -7.29500916e-03,  1.35322076e-01, -7.13888777e-02,\n",
       "        6.27727594e-02, -2.47574545e-01, -1.28160700e-01, -7.51134679e-02,\n",
       "        2.07612772e-01,  7.00927662e-02,  4.00185447e-02,  2.18223715e-01,\n",
       "       -1.23974882e-01, -1.31796873e-01, -7.52796205e-02,  9.67351684e-02,\n",
       "       -1.69887402e-02,  3.35929606e-02,  7.99471781e-02,  3.89480882e-03,\n",
       "       -3.59509461e-02,  2.79223711e-02, -6.44022978e-02, -1.95188257e-01,\n",
       "       -5.51269961e-02, -1.39434227e-01,  1.37506193e-01,  8.92773378e-02,\n",
       "        1.11717085e-01,  8.01490173e-02,  6.24401906e-02,  1.14949661e-01,\n",
       "        2.54135232e-01, -1.39882506e-02, -7.18286660e-02,  2.51707904e-03,\n",
       "        5.07032286e-02, -9.41372482e-02, -3.37774316e-02, -2.00633981e-01,\n",
       "        1.15787750e-01, -2.26034390e-02, -9.26168868e-03,  1.47057548e-01,\n",
       "        1.46417090e-01,  1.95810223e-02, -5.96835360e-02,  6.40001580e-02,\n",
       "       -1.19039522e-01,  1.37069447e-01, -1.70416908e-01, -1.98784430e-02,\n",
       "       -1.69227571e-01,  7.65580765e-02,  3.08766028e-02,  4.42662105e-03,\n",
       "       -8.94179639e-02, -1.36376736e-01,  1.74238288e-02, -4.47447821e-02,\n",
       "        7.94734308e-02, -6.74897565e-02, -6.39893469e-02,  1.10667481e-01,\n",
       "        2.61216034e-02,  4.77699499e-02,  1.04038396e-02,  1.84479483e-01,\n",
       "       -4.99690381e-03, -1.22869246e-02,  1.96483216e-01, -4.99830214e-02,\n",
       "        2.31617397e-02, -8.91232768e-03,  1.03812435e-01, -3.29612979e-01,\n",
       "       -3.36793301e-03, -1.28298209e-01, -9.16887009e-02,  5.38031130e-02,\n",
       "        6.78338077e-03,  3.80561109e-02, -1.99875125e-02,  6.35390481e-02,\n",
       "       -2.19780315e-01, -7.11859643e-02, -7.63634939e-02, -2.48398941e-02,\n",
       "        7.60981263e-02, -2.16147765e-01, -7.91915795e-02, -3.69561605e-02,\n",
       "       -1.75497325e-01, -8.60799189e-03,  9.58610716e-02,  1.30975893e-01,\n",
       "        1.14555600e-01, -8.22449844e-02, -1.32947838e-01, -4.00698642e-03,\n",
       "       -2.41373537e-01,  1.38221619e-01,  3.01296851e-02,  7.23836573e-02,\n",
       "        4.74260442e-02,  8.46012228e-02,  1.65700949e-01, -7.89913924e-02,\n",
       "        2.40913706e-02, -1.05798745e-01,  2.44354021e-01,  4.02400442e-02,\n",
       "        6.17969263e-02,  1.05863900e-02, -3.33054620e-02, -2.30889959e-01,\n",
       "        5.64557923e-02, -1.62887964e-02, -6.71557958e-02,  7.26956005e-02,\n",
       "       -4.04753249e-03,  1.50253637e-01,  1.22447987e-01, -7.95876107e-02,\n",
       "        1.08927822e-01, -1.03255345e-01, -9.93055156e-02, -1.03119076e-01,\n",
       "        1.32429959e-01,  1.27777405e-01, -5.56487308e-02, -7.36969362e-02,\n",
       "        1.84480420e-01, -8.05659751e-02,  1.46437802e-02, -8.41480193e-02,\n",
       "       -1.12546827e-01,  3.49957646e-02,  1.79658219e-01,  5.39652006e-02,\n",
       "        1.05910501e-01,  1.15166710e-01,  4.24921956e-02, -1.63707337e-02,\n",
       "        6.11080442e-02, -1.54396868e-02, -1.72927712e-01, -1.03272432e-02,\n",
       "        1.98417388e-01,  5.09302246e-02,  1.38750517e-02, -1.49371679e-01,\n",
       "        7.10362671e-02,  6.53691498e-02,  2.12912021e-02, -8.52414656e-02,\n",
       "       -5.76932160e-02,  7.23601746e-02,  1.33672427e-01, -1.38776113e-01,\n",
       "       -8.26210034e-02, -2.67086529e-02,  1.24480889e-01,  1.74567523e-02,\n",
       "        1.65399856e-01, -6.84590526e-02, -1.57375349e-02,  1.21652294e-02,\n",
       "       -2.55280454e-02, -1.71368866e-01,  2.61520556e-02, -4.81934457e-02,\n",
       "        7.29201444e-02,  1.78585943e-01,  2.55248589e-02,  8.53174543e-03,\n",
       "        1.23237921e-01,  3.05706371e-02, -3.87811327e-02,  1.94526243e-01,\n",
       "       -4.06444370e-02,  2.52889698e-02, -5.32057938e-02,  6.28319369e-02,\n",
       "       -4.94929152e-02, -3.71719412e-02,  5.46062408e-02, -7.92331868e-03,\n",
       "        9.88291279e-02, -6.12336598e-02,  2.32575228e-02,  8.57222238e-02,\n",
       "        4.08292847e-02,  3.97033710e-02,  1.24264279e-02,  4.34023558e-02,\n",
       "        9.45165228e-02, -8.95379618e-02,  2.68719224e-02, -1.33942769e-01,\n",
       "       -1.55708890e-01,  5.69807591e-02,  1.09397244e-01,  1.56543244e-02,\n",
       "        1.98624804e-01,  2.61095851e-01,  1.08539630e-01,  1.32395448e-03,\n",
       "        2.09503607e-01, -8.06358793e-03,  6.81759501e-02, -2.99181174e-02,\n",
       "        1.58125699e-01,  2.24794653e-01, -3.27223174e-02,  7.06574094e-02,\n",
       "        1.24672410e-01, -1.91167100e-01,  1.38266074e-01, -1.11843657e-01,\n",
       "       -2.64321292e-03, -5.38869383e-02, -7.09825712e-02, -7.55590263e-02,\n",
       "        1.79946106e-01,  3.52647483e-02,  2.79116559e-04,  5.29133112e-02,\n",
       "        2.84514439e-02, -5.63778441e-02, -2.15439775e-02, -9.47045854e-02,\n",
       "        3.97906063e-02,  2.88187934e-02,  1.39050004e-01, -2.60432822e-02,\n",
       "        5.85026379e-02, -8.72383061e-03,  8.24628531e-02,  6.05108690e-02,\n",
       "        1.36501224e-01,  5.28502825e-02, -1.00010943e-02,  6.96466022e-02,\n",
       "        1.09562294e-01,  2.13843772e-02,  6.08184164e-03, -8.88891009e-03,\n",
       "        2.10835067e-02,  1.23006785e-02, -1.56509446e-01, -1.64609515e-01,\n",
       "       -1.34480716e-01,  9.41212834e-02,  1.15710228e-01, -1.26697536e-02,\n",
       "       -3.04122254e-02,  3.28178318e-02,  6.36327662e-02,  9.34088954e-02,\n",
       "        1.31605303e-01, -1.96829221e-02, -1.39622304e-01,  1.09530301e-01,\n",
       "       -7.52476486e-03,  8.29367138e-03, -2.21534387e-02, -1.18691951e-01,\n",
       "        1.53483146e-01,  1.41142223e-01,  5.32467958e-02,  7.49385132e-02,\n",
       "       -6.49918089e-02, -2.69215909e-02, -1.54006286e-03, -9.61417827e-02,\n",
       "        2.13055465e-02,  5.40495512e-02, -2.04111892e-01, -3.68012406e-02,\n",
       "        6.75987160e-02, -1.32230172e-02,  5.17439329e-03, -1.39897419e-02,\n",
       "       -3.84239096e-02, -8.89461357e-02,  2.98061857e-02,  1.29527696e-01,\n",
       "        1.29332305e-01,  9.17557021e-02, -7.92200904e-02, -8.52535085e-02,\n",
       "       -8.53786608e-02, -2.59657553e-04,  6.22977401e-02,  1.87119211e-02,\n",
       "       -1.74310068e-02, -4.49100080e-02, -1.66238078e-01, -3.41590775e-02,\n",
       "       -3.47245799e-04,  1.33553804e-01, -7.15239695e-02,  5.77860352e-02,\n",
       "       -2.96807524e-02, -7.63187072e-02,  6.14225220e-02, -1.85387939e-02,\n",
       "       -1.57847938e-01,  4.78966405e-02, -8.05019219e-03,  3.15858937e-02,\n",
       "        1.29517262e-01,  3.67371460e-03, -8.76595109e-03,  6.87230620e-02,\n",
       "       -7.72604408e-02,  7.80198139e-02,  6.86056584e-02, -6.54985509e-02,\n",
       "       -8.03639993e-02,  1.90815370e-02, -1.61138454e-01,  1.00284077e-01,\n",
       "       -1.37633638e-01,  1.67060686e-01,  1.88209668e-02,  5.53305088e-02,\n",
       "        8.01116732e-02,  6.68088456e-02, -3.21599977e-02,  6.59994808e-02,\n",
       "        8.36905559e-02, -1.99081593e-02,  1.78513986e-01, -9.11680230e-02,\n",
       "       -8.28173294e-02,  1.73859146e-03,  1.66518897e-01, -7.14126758e-02,\n",
       "        3.15580127e-02,  7.64164908e-02,  1.45819892e-01, -5.76208532e-02,\n",
       "       -3.71425009e-03, -3.96473159e-02, -4.46941809e-02,  6.49435342e-02,\n",
       "       -7.50483833e-02,  4.34422955e-02,  4.73291079e-02,  9.41501913e-02,\n",
       "       -1.13994924e-02, -1.74188904e-01,  1.49527458e-02, -1.46761019e-01,\n",
       "       -1.36392079e-01, -1.73993485e-01,  4.19090463e-02,  1.09864973e-01,\n",
       "       -4.35161100e-02,  1.75318179e-01, -1.82292507e-01, -4.90636522e-02,\n",
       "        4.03154611e-02, -1.07486955e-01,  1.03185818e-01,  1.73631742e-01])"
      ]
     },
     "execution_count": 195,
     "metadata": {},
     "output_type": "execute_result"
    }
   ],
   "source": [
    "# Call b\n",
    "b"
   ]
  },
  {
   "cell_type": "code",
   "execution_count": 196,
   "metadata": {},
   "outputs": [
    {
     "data": {
      "image/png": "[encoded data removed]",
      "text/plain": [
       "<Figure size 432x288 with 1 Axes>"
      ]
     },
     "metadata": {
      "needs_background": "light"
     },
     "output_type": "display_data"
    }
   ],
   "source": [
    "# Import matplotlib.pyplot as plt\n",
    "import matplotlib.pyplot as plt\n",
    "# Count and bins are ignored\n",
    "# b is defined as np.random normal distribution\n",
    "count, bins, ignored = plt.hist(b, 30, density=True)\n",
    "plt.plot(bins, 1/(sigma * np.sqrt(2 * np.pi)) *\n",
    "               np.exp( - (bins - mu)**2 / (2 * sigma**2) ),\n",
    "         # Linewidth is going to be in red colour\n",
    "         linewidth=2, color='r')\n",
    "# Show the title\n",
    "plt.title(\"np.random normal distribution\")\n",
    "# Show the plot\n",
    "plt.show()"
   ]
  },
  {
   "cell_type": "markdown",
   "metadata": {},
   "source": [
    "#### 5. Exponential distribution"
   ]
  },
  {
   "cell_type": "markdown",
   "metadata": {},
   "source": [
    "Exponential Distribution is used to model the time taken between the occurrence of different events. The exponential distribution is one of the extensively used continuous distributions and it is strictly related to the Poisson distribution.Its probability density function is:\n",
    "\n",
    "![alt text](exponential.png)"
   ]
  },
  {
   "cell_type": "markdown",
   "metadata": {},
   "source": [
    "A continuous random variable x (with scale parameter λ > 0) is said to have an exponential distribution only if its probability density function can be expressed by multiplying the scale parameter to the exponential function of minus scale parameter and x for all x greater than or equal to zero, otherwise the probability density function is equal to zero. More information about exponential distribution get here: https://www.wallstreetmojo.com/exponential-distribution/\n",
    "\n",
    "We should use exponential distribution when:\n",
    "\n",
    "- You have a lot of events going.\n",
    "- They happen at a certain rate (which does not change over time).\n",
    "- Just because one happened the chances of another one happening don't change.\n",
    "\n",
    "https://www.kdnuggets.com/2019/07/5-probability-distributions-every-data-scientist-should-know.html"
   ]
  },
  {
   "cell_type": "markdown",
   "metadata": {},
   "source": [
    "A real life example for exponential distribution: \n",
    "\n",
    "As I mentioned before, exponential distribution measures time taken between occurrence of two events. As an example, we could imagine we work at a restaurant and we want to predict what is going to be the time interval between different customers coming to the restaurant. According to https://towardsdatascience.com/ using an Exponential Distribution for this type of problem, could be the perfect place where to start the analysis. "
   ]
  },
  {
   "cell_type": "markdown",
   "metadata": {},
   "source": [
    "![alt text](exp1.png)"
   ]
  },
  {
   "cell_type": "markdown",
   "metadata": {},
   "source": [
    "Image taken from: https://en.wikipedia.org/wiki/Exponential_distribution"
   ]
  },
  {
   "cell_type": "markdown",
   "metadata": {},
   "source": [
    "## Section 4. The use of seeds"
   ]
  },
  {
   "cell_type": "markdown",
   "metadata": {},
   "source": [
    "As I have mentioned before computers can't produce random numbers itself, they need human help. That is the reason why random numbers are deterministic which means that they operate by a set of rules, and we call them pseudorandom numbers. The pseudorandom number generator is a mathematical function that generates a sequence of nearly random numbers. It takes a parameter to start off the sequence, called the seed. As the function is deterministic, the same seed will produce the same sequence of numbers every time. https://yourbasic.org/algorithms/random-number-generator-seed/\n",
    "\n",
    "> ###### \"A random seed specifies the start point when a computer generates a random number sequence. This can be any number, but it usually comes from seconds on a computer system's clock (Henkemans & Lee, 2001).\" \n",
    "\n",
    "Quote taken from:https://www.statisticshowto.datasciencecentral.com/random-seed-definition/\n",
    "\n",
    "Generally, the seed value is the previous number generated by the generator. However, when the first time you use the random generator, there is no previous value. So by-default current system time is used as a seed value.  The random module uses the seed value as a base to generate a random number.https://pynative.com/python-random-seed/ \n",
    "\n",
    "Syntax of random.seed()\n",
    "\n",
    "If the seed=None,  then by default, current system time is used. If seed value is in the form of an integer it is used as it is. This method is called when RandomState is initialized. It can be called again to re-seed the generator. RandomState exposes a number of methods for generating random numbers drawn from a variety of probability distributions. In addition to the distribution-specific arguments, each method takes a keyword argument size that defaults to None.\n",
    "\n",
    "- If size is None, then a single value is generated and returned.\n",
    "- If size is an integer, then a 1-D array filled with generated values is returned. \n",
    "- If size is a tuple, then an array with that shape is filled and returned.\n",
    "\n",
    "https://docs.scipy.org/doc/numpy-1.16.0/reference/generated/numpy.random.RandomState.html#numpy.random.RandomState\n",
    "\n",
    "I will show an example which generates the same output every time using random.seed()\n",
    "\n"
   ]
  },
  {
   "cell_type": "code",
   "execution_count": 197,
   "metadata": {},
   "outputs": [
    {
     "name": "stdout",
     "output_type": "stream",
     "text": [
      "Random number with seed 30\n",
      "first -  59\n",
      "Second -  59\n",
      "Third -  59\n"
     ]
    }
   ],
   "source": [
    "# Code adjusted from:https://pynative.com/python-random-seed/\n",
    "# Import random library\n",
    "import random\n",
    "# print \"Random number with seed 30\"\n",
    "print (\"Random number with seed 30\")\n",
    "# Random seed is set to 30\n",
    "random.seed( 30 )\n",
    "# Print \"first -\"\n",
    "# Random integer in interval from 25 to 60\n",
    "print (\"first - \", random.randint(25,60))\n",
    "\n",
    "# It will generate a same random number as previous, because the seed is set to 30 \n",
    "random.seed( 30 )\n",
    "# Print \"Second -\"\n",
    "# Random integer in interval from 25 to 60\n",
    "print (\"Second - \", random.randint(25,60))\n",
    "\n",
    "# It will generate a same random number as previous, because the seed is set to 30\n",
    "random.seed( 30 )\n",
    "# Print \"Third -\"\n",
    "# Random integer in interval from 25 to 60\n",
    "print (\"Third - \", random.randint(25,60))"
   ]
  },
  {
   "cell_type": "markdown",
   "metadata": {},
   "source": [
    "As it is shown in the example above we can see 3 outputs with the number 59. In all 3 situations the seed was 30 which means the output was the same although radint function was called in 3 situations. Random.radint function returns random integers from low (inclusive) to high (exclusive) which means that all integers from 25 to 50 (not included) could be returned as output with the seed 30, but in all three situations we got the same output (59)"
   ]
  },
  {
   "cell_type": "code",
   "execution_count": 198,
   "metadata": {},
   "outputs": [
    {
     "name": "stdout",
     "output_type": "stream",
     "text": [
      "Random number with seed 30\n",
      "First -  59\n",
      "Second -  43\n",
      "Third -  59\n"
     ]
    }
   ],
   "source": [
    "# Code adjusted from: https://pynative.com/python-random-seed/\n",
    "# Import random library\n",
    "import random\n",
    "# Print \"Random number with seed 30\"\n",
    "print (\"Random number with seed 30\")\n",
    "# First call of random.seed function\n",
    "random.seed( 30 ) \n",
    "# Print \"First -\"\n",
    "# Random.randint function in a range from 25 to 60\n",
    "print (\"First - \", random.randint(25,60))\n",
    "# Print \"Second -\"\n",
    "# Generate a different random number as previous value is used as a seed\n",
    "print (\"Second - \", random.randint(25,60))\n",
    "# It will generate a same random number as first one because seed value is also set to 30.\n",
    "random.seed( 30 ) \n",
    "# Print \"Third -\"\n",
    "# Third call of random.randint function\n",
    "print (\"Third - \", random.randint(25,60))"
   ]
  },
  {
   "cell_type": "markdown",
   "metadata": {},
   "source": [
    "In the example above we can see that the second output is different because the first output (59) is taken as a seed in the second call. The seed in second case was 59 and that number used as a seed generated different output (43). It the second case function random.seed( 30 ) is omitted and then by default previous output was used as a seed. In this example I used randint function to generate random integers, but other functions can be used as well, for example, random.choice, or random.sample.\n",
    "\n",
    "In this work we have seen in several occasions that there are algorithms that generate numbers which are based on distributions like the Uniform distribution, Poisson distribution or Normal distribution and they follow repeated pattern.  As shown above I covered Numpy random package, its functions and distributions, use of seeds and briefly discussed the difference between random and true numbers. "
   ]
  },
  {
   "cell_type": "markdown",
   "metadata": {},
   "source": [
    "##### References (Section 3 and 4):\n",
    "\n",
    "- https://www.kdnuggets.com/2019/07/5-probability-distributions-every-data-scientist-should-know.html\n",
    "- https://www.statisticshowto.datasciencecentral.com/poisson-distribution/\n",
    "- https://www.onlinemathlearning.com/poisson-distribution.html\n",
    "- https://www.analyticsvidhya.com/\n",
    "- https://docs.scipy.org/doc/numpy-1.15.0/reference/generated/numpy.random.binomial.html#numpy.random.binomial\n",
    "- https://towardsdatascience.com/understanding-the-68-95-99-7-rule-for-a-normal-distribution-b7b7cbf760c2\n",
    "- https://www.wallstreetmojo.com/exponential-distribution/\n",
    "- https://www.kdnuggets.com/2019/07/5-probability-distributions-every-data-scientist-should-know.html\n",
    "- https://towardsdatascience.com/probability-distributions-in-data-science-cce6e64873a7\n",
    "- https://en.wikipedia.org/wiki/Exponential_distribution\n",
    "- https://yourbasic.org/algorithms/random-number-generator-seed/\n",
    "- https://www.statisticshowto.datasciencecentral.com/random-seed-definition/\n",
    "- https://pynative.com/python-random-seed/\n",
    "- https://docs.scipy.org/doc/numpy-1.16.0/reference/generated/numpy.random.RandomState.html#numpy.random.RandomState\n",
    "- https://pynative.com/python-random-seed/ "
   ]
  },
  {
   "cell_type": "code",
   "execution_count": null,
   "metadata": {},
   "outputs": [],
   "source": []
  }
 ],
 "metadata": {
  "kernelspec": {
   "display_name": "Python 3",
   "language": "python",
   "name": "python3"
  },
  "language_info": {
   "codemirror_mode": {
    "name": "ipython",
    "version": 3
   },
   "file_extension": ".py",
   "mimetype": "text/x-python",
   "name": "python",
   "nbconvert_exporter": "python",
   "pygments_lexer": "ipython3",
   "version": "3.7.3"
  }
 },
 "nbformat": 4,
 "nbformat_minor": 2
}
