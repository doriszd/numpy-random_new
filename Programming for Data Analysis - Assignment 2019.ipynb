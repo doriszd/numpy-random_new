{
 "cells": [
  {
   "cell_type": "markdown",
   "metadata": {},
   "source": [
    "# Programming for Data Analysis\n",
    "\n",
    "# Assignment 2019 \n",
    "\n"
   ]
  },
  {
   "cell_type": "markdown",
   "metadata": {},
   "source": [
    "## What are random numbers?"
   ]
  },
  {
   "cell_type": "markdown",
   "metadata": {},
   "source": [
    "![random numbers](new.png)"
   ]
  },
  {
   "cell_type": "markdown",
   "metadata": {},
   "source": [
    "\n",
    "\n",
    "Random numbers have been used for many thousands of years. Whether we talk about flipping a coin or rolling a dice, the goal is to leave the end result up to random chance. It is the same case with random number generators in a computer. The aim is to achieve an unpredictable, random result that could not be guessed. Computers generate random numbers for everything from cryptography to gambling. There are two categories of random numbers, “true” random numbers and pseudorandom numbers. Its difference is important for the security of encryption systems. To generate a “true” random number, the computer measures some type of physical phenomenon that takes place outside of the computer. For example the computer could rely on atmospheric noise or simply use the exact time you press keys on your keyboard as a source of unpredictable data (www.howtogeek.com). This type of random numbers is mostly used in programs in which data security is main priority. In this work we are going to focus more on pseudorandom numbers as they are a sample of numbers that look close to true random numbers but were generated using some deterministic process (machinelearningmastery.com).  Pseudorandom number generators (PRNGs) refer to an algorithm that uses mathematical formulas to produce sequences of random numbers (www.geeksforgeeks.org). One of the ways to generate random numbers is by using NumPy random numbers package. For that purpose, NumPy provides various routines that use particular algorithm to generate pseudorandom numbers.In order to dive in it into more details, in the next few paragraphs I will be focusing more on NumPy library and its features. \n"
   ]
  },
  {
   "cell_type": "markdown",
   "metadata": {},
   "source": [
    "## NumPy package\n",
    "  \n",
    "  NumPy (Numerical Python) is a library for the Python programing language. It is intrinsically integrated with Python (en.wikipedia.org). It is a successor for two earlier scientific libraries, Numeric code and Numarray.https://docs.scipy.org/doc/numpy-1.14.0/index.html As NumPy, its initial release was in 2006. The primary creator of NumPy is American data scientist and businessman, Travis Oliphant. NumPy is a distributed, volunteer, open-source project, and everyone is welcome to give their contribution. \n",
    "Some of the features that NumPy contains are powerful N-dimensional array objects, sophisticated functions, tools for integrating C/C++ and Fortran code and many others. Besides its obvious scientific uses, NumPy can also be used as an efficient multi-dimensional container of generic data. Arbitrary data-types can be defined. This allows NumPy to seamlessly and speedily integrate with a wide variety of databases.https://docs.scipy.org/doc/numpy-1.14.0/about.html\n",
    "\n",
    "At the core of the NumPy package, is the ndarray object. This encapsulates n-dimensional arrays of homogeneous data types, with many operations being performed in compiled code for performance. There are several important differences between NumPy arrays and the standard Python sequences:\n",
    "\n",
    "- NumPy arrays have a fixed size at creation while Python lists can grow dynamically. Changing the size of an ndarray will create a new array and delete the original. There are some NumPy’s benefits over Python lists, which include: being more compact, faster access in reading and writing items, being more convenient and more efficient (https://towardsdatascience.com).\n",
    "\n",
    "- The elements in a NumPy array are all required to be of the same data type, and thus will be the same size in memory. \n",
    "\n",
    "- NumPy arrays facilitate advanced mathematical and other types of operations on large numbers of data. Typically, such operations are executed more efficiently and with less code than is possible using Python’s built-in sequences.\n",
    "\n",
    "- In order to efficiently use most of today’s scientific/mathematical Python-based software, just knowing how to use Python’s built-in sequence types is insufficient, it is also crucial to know how to use NumPy arrays (https://numpy.org).\n",
    "\n",
    " "
   ]
  },
  {
   "cell_type": "markdown",
   "metadata": {},
   "source": [
    "The more important attributes of an ndarray object are:\n",
    "\n",
    "##### 1. ndarray.ndim\n",
    "\n",
    "This function returns the number of axes or dimensions of the array. In order to use ndarray.ndim function I have to import numpy package first. This is an example of one-dimensional array. The list of numbers from 4 to 7. "
   ]
  },
  {
   "cell_type": "code",
   "execution_count": 32,
   "metadata": {},
   "outputs": [],
   "source": [
    "#Import numpy as np\n",
    "import numpy as np\n",
    "#numpy.array function is used to generate numbers\n",
    "a = np.array([4, 5, 6, 7])"
   ]
  },
  {
   "cell_type": "code",
   "execution_count": 33,
   "metadata": {},
   "outputs": [
    {
     "data": {
      "text/plain": [
       "array([4, 5, 6, 7])"
      ]
     },
     "execution_count": 33,
     "metadata": {},
     "output_type": "execute_result"
    }
   ],
   "source": [
    "#call the value a\n",
    "a"
   ]
  },
  {
   "cell_type": "code",
   "execution_count": 34,
   "metadata": {},
   "outputs": [
    {
     "data": {
      "text/plain": [
       "1"
      ]
     },
     "execution_count": 34,
     "metadata": {},
     "output_type": "execute_result"
    }
   ],
   "source": [
    "#number of axes of the array    \n",
    "a.ndim"
   ]
  },
  {
   "cell_type": "markdown",
   "metadata": {},
   "source": [
    "##### 2. ndarray.shape\n",
    "\n",
    "This function returns the dimensions of the array. In this situation we got output 4 which means it is one-dimensional array with 4 elements in it. "
   ]
  },
  {
   "cell_type": "code",
   "execution_count": 35,
   "metadata": {},
   "outputs": [
    {
     "data": {
      "text/plain": [
       "(4,)"
      ]
     },
     "execution_count": 35,
     "metadata": {},
     "output_type": "execute_result"
    }
   ],
   "source": [
    "#dimensions of the array\n",
    "a.shape"
   ]
  },
  {
   "cell_type": "markdown",
   "metadata": {},
   "source": [
    "##### 3. ndarray.size\n",
    "\n",
    "This function shows the total number of elements in the array. It is equal to the number of elements of ndarray.shape."
   ]
  },
  {
   "cell_type": "code",
   "execution_count": 36,
   "metadata": {},
   "outputs": [
    {
     "data": {
      "text/plain": [
       "4"
      ]
     },
     "execution_count": 36,
     "metadata": {},
     "output_type": "execute_result"
    }
   ],
   "source": [
    "#total number of elements in the array\n",
    "a.size"
   ]
  },
  {
   "cell_type": "markdown",
   "metadata": {},
   "source": [
    "##### 4.ndarray.dtype\n",
    "\n",
    "This function describes the type of elements in the array. It tells us if the element is for example integer or float number. NumPy provides types of its own (int32, int64, float64...). This type of element is int32. "
   ]
  },
  {
   "cell_type": "code",
   "execution_count": 37,
   "metadata": {},
   "outputs": [
    {
     "data": {
      "text/plain": [
       "dtype('int32')"
      ]
     },
     "execution_count": 37,
     "metadata": {},
     "output_type": "execute_result"
    }
   ],
   "source": [
    "#type of elements in the array\n",
    "a.dtype"
   ]
  },
  {
   "cell_type": "markdown",
   "metadata": {},
   "source": [
    "##### 5.ndarray.itemsize\n",
    "\n",
    "This function shows the size in bytes of each element of the array. For example, an array of elements of type float64 has itemsize 8 (=64/8). In this case as we got an output that this array type is int32 which means that its itemsize is 4 bytes (32/8=4). "
   ]
  },
  {
   "cell_type": "code",
   "execution_count": 38,
   "metadata": {},
   "outputs": [
    {
     "data": {
      "text/plain": [
       "4"
      ]
     },
     "execution_count": 38,
     "metadata": {},
     "output_type": "execute_result"
    }
   ],
   "source": [
    "#size in bytes of each element of the array\n",
    "a.itemsize"
   ]
  },
  {
   "cell_type": "markdown",
   "metadata": {},
   "source": [
    "## Why is NumPy fast?\n",
    "\n",
    "Vectorization describes the absence of any explicit looping, indexing or other features in the code, these things are taking place “behind the scenes” in pre-compiled C code. The advantages of vectorized code are:\n",
    "\n",
    "- vectorized code is easier and more concise to read\n",
    "\n",
    "- fewer lines of code generally means fewer bugs\n",
    "\n",
    "- the code resembles standard mathematical notation \n",
    "\n",
    "- vectorization results in more “Pythonic” code. Without vectorization, our code would be littered with inefficient and difficult to read for loops.\n",
    "\n",
    "Broadcasting is the term used to describe the implicit element-by-element behavior of operations. In NumPy all operations, not just arithmetic operations, but also logical, bit-wise, functional, etc., behave in this implicit element-by-element fashion,  they broadcast. You can read more about numpy package here: https://numpy.org/devdocs/user/whatisnumpy.html"
   ]
  },
  {
   "cell_type": "markdown",
   "metadata": {},
   "source": [
    "## Section 1 - Numpy.random package\n",
    "\n"
   ]
  },
  {
   "cell_type": "markdown",
   "metadata": {},
   "source": [
    "As mentioned before, the focus of this project is to focus on pseudorandom numbers as they are a sample of numbers that look close to true random numbers but are generated using some deterministic process. As computers can not produce random numbers itself, they need packages and algorithms that would deal with it. Numpy.random rackage is one of the libraries in Python that generates pseudorandom data. \n",
    "\n",
    "Within the package there are many different functions and distributions. You can find more information about numpy.random package and its features here: https://docs.scipy.org/doc/numpy-1.15.0/reference/routines.random.html#\n",
    "\n",
    "Numpy.random package consists of 4 parts:\n",
    "\n",
    "##### 1. Simple random data\n",
    "##### 2. Permutations\n",
    "##### 3. Distributions\n",
    "##### 4. Random generator\n",
    "\n",
    "\n",
    "Each of these sections will be discussed in more details in the text below. In the next paragraph I will talk about the use of Simple random data and permutations. "
   ]
  },
  {
   "cell_type": "markdown",
   "metadata": {},
   "source": [
    "## Section 2 - Simple random data and Permutations"
   ]
  },
  {
   "cell_type": "markdown",
   "metadata": {},
   "source": [
    "Simple random data functions:\n",
    "\n",
    "\n",
    "- rand(d0, d1, …, dn) - Random values in a given shape.\n",
    "- randn(d0, d1, …, dn) - Return a sample (or samples) from the “standard normal” distribution.\n",
    "- randint(low[, high, size, dtype]) - Return random integers from low (inclusive) to high (exclusive).\n",
    "- random_integers(low[, high, size]) - Random integers of type np.int between low and high, inclusive.\n",
    "- random_sample([size]) - Return random floats in the half-open interval [0.0, 1.0).\n",
    "- random([size]) - Return random floats in the half-open interval [0.0, 1.0).\n",
    "- ranf([size]) - Return random floats in the half-open interval [0.0, 1.0).\n",
    "- sample([size]) - Return random floats in the half-open interval [0.0, 1.0).\n",
    "- choice(a[, size, replace, p]) - Generates a random sample from a given 1-D array\n",
    "- bytes(length) - Return random bytes."
   ]
  },
  {
   "cell_type": "markdown",
   "metadata": {},
   "source": [
    "##### numpy.random.rand"
   ]
  },
  {
   "cell_type": "markdown",
   "metadata": {},
   "source": [
    "This function gives random values in a given shape. It creates an array of the given shape and populates it with given samples \n",
    "from a uniform distribution. Numbers 4 and 2 signify 4 rows and 2 columns. "
   ]
  },
  {
   "cell_type": "code",
   "execution_count": 39,
   "metadata": {},
   "outputs": [],
   "source": [
    "#import numpy package as np \n",
    "import numpy as np\n",
    "#numpy random function \"rand\" is defined as b\n",
    "b = np.random.rand(4,2)"
   ]
  },
  {
   "cell_type": "code",
   "execution_count": 40,
   "metadata": {},
   "outputs": [
    {
     "data": {
      "text/plain": [
       "array([[0.22427945, 0.85654774],\n",
       "       [0.6211916 , 0.6261309 ],\n",
       "       [0.67500644, 0.09665956],\n",
       "       [0.3199594 , 0.61037469]])"
      ]
     },
     "execution_count": 40,
     "metadata": {},
     "output_type": "execute_result"
    }
   ],
   "source": [
    "#call the function b\n",
    "b"
   ]
  },
  {
   "cell_type": "markdown",
   "metadata": {},
   "source": [
    "##### numpy.random.randn"
   ]
  },
  {
   "cell_type": "markdown",
   "metadata": {},
   "source": [
    "This function returns a sample or more samples from the “standard normal” distribution. A single float randomly sampled from the distribution is returned if no argument is provided."
   ]
  },
  {
   "cell_type": "code",
   "execution_count": 41,
   "metadata": {},
   "outputs": [],
   "source": [
    "#import numpy package as np\n",
    "import numpy as np\n",
    "#numpy random function randn is defined as b\n",
    "b = np.random.randn()"
   ]
  },
  {
   "cell_type": "code",
   "execution_count": 42,
   "metadata": {},
   "outputs": [
    {
     "data": {
      "text/plain": [
       "-1.1721652650631251"
      ]
     },
     "execution_count": 42,
     "metadata": {},
     "output_type": "execute_result"
    }
   ],
   "source": [
    "#call the function b\n",
    "b"
   ]
  },
  {
   "cell_type": "markdown",
   "metadata": {},
   "source": [
    "##### numpy.random.randint"
   ]
  },
  {
   "cell_type": "markdown",
   "metadata": {},
   "source": [
    "This function returns random integers from low (inclusive) to high (exclusive). It returns random integers from discrete uniform distribution. As you can see in the example below we got 2 arrays with 4 elements in each. All numbers are in range from 0 to 5 (not including 5)."
   ]
  },
  {
   "cell_type": "code",
   "execution_count": 43,
   "metadata": {},
   "outputs": [],
   "source": [
    "#import numpy package as np\n",
    "import numpy as np\n",
    "#numpy random function randint (random integer) is defined as b\n",
    "b = np.random.randint(5, size=(2, 4))"
   ]
  },
  {
   "cell_type": "code",
   "execution_count": 44,
   "metadata": {},
   "outputs": [
    {
     "data": {
      "text/plain": [
       "array([[0, 3, 3, 3],\n",
       "       [4, 4, 4, 2]])"
      ]
     },
     "execution_count": 44,
     "metadata": {},
     "output_type": "execute_result"
    }
   ],
   "source": [
    "#call the function b\n",
    "b"
   ]
  },
  {
   "cell_type": "markdown",
   "metadata": {},
   "source": [
    "##### numpy.random.random_integers"
   ]
  },
  {
   "cell_type": "markdown",
   "metadata": {},
   "source": [
    "As we can see above, when using randint function high integer is exclusive, while using random_integers high integer is inclusive. So this function is very similar to randint function. In this case there are 3 rows, each row has 2 elements in it and high integer is included. "
   ]
  },
  {
   "cell_type": "code",
   "execution_count": 2,
   "metadata": {
    "collapsed": true
   },
   "outputs": [
    {
     "name": "stderr",
     "output_type": "stream",
     "text": [
      "C:\\Users\\gener\\Anaconda4\\lib\\site-packages\\ipykernel_launcher.py:4: DeprecationWarning: This function is deprecated. Please call randint(1, 5 + 1) instead\n",
      "  after removing the cwd from sys.path.\n"
     ]
    }
   ],
   "source": [
    "#import numpy package as np\n",
    "import numpy as np\n",
    "#numpy random function random_integers is defined as b\n",
    "c = np.random.random_integers(5, size=(3,2))"
   ]
  },
  {
   "cell_type": "code",
   "execution_count": 3,
   "metadata": {},
   "outputs": [
    {
     "data": {
      "text/plain": [
       "array([[2, 5],\n",
       "       [1, 3],\n",
       "       [1, 2]])"
      ]
     },
     "execution_count": 3,
     "metadata": {},
     "output_type": "execute_result"
    }
   ],
   "source": [
    "#call the function c\n",
    "c"
   ]
  },
  {
   "cell_type": "markdown",
   "metadata": {},
   "source": [
    "##### numpy.random.random_sample,  numpy.random.random,  numpy.random.ranf,  numpy.random_sample"
   ]
  },
  {
   "cell_type": "markdown",
   "metadata": {},
   "source": [
    "These 4 functions return floats. Results are from the “continuous uniform” distribution over the stated interval. I will show two examples of these functions. In the first case using random_sample function it gives back random floats in the half-open interval from 0.0 to 1.0. In this case I got back float number: 04779..."
   ]
  },
  {
   "cell_type": "code",
   "execution_count": 46,
   "metadata": {},
   "outputs": [],
   "source": [
    "#import numpy package as np\n",
    "import numpy as np\n",
    "#numpy random function random sample is defined as b\n",
    "b = np.random.random_sample()"
   ]
  },
  {
   "cell_type": "code",
   "execution_count": 47,
   "metadata": {},
   "outputs": [
    {
     "data": {
      "text/plain": [
       "0.4779352719841624"
      ]
     },
     "execution_count": 47,
     "metadata": {},
     "output_type": "execute_result"
    }
   ],
   "source": [
    "#call the function b\n",
    "b"
   ]
  },
  {
   "cell_type": "markdown",
   "metadata": {},
   "source": [
    "In the second example, we got 5 different arrays, all of them are in the range from 0.0 to 1.0.  Results are also chosen from the “continuous uniform” distribution."
   ]
  },
  {
   "cell_type": "code",
   "execution_count": 48,
   "metadata": {},
   "outputs": [],
   "source": [
    "#import numpy package as np\n",
    "import numpy as np\n",
    "#numpy random function random sample is defined as b\n",
    "b = np.random.random_sample((5,))"
   ]
  },
  {
   "cell_type": "code",
   "execution_count": 49,
   "metadata": {},
   "outputs": [
    {
     "data": {
      "text/plain": [
       "array([0.85525413, 0.72798211, 0.68681135, 0.90478692, 0.5735883 ])"
      ]
     },
     "execution_count": 49,
     "metadata": {},
     "output_type": "execute_result"
    }
   ],
   "source": [
    "#call the function b\n",
    "b"
   ]
  },
  {
   "cell_type": "markdown",
   "metadata": {},
   "source": [
    "##### numpy.random.choice"
   ]
  },
  {
   "cell_type": "markdown",
   "metadata": {},
   "source": [
    "This function generates a random sample from a given 1-D array. There are 4 different parameters a : 1-D array-like or int, size : int or tuple of ints, optional, replace : boolean, optional, p : 1-D array-like, optional"
   ]
  },
  {
   "cell_type": "code",
   "execution_count": 50,
   "metadata": {},
   "outputs": [],
   "source": [
    "#import numpy package as np\n",
    "import numpy as np\n",
    "#numpy random function choice is defined as b\n",
    "b = np.random.choice(5, 3)"
   ]
  },
  {
   "cell_type": "code",
   "execution_count": 51,
   "metadata": {},
   "outputs": [
    {
     "data": {
      "text/plain": [
       "array([0, 0, 4])"
      ]
     },
     "execution_count": 51,
     "metadata": {},
     "output_type": "execute_result"
    }
   ],
   "source": [
    "#call the function b\n",
    "b"
   ]
  },
  {
   "cell_type": "markdown",
   "metadata": {},
   "source": [
    "##### numpy.random.bytes"
   ]
  },
  {
   "cell_type": "markdown",
   "metadata": {},
   "source": [
    "This function returns random bytes. "
   ]
  },
  {
   "cell_type": "code",
   "execution_count": 52,
   "metadata": {},
   "outputs": [],
   "source": [
    "#import numpy package as np\n",
    "import numpy as np\n",
    "#numpy random function bytes is defined as b\n",
    "b = np.random.bytes(10)"
   ]
  },
  {
   "cell_type": "code",
   "execution_count": 53,
   "metadata": {},
   "outputs": [
    {
     "data": {
      "text/plain": [
       "b'<R\\xb9\\x1f\\xaf\\xc0\\xa3r4G'"
      ]
     },
     "execution_count": 53,
     "metadata": {},
     "output_type": "execute_result"
    }
   ],
   "source": [
    "#call the function b\n",
    "b"
   ]
  },
  {
   "cell_type": "markdown",
   "metadata": {},
   "source": [
    "## 3. Distribution functions "
   ]
  },
  {
   "cell_type": "markdown",
   "metadata": {},
   "source": [
    "Every time we are working with a dataset, our dataset represents some kind of a sample and using this sample, we need to understand its patterns so that we can make predictions based on them. Datasets are composed of two main types of data: Numerical (eg. integers), and categorical (eg. names). Based on that data it is possible to calculate some predictions like Probability Mass Functions and Probability Density Functions. There are many probability distributions, but in this work I will focus on 5 distributions that data scientists find most useful (https://towardsdatascience.com/). \n",
    "\n",
    "1. Poisson distribution\n",
    "2. Uniform distribution\n",
    "3. Binominal distribution\n",
    "4. Normal distribution\n",
    "5. Exponential distribution\n",
    "\n",
    "More information and plots about each distribution can be seen below.\n"
   ]
  },
  {
   "cell_type": "markdown",
   "metadata": {},
   "source": [
    "#### 1. Poisson distribution"
   ]
  },
  {
   "cell_type": "markdown",
   "metadata": {},
   "source": [
    "Poisson Distribution is applicable in situations where events occur at random points of time and space wherein our interest lies only in the number of occurrences of the event.\n",
    "\n",
    "A distribution is called Poisson distribution when the following assumptions are valid:\n",
    "\n",
    "1. Any successful event should not influence the outcome of another successful event.\n",
    "2. The probability of success over a short interval must equal the probability of success over a longer interval.\n",
    "3. The probability of success in an interval approaches zero as the interval becomes smaller."
   ]
  },
  {
   "cell_type": "code",
   "execution_count": 5,
   "metadata": {},
   "outputs": [],
   "source": [
    "import numpy as np\n",
    "b = np.random.poisson(8, 100)"
   ]
  },
  {
   "cell_type": "code",
   "execution_count": 6,
   "metadata": {},
   "outputs": [
    {
     "data": {
      "text/plain": [
       "array([ 7,  5,  7,  8,  7,  9,  5,  6,  8, 11, 13,  3, 10,  6,  9, 10,  5,\n",
       "        7,  9,  2, 10,  9, 12,  6,  7,  5, 15, 11, 10,  8,  6,  7,  4,  1,\n",
       "        9,  8,  8,  3, 11,  8, 11,  7,  5, 13,  8,  6, 12,  7,  7,  6, 10,\n",
       "        7,  9,  9, 10,  9,  8,  5,  5,  3,  5, 10, 12,  9,  7, 14,  5,  7,\n",
       "        7,  9,  3, 12,  8,  9,  9,  7,  9,  6,  6,  5,  9, 10,  3,  5,  9,\n",
       "       10,  8,  5, 10, 16,  6,  8,  7,  8,  6,  7,  7,  9,  8,  6])"
      ]
     },
     "execution_count": 6,
     "metadata": {},
     "output_type": "execute_result"
    }
   ],
   "source": [
    "b"
   ]
  },
  {
   "cell_type": "code",
   "execution_count": 9,
   "metadata": {},
   "outputs": [
    {
     "data": {
      "image/png": "[encoded data removed]",
      "text/plain": [
       "<Figure size 432x288 with 1 Axes>"
      ]
     },
     "metadata": {
      "needs_background": "light"
     },
     "output_type": "display_data"
    }
   ],
   "source": [
    "import matplotlib.pyplot as plt\n",
    "count, bins, ignored = plt.hist(b, 8, density=True)\n",
    "plt.show()"
   ]
  },
  {
   "cell_type": "markdown",
   "metadata": {},
   "source": [
    "#### 2. Uniform distribution"
   ]
  },
  {
   "cell_type": "markdown",
   "metadata": {},
   "source": [
    "When you roll a fair die, the outcomes are 1 to 6. The probabilities of getting these outcomes are equally likely and that is the basis of a uniform distribution. You can see that the shape of the Uniform distribution curve is rectangular, the reason why Uniform distribution is called rectangular distribution. For a Uniform Distribution, a and b are the parameters (https://www.analyticsvidhya.com/)."
   ]
  },
  {
   "cell_type": "code",
   "execution_count": 16,
   "metadata": {},
   "outputs": [],
   "source": [
    "import numpy as np\n",
    "b = np.random.uniform(-1,0,100)"
   ]
  },
  {
   "cell_type": "code",
   "execution_count": 17,
   "metadata": {},
   "outputs": [
    {
     "data": {
      "text/plain": [
       "array([-0.97797447, -0.10212028, -0.5819304 , -0.53986097, -0.05971931,\n",
       "       -0.12464593, -0.52330538, -0.97150416, -0.292102  , -0.04236273,\n",
       "       -0.05752169, -0.33123929, -0.71242077, -0.76471579, -0.31241129,\n",
       "       -0.92220213, -0.79335526, -0.98510334, -0.45856327, -0.88770573,\n",
       "       -0.96916323, -0.66328403, -0.41100023, -0.82952373, -0.31583918,\n",
       "       -0.93224587, -0.82564446, -0.24822697, -0.18315811, -0.51891846,\n",
       "       -0.27760656, -0.7107089 , -0.0684043 , -0.5995809 , -0.45431217,\n",
       "       -0.06868269, -0.28667267, -0.28208718, -0.74768199, -0.92001859,\n",
       "       -0.75665623, -0.80862274, -0.55139735, -0.50019098, -0.73334948,\n",
       "       -0.8200725 , -0.44021463, -0.08074488, -0.99454146, -0.66695269,\n",
       "       -0.01020354, -0.19607362, -0.27248548, -0.72870135, -0.27861075,\n",
       "       -0.88151536, -0.18459921, -0.49678001, -0.46100709, -0.13963907,\n",
       "       -0.6995492 , -0.02329201, -0.88569806, -0.78183678, -0.83106344,\n",
       "       -0.0868975 , -0.44842019, -0.53805017, -0.48721349, -0.99292962,\n",
       "       -0.67987097, -0.5161276 , -0.32127074, -0.57259698, -0.02079233,\n",
       "       -0.4795306 , -0.02878186, -0.81566956, -0.71546092, -0.3738928 ,\n",
       "       -0.0926516 , -0.1802305 , -0.86925531, -0.5573615 , -0.40379727,\n",
       "       -0.12254912, -0.19152093, -0.79210606, -0.06598624, -0.62329746,\n",
       "       -0.69992862, -0.81926907, -0.19710156, -0.49062691, -0.79676247,\n",
       "       -0.78000501, -0.65555426, -0.06420099, -0.955884  , -0.25622667])"
      ]
     },
     "execution_count": 17,
     "metadata": {},
     "output_type": "execute_result"
    }
   ],
   "source": [
    "b"
   ]
  },
  {
   "cell_type": "code",
   "execution_count": 18,
   "metadata": {},
   "outputs": [
    {
     "data": {
      "image/png": "[encoded data removed]",
      "text/plain": [
       "<Figure size 432x288 with 1 Axes>"
      ]
     },
     "metadata": {
      "needs_background": "light"
     },
     "output_type": "display_data"
    }
   ],
   "source": [
    "import matplotlib.pyplot as plt\n",
    "count, bins, ignored = plt.hist(b, 8, density=True)\n",
    "plt.plot(bins, np.ones_like(bins), linewidth=2, color='r')\n",
    "plt.show()"
   ]
  },
  {
   "cell_type": "markdown",
   "metadata": {},
   "source": [
    "#### 3. Binominal distribution"
   ]
  },
  {
   "cell_type": "markdown",
   "metadata": {},
   "source": [
    "A distribution where only two outcomes are possible, such as success or failure, gain or loss, win or lose and where the probability of success and failure is same for all the trials is called a Binomial Distribution.\n",
    "Each trial is independent since the outcome of the previous toss doesn’t determine or affect the outcome of the current toss. An experiment with only two possible outcomes repeated n number of times is called binomial. The parameters of a binomial distribution are n and p where n is the total number of trials and p is the probability of success in each trial.\n",
    "\n",
    "On the basis of the above explanation, the properties of a Binomial Distribution are\n",
    "\n",
    "Each trial is independent.\n",
    "There are only two possible outcomes in a trial- either a success or a failure.\n",
    "A total number of n identical trials are conducted.\n",
    "The probability of success and failure is same for all trials. (Trials are identical.)\n",
    " "
   ]
  },
  {
   "cell_type": "code",
   "execution_count": 20,
   "metadata": {},
   "outputs": [],
   "source": [
    "n, p = 10, .5\n",
    "b = np.random.binomial(n, p, 1000)\n"
   ]
  },
  {
   "cell_type": "code",
   "execution_count": 21,
   "metadata": {},
   "outputs": [
    {
     "data": {
      "text/plain": [
       "array([7, 5, 3, 5, 6, 5, 9, 4, 4, 6, 6, 4, 6, 2, 7, 4, 3, 5, 8, 9, 3, 6,\n",
       "       6, 6, 4, 6, 4, 6, 6, 4, 6, 6, 5, 6, 7, 8, 6, 4, 7, 3, 4, 9, 7, 4,\n",
       "       5, 2, 5, 5, 4, 7, 6, 4, 7, 5, 3, 1, 5, 4, 4, 5, 6, 4, 5, 6, 4, 4,\n",
       "       9, 2, 6, 6, 4, 5, 7, 5, 6, 6, 7, 5, 8, 5, 5, 5, 3, 8, 7, 4, 2, 4,\n",
       "       7, 6, 7, 5, 3, 6, 5, 4, 3, 5, 7, 2, 5, 6, 7, 6, 3, 7, 6, 3, 4, 4,\n",
       "       6, 6, 7, 8, 5, 5, 4, 6, 4, 4, 6, 4, 2, 4, 4, 6, 6, 5, 5, 5, 6, 5,\n",
       "       5, 2, 3, 3, 3, 5, 3, 5, 4, 4, 2, 5, 3, 7, 4, 3, 6, 5, 4, 6, 4, 6,\n",
       "       7, 3, 5, 1, 5, 4, 5, 4, 6, 5, 7, 6, 4, 5, 6, 6, 6, 2, 6, 6, 5, 3,\n",
       "       5, 4, 6, 6, 4, 2, 7, 4, 3, 6, 6, 4, 7, 3, 6, 7, 3, 5, 2, 8, 7, 4,\n",
       "       6, 5, 7, 6, 4, 4, 4, 4, 5, 5, 6, 5, 8, 6, 6, 7, 6, 2, 7, 6, 4, 4,\n",
       "       5, 5, 5, 6, 3, 6, 5, 2, 6, 4, 5, 6, 6, 6, 5, 1, 6, 7, 1, 4, 4, 5,\n",
       "       6, 6, 6, 3, 7, 8, 5, 5, 6, 5, 5, 4, 5, 5, 6, 4, 3, 5, 6, 5, 4, 5,\n",
       "       4, 3, 5, 5, 5, 6, 7, 4, 6, 3, 9, 8, 8, 4, 3, 6, 4, 4, 3, 4, 6, 7,\n",
       "       4, 5, 3, 7, 7, 6, 7, 5, 6, 6, 7, 4, 2, 6, 7, 5, 7, 5, 4, 6, 3, 4,\n",
       "       8, 5, 7, 4, 4, 5, 5, 7, 6, 7, 5, 4, 6, 7, 6, 4, 4, 5, 6, 4, 5, 6,\n",
       "       5, 2, 5, 9, 4, 6, 4, 4, 5, 6, 4, 6, 1, 5, 5, 4, 6, 3, 5, 4, 6, 7,\n",
       "       6, 6, 4, 5, 3, 3, 6, 4, 5, 7, 6, 5, 5, 7, 5, 3, 4, 4, 8, 5, 6, 7,\n",
       "       6, 3, 6, 4, 3, 8, 4, 6, 7, 4, 3, 6, 9, 5, 5, 4, 4, 5, 6, 7, 5, 4,\n",
       "       5, 4, 3, 4, 7, 3, 4, 7, 4, 3, 5, 4, 7, 5, 3, 5, 7, 5, 6, 5, 4, 4,\n",
       "       4, 4, 7, 6, 5, 6, 4, 6, 3, 5, 8, 7, 3, 3, 2, 3, 5, 7, 5, 3, 6, 5,\n",
       "       2, 2, 4, 5, 7, 4, 6, 5, 5, 4, 5, 3, 7, 4, 2, 6, 4, 5, 5, 6, 7, 1,\n",
       "       8, 5, 6, 4, 5, 4, 8, 5, 5, 6, 4, 4, 4, 5, 7, 8, 5, 5, 3, 7, 6, 5,\n",
       "       2, 7, 4, 7, 7, 6, 4, 4, 3, 5, 5, 3, 3, 6, 7, 5, 3, 3, 6, 4, 4, 8,\n",
       "       6, 4, 5, 5, 0, 5, 6, 3, 3, 2, 5, 4, 4, 7, 4, 5, 5, 2, 7, 7, 5, 5,\n",
       "       3, 4, 7, 4, 2, 2, 6, 3, 2, 3, 5, 3, 6, 6, 6, 5, 5, 4, 5, 8, 5, 4,\n",
       "       6, 3, 5, 6, 1, 8, 2, 3, 7, 6, 7, 5, 3, 3, 4, 7, 4, 6, 4, 4, 4, 3,\n",
       "       6, 3, 5, 6, 5, 4, 4, 3, 1, 6, 3, 5, 7, 4, 4, 6, 7, 6, 5, 7, 8, 7,\n",
       "       7, 6, 7, 3, 7, 7, 3, 7, 7, 4, 6, 5, 7, 5, 5, 7, 4, 7, 3, 3, 3, 5,\n",
       "       2, 6, 5, 6, 7, 6, 7, 3, 3, 4, 6, 3, 7, 7, 9, 7, 4, 6, 4, 5, 5, 5,\n",
       "       5, 3, 7, 5, 7, 3, 3, 4, 2, 6, 4, 1, 4, 3, 7, 5, 7, 3, 5, 4, 7, 5,\n",
       "       6, 4, 5, 4, 3, 5, 3, 3, 4, 3, 6, 5, 6, 6, 3, 5, 2, 6, 6, 4, 9, 5,\n",
       "       6, 7, 4, 3, 2, 5, 3, 6, 7, 6, 7, 4, 7, 4, 6, 4, 6, 1, 7, 2, 6, 4,\n",
       "       3, 4, 5, 5, 5, 7, 5, 3, 7, 3, 7, 5, 3, 7, 5, 2, 8, 5, 5, 7, 5, 6,\n",
       "       4, 4, 4, 2, 6, 6, 5, 5, 4, 7, 8, 3, 4, 4, 6, 3, 6, 6, 1, 4, 6, 5,\n",
       "       5, 4, 6, 5, 7, 6, 5, 5, 4, 5, 7, 4, 8, 3, 6, 4, 3, 3, 3, 3, 6, 5,\n",
       "       4, 3, 3, 6, 3, 6, 4, 6, 4, 6, 3, 6, 4, 7, 5, 6, 5, 5, 5, 1, 5, 8,\n",
       "       3, 8, 4, 5, 7, 2, 5, 6, 3, 5, 4, 6, 5, 8, 7, 1, 7, 4, 5, 4, 5, 4,\n",
       "       5, 4, 7, 3, 7, 4, 6, 8, 4, 2, 6, 6, 5, 4, 6, 3, 4, 6, 5, 6, 5, 7,\n",
       "       4, 5, 3, 3, 4, 5, 6, 4, 4, 5, 6, 3, 6, 4, 3, 2, 6, 4, 6, 4, 4, 6,\n",
       "       3, 6, 4, 1, 7, 6, 5, 4, 3, 7, 4, 6, 7, 5, 5, 4, 4, 4, 4, 2, 5, 4,\n",
       "       6, 7, 5, 1, 7, 6, 6, 5, 7, 4, 7, 6, 4, 5, 1, 6, 3, 3, 5, 5, 5, 4,\n",
       "       3, 6, 8, 2, 3, 6, 8, 5, 6, 5, 7, 8, 6, 5, 5, 3, 4, 3, 7, 3, 6, 9,\n",
       "       8, 6, 3, 5, 6, 6, 3, 6, 3, 6, 2, 6, 7, 8, 6, 5, 8, 6, 2, 5, 5, 4,\n",
       "       6, 6, 7, 4, 8, 5, 5, 7, 6, 3, 6, 4, 4, 3, 7, 5, 3, 4, 3, 7, 6, 6,\n",
       "       4, 4, 4, 4, 7, 7, 5, 2, 6, 7, 5, 5, 4, 8, 6, 8, 2, 6, 4, 3, 3, 4,\n",
       "       8, 8, 3, 2, 4, 6, 5, 3, 5, 6])"
      ]
     },
     "execution_count": 21,
     "metadata": {},
     "output_type": "execute_result"
    }
   ],
   "source": [
    "b"
   ]
  },
  {
   "cell_type": "markdown",
   "metadata": {},
   "source": [
    "#### 4. Normal distribution"
   ]
  },
  {
   "cell_type": "markdown",
   "metadata": {},
   "source": [
    "It represents the behavior of most of the situations in the universe. That is why it’s called a “normal” distribution. The large sum of (small) random variables often turns out to be normally distributed, contributing to its widespread application. Any distribution is known as Normal distribution if it has the following characteristics:\n",
    "\n",
    "- The mean, median and mode of the distribution coincide.\n",
    "- The curve of the distribution is bell-shaped and symmetrical about the line x=μ.\n",
    "- The total area under the curve is 1.\n",
    "- Exactly half of the values are to the left of the center and the other half to the right.\n",
    "\n",
    "A normal distribution is highly different from Binomial Distribution. However, if the number of trials approaches infinity then the shapes will be quite similar."
   ]
  },
  {
   "cell_type": "code",
   "execution_count": 9,
   "metadata": {},
   "outputs": [],
   "source": [
    "#import numpy as np\n",
    "import numpy as np\n",
    "#mean and standard deviation\n",
    "mu, sigma = 0, 0.1\n",
    "b = np.random.normal(mu, sigma, 1000)"
   ]
  },
  {
   "cell_type": "code",
   "execution_count": 4,
   "metadata": {},
   "outputs": [
    {
     "data": {
      "text/plain": [
       "array([ 1.39948760e-03, -1.07840798e-01,  4.47156441e-02, -1.96982314e-03,\n",
       "       -1.05289588e-01, -5.12572831e-02,  7.03250026e-03, -1.28339541e-02,\n",
       "       -1.90013950e-01,  5.11055022e-02, -1.00359796e-01,  7.19809858e-02,\n",
       "       -1.01846186e-01, -3.33366387e-02,  4.24937747e-04,  9.68584785e-02,\n",
       "        1.17003078e-01, -4.38228154e-03, -8.89771509e-02, -5.98505213e-02,\n",
       "       -2.50458934e-03,  8.67159766e-02,  2.43937795e-02,  3.82753414e-02,\n",
       "        1.56420248e-01,  1.57057747e-01, -7.02226104e-02, -2.26191464e-02,\n",
       "       -4.40309061e-02,  1.18246175e-01,  2.87076069e-02,  4.64459188e-02,\n",
       "        1.43417932e-02, -3.00491641e-01, -7.87020076e-02,  4.57855493e-02,\n",
       "       -6.75668457e-02,  1.44802221e-01, -2.47402545e-02, -3.83242021e-03,\n",
       "        5.84444502e-02, -2.51240766e-02, -1.01293676e-01, -9.31503880e-02,\n",
       "       -3.60202593e-02,  9.56717506e-02,  5.84385913e-02, -1.90043324e-02,\n",
       "       -1.52406526e-01,  1.82497231e-01,  1.86486909e-01, -4.17547510e-02,\n",
       "        1.01908552e-01, -1.29431242e-02,  8.37106108e-02,  5.44351671e-02,\n",
       "        3.35405299e-01, -1.72002412e-01, -6.49936919e-04,  4.87659090e-02,\n",
       "        8.35908743e-02,  1.31633881e-01,  4.94710861e-02,  1.91703903e-01,\n",
       "        8.07894494e-02, -7.83191524e-02, -8.16993595e-02,  2.27961906e-02,\n",
       "       -2.37531529e-02,  7.37073350e-02, -1.24248778e-02, -6.62701521e-02,\n",
       "        3.69600762e-02, -1.64523449e-02, -6.13813260e-02, -4.02394903e-02,\n",
       "        2.22349640e-02, -4.69211356e-02, -4.28826751e-02, -3.39465639e-02,\n",
       "        7.15666150e-02, -1.03537496e-02, -1.09563554e-01,  3.76952987e-02,\n",
       "        1.04531125e-01,  7.18737412e-02,  1.58335217e-01,  5.29991841e-02,\n",
       "        3.41267652e-02,  4.77805847e-02, -5.50551234e-02,  3.53379042e-02,\n",
       "        5.39253798e-02,  1.11244417e-02, -3.24715876e-02, -2.49165409e-02,\n",
       "       -4.17190367e-02,  2.75516830e-02,  9.18774880e-02,  7.00287484e-02,\n",
       "       -2.95121448e-02,  1.28791116e-01, -9.30210597e-02,  3.46305256e-02,\n",
       "       -1.88389220e-01, -1.17185304e-01, -7.66510933e-02,  3.29059830e-03,\n",
       "        9.32762999e-02,  6.32422897e-02,  7.59248835e-02,  1.16723237e-01,\n",
       "        1.09766692e-01, -1.56103939e-01,  1.77129630e-02, -7.96830048e-02,\n",
       "        1.62285602e-02,  3.52945756e-02, -4.05375217e-02, -3.24805469e-02,\n",
       "        3.56090370e-02, -5.48654335e-02, -1.20918096e-01,  1.76812113e-01,\n",
       "       -7.41831568e-02,  2.67669090e-01, -3.86681820e-02, -7.64403148e-02,\n",
       "        1.62198375e-02, -2.55131890e-02,  9.55012304e-02, -1.76108780e-01,\n",
       "        8.47679672e-02,  6.15825755e-02, -1.10685046e-01, -5.88762072e-02,\n",
       "        1.62149339e-02, -2.80346180e-02,  2.05941035e-02,  6.43224949e-02,\n",
       "        2.89499522e-04, -1.47613943e-01, -1.20474640e-02,  2.71629429e-02,\n",
       "        5.80392650e-02,  1.06589317e-01, -1.28013430e-01, -1.39186337e-01,\n",
       "       -9.52932979e-02,  1.50547759e-01, -1.41096076e-01,  3.62605551e-02,\n",
       "       -2.96023789e-01, -5.68344405e-02, -2.65482243e-02, -2.75186089e-02,\n",
       "        1.91162970e-01,  2.87830962e-02,  1.23190578e-01,  2.08477558e-01,\n",
       "        6.48202091e-02, -9.83950977e-02, -1.96792405e-01, -8.52068686e-02,\n",
       "        2.69218683e-02, -4.98091071e-02,  1.21246743e-01,  3.40354719e-02,\n",
       "       -3.17632958e-02,  1.27327225e-01,  3.76841846e-02,  1.10367009e-01,\n",
       "        1.91372688e-01,  4.90195737e-02,  1.71288992e-01,  9.66814743e-03,\n",
       "        2.80684529e-02, -5.85446985e-02, -1.09251192e-01, -5.67660153e-02,\n",
       "        5.80314216e-02, -6.13355336e-02,  2.50756386e-02, -4.63854780e-03,\n",
       "        9.69691694e-03,  2.78168681e-01,  6.92880161e-02,  8.69397801e-02,\n",
       "        1.27697092e-01,  9.75894982e-02, -1.35048441e-01, -6.15769826e-02,\n",
       "        9.97157755e-02,  1.79955607e-04, -9.59881250e-02,  2.07750783e-01,\n",
       "       -1.88828079e-01, -1.59204378e-02, -1.74529309e-01,  6.74982187e-02,\n",
       "        6.98032109e-02,  4.23580792e-02,  2.50924964e-02, -1.82157573e-01,\n",
       "       -1.09539198e-01,  3.03300322e-02,  7.48390374e-02,  5.12471757e-02,\n",
       "       -1.33556960e-01,  2.00057857e-02, -8.12838570e-02,  1.09129306e-02,\n",
       "        1.20376833e-01, -1.38016261e-02, -1.31098863e-03, -6.61552714e-02,\n",
       "        1.13008263e-02, -2.37264489e-01, -2.25166030e-01,  1.45456959e-01,\n",
       "       -1.85110904e-01, -4.58667769e-02,  1.83981146e-01,  8.00810551e-02,\n",
       "        6.11570188e-02,  8.53175850e-02,  9.79555903e-02, -2.81532293e-01,\n",
       "       -8.92982677e-03, -1.19256714e-01, -1.08459508e-01,  5.03709931e-02,\n",
       "       -1.92098469e-01, -3.43387673e-02,  5.41777516e-03,  1.22095869e-01,\n",
       "        9.07177521e-03, -1.60183864e-01, -8.01281522e-02, -3.10852825e-02,\n",
       "       -1.26676654e-02,  1.11740374e-01,  1.03775365e-01, -5.00623662e-02,\n",
       "        6.34066386e-02, -1.87991760e-01,  9.59156682e-03, -5.47070618e-02,\n",
       "       -1.39171783e-01, -3.99990858e-02,  6.56605467e-03,  2.77414965e-02,\n",
       "        6.53851119e-02,  6.59286788e-02,  7.74796759e-02,  1.08781303e-01,\n",
       "       -5.25759781e-02, -4.65948740e-02,  3.73470417e-02,  1.32962160e-01,\n",
       "       -9.53029585e-02, -9.60099550e-02,  1.10900737e-01,  6.66071888e-02,\n",
       "       -1.64990743e-01, -3.73695378e-04, -4.71227451e-02, -2.38319769e-01,\n",
       "       -2.78452456e-02, -4.54487977e-03,  3.44373709e-02, -7.88580586e-02,\n",
       "        4.83528702e-02,  1.34146230e-01, -2.26308288e-02,  1.05099626e-01,\n",
       "       -7.40993649e-03, -4.87942395e-02,  3.52071387e-02,  8.12035916e-02,\n",
       "        1.72010690e-01,  6.93508339e-02,  6.43481861e-02, -1.37485166e-01,\n",
       "        1.07515168e-01,  1.28766892e-02,  7.76025071e-02, -1.33430818e-01,\n",
       "       -3.76589129e-02,  2.51849208e-01, -1.54277464e-01, -1.90264953e-02,\n",
       "        8.33321603e-02, -6.49871422e-03, -1.91341201e-01, -1.75522997e-01,\n",
       "       -1.27832211e-05,  6.43495658e-02, -3.47576654e-03, -1.04155923e-01,\n",
       "        1.06343014e-01, -1.95520107e-02,  9.64024491e-02,  1.40888995e-01,\n",
       "        6.74704180e-02,  5.19461616e-02,  5.22096538e-03, -1.08416345e-02,\n",
       "        3.75701391e-02, -9.65564881e-02, -4.85798971e-02,  2.56817486e-01,\n",
       "       -4.47234511e-02, -1.95943567e-01, -8.00035314e-02,  1.33727183e-01,\n",
       "       -2.54079012e-02, -2.87431815e-01,  1.01152710e-01,  1.68209415e-01,\n",
       "       -1.24102363e-01,  1.18624982e-01, -1.15495342e-03,  2.30316768e-02,\n",
       "       -3.05388275e-02, -1.81959202e-02,  9.89683693e-02,  5.22245372e-02,\n",
       "        1.80232368e-01, -1.61924173e-02, -1.04381215e-01, -1.27940574e-01,\n",
       "        2.08185820e-01,  2.79514644e-02, -5.68651713e-02,  7.68649772e-03,\n",
       "        1.25761686e-01,  8.45298120e-02, -1.32739843e-01, -3.14985273e-01,\n",
       "       -1.55335559e-02,  1.34979496e-01, -2.72218258e-02,  1.08280059e-01,\n",
       "       -1.30581878e-01,  1.08888122e-01,  4.10921839e-02,  1.00300594e-01,\n",
       "        4.53865173e-02,  4.69650773e-02, -1.98297880e-02,  4.36868485e-02,\n",
       "       -2.01343537e-01,  2.01801391e-01,  3.36279081e-02, -2.27526798e-02,\n",
       "       -4.56587313e-02,  1.38809140e-02, -4.31534567e-02, -7.64311377e-03,\n",
       "       -1.40950076e-01, -9.55792444e-02, -1.52810155e-02, -1.89913519e-01,\n",
       "        1.19732498e-01, -6.53414975e-02,  1.53645425e-01, -9.87359748e-02,\n",
       "       -4.83018537e-02, -7.12950252e-02, -5.52108699e-02,  1.79950462e-01,\n",
       "        5.55736935e-02,  4.38521133e-02, -4.00701812e-02, -1.67040126e-01,\n",
       "        7.71158244e-02,  2.14431163e-01, -5.76950465e-02, -6.76630420e-02,\n",
       "       -2.76404166e-02, -2.66848405e-02, -5.47723752e-02, -3.28288105e-02,\n",
       "        6.86371637e-02, -1.37807248e-01, -1.73571686e-01, -5.04676909e-02,\n",
       "       -1.87216944e-01,  7.37641400e-02, -6.61473216e-02, -2.69545341e-01,\n",
       "       -1.49142149e-01, -3.24386493e-02,  1.09795154e-02, -7.52431055e-02,\n",
       "       -2.27399605e-02, -1.76857697e-01,  1.21989442e-01, -3.26185047e-02,\n",
       "       -3.66018474e-02, -8.06430255e-02, -1.22764139e-01,  1.87852541e-01,\n",
       "        1.67654195e-01, -1.59773580e-01,  2.44320476e-01, -1.21505537e-01,\n",
       "       -8.62035812e-02, -1.79544834e-01,  8.55791049e-02, -2.36166520e-02,\n",
       "        4.18748009e-02,  1.88601486e-02,  6.71768204e-02, -1.15055711e-01,\n",
       "       -1.97671280e-01,  9.33365074e-02, -1.23640624e-01, -1.20472942e-01,\n",
       "        1.86310147e-02, -6.98011269e-02,  1.50189021e-01,  1.69970185e-01,\n",
       "        1.40919574e-02, -1.03088135e-01, -1.24204699e-01,  8.96551831e-02,\n",
       "       -4.65814636e-02, -2.81961312e-02,  8.18209956e-02, -1.03531217e-01,\n",
       "       -1.39629396e-01,  1.12887016e-01, -5.80030309e-02, -7.01340357e-02,\n",
       "        3.60213000e-02, -9.54362445e-02,  7.00718990e-02, -1.28810551e-01,\n",
       "       -8.46269447e-02,  1.04640938e-01, -1.61444440e-01,  4.24358558e-02,\n",
       "       -9.74361884e-02, -1.32020104e-01, -9.87542708e-02, -3.29795163e-02,\n",
       "       -1.69926250e-01, -1.36717570e-02, -1.13473105e-01,  4.86022588e-02,\n",
       "        4.45488016e-02, -7.40723772e-02,  1.04731191e-01,  3.88624270e-03,\n",
       "       -7.15749722e-03, -1.00605860e-01, -9.57989900e-02,  1.03967057e-01,\n",
       "        2.08095155e-01, -1.06725276e-01,  2.66376161e-02, -4.82199900e-03,\n",
       "        2.35394391e-02,  1.78422611e-01, -1.03963588e-01, -2.64136240e-02,\n",
       "       -9.97067823e-02, -2.98293764e-02, -9.00586907e-02,  4.03561861e-03,\n",
       "        1.83762623e-01,  1.08651605e-01, -1.44227674e-01, -1.14455049e-01,\n",
       "        2.10335045e-01, -1.49828758e-01, -4.35387331e-02,  6.81833691e-02,\n",
       "        5.43609567e-03, -1.42488257e-01,  5.08512890e-02, -2.28635907e-01,\n",
       "        9.97915343e-02,  6.64997544e-02, -7.15314305e-02, -1.08590825e-01,\n",
       "        9.35057898e-02,  3.08827065e-02,  1.72736406e-02,  2.63115147e-02,\n",
       "        1.10495526e-02,  4.37787370e-02,  6.17245239e-02, -5.78926352e-02,\n",
       "       -9.36289547e-02, -1.09839682e-01,  2.24317650e-01, -4.62877559e-02,\n",
       "       -1.33610010e-01, -1.42239014e-01,  1.02717737e-01, -5.96550232e-02,\n",
       "       -1.34685482e-01, -5.21707388e-02, -6.45244797e-02,  5.02921795e-02,\n",
       "       -6.50381272e-02, -1.61095328e-02,  1.43765279e-03,  4.87279392e-02,\n",
       "       -6.49998403e-02, -2.06878310e-01,  1.27578556e-01, -5.34549735e-02,\n",
       "       -9.78556752e-02, -4.04542005e-03, -5.86641751e-02,  1.19960370e-01,\n",
       "       -8.21189371e-02, -1.39060246e-01, -7.13724834e-02, -6.81856803e-03,\n",
       "       -1.73661100e-01,  1.30313819e-01, -6.00892548e-02, -8.73869759e-02,\n",
       "        5.72643521e-02,  1.30236423e-01, -3.39569189e-02, -1.12342949e-01,\n",
       "       -2.66718744e-02, -3.45976454e-02, -1.40471117e-04, -1.23164723e-01,\n",
       "        1.18526935e-01,  4.10811629e-04,  1.07711091e-01,  9.92106817e-02,\n",
       "        4.10404265e-02, -1.03741633e-01, -2.53758863e-02,  1.05804373e-01,\n",
       "        1.47765209e-01, -1.61520166e-02,  3.53330719e-02, -2.29149494e-02,\n",
       "       -1.19693666e-02,  2.39203121e-02,  1.34997878e-01,  8.51660993e-02,\n",
       "        1.50796657e-02, -3.87030800e-02, -5.72900164e-02, -2.28922790e-01,\n",
       "       -7.48513759e-02, -3.89800008e-02, -2.42487737e-02,  7.70327406e-02,\n",
       "        3.52697719e-02,  3.90082293e-02,  2.46658483e-02,  1.71031850e-02,\n",
       "       -2.81756261e-04, -7.76900232e-02,  4.16843980e-02,  3.48218886e-02,\n",
       "       -5.21586886e-02, -3.61875921e-02,  1.27445430e-01,  1.89309511e-02,\n",
       "        5.37310815e-02, -4.31608135e-02, -6.76991788e-04, -8.77212671e-02,\n",
       "       -6.04776317e-02, -5.88261482e-02, -1.68531854e-01,  6.53309554e-02,\n",
       "       -7.46887411e-02,  3.74307406e-03,  1.38965773e-01, -3.83858828e-03,\n",
       "        7.54041961e-02, -3.95746223e-02, -1.38348377e-02,  4.52758908e-02,\n",
       "        1.32428594e-01, -8.90097045e-02, -6.50395210e-02, -5.23141190e-02,\n",
       "       -2.24548794e-02,  1.48005570e-02,  3.64534312e-02, -1.15253929e-02,\n",
       "        1.16630293e-01,  5.15364274e-02, -8.16299715e-03, -8.05498694e-02,\n",
       "       -1.89524749e-01,  5.99043685e-02, -7.21860375e-02,  6.26130146e-02,\n",
       "       -8.24124369e-02, -8.34216674e-02, -5.37360927e-02,  2.39327068e-01,\n",
       "        1.49551344e-01,  1.18756660e-01, -1.17785761e-01,  1.43149490e-01,\n",
       "       -5.91882106e-02,  8.70705332e-02, -4.93664531e-03, -3.43092018e-02,\n",
       "        1.06550802e-01, -1.23347425e-02, -3.77844738e-02,  5.07515503e-02,\n",
       "        2.73885258e-02, -4.03737681e-02,  2.22791146e-02,  1.15854551e-01,\n",
       "       -8.85669981e-02, -1.44546053e-02,  1.43221210e-02, -7.35887061e-02,\n",
       "       -9.78723436e-03,  3.93877657e-02, -8.73781334e-02, -1.09633535e-01,\n",
       "        1.75651244e-01,  8.63908247e-02,  2.95519992e-01, -2.31961797e-02,\n",
       "        8.39909768e-02,  1.72714756e-01,  6.02444685e-03, -5.42403012e-02,\n",
       "       -4.68374028e-02,  5.64497930e-02, -5.34464079e-02,  7.06627661e-02,\n",
       "        1.52342571e-01,  6.48862020e-02,  1.01287079e-01,  7.47130878e-02,\n",
       "        6.20039154e-02,  2.62103960e-01,  9.44391889e-02, -1.44926901e-02,\n",
       "        7.58505550e-03, -2.25749631e-02,  2.40795115e-01, -4.52768292e-02,\n",
       "        2.02325505e-02, -8.82082230e-02,  8.53399153e-02,  1.84102237e-01,\n",
       "        7.23521382e-02,  8.45714256e-02, -1.97427885e-01, -2.11901440e-02,\n",
       "        1.21026205e-01,  1.18844674e-01, -8.81376209e-02, -5.06657633e-02,\n",
       "       -4.27450786e-02, -1.12863545e-01,  1.16039905e-01, -5.74884351e-02,\n",
       "       -1.89044980e-01,  1.53303113e-02,  9.54353616e-02, -8.35121453e-02,\n",
       "        5.57733556e-02, -1.27466421e-01,  2.08166700e-01, -1.21318964e-01,\n",
       "        1.23872763e-01, -5.61630055e-02, -8.04801685e-02, -9.63761013e-02,\n",
       "        1.13732165e-01,  1.06789388e-01, -1.32738611e-03,  8.55839655e-02,\n",
       "        6.05307589e-02,  2.56600939e-02,  5.38267444e-02, -2.01736363e-02,\n",
       "       -1.47172417e-01,  3.16106192e-02, -1.52549452e-03,  9.82812556e-02,\n",
       "       -1.64418233e-02, -1.06701937e-01, -3.21823798e-02,  5.00525508e-02,\n",
       "        1.28059753e-02, -2.50834587e-02, -2.48628824e-01,  1.08178352e-01,\n",
       "        1.67344801e-01,  8.12472690e-02,  1.45683956e-01, -5.73660808e-02,\n",
       "        1.15143297e-01, -4.68595029e-02, -1.36821630e-01, -7.39695623e-02,\n",
       "        2.19921267e-01,  1.03725233e-01, -3.76617627e-02, -5.32171549e-02,\n",
       "        3.95297763e-02, -1.38487827e-01, -2.30085100e-02, -1.65959815e-01,\n",
       "       -7.43004543e-02, -1.45971026e-01, -1.19016645e-01,  3.30138773e-02,\n",
       "        4.21275551e-02,  6.56972184e-02,  4.21263054e-02,  3.45853527e-02,\n",
       "       -3.83359132e-02, -4.37843347e-02,  2.94059641e-03,  8.37311494e-02,\n",
       "        1.01750938e-01,  5.32539167e-03,  7.72251063e-02, -6.14902817e-03,\n",
       "       -1.44936354e-01,  9.95734867e-02, -2.63628669e-02, -1.12914746e-01,\n",
       "        4.87586465e-02, -2.95142151e-02, -1.03873490e-01, -3.39016257e-02,\n",
       "        8.82109506e-02,  2.35967178e-02, -6.52722342e-02, -9.76002948e-02,\n",
       "        2.43035793e-02,  1.04502412e-01, -1.88256580e-02,  2.58487844e-02,\n",
       "        7.35169119e-02,  1.26740937e-02,  4.98680426e-02, -3.16104180e-02,\n",
       "       -3.98242688e-02,  1.71830835e-01,  9.24482445e-02,  5.55619176e-02,\n",
       "        1.85488362e-01,  5.24296018e-02,  6.43716180e-02,  1.52052097e-01,\n",
       "       -6.79518514e-02,  9.89902888e-02,  1.47372567e-01,  1.05458651e-02,\n",
       "       -8.42559903e-02, -1.25627691e-01,  5.84410034e-02, -5.41809073e-02,\n",
       "       -1.17948282e-01, -8.05437525e-02,  2.40993856e-02, -6.20239975e-02,\n",
       "       -9.37388984e-02,  1.51217057e-02, -1.54126524e-02,  7.31036679e-02,\n",
       "       -1.43213488e-01,  9.13238551e-02, -7.94165396e-02,  1.25061205e-01,\n",
       "       -1.30583909e-01, -4.04124735e-02, -2.67504419e-02, -2.85658342e-03,\n",
       "       -8.31668781e-02, -8.79729012e-02, -8.55626685e-03, -8.89553691e-02,\n",
       "       -6.02374119e-02,  7.34602437e-02, -8.86345864e-02, -7.86892621e-02,\n",
       "        8.39293283e-02, -7.54435237e-02,  3.41810823e-02,  2.40190210e-01,\n",
       "       -8.95030318e-03,  1.77925986e-01, -3.67246312e-02,  1.69634835e-01,\n",
       "        2.82415557e-02,  1.04251186e-02, -6.88913494e-02, -6.39755336e-02,\n",
       "        8.92198909e-02,  4.59509911e-02, -1.95115964e-02,  1.33768103e-01,\n",
       "        2.08898920e-02, -8.31905931e-02,  3.18577941e-01,  7.80357877e-02,\n",
       "        7.07911269e-02,  9.01193102e-02,  2.95115459e-01,  1.85851838e-01,\n",
       "        1.81429036e-01, -7.97106178e-02,  1.42111931e-02, -1.16923737e-02,\n",
       "       -1.98809516e-02,  6.88234920e-02,  5.77026515e-02, -9.72901115e-02,\n",
       "        1.23499045e-02,  4.99618303e-02, -1.21701109e-01, -1.32168038e-02,\n",
       "        1.31830902e-01,  9.51274653e-03, -8.45310183e-02,  2.23965333e-02,\n",
       "       -7.35737864e-02, -4.08865888e-02, -1.00684203e-01,  3.19292789e-03,\n",
       "        1.85733933e-01,  1.23044076e-01, -1.55992659e-02, -9.43406144e-03,\n",
       "        1.98491819e-02,  2.28407060e-02, -4.25672259e-02, -1.99491089e-02,\n",
       "        1.89403465e-01,  1.40449100e-01, -6.04082621e-02,  9.18230014e-02,\n",
       "       -2.04157723e-01, -1.01981928e-01, -1.49982325e-01, -8.23065013e-03,\n",
       "        1.79442756e-01,  4.49202410e-02, -1.05513753e-01,  1.47705265e-01,\n",
       "       -2.21633894e-03,  9.02065525e-02,  1.58760062e-01,  8.54171754e-02,\n",
       "       -1.03021016e-01,  2.19271054e-01,  1.87153301e-01,  9.91404316e-02,\n",
       "        3.45185688e-02, -1.02344328e-01,  1.09549938e-01,  7.09960032e-02,\n",
       "        3.07653523e-02, -1.45724909e-01, -9.20723174e-03, -6.15901163e-02,\n",
       "       -1.78913011e-01, -2.39492939e-02, -7.63085699e-02,  5.97638524e-02,\n",
       "        2.77872439e-02, -3.58810382e-02,  9.51898136e-02, -2.00895911e-01,\n",
       "       -9.01013784e-02, -3.86720221e-02, -2.80907539e-02,  4.41903055e-02,\n",
       "       -3.31081692e-03, -1.53104302e-02, -7.69007417e-02, -2.37021318e-02,\n",
       "        9.01093154e-02,  7.17421337e-02,  5.80203066e-02, -2.25590538e-02,\n",
       "       -5.54356610e-02, -3.41394676e-03,  7.57110986e-02,  1.71426131e-02,\n",
       "        1.22798559e-01, -9.35261100e-02, -1.33858814e-01,  1.16346661e-01,\n",
       "        8.18153624e-02, -8.69913925e-02,  2.50194930e-01,  1.83696217e-01,\n",
       "       -5.61760351e-02, -1.06078569e-01, -7.67726101e-02, -4.03581259e-02,\n",
       "       -4.83236712e-02, -6.99818768e-02, -1.25994640e-01,  1.07126310e-02,\n",
       "       -1.64366533e-02, -1.97611657e-01,  3.30619429e-02, -1.71899957e-01,\n",
       "       -1.88606120e-01, -7.27700017e-02, -4.08971155e-02, -3.26812781e-02,\n",
       "       -2.03737775e-02, -6.78605749e-02, -1.09182514e-01, -7.87338894e-02,\n",
       "        1.87065285e-01, -1.23071619e-01, -1.55693000e-01,  2.03185531e-03,\n",
       "        7.19899784e-02, -3.80717859e-02, -1.35845767e-02, -3.33827212e-02,\n",
       "        5.29156592e-02, -8.93049154e-02, -2.44912813e-02,  1.17302176e-01,\n",
       "        1.26879403e-02,  3.41487127e-02, -2.34222210e-01, -7.74564899e-02,\n",
       "       -7.41713765e-02,  8.48037929e-03, -1.30545949e-01, -5.88582114e-02,\n",
       "        2.41933902e-02,  2.62348755e-01, -5.39625912e-02,  1.29282047e-01,\n",
       "       -1.59704116e-02,  9.45011803e-02, -9.77748172e-02, -1.50852065e-01,\n",
       "        1.26704474e-01,  7.59221401e-02, -5.71985028e-02, -2.61409455e-02,\n",
       "        2.17346409e-03, -1.36455202e-01,  1.22677262e-02,  7.27744372e-02,\n",
       "        5.23137120e-02, -1.83421514e-01,  1.11577671e-01, -5.53260817e-02,\n",
       "       -8.29666419e-02,  4.67894728e-02,  5.70844974e-02,  5.78910254e-02,\n",
       "       -3.17822096e-02,  4.59282880e-02,  1.14421062e-01,  1.35878467e-02,\n",
       "        7.33394462e-02, -7.22162342e-02,  5.75974444e-03,  3.98376870e-02,\n",
       "       -3.44840344e-02,  1.03576186e-01,  1.56577089e-01, -4.13363028e-02,\n",
       "        1.98282511e-02, -5.86264232e-02, -2.15336274e-03, -9.51855547e-02,\n",
       "       -2.59594131e-01, -4.40644841e-02,  1.23986155e-01,  3.34255324e-02,\n",
       "       -7.56830835e-02,  1.92673893e-01, -4.82348842e-02, -2.51790669e-01,\n",
       "        3.52395090e-02, -9.32976809e-02, -1.34197162e-01,  2.27303126e-02])"
      ]
     },
     "execution_count": 4,
     "metadata": {},
     "output_type": "execute_result"
    }
   ],
   "source": [
    "b"
   ]
  },
  {
   "cell_type": "code",
   "execution_count": 10,
   "metadata": {},
   "outputs": [
    {
     "data": {
      "image/png": "[encoded data removed]",
      "text/plain": [
       "<Figure size 432x288 with 1 Axes>"
      ]
     },
     "metadata": {
      "needs_background": "light"
     },
     "output_type": "display_data"
    }
   ],
   "source": [
    "import matplotlib.pyplot as plt\n",
    "count, bins, ignored = plt.hist(b, 30, density=True)\n",
    "plt.plot(bins, 1/(sigma * np.sqrt(2 * np.pi)) *\n",
    "               np.exp( - (bins - mu)**2 / (2 * sigma**2) ),\n",
    "         linewidth=2, color='r')\n",
    "plt.show()"
   ]
  },
  {
   "cell_type": "markdown",
   "metadata": {},
   "source": [
    "#### 5. Exponential distribution"
   ]
  },
  {
   "cell_type": "markdown",
   "metadata": {},
   "source": [
    "Exponential Distribution is used to model the time taken between the occurrence of different events."
   ]
  },
  {
   "cell_type": "markdown",
   "metadata": {},
   "source": [
    "## 4.The use of seeds"
   ]
  },
  {
   "cell_type": "markdown",
   "metadata": {},
   "source": [
    "As I have mentioned before computers can't produce random numbers itself, they need human help. That is the reason why random numberes are deterministic which means that they operate by a set of rules, and we call them pseudorandom numbers. The pseudorandom number generator is a mathematical function that generates a sequence of nearly random numbers. It takes a parameter to start off the sequence, called the seed. As the function is deterministic, the same seed will produce the same sequence of numbers every time. https://yourbasic.org/algorithms/random-number-generator-seed/\n",
    "\n",
    "\"A random seed specifies the start point when a computer generates a random number sequence. This can be any number, but it usually comes from seconds on a computer system’s clock (Henkemans & Lee, 2001).\" \n",
    "\n",
    "Quote taken from:https://www.statisticshowto.datasciencecentral.com/random-seed-definition/\n",
    "\n",
    "Generally, the seed value is the previous number generated by the generator. However, when the first time you use the random generator, there is no previous value. So by-default current system time is used as a seed value.  The random module uses the seed value as a base to generate a random number.https://pynative.com/python-random-seed/ \n",
    "\n",
    "Syntax of random.seed()\n",
    "\n",
    "If the seed=None,  then by default, current system time is used. If seed value is in the form of an integer it is used as it is. This method is called when RandomState is initialized. It can be called again to re-seed the generator. RandomState exposes a number of methods for generating random numbers drawn from a variety of probability distributions. In addition to the distribution-specific arguments, each method takes a keyword argument size that defaults to None.\n",
    "\n",
    "- If size is None, then a single value is generated and returned.\n",
    "- If size is an integer, then a 1-D array filled with generated values is returned. \n",
    "- If size is a tuple, then an array with that shape is filled and returned.\n",
    "\n",
    "https://docs.scipy.org/doc/numpy-1.16.0/reference/generated/numpy.random.RandomState.html#numpy.random.RandomState\n",
    "\n",
    "I will show an example which generates the same output every time using random.seed()\n",
    "\n"
   ]
  },
  {
   "cell_type": "code",
   "execution_count": 4,
   "metadata": {},
   "outputs": [
    {
     "name": "stdout",
     "output_type": "stream",
     "text": [
      "Random number with seed 30\n",
      "first -  59\n",
      "Second -  59\n",
      "Third -  59\n"
     ]
    }
   ],
   "source": [
    "# code adjusted from:https://pynative.com/python-random-seed/\n",
    "#import random library\n",
    "import random\n",
    "\n",
    "print (\"Random number with seed 30\")\n",
    "random.seed( 30 )\n",
    "print (\"first - \", random.randint(25,60))\n",
    "\n",
    "#will generate a same random number as previous\n",
    "random.seed( 30 )\n",
    "print (\"Second - \", random.randint(25,60))\n",
    "\n",
    "#will generate a same random number as previous\n",
    "random.seed( 30 )\n",
    "print (\"Third - \", random.randint(25,60))"
   ]
  },
  {
   "cell_type": "markdown",
   "metadata": {},
   "source": [
    "As it is shown in the example above we can see 3 outputs with the number 59. In all 3 situations the seed was 30 which means the output was the same although radint function was called. Random.radint function returns random integers from low (inclusive) to high (exclusive) which means that all integers from 25 to 50 (not included) could be returned as output with the seed 30, but in all three situations we got the same output (59)"
   ]
  },
  {
   "cell_type": "code",
   "execution_count": 3,
   "metadata": {},
   "outputs": [
    {
     "name": "stdout",
     "output_type": "stream",
     "text": [
      "Random number with seed 30\n",
      "first -  59\n",
      "Second -  43\n",
      "Third -  59\n"
     ]
    }
   ],
   "source": [
    "# code adjusted from: https://pynative.com/python-random-seed/\n",
    "# import random library\n",
    "import random\n",
    "\n",
    "print (\"Random number with seed 30\")\n",
    "random.seed( 30 ) #first call\n",
    "print (\"first - \", random.randint(25,60))\n",
    "\n",
    "#generate a different random number as previous value is used as a seed\n",
    "print (\"Second - \", random.randint(25,60))\n",
    "\n",
    "#will generate a same random number as first one because seed value is same\n",
    "random.seed( 30 ) # second call\n",
    "print (\"Third - \", random.randint(25,60))"
   ]
  },
  {
   "cell_type": "markdown",
   "metadata": {},
   "source": [
    "In the example above we can see that the second output is different because the first output (59) is taken as a seed in the second case. The seed in second case was 59 and that number used as a seed generated different output (43). It the second case function random.seed( 30 ) is omitted and then by default previous output was used as a seed. In this example I used randint function to generate random integers, but other functions can be used as well, for example, random.choice, or random.sample.\n",
    "\n",
    "There are algorithms that generate numbers which are based on distributions like the Bernoulli distribution or Poisson distribution and they follow repeated pattern.  "
   ]
  },
  {
   "cell_type": "code",
   "execution_count": null,
   "metadata": {},
   "outputs": [],
   "source": []
  }
 ],
 "metadata": {
  "kernelspec": {
   "display_name": "Python 3",
   "language": "python",
   "name": "python3"
  },
  "language_info": {
   "codemirror_mode": {
    "name": "ipython",
    "version": 3
   },
   "file_extension": ".py",
   "mimetype": "text/x-python",
   "name": "python",
   "nbconvert_exporter": "python",
   "pygments_lexer": "ipython3",
   "version": "3.7.3"
  }
 },
 "nbformat": 4,
 "nbformat_minor": 2
}
