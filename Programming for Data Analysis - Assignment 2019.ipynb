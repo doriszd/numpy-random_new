{
 "cells": [
  {
   "cell_type": "markdown",
   "metadata": {},
   "source": [
    "# Programming for Data Analysis\n",
    "\n",
    "# Assignment 2019\n",
    "\n",
    "# Numpy Package"
   ]
  },
  {
   "cell_type": "markdown",
   "metadata": {},
   "source": [
    "# Introduction"
   ]
  },
  {
   "cell_type": "markdown",
   "metadata": {},
   "source": [
    "Random numbers have been used for many thousands of years. Whether we talk about flipping a coin or rolling a dice, the goal is to leave the end result up to random chance. It is the same case with random number generators in a computer. The aim is to achieve an unpredictable, random result that could not be guessed. Computers generate random numbers for everything from cryptography to gambling. There are two categories of random numbers, “true” random numbers and pseudorandom numbers. Its difference is important for the security of encryption systems. To generate a “true” random number, the computer measures some type of physical phenomenon that takes place outside of the computer. For example the computer could rely on atmospheric noise or simply use the exact time you press keys on your keyboard as a source of unpredictable data (www.howtogeek.com). This type of random numbers is mostly used in programs in which data security is main priority. In this work we are going to focus more on pseudorandom numbers as they are a sample of numbers that look close to true random numbers but were generated using some deterministic process (machinelearningmastery.com).  Pseudorandom number generators (PRNGs) refer to an algorithm that uses mathematical formulas to produce sequences of random numbers (www.geeksforgeeks.org)\n"
   ]
  },
  {
   "cell_type": "markdown",
   "metadata": {},
   "source": [
    "   NumPy is a library for the Python programing language. It is intrinsically integrated with Python (en.wikipedia.org). It is a successor for two earlier scientific libraries, Numeric code and Numarray.https://docs.scipy.org/doc/numpy-1.14.0/index.html As NumPy, its initial release was in 2006. The primary creator of NumPy is American data scientist and businessman, Travis Oliphant. NumPy is a distributed, volunteer, open-source project, and everyone is welcome to give their contribution. \n",
    "Some of the features that NumPy contains are powerful N-dimensional array objects, sophisticated functions, tools for integrating C/C++ and Fortran code and many others. Besides its obvious scientific uses, NumPy can also be used as an efficient multi-dimensional container of generic data. Arbitrary data-types can be defined. This allows NumPy to seamlessly and speedily integrate with a wide variety of databases.https://docs.scipy.org/doc/numpy-1.14.0/about.html\n",
    "\n",
    "   The aim of this work is to focus on NumPy random package and its features. "
   ]
  }
 ],
 "metadata": {
  "kernelspec": {
   "display_name": "Python 3",
   "language": "python",
   "name": "python3"
  },
  "language_info": {
   "codemirror_mode": {
    "name": "ipython",
    "version": 3
   },
   "file_extension": ".py",
   "mimetype": "text/x-python",
   "name": "python",
   "nbconvert_exporter": "python",
   "pygments_lexer": "ipython3",
   "version": "3.7.3"
  }
 },
 "nbformat": 4,
 "nbformat_minor": 2
}
