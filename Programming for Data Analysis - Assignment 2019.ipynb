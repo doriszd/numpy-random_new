{
 "cells": [
  {
   "cell_type": "markdown",
   "metadata": {},
   "source": [
    "# Programming for Data Analysis\n",
    "\n",
    "\n",
    "\n"
   ]
  },
  {
   "cell_type": "markdown",
   "metadata": {},
   "source": [
    "## What are random numbers?"
   ]
  },
  {
   "cell_type": "markdown",
   "metadata": {},
   "source": [
    "![random numbers](new.png)"
   ]
  },
  {
   "cell_type": "markdown",
   "metadata": {},
   "source": [
    "\n",
    "\n",
    "Random numbers have been used for many thousands of years. Whether we talk about flipping a coin or rolling a dice, the goal is to leave the end result up to random chance. It is the same case with random number generators in a computer. The aim is to achieve an unpredictable, random result that could not be guessed. Computers generate random numbers for everything from cryptography to gambling. There are two categories of random numbers, “true” random numbers and pseudorandom numbers. Its difference is important for the security of encryption systems. To generate a “true” random number, the computer measures some type of physical phenomenon that takes place outside of the computer. For example the computer could rely on atmospheric noise or simply use the exact time you press keys on your keyboard as a source of unpredictable data (www.howtogeek.com). This type of random numbers is mostly used in programs in which data security is main priority. In this work we are going to focus more on pseudorandom numbers as they are a sample of numbers that look close to true random numbers but were generated using some deterministic process (machinelearningmastery.com).  Pseudorandom number generators (PRNGs) refer to an algorithm that uses mathematical formulas to produce sequences of random numbers (www.geeksforgeeks.org). One of the ways to generate random numbers is by using NumPy random numbers package. For that purpose, NumPy provides various routines that use particular algorithm to generate pseudorandom numbers.In order to dive in it into more details, in the next few paragraphs I will be focusing more on NumPy library and its features. \n"
   ]
  },
  {
   "cell_type": "markdown",
   "metadata": {},
   "source": [
    "##  NumPy package\n",
    "  \n",
    "  NumPy (Numerical Python) is a library for the Python programing language. It is intrinsically integrated with Python (en.wikipedia.org). It is a successor for two earlier scientific libraries, Numeric code and Numarray.https://docs.scipy.org/doc/numpy-1.14.0/index.html As NumPy, its initial release was in 2006. The primary creator of NumPy is American data scientist and businessman, Travis Oliphant. NumPy is a distributed, volunteer, open-source project, and everyone is welcome to give their contribution. \n",
    "Some of the features that NumPy contains are powerful N-dimensional array objects, sophisticated functions, tools for integrating C/C++ and Fortran code and many others. Besides its obvious scientific uses, NumPy can also be used as an efficient multi-dimensional container of generic data. Arbitrary data-types can be defined. This allows NumPy to seamlessly and speedily integrate with a wide variety of databases.https://docs.scipy.org/doc/numpy-1.14.0/about.html\n",
    "\n",
    "At the core of the NumPy package, is the ndarray object. This encapsulates n-dimensional arrays of homogeneous data types, with many operations being performed in compiled code for performance. There are several important differences between NumPy arrays and the standard Python sequences:\n",
    "\n",
    "- NumPy arrays have a fixed size at creation while Python lists can grow dynamically. Changing the size of an ndarray will create a new array and delete the original. There are some NumPy’s benefits over Python lists, which include: being more compact, faster access in reading and writing items, being more convenient and more efficient (https://towardsdatascience.com).\n",
    "\n",
    "- The elements in a NumPy array are all required to be of the same data type, and thus will be the same size in memory. \n",
    "\n",
    "- NumPy arrays facilitate advanced mathematical and other types of operations on large numbers of data. Typically, such operations are executed more efficiently and with less code than is possible using Python’s built-in sequences.\n",
    "\n",
    "- In order to efficiently use most of today’s scientific/mathematical Python-based software, just knowing how to use Python’s built-in sequence types is insufficient, it is also crucial to know how to use NumPy arrays (https://numpy.org).\n",
    "\n",
    " "
   ]
  },
  {
   "cell_type": "markdown",
   "metadata": {},
   "source": [
    "In the next paragraphs I will show some of more important attributes of an ndarray object:\n",
    "\n",
    "##### 1. ndarray.ndim\n",
    "\n",
    "This function returns the number of axes or dimensions of the array. In order to use ndarray.ndim function I have to import numpy package first. This is an example of one-dimensional array. The list of numbers from 4 to 7. "
   ]
  },
  {
   "cell_type": "code",
   "execution_count": 193,
   "metadata": {},
   "outputs": [],
   "source": [
    "# Import numpy as np\n",
    "import numpy as np\n",
    "# numpy.array function is used to generate numbers\n",
    "a = np.array([4, 5, 6, 7])"
   ]
  },
  {
   "cell_type": "code",
   "execution_count": 194,
   "metadata": {},
   "outputs": [
    {
     "data": {
      "text/plain": [
       "array([4, 5, 6, 7])"
      ]
     },
     "execution_count": 194,
     "metadata": {},
     "output_type": "execute_result"
    }
   ],
   "source": [
    "# Call the value a\n",
    "a"
   ]
  },
  {
   "cell_type": "code",
   "execution_count": 195,
   "metadata": {},
   "outputs": [
    {
     "data": {
      "text/plain": [
       "1"
      ]
     },
     "execution_count": 195,
     "metadata": {},
     "output_type": "execute_result"
    }
   ],
   "source": [
    "# Number of axes of the array    \n",
    "a.ndim"
   ]
  },
  {
   "cell_type": "markdown",
   "metadata": {},
   "source": [
    "##### 2. ndarray.shape\n",
    "\n",
    "This function returns the dimensions of the array. In this situation we got output 4 which means it is one-dimensional array with 4 elements in it. "
   ]
  },
  {
   "cell_type": "code",
   "execution_count": 196,
   "metadata": {},
   "outputs": [
    {
     "data": {
      "text/plain": [
       "(4,)"
      ]
     },
     "execution_count": 196,
     "metadata": {},
     "output_type": "execute_result"
    }
   ],
   "source": [
    "# Dimensions of the array\n",
    "a.shape"
   ]
  },
  {
   "cell_type": "markdown",
   "metadata": {},
   "source": [
    "##### 3. ndarray.size\n",
    "\n",
    "This function shows the total number of elements in the array. It is equal to the number of elements of ndarray.shape."
   ]
  },
  {
   "cell_type": "code",
   "execution_count": 197,
   "metadata": {},
   "outputs": [
    {
     "data": {
      "text/plain": [
       "4"
      ]
     },
     "execution_count": 197,
     "metadata": {},
     "output_type": "execute_result"
    }
   ],
   "source": [
    "# Total number of elements in the array\n",
    "a.size"
   ]
  },
  {
   "cell_type": "markdown",
   "metadata": {},
   "source": [
    "##### 4.ndarray.dtype\n",
    "\n",
    "This function describes the type of elements in the array. It tells us if the element is for example integer or float. NumPy provides types of its own (int32, int64, float64...). This type of element is int32. "
   ]
  },
  {
   "cell_type": "code",
   "execution_count": 198,
   "metadata": {},
   "outputs": [
    {
     "data": {
      "text/plain": [
       "dtype('int32')"
      ]
     },
     "execution_count": 198,
     "metadata": {},
     "output_type": "execute_result"
    }
   ],
   "source": [
    "# Type of elements in the array\n",
    "a.dtype"
   ]
  },
  {
   "cell_type": "markdown",
   "metadata": {},
   "source": [
    "##### 5.ndarray.itemsize\n",
    "\n",
    "This function shows the size in bytes of each element of the array. For example, an array of elements of type float64 has itemsize 8 (=64/8). In this case as we got an output that this array type is int32 which means that its itemsize is 4 bytes (32/8=4). "
   ]
  },
  {
   "cell_type": "code",
   "execution_count": 199,
   "metadata": {},
   "outputs": [
    {
     "data": {
      "text/plain": [
       "4"
      ]
     },
     "execution_count": 199,
     "metadata": {},
     "output_type": "execute_result"
    }
   ],
   "source": [
    "# Size in bytes of each element of the array\n",
    "a.itemsize"
   ]
  },
  {
   "cell_type": "markdown",
   "metadata": {},
   "source": [
    "###### 6.np.arrange\n",
    "\n",
    "Return evenly spaced values within a given interval. Values are generated within the half-open interval [start, stop)  For integer arguments the function is equivalent to the Python built-in range function, but returns an ndarray rather than a list. In this example the range is from 0 to 5 where 5 is not included."
   ]
  },
  {
   "cell_type": "code",
   "execution_count": 46,
   "metadata": {},
   "outputs": [
    {
     "data": {
      "text/plain": [
       "array([0, 1, 2, 3, 4])"
      ]
     },
     "execution_count": 46,
     "metadata": {},
     "output_type": "execute_result"
    }
   ],
   "source": [
    "np.arange(5)"
   ]
  },
  {
   "cell_type": "markdown",
   "metadata": {},
   "source": [
    "## Why is NumPy fast?\n",
    "\n",
    "Vectorization describes the absence of any explicit looping, indexing or other features in the code, these things are taking place “behind the scenes” in pre-compiled C code. The advantages of vectorized code are:\n",
    "\n",
    "- vectorized code is easier and more concise to read\n",
    "\n",
    "- fewer lines of code generally means fewer bugs\n",
    "\n",
    "- the code resembles standard mathematical notation \n",
    "\n",
    "- vectorization results in more “Pythonic” code. Without vectorization, our code would be littered with inefficient and difficult to read for loops.\n",
    "\n",
    "Broadcasting is the term used to describe the implicit element-by-element behavior of operations. In NumPy all operations, not just arithmetic operations, but also logical, bit-wise, functional, etc., behave in this implicit element-by-element fashion,  they broadcast. You can read more about numpy package here: https://numpy.org/devdocs/user/whatisnumpy.html"
   ]
  },
  {
   "cell_type": "markdown",
   "metadata": {},
   "source": [
    "## Section 1 - Numpy.random package\n",
    "\n"
   ]
  },
  {
   "cell_type": "markdown",
   "metadata": {},
   "source": [
    "As mentioned before, the focus of this project is to focus on pseudorandom numbers as they are a sample of numbers that look close to true random numbers but are generated using some deterministic process. As computers can not produce random numbers itself, they need packages and algorithms that would deal with it. Numpy.random rackage is one of the libraries in Python that generates pseudorandom data. \n",
    "\n",
    "Within the package there are many different functions and distributions. You can find more information about numpy.random package and its features here: https://docs.scipy.org/doc/numpy-1.15.0/reference/routines.random.html#\n",
    "\n",
    "Numpy.random package consists of 4 parts:\n",
    "\n",
    "##### 1. Simple random data\n",
    "##### 2. Permutations\n",
    "##### 3. Distributions\n",
    "##### 4. Random generator\n",
    "\n",
    "\n",
    "Each of these sections will be discussed in more details in the text below. In the next paragraph I will talk about the use of Simple random data and Permutations. "
   ]
  },
  {
   "cell_type": "markdown",
   "metadata": {},
   "source": [
    "## Section 2 - Simple random data and Permutations"
   ]
  },
  {
   "cell_type": "markdown",
   "metadata": {},
   "source": [
    "Simple random data functions:\n",
    "\n",
    "\n",
    "- rand(d0, d1, …, dn) - Random values in a given shape.\n",
    "- randn(d0, d1, …, dn) - Return a sample (or samples) from the “standard normal” distribution.\n",
    "- randint(low[, high, size, dtype]) - Return random integers from low (inclusive) to high (exclusive).\n",
    "- random_integers(low[, high, size]) - Random integers of type np.int between low and high, inclusive.\n",
    "- random_sample([size]) - Return random floats in the half-open interval [0.0, 1.0).\n",
    "- random([size]) - Return random floats in the half-open interval [0.0, 1.0).\n",
    "- ranf([size]) - Return random floats in the half-open interval [0.0, 1.0).\n",
    "- sample([size]) - Return random floats in the half-open interval [0.0, 1.0).\n",
    "- choice(a[, size, replace, p]) - Generates a random sample from a given 1-D array\n",
    "- bytes(length) - Return random bytes.\n",
    "\n",
    "Each of these functions will be explained in details below, but you can also find more information about simple random data and Permutation functions here: https://docs.scipy.org/doc/numpy-1.15.0/reference/routines.random.html"
   ]
  },
  {
   "cell_type": "markdown",
   "metadata": {},
   "source": [
    "##### numpy.random.rand"
   ]
  },
  {
   "cell_type": "markdown",
   "metadata": {},
   "source": [
    "This function gives random values in a given shape. It creates an array of the given shape and populates it with given samples \n",
    "from a uniform distribution. Uniform distribution means that each number has equal chances to be generated. Numbers 4 and 2 signify 4 rows and 2 columns. "
   ]
  },
  {
   "cell_type": "code",
   "execution_count": 200,
   "metadata": {},
   "outputs": [],
   "source": [
    "# Import numpy package as np \n",
    "import numpy as np\n",
    "# Numpy random function \"rand\" is defined as b\n",
    "b = np.random.rand(4,2)"
   ]
  },
  {
   "cell_type": "code",
   "execution_count": 201,
   "metadata": {},
   "outputs": [
    {
     "data": {
      "text/plain": [
       "array([[0.64966079, 0.75233774],\n",
       "       [0.80605113, 0.0163499 ],\n",
       "       [0.42686001, 0.44683109],\n",
       "       [0.30368714, 0.90967856]])"
      ]
     },
     "execution_count": 201,
     "metadata": {},
     "output_type": "execute_result"
    }
   ],
   "source": [
    "# Call the function b - result returned 4 arrays with 2 elements in each.\n",
    "b"
   ]
  },
  {
   "cell_type": "markdown",
   "metadata": {},
   "source": [
    "##### numpy.random.randn"
   ]
  },
  {
   "cell_type": "markdown",
   "metadata": {},
   "source": [
    "This function returns a sample or more samples from the “standard normal” distribution. A single float randomly sampled from the distribution is returned if no argument is provided."
   ]
  },
  {
   "cell_type": "code",
   "execution_count": 202,
   "metadata": {},
   "outputs": [],
   "source": [
    "# Import numpy package as np\n",
    "import numpy as np\n",
    "# Numpy random function randn is defined as b\n",
    "b = np.random.randn()"
   ]
  },
  {
   "cell_type": "code",
   "execution_count": 203,
   "metadata": {},
   "outputs": [
    {
     "data": {
      "text/plain": [
       "0.12495278110702084"
      ]
     },
     "execution_count": 203,
     "metadata": {},
     "output_type": "execute_result"
    }
   ],
   "source": [
    "# Call the function b - float number returned\n",
    "b"
   ]
  },
  {
   "cell_type": "markdown",
   "metadata": {},
   "source": [
    "##### numpy.random.randint"
   ]
  },
  {
   "cell_type": "markdown",
   "metadata": {},
   "source": [
    "This function returns random integers from low (inclusive) to high (exclusive). It returns random integers from discrete uniform distribution. As you can see in the example below we got 2 arrays with 4 elements in each. All numbers are in range from 0 to 5 (not including 5)."
   ]
  },
  {
   "cell_type": "code",
   "execution_count": 204,
   "metadata": {},
   "outputs": [],
   "source": [
    "# Import numpy package as np\n",
    "import numpy as np\n",
    "# Numpy random function randint (random integer) is defined as b\n",
    "b = np.random.randint(5, size=(2, 4))"
   ]
  },
  {
   "cell_type": "code",
   "execution_count": 205,
   "metadata": {},
   "outputs": [
    {
     "data": {
      "text/plain": [
       "array([[4, 4, 4, 0],\n",
       "       [0, 3, 4, 2]])"
      ]
     },
     "execution_count": 205,
     "metadata": {},
     "output_type": "execute_result"
    }
   ],
   "source": [
    "# Call the function b - 2 arrays with 4 elements returned\n",
    "b"
   ]
  },
  {
   "cell_type": "markdown",
   "metadata": {},
   "source": [
    "##### numpy.random.random_integers"
   ]
  },
  {
   "cell_type": "markdown",
   "metadata": {},
   "source": [
    "As we can see above, when using randint function high integer is exclusive, while using random_integers high integer is inclusive. So this function is very similar to randint function. In this case there are 3 rows, each row has 2 elements in it and high integer is included. "
   ]
  },
  {
   "cell_type": "code",
   "execution_count": 206,
   "metadata": {},
   "outputs": [
    {
     "name": "stderr",
     "output_type": "stream",
     "text": [
      "C:\\Users\\gener\\Anaconda4\\lib\\site-packages\\ipykernel_launcher.py:4: DeprecationWarning: This function is deprecated. Please call randint(1, 5 + 1) instead\n",
      "  after removing the cwd from sys.path.\n"
     ]
    }
   ],
   "source": [
    "# Import numpy package as np\n",
    "import numpy as np\n",
    "# Numpy random function random_integers is defined as c\n",
    "c = np.random.random_integers(5, size=(3,2))"
   ]
  },
  {
   "cell_type": "code",
   "execution_count": 207,
   "metadata": {},
   "outputs": [
    {
     "data": {
      "text/plain": [
       "array([[1, 3],\n",
       "       [1, 1],\n",
       "       [3, 3]])"
      ]
     },
     "execution_count": 207,
     "metadata": {},
     "output_type": "execute_result"
    }
   ],
   "source": [
    "# Call the function c - 3 arrays with 2 elements returned\n",
    "c"
   ]
  },
  {
   "cell_type": "markdown",
   "metadata": {},
   "source": [
    "##### numpy.random.random_sample,  numpy.random.random,  numpy.random.ranf,  numpy.random_sample"
   ]
  },
  {
   "cell_type": "markdown",
   "metadata": {},
   "source": [
    "These 4 functions return floats. Results are from the “continuous uniform” distribution over the stated interval. I will show two examples of these functions. In the first case using random_sample function it gives back random floats in the half-open interval from 0.0 to 1.0. In this case I got back float."
   ]
  },
  {
   "cell_type": "code",
   "execution_count": 208,
   "metadata": {},
   "outputs": [],
   "source": [
    "# Import numpy package as np\n",
    "import numpy as np\n",
    "# Numpy random function random sample is defined as b\n",
    "b = np.random.random_sample()"
   ]
  },
  {
   "cell_type": "code",
   "execution_count": 209,
   "metadata": {},
   "outputs": [
    {
     "data": {
      "text/plain": [
       "0.7763479306485647"
      ]
     },
     "execution_count": 209,
     "metadata": {},
     "output_type": "execute_result"
    }
   ],
   "source": [
    "# Call the function b - float returned\n",
    "b"
   ]
  },
  {
   "cell_type": "markdown",
   "metadata": {},
   "source": [
    "In the second example, we got 5 different arrays, all of them are in the range from 0.0 to 1.0.  Results are also chosen from the “continuous uniform” distribution."
   ]
  },
  {
   "cell_type": "code",
   "execution_count": 210,
   "metadata": {},
   "outputs": [],
   "source": [
    "# Import numpy package as np\n",
    "import numpy as np\n",
    "# Numpy random function random sample is defined as b\n",
    "b = np.random.random_sample((5,))"
   ]
  },
  {
   "cell_type": "code",
   "execution_count": 211,
   "metadata": {},
   "outputs": [
    {
     "data": {
      "text/plain": [
       "array([0.77585914, 0.81323023, 0.9676671 , 0.7016743 , 0.27087352])"
      ]
     },
     "execution_count": 211,
     "metadata": {},
     "output_type": "execute_result"
    }
   ],
   "source": [
    "# Call the function b - 5 arrays in range from 0.0 to 1.0\n",
    "b"
   ]
  },
  {
   "cell_type": "markdown",
   "metadata": {},
   "source": [
    "##### numpy.random.choice"
   ]
  },
  {
   "cell_type": "markdown",
   "metadata": {},
   "source": [
    "This function generates a random sample from a given 1-D array. There are 4 different parameters a : 1-D array-like or int, size : int or tuple of ints, optional, replace : boolean, optional, p : 1-D array-like, optional. In the example below I got an array of 3 elements in interval from 0 to 5."
   ]
  },
  {
   "cell_type": "code",
   "execution_count": 212,
   "metadata": {},
   "outputs": [],
   "source": [
    "# Import numpy package as np\n",
    "import numpy as np\n",
    "# Numpy random function choice is defined as b\n",
    "b = np.random.choice(5, 3)"
   ]
  },
  {
   "cell_type": "code",
   "execution_count": 213,
   "metadata": {},
   "outputs": [
    {
     "data": {
      "text/plain": [
       "array([4, 4, 4])"
      ]
     },
     "execution_count": 213,
     "metadata": {},
     "output_type": "execute_result"
    }
   ],
   "source": [
    "# Call the function b - random choice integer in a range from 0 to 5 returned.\n",
    "b"
   ]
  },
  {
   "cell_type": "markdown",
   "metadata": {},
   "source": [
    "##### numpy.random.bytes"
   ]
  },
  {
   "cell_type": "markdown",
   "metadata": {},
   "source": [
    "This function returns random bytes. "
   ]
  },
  {
   "cell_type": "code",
   "execution_count": 214,
   "metadata": {},
   "outputs": [],
   "source": [
    "# Import numpy package as np\n",
    "import numpy as np\n",
    "# Numpy random function bytes is defined as b\n",
    "b = np.random.bytes(10)"
   ]
  },
  {
   "cell_type": "code",
   "execution_count": 215,
   "metadata": {},
   "outputs": [
    {
     "data": {
      "text/plain": [
       "b'\\xde\\xe4\\x03p!\\xa6\\xd0\\x04k\\xe7'"
      ]
     },
     "execution_count": 215,
     "metadata": {},
     "output_type": "execute_result"
    }
   ],
   "source": [
    "# Call the function b - string of length returned\n",
    "b"
   ]
  },
  {
   "cell_type": "markdown",
   "metadata": {},
   "source": [
    "### Permutations"
   ]
  },
  {
   "cell_type": "markdown",
   "metadata": {},
   "source": [
    "A random permutation is a random ordering of a set of objects, that is, a permutation-valued random variable. The use of random permutations is often fundamental to fields that use randomized algorithms such as coding theory, cryptography, and simulation. A good example of a random permutation is the shuffling of a deck of cards: this is ideally a random permutation of the 52 cards.https://en.wikipedia.org/wiki/Random_permutation\n",
    "A permutation, also called an “arrangement number” or “order”, is a rearrangement of the elements of an ordered list. This method takes a list as an input and return an object list of tuples that contain all permutation in a list form. https://www.geeksforgeeks.org/permutation-and-combination-in-python/ There are 2 permutation functions: shuffle(x) and permutation(x). \n",
    "\n",
    "##### numpy.random.shuffle(x)  "
   ]
  },
  {
   "cell_type": "markdown",
   "metadata": {},
   "source": [
    "This function shuffles the array along the first axis of a multi-dimensional array. The order of sub-arrays is changed but their contents remains the same. In the example below I defined b as interval from 0 to 15 (15 is not included). Using random.shuffle function it returned the list of random numbers from 0 to 15 (not included) in random order. "
   ]
  },
  {
   "cell_type": "code",
   "execution_count": 216,
   "metadata": {},
   "outputs": [
    {
     "data": {
      "text/plain": [
       "array([10,  4,  9,  2,  3,  1,  5,  7, 12,  8, 13, 11, 14,  6,  0])"
      ]
     },
     "execution_count": 216,
     "metadata": {},
     "output_type": "execute_result"
    }
   ],
   "source": [
    "# Import numpy as np\n",
    "import numpy as np\n",
    "# I defined b as a range of all numbers from 0 to 14 (included)\n",
    "b = np.arange(15)\n",
    "# using numpy random.shuffle function numbers from 0 to 14 are shuffled in random order\n",
    "np.random.shuffle(b)\n",
    "# print all numbers in random order from 0 to 14 (included)\n",
    "b"
   ]
  },
  {
   "cell_type": "markdown",
   "metadata": {},
   "source": [
    "In the second example there are multi-dimensional arrays that are only shuffled along the first axis. There are 5 arrays that have 3 elements. In the first part there are 5 arrays which are in order from 0 to 14 (included). In the second part of the code there is a multi-dimensional array that doesn't start with 0 like the previous one. There are still 5 arrays with 3 elements in them, but the numbers have changed their order. The first array starts with 12 and continues to 13 and 14, the second arrays starts with 3 and it goes up to 5 and so on. From this example we can see that the numbers have been shuffled along the first axis. "
   ]
  },
  {
   "cell_type": "code",
   "execution_count": 217,
   "metadata": {},
   "outputs": [
    {
     "name": "stdout",
     "output_type": "stream",
     "text": [
      "Before Shufflling multi-dimensional array\n",
      "[[ 0  1  2]\n",
      " [ 3  4  5]\n",
      " [ 6  7  8]\n",
      " [ 9 10 11]\n",
      " [12 13 14]]\n",
      "After Shufflling multi-dimensional array\n",
      "[[ 6  7  8]\n",
      " [ 3  4  5]\n",
      " [ 9 10 11]\n",
      " [12 13 14]\n",
      " [ 0  1  2]]\n"
     ]
    }
   ],
   "source": [
    "# Code adjusted from: https://pynative.com/python-random-shuffle/\n",
    "# Import numpy as np\n",
    "import numpy as np\n",
    "print(\"Before Shufflling multi-dimensional array\")\n",
    "#\n",
    "b = np.arange(15).reshape((5, 3))\n",
    "print(b)\n",
    "\n",
    "print (\"After Shufflling multi-dimensional array\")\n",
    "b_new = np.random.shuffle(b)\n",
    "print(b)"
   ]
  },
  {
   "cell_type": "markdown",
   "metadata": {},
   "source": [
    "#### numpy.random.permutation(x)"
   ]
  },
  {
   "cell_type": "markdown",
   "metadata": {},
   "source": [
    "numpy.random.permutation function randomly permute a sequence, or return a permuted range. If x is a multi-dimensional array, it is only shuffled along its first index."
   ]
  },
  {
   "cell_type": "code",
   "execution_count": 218,
   "metadata": {},
   "outputs": [
    {
     "data": {
      "text/plain": [
       "array([[3, 4, 5],\n",
       "       [6, 7, 8],\n",
       "       [0, 1, 2]])"
      ]
     },
     "execution_count": 218,
     "metadata": {},
     "output_type": "execute_result"
    }
   ],
   "source": [
    "b = np.arange(9).reshape((3, 3))\n",
    "np.random.permutation(b)"
   ]
  },
  {
   "cell_type": "markdown",
   "metadata": {},
   "source": [
    "Difference between shuffle and permutation functions:\n",
    "\n",
    "The functions shuffle and permutation both reshuffle the original array (that is, randomly disorder the original element order)\n",
    "The difference between these functions are:\n",
    "\n",
    "- Shuffle operates directly on the original array, changing the order of the original array, no return value.\n",
    "\n",
    "- Permutation does not operate directly on the original array, but instead returns a new shuffled array without changing the original array.\n",
    "\n",
    "More information can be found here: http://programmersought.com/article/42301751121/;jsessionid=A113BA7B1FC347E1462F95F1517A0197"
   ]
  },
  {
   "cell_type": "markdown",
   "metadata": {},
   "source": [
    "## 3. Distribution functions "
   ]
  },
  {
   "cell_type": "markdown",
   "metadata": {},
   "source": [
    "Every time we are working with a dataset, our dataset represents some kind of a sample and using this sample, we need to understand its patterns so that we can make predictions based on them. Datasets are composed of two main types of data: Numerical (eg. integers), and categorical (eg. names). Based on that data it is possible to calculate some predictions like Probability Mass Functions and Probability Density Functions. There are many probability distributions, but in this work I will focus on 5 distributions that data scientists find most useful (https://towardsdatascience.com/). \n",
    "\n",
    "1. Poisson distribution\n",
    "2. Uniform distribution\n",
    "3. Binominal distribution\n",
    "4. Normal distribution\n",
    "5. Exponential distribution\n",
    "\n",
    "More information and plots about each distribution can be seen below.\n"
   ]
  },
  {
   "cell_type": "markdown",
   "metadata": {},
   "source": [
    "#### 1. Poisson distribution"
   ]
  },
  {
   "cell_type": "markdown",
   "metadata": {},
   "source": [
    "Poisson Distribution is applicable in situations where events occur at random points of time and space wherein our interest lies only in the number of occurrences of the event. It gives us the probability of a given number of events happening in a fixed interval of time. https://www.statisticshowto.datasciencecentral.com/poisson-distribution/\n",
    "\n",
    "The Poisson Distribution probability mass function gives the probability of observing k events in a time period given the length of the period and the average events per time:\n",
    "\n",
    "![alt text](poisson.png)\n",
    "\n",
    "Image shows Poisson distribution for probability of k events in time period.\n",
    "\n",
    "A distribution is called Poisson distribution when the following assumptions are valid:\n",
    "\n",
    "1. Any successful event should not influence the outcome of another successful event.\n",
    "2. The probability of success over a short interval must equal the probability of success over a longer interval.\n",
    "3. The probability of success in an interval approaches zero as the interval becomes smaller."
   ]
  },
  {
   "cell_type": "markdown",
   "metadata": {},
   "source": [
    "The Poisson distribution has the following characteristics:\n",
    "\n",
    "- It is a discrete distribution.\n",
    "- Each occurrence is independent of the other occurrences.\n",
    "- It describes discrete occurrences over an interval.\n",
    "- The occurrences in each interval can range from zero to infinity.\n",
    "- The mean number of occurrences must be constant throughout the experiment.\n",
    "\n",
    "https://www.onlinemathlearning.com/poisson-distribution.html\n",
    "\n",
    "In the next 2 examples I will show random.poisson distribution. We can see that the distribution changes as we change the first element in the function. In the first example most of the numbers are distributed around number 1, while in the second example most of the numbers are distributed around number 8. "
   ]
  },
  {
   "cell_type": "code",
   "execution_count": 219,
   "metadata": {},
   "outputs": [],
   "source": [
    "# Import numpy as np\n",
    "import numpy as np\n",
    "# I defined b as numpy random function using poisson distribution\n",
    "b = np.random.poisson(1, 1000)"
   ]
  },
  {
   "cell_type": "code",
   "execution_count": 220,
   "metadata": {},
   "outputs": [
    {
     "data": {
      "text/plain": [
       "array([0, 1, 0, 3, 0, 2, 1, 0, 1, 0, 0, 0, 1, 2, 1, 1, 1, 1, 1, 4, 3, 2,\n",
       "       0, 1, 0, 2, 2, 1, 0, 0, 4, 0, 3, 1, 0, 2, 2, 1, 1, 1, 0, 0, 0, 0,\n",
       "       2, 1, 0, 2, 0, 1, 0, 0, 2, 1, 0, 3, 2, 3, 0, 3, 2, 1, 2, 1, 3, 0,\n",
       "       2, 3, 1, 2, 1, 2, 0, 1, 0, 1, 2, 0, 1, 4, 1, 1, 1, 2, 0, 1, 0, 0,\n",
       "       0, 0, 1, 1, 0, 0, 2, 1, 1, 0, 0, 0, 0, 0, 0, 1, 0, 1, 2, 1, 2, 2,\n",
       "       1, 1, 0, 1, 1, 1, 2, 0, 0, 0, 1, 1, 0, 1, 0, 1, 0, 0, 0, 1, 1, 2,\n",
       "       1, 1, 0, 2, 1, 2, 0, 2, 0, 4, 1, 2, 1, 0, 1, 0, 1, 3, 0, 2, 0, 1,\n",
       "       0, 1, 1, 2, 2, 1, 1, 0, 2, 0, 1, 0, 2, 2, 0, 0, 1, 2, 1, 3, 4, 1,\n",
       "       4, 0, 1, 1, 0, 0, 1, 1, 1, 2, 0, 0, 1, 0, 2, 0, 0, 4, 2, 2, 2, 2,\n",
       "       1, 0, 0, 1, 2, 1, 0, 1, 2, 3, 0, 0, 0, 2, 1, 0, 2, 0, 2, 2, 1, 1,\n",
       "       2, 1, 1, 3, 2, 2, 1, 0, 2, 1, 5, 0, 0, 2, 0, 1, 0, 1, 0, 0, 3, 1,\n",
       "       2, 0, 0, 1, 0, 3, 1, 1, 2, 1, 1, 0, 0, 0, 1, 0, 0, 0, 0, 1, 0, 1,\n",
       "       0, 0, 2, 1, 2, 1, 1, 3, 2, 1, 2, 1, 1, 3, 1, 2, 1, 2, 0, 0, 1, 2,\n",
       "       0, 3, 2, 0, 0, 1, 1, 2, 2, 1, 2, 0, 1, 1, 3, 3, 2, 1, 0, 0, 4, 2,\n",
       "       1, 0, 2, 2, 1, 2, 2, 1, 0, 0, 3, 1, 0, 1, 1, 0, 1, 1, 0, 4, 0, 1,\n",
       "       1, 0, 2, 1, 0, 1, 0, 2, 1, 2, 0, 2, 0, 1, 1, 1, 2, 1, 0, 2, 1, 0,\n",
       "       3, 1, 0, 2, 0, 1, 0, 1, 1, 1, 0, 1, 1, 1, 1, 1, 0, 1, 2, 0, 1, 0,\n",
       "       2, 1, 3, 0, 0, 1, 0, 2, 0, 0, 1, 2, 0, 0, 0, 1, 0, 2, 0, 3, 2, 2,\n",
       "       0, 0, 0, 0, 0, 0, 2, 1, 0, 0, 1, 0, 1, 1, 0, 3, 3, 1, 0, 0, 0, 1,\n",
       "       1, 2, 0, 0, 1, 1, 0, 2, 4, 0, 1, 0, 1, 2, 0, 1, 0, 1, 1, 0, 2, 1,\n",
       "       3, 0, 1, 1, 0, 0, 3, 2, 0, 1, 1, 0, 0, 3, 1, 0, 2, 1, 2, 0, 1, 0,\n",
       "       3, 0, 2, 0, 2, 0, 1, 0, 2, 1, 0, 0, 1, 0, 0, 0, 1, 0, 0, 0, 0, 1,\n",
       "       0, 1, 1, 2, 0, 1, 1, 0, 2, 0, 1, 1, 1, 1, 1, 0, 0, 0, 3, 1, 2, 1,\n",
       "       0, 1, 0, 0, 1, 4, 1, 1, 2, 1, 0, 2, 0, 2, 2, 5, 1, 0, 1, 1, 3, 2,\n",
       "       1, 0, 0, 1, 2, 0, 0, 1, 2, 1, 1, 2, 4, 0, 2, 0, 4, 1, 0, 0, 1, 0,\n",
       "       1, 2, 3, 2, 1, 1, 0, 2, 0, 3, 0, 2, 4, 0, 1, 1, 0, 1, 3, 1, 0, 1,\n",
       "       0, 0, 2, 2, 0, 1, 0, 0, 3, 1, 1, 3, 1, 3, 3, 3, 1, 1, 1, 1, 0, 0,\n",
       "       0, 0, 0, 1, 1, 0, 1, 1, 0, 1, 0, 2, 1, 0, 0, 0, 0, 3, 1, 1, 3, 1,\n",
       "       1, 0, 0, 1, 2, 1, 0, 1, 0, 0, 1, 2, 0, 0, 0, 1, 0, 2, 0, 1, 1, 4,\n",
       "       0, 1, 0, 1, 3, 0, 2, 1, 0, 1, 1, 0, 0, 1, 1, 0, 2, 0, 0, 0, 2, 3,\n",
       "       4, 2, 1, 1, 0, 1, 0, 1, 3, 1, 3, 3, 1, 1, 1, 4, 0, 1, 2, 2, 2, 1,\n",
       "       1, 1, 0, 0, 1, 2, 2, 0, 2, 1, 1, 3, 0, 0, 0, 2, 1, 2, 0, 1, 0, 0,\n",
       "       2, 1, 1, 0, 0, 2, 1, 2, 0, 0, 1, 1, 2, 2, 0, 1, 0, 1, 1, 0, 1, 0,\n",
       "       0, 0, 1, 0, 0, 0, 0, 0, 0, 0, 0, 1, 2, 1, 0, 3, 1, 1, 0, 0, 0, 2,\n",
       "       0, 1, 1, 1, 2, 1, 0, 2, 1, 0, 0, 0, 2, 2, 1, 2, 0, 0, 2, 0, 2, 0,\n",
       "       1, 1, 1, 0, 3, 0, 2, 2, 1, 1, 0, 2, 0, 1, 1, 0, 2, 1, 2, 0, 0, 2,\n",
       "       1, 2, 1, 0, 0, 1, 3, 1, 0, 0, 2, 0, 0, 0, 1, 1, 0, 1, 0, 3, 2, 1,\n",
       "       1, 0, 2, 1, 2, 1, 1, 0, 2, 1, 1, 3, 3, 0, 1, 1, 0, 3, 1, 2, 0, 0,\n",
       "       0, 2, 1, 0, 0, 2, 1, 0, 1, 0, 2, 1, 1, 2, 0, 0, 1, 1, 2, 0, 0, 0,\n",
       "       1, 0, 1, 1, 1, 2, 0, 4, 0, 1, 0, 0, 0, 0, 2, 1, 1, 0, 1, 1, 2, 0,\n",
       "       1, 1, 2, 0, 2, 1, 0, 0, 2, 4, 0, 1, 0, 0, 0, 2, 1, 2, 1, 2, 1, 2,\n",
       "       0, 1, 0, 1, 0, 0, 1, 2, 0, 1, 0, 1, 0, 0, 0, 0, 2, 2, 1, 0, 0, 1,\n",
       "       0, 1, 0, 0, 0, 0, 3, 0, 0, 1, 0, 1, 1, 0, 3, 1, 0, 0, 0, 1, 0, 2,\n",
       "       1, 2, 1, 0, 1, 1, 1, 0, 1, 1, 1, 2, 0, 1, 1, 4, 0, 0, 2, 0, 1, 1,\n",
       "       1, 1, 0, 2, 3, 4, 2, 1, 1, 0, 0, 1, 0, 1, 2, 1, 2, 0, 1, 0, 0, 2,\n",
       "       1, 1, 1, 1, 3, 0, 2, 1, 1, 0])"
      ]
     },
     "execution_count": 220,
     "metadata": {},
     "output_type": "execute_result"
    }
   ],
   "source": [
    "# I called the function b\n",
    "b"
   ]
  },
  {
   "cell_type": "code",
   "execution_count": 221,
   "metadata": {},
   "outputs": [
    {
     "data": {
      "image/png": "[encoded data removed]",
      "text/plain": [
       "<Figure size 432x288 with 1 Axes>"
      ]
     },
     "metadata": {
      "needs_background": "light"
     },
     "output_type": "display_data"
    }
   ],
   "source": [
    "import matplotlib.pyplot as plt\n",
    "count, bins, ignored = plt.hist(b, 8, density=True)\n",
    "plt.show()"
   ]
  },
  {
   "cell_type": "code",
   "execution_count": 222,
   "metadata": {},
   "outputs": [],
   "source": [
    "# Import numpy as np\n",
    "import numpy as np\n",
    "# I defined b as numpy random function using poisson distribution\n",
    "b = np.random.poisson(8, 1000)"
   ]
  },
  {
   "cell_type": "code",
   "execution_count": 223,
   "metadata": {},
   "outputs": [
    {
     "data": {
      "text/plain": [
       "array([ 8,  8, 15,  3,  7, 10,  7,  7,  3,  6,  8,  8, 12,  5,  9, 10,  5,\n",
       "        7,  5,  8,  9, 11,  8, 11,  8,  4,  6,  7, 12,  7,  5, 13,  5,  8,\n",
       "        6,  7,  8,  4,  6,  4,  7, 13,  4,  9,  5,  7,  7,  9,  5,  8,  6,\n",
       "        6,  7,  8, 11,  7,  5,  7,  6,  6,  7,  5,  6, 10,  5,  5,  7,  8,\n",
       "        7,  9,  7,  9, 14, 12,  5, 12,  9,  9,  4,  3,  7, 11, 11,  8,  2,\n",
       "       14, 12, 10,  5,  7, 12,  9,  4, 10,  2,  7,  3, 16,  7, 10,  8, 12,\n",
       "        9,  6, 10,  8, 11, 10,  8,  9, 11,  4,  4,  8,  1,  7,  8, 11,  8,\n",
       "       10,  9,  7,  7,  6, 11,  8, 10,  6, 10, 17,  5,  6, 11,  6,  6, 11,\n",
       "        9, 11,  6, 12,  5,  8,  8, 10,  8,  9,  6,  6,  6, 10,  5,  2, 10,\n",
       "       10,  3,  7,  4,  5,  5,  5,  4,  4,  9, 10,  4, 10,  7,  7, 11,  5,\n",
       "        4,  7,  7,  3, 10,  7,  4,  9,  3,  4, 10,  6,  6,  7,  4,  8, 10,\n",
       "        9, 13,  4,  7,  7,  7,  8,  2,  5, 11,  7, 11,  9,  6,  8,  3,  6,\n",
       "        8, 11,  7, 11, 10,  4,  8,  7,  8,  9,  8,  9,  8,  6,  9, 12,  9,\n",
       "        9,  9,  7,  5,  6,  9,  7,  5,  8,  4,  2,  7,  6, 13, 12,  6, 13,\n",
       "        5, 10,  4,  9, 10,  5, 12, 10,  6,  5,  8,  4, 11,  4,  7,  7,  5,\n",
       "        6, 10,  7,  6,  6,  6, 16,  6,  8,  6,  8, 13,  6,  1,  7,  7,  7,\n",
       "        5,  9,  3, 15,  5, 12,  6,  5,  5,  9, 11,  8,  7,  8,  8, 11,  7,\n",
       "        7,  7,  5,  8,  1,  9, 10,  7,  2,  8, 10, 12,  2,  9,  9,  8,  9,\n",
       "        8,  7,  8,  7,  3,  8,  5,  8,  9,  4,  8, 10,  5, 10, 12,  9,  9,\n",
       "        4,  4, 10,  5,  9,  8, 11, 15,  8, 12,  9,  8,  9, 13, 11, 12,  7,\n",
       "       13, 11,  8,  9,  6,  2,  5,  2,  1,  8,  4,  6,  9,  8, 10,  5,  5,\n",
       "        8, 11,  9,  3, 13,  8,  3, 10, 10,  9,  9,  4,  7, 11,  5,  5, 11,\n",
       "        7,  9,  6,  4,  6, 12,  5,  4,  6,  6,  9, 10,  5,  7,  4,  8,  8,\n",
       "        6, 10,  7, 12, 11,  6, 12,  3,  7,  5, 12,  5,  9,  7,  4,  9,  5,\n",
       "        9,  7,  6, 10,  7, 12,  7,  9,  6, 12, 14,  6,  6,  9,  9,  7,  6,\n",
       "       10,  8,  5,  5,  5,  7, 12,  0,  8,  5,  8,  6,  5,  5,  9,  9,  7,\n",
       "        9, 11,  6,  8,  8, 15,  9,  4,  8,  8, 10, 15,  9,  5,  8, 12,  9,\n",
       "        9,  9, 10,  9, 11,  3,  6, 11,  9,  8,  8, 11,  8,  9, 11,  7,  8,\n",
       "       11,  6,  7,  8,  7,  5,  8, 11, 14,  4,  9, 10,  4,  9, 10, 14, 10,\n",
       "        7, 12,  4,  8,  8, 12, 12,  7,  5,  9,  6,  8, 10, 10,  4,  8,  8,\n",
       "        7,  5, 10,  7,  5,  5,  8,  8,  9,  8, 11,  5,  6,  7,  7,  7, 10,\n",
       "        8,  7, 10,  9, 13, 11,  7,  7, 15,  3,  8, 11,  9,  9,  4,  8, 11,\n",
       "        9,  4, 10, 12, 11, 10,  6, 11,  7, 15,  3,  5,  9,  4,  8, 12,  9,\n",
       "        6,  6,  3,  9, 11,  9,  5, 12,  5,  9,  8, 10,  8,  7,  7,  8,  6,\n",
       "       10,  4, 10,  9,  2,  9,  4,  6,  7,  9,  6,  5,  5,  7,  4,  9,  8,\n",
       "        5,  7,  1, 11,  2,  8,  4,  7,  9, 11, 12, 12,  8,  5,  4,  6, 11,\n",
       "        9,  5, 12,  8,  6,  7,  8,  7,  9, 11, 10, 14,  6,  7,  7,  7, 12,\n",
       "       15, 11, 10,  1,  8,  6,  7,  9,  3,  9, 10, 11,  6,  6,  8,  8,  5,\n",
       "        9, 11,  6,  1, 11, 10,  3, 10,  6,  8,  6,  7,  4,  3,  6, 10, 11,\n",
       "        8,  5,  3, 11,  7, 11, 10,  8, 17,  7,  8,  6, 12,  3,  8,  5,  7,\n",
       "        8,  6,  9,  7,  9,  4, 12,  5,  7,  5,  4,  8, 10,  7,  7, 10,  3,\n",
       "        9,  7,  8,  8,  8,  6,  4,  5,  8,  8,  8,  7,  8, 11,  7,  5,  5,\n",
       "        5,  7,  9,  8,  8,  7,  7,  4,  7, 10,  3, 11,  9,  6,  6,  7, 13,\n",
       "       11, 12,  8,  8,  5,  7, 10,  6,  5, 13, 12, 12,  8, 11,  8,  8,  8,\n",
       "        8, 11, 10, 11, 13,  7,  8,  8,  7, 12, 10,  3, 11, 11,  5,  6,  7,\n",
       "        8,  7,  5,  7,  9, 10, 12,  9, 11,  5,  7,  9, 10, 13,  8, 12,  4,\n",
       "       11, 11,  6, 11, 13,  7,  4, 11,  8,  7,  5, 11,  9,  8, 11, 10,  9,\n",
       "        6,  4,  2,  7,  5,  6,  3,  8,  7,  7, 11,  3, 10, 10,  4,  9,  7,\n",
       "        6,  6,  7,  7, 14,  9,  4,  3,  9,  3, 10,  7,  7,  9, 10,  5,  2,\n",
       "        4, 11,  8,  9,  9,  7,  7, 10,  8,  3, 10,  9,  7, 12,  8,  6, 10,\n",
       "        9,  7,  6, 11,  5, 11,  7,  3, 11,  8,  4,  4,  8,  8,  4,  8,  9,\n",
       "        8,  6,  6,  8,  6,  5,  9,  6, 10,  9,  8,  8, 10,  7,  7,  8,  4,\n",
       "        7,  8, 13, 10,  7,  7, 14,  7,  8,  5, 10,  6,  6,  8,  7,  9,  7,\n",
       "        5,  9,  6,  5, 16,  7,  7,  7,  4,  7, 13,  7,  9,  9,  9,  7,  9,\n",
       "       13,  5, 10,  8,  7, 11,  7,  6,  4,  5,  7,  8,  7,  6,  7,  8,  9,\n",
       "       12,  5,  8, 13,  9, 14,  4,  5, 13, 12, 11,  4,  7,  5,  7,  4,  6,\n",
       "        3,  9,  8,  9,  5,  5,  4,  9,  6,  7,  6,  9,  7,  8,  4,  8,  6,\n",
       "        8, 13,  5,  4,  7,  6,  9,  5,  8, 14,  7,  9,  4,  7,  6, 14, 10,\n",
       "        9,  8, 11, 11,  9,  3,  8,  5, 13,  7, 14, 10,  9,  4])"
      ]
     },
     "execution_count": 223,
     "metadata": {},
     "output_type": "execute_result"
    }
   ],
   "source": [
    "b"
   ]
  },
  {
   "cell_type": "code",
   "execution_count": 224,
   "metadata": {},
   "outputs": [
    {
     "data": {
      "image/png": "[encoded data removed]",
      "text/plain": [
       "<Figure size 432x288 with 1 Axes>"
      ]
     },
     "metadata": {
      "needs_background": "light"
     },
     "output_type": "display_data"
    }
   ],
   "source": [
    "import matplotlib.pyplot as plt\n",
    "count, bins, ignored = plt.hist(b, 8, density=True)\n",
    "plt.show()"
   ]
  },
  {
   "cell_type": "markdown",
   "metadata": {},
   "source": [
    "#### 2. Uniform distribution"
   ]
  },
  {
   "cell_type": "markdown",
   "metadata": {},
   "source": [
    "When you roll a fair die, the outcomes are 1 to 6. The probabilities of getting these outcomes are equally likely and that is the basis of a uniform distribution. You can see that the shape of the Uniform distribution curve is rectangular, the reason why Uniform distribution is called rectangular distribution. For a Uniform Distribution, a and b are the parameters (https://www.analyticsvidhya.com/). As we can see from the example we have 100 elements in an interval from -1 to 0. All numbers had equall chance to be chosen. When we look at the plot below all columns are almost equal size. "
   ]
  },
  {
   "cell_type": "code",
   "execution_count": 225,
   "metadata": {},
   "outputs": [],
   "source": [
    "# Import numpy as np\n",
    "import numpy as np\n",
    "# I defined b as a numpy random.uniform function in a range from -1 to 0. It includes 100 elements\n",
    "b = np.random.uniform(-1,0,100)"
   ]
  },
  {
   "cell_type": "code",
   "execution_count": 226,
   "metadata": {},
   "outputs": [
    {
     "data": {
      "text/plain": [
       "array([-0.43676464, -0.74097608, -0.22180266, -0.66337799, -0.1727948 ,\n",
       "       -0.20799496, -0.35775651, -0.19756742, -0.33316354, -0.97145563,\n",
       "       -0.29321937, -0.85807861, -0.57281125, -0.43885675, -0.62168852,\n",
       "       -0.88312049, -0.5646664 , -0.31512659, -0.78809957, -0.42092235,\n",
       "       -0.93032904, -0.16244881, -0.54227858, -0.65545392, -0.76810556,\n",
       "       -0.25785572, -0.55419893, -0.76449063, -0.4681047 , -0.00786392,\n",
       "       -0.20183305, -0.5899603 , -0.64434282, -0.19375118, -0.9766254 ,\n",
       "       -0.03739086, -0.28053156, -0.90405003, -0.17688119, -0.52185495,\n",
       "       -0.92659374, -0.37089717, -0.08924963, -0.33421428, -0.64866272,\n",
       "       -0.3022044 , -0.58145443, -0.8457697 , -0.27914095, -0.38337599,\n",
       "       -0.48345602, -0.06883903, -0.75742897, -0.40716655, -0.83309521,\n",
       "       -0.87406241, -0.80691366, -0.82897795, -0.77615211, -0.4026074 ,\n",
       "       -0.62360775, -0.30241321, -0.8432813 , -0.84700241, -0.335161  ,\n",
       "       -0.23623666, -0.93363171, -0.85826574, -0.43614933, -0.37380791,\n",
       "       -0.53629144, -0.69479526, -0.21722382, -0.54914835, -0.81547764,\n",
       "       -0.01102084, -0.23703407, -0.5262744 , -0.2934825 , -0.83783293,\n",
       "       -0.0931911 , -0.31886239, -0.49561304, -0.91791935, -0.56014618,\n",
       "       -0.51673289, -0.67246813, -0.61563985, -0.31753767, -0.35471416,\n",
       "       -0.13709711, -0.54946934, -0.71125036, -0.56935738, -0.10494607,\n",
       "       -0.53034738, -0.03903728, -0.23545861, -0.7740813 , -0.51488628])"
      ]
     },
     "execution_count": 226,
     "metadata": {},
     "output_type": "execute_result"
    }
   ],
   "source": [
    "# Call the function b\n",
    "b"
   ]
  },
  {
   "cell_type": "code",
   "execution_count": 227,
   "metadata": {},
   "outputs": [
    {
     "data": {
      "image/png": "[encoded data removed]",
      "text/plain": [
       "<Figure size 432x288 with 1 Axes>"
      ]
     },
     "metadata": {
      "needs_background": "light"
     },
     "output_type": "display_data"
    }
   ],
   "source": [
    "# Import matplotlib.pyplot as plt\n",
    "import matplotlib.pyplot as plt\n",
    "# \n",
    "count, bins, ignored = plt.hist(b, 8, density=True)\n",
    "plt.plot(bins, np.ones_like(bins), linewidth=2, color='r')\n",
    "plt.show()"
   ]
  },
  {
   "cell_type": "markdown",
   "metadata": {},
   "source": [
    "#### 3. Binominal distribution"
   ]
  },
  {
   "cell_type": "markdown",
   "metadata": {},
   "source": [
    "A distribution where only two outcomes are possible, such as success or failure, gain or loss, win or lose and where the probability of success and failure is same for all the trials is called a Binomial Distribution.\n",
    "Each trial is independent since the outcome of the previous toss doesn’t determine or affect the outcome of the current toss. An experiment with only two possible outcomes repeated n number of times is called binomial. The parameters of a binomial distribution are n and p where n is the total number of trials and p is the probability of success in each trial.\n",
    "\n",
    "On the basis of the above explanation, the properties of a Binomial Distribution are\n",
    "\n",
    "Each trial is independent.\n",
    "There are only two possible outcomes in a trial- either a success or a failure.\n",
    "A total number of n identical trials are conducted.\n",
    "The probability of success and failure is same for all trials. (Trials are identical.)\n",
    " "
   ]
  },
  {
   "cell_type": "code",
   "execution_count": 228,
   "metadata": {},
   "outputs": [],
   "source": [
    "# number of trials, probability of each trial\n",
    "n, p = 10, .5\n",
    "b = np.random.binomial(n, p, 100)\n"
   ]
  },
  {
   "cell_type": "code",
   "execution_count": 229,
   "metadata": {},
   "outputs": [
    {
     "data": {
      "text/plain": [
       "array([4, 5, 7, 4, 3, 7, 6, 4, 4, 6, 4, 7, 4, 6, 4, 5, 6, 6, 3, 4, 3, 3,\n",
       "       3, 5, 6, 7, 6, 5, 5, 6, 5, 6, 7, 4, 6, 4, 4, 4, 5, 3, 6, 5, 5, 5,\n",
       "       3, 7, 5, 6, 9, 8, 3, 4, 4, 4, 5, 4, 7, 7, 6, 7, 1, 6, 7, 5, 4, 5,\n",
       "       5, 7, 4, 5, 6, 5, 5, 6, 6, 8, 4, 5, 7, 4, 4, 2, 5, 8, 2, 1, 6, 6,\n",
       "       5, 4, 6, 5, 4, 7, 5, 8, 7, 5, 5, 7])"
      ]
     },
     "execution_count": 229,
     "metadata": {},
     "output_type": "execute_result"
    }
   ],
   "source": [
    "# Result of flipping a coin 10 times, tested 1000 times.\n",
    "b"
   ]
  },
  {
   "cell_type": "markdown",
   "metadata": {},
   "source": [
    "Example taken from: https://docs.scipy.org/doc/numpy-1.15.0/reference/generated/numpy.random.binomial.html#numpy.random.binomial\n",
    "\n",
    "A real world example: a company drills 9 exploration wells, each with an estimated probability of success of 0.1. All nine wells fail. What is the probability of that happening?\n",
    "\n",
    "I will do 20,000 trials of the model, and count the number that generate zero positive results. As it can be seen from the result the probability of all nine wells failing is 38%. \n"
   ]
  },
  {
   "cell_type": "code",
   "execution_count": 230,
   "metadata": {},
   "outputs": [
    {
     "data": {
      "text/plain": [
       "0.38655"
      ]
     },
     "execution_count": 230,
     "metadata": {},
     "output_type": "execute_result"
    }
   ],
   "source": [
    "# Sum of zero positive results in the model of 20000 trials\n",
    "sum(np.random.binomial(9, 0.1, 20000) == 0)/20000."
   ]
  },
  {
   "cell_type": "markdown",
   "metadata": {},
   "source": [
    "#### 4. Normal distribution"
   ]
  },
  {
   "cell_type": "markdown",
   "metadata": {},
   "source": [
    "It represents the behavior of most of the situations in the universe. That is why it’s called a “normal” distribution. The large sum of (small) random variables often turns out to be normally distributed, contributing to its widespread application. Any distribution is known as Normal distribution if it has the following characteristics:\n",
    "\n",
    "- The mean, median and mode of the distribution coincide.\n",
    "- The curve of the distribution is bell-shaped and symmetrical about the line x=μ.\n",
    "- The total area under the curve is 1.\n",
    "- Exactly half of the values are to the left of the center and the other half to the right.\n",
    "\n",
    "A normal distribution is highly different from Binomial Distribution. However, if the number of trials approaches infinity then the shapes will be quite similar."
   ]
  },
  {
   "cell_type": "code",
   "execution_count": 231,
   "metadata": {},
   "outputs": [],
   "source": [
    "#import numpy as np\n",
    "import numpy as np\n",
    "#mean and standard deviation\n",
    "mu, sigma = 0, 0.1\n",
    "b = np.random.normal(mu, sigma, 1000)"
   ]
  },
  {
   "cell_type": "code",
   "execution_count": 232,
   "metadata": {},
   "outputs": [
    {
     "data": {
      "text/plain": [
       "array([-1.95688508e-02,  7.19731332e-03, -3.53444415e-02,  9.93047134e-02,\n",
       "       -4.83491994e-02,  1.37092961e-01,  1.32725586e-01,  7.60904414e-02,\n",
       "        8.74978013e-03, -2.47786813e-02,  1.97624396e-02,  1.51342836e-01,\n",
       "       -8.11436804e-02, -7.10805434e-02,  1.07145198e-01,  1.23361181e-02,\n",
       "        1.40038772e-02,  1.03758140e-01,  4.63356934e-02, -3.97923875e-02,\n",
       "        6.29152262e-02, -7.73345809e-02, -1.35937279e-01, -1.41183644e-03,\n",
       "       -9.50815645e-02,  5.73585839e-02, -8.86858998e-03,  2.12603930e-02,\n",
       "       -1.73090510e-02, -2.84669027e-02,  6.99711140e-02,  1.36787118e-01,\n",
       "       -4.34848272e-02, -7.25256647e-02, -8.04970666e-02,  3.50799174e-02,\n",
       "       -4.21073056e-02,  9.07536943e-02,  4.22207215e-02,  6.27113017e-02,\n",
       "        6.94521321e-02, -1.10367715e-01,  8.79230077e-03,  4.26849947e-02,\n",
       "        3.32982298e-02, -1.38423558e-01,  1.35070339e-02, -2.07051609e-01,\n",
       "        9.57454751e-02,  1.83355260e-01,  3.83015291e-02,  1.06613301e-01,\n",
       "       -2.90171152e-03,  1.68659026e-01, -3.60040411e-02, -6.84841415e-02,\n",
       "        1.03286406e-01,  8.66139727e-02,  2.58907961e-02,  2.53618274e-02,\n",
       "        4.48329840e-03, -1.52761421e-01, -3.82855258e-02,  9.00534966e-02,\n",
       "       -1.57595445e-01, -5.34065162e-02, -9.05230977e-02, -1.48584355e-01,\n",
       "        2.41818667e-02, -7.32756166e-03,  1.20150957e-02,  1.75150117e-01,\n",
       "       -1.62547413e-02, -7.26296548e-02, -9.42691264e-02, -7.65224324e-02,\n",
       "        4.49075702e-02,  7.84110789e-02, -1.52040613e-02,  1.23070373e-01,\n",
       "       -5.61254695e-02, -2.00088892e-01,  1.59530916e-02, -7.41652743e-02,\n",
       "       -1.99663802e-01, -4.03136089e-04,  1.05121988e-01, -6.35942817e-02,\n",
       "        6.86666174e-02, -7.94162422e-02,  3.94252380e-02, -7.15593484e-02,\n",
       "       -5.86764534e-02,  1.87937508e-02,  7.04627921e-02, -8.43915352e-02,\n",
       "       -5.78664976e-03, -1.19045548e-01, -4.27905168e-02,  8.86430525e-04,\n",
       "       -2.19431130e-02,  7.20773506e-02,  7.94365349e-02, -1.35544827e-01,\n",
       "        4.38499841e-02, -1.45713279e-01,  1.27308865e-02, -6.88822286e-02,\n",
       "       -8.29375315e-02, -1.05406805e-01,  1.08369689e-01,  2.25732385e-02,\n",
       "       -1.88318380e-01,  7.94818060e-02,  5.36552339e-02, -8.75232157e-02,\n",
       "       -1.75268134e-01,  3.70052605e-02,  1.69850591e-01,  2.60790186e-02,\n",
       "        1.66883694e-01, -4.12765193e-03, -1.44341080e-02,  1.12309042e-01,\n",
       "        1.46728134e-01, -1.10713064e-01, -8.95892125e-02, -1.14048790e-01,\n",
       "       -1.70192063e-02, -1.02594294e-01, -2.53736647e-02,  1.39587587e-01,\n",
       "       -7.38432620e-02,  9.53225600e-02, -1.93264349e-01, -4.04310471e-02,\n",
       "       -5.89420747e-02, -6.23675680e-03, -4.94317389e-02, -6.33651419e-02,\n",
       "       -1.35017911e-02,  2.22802259e-01, -4.46734995e-02,  1.29320360e-02,\n",
       "        1.53692812e-02,  9.00006833e-02, -4.57392790e-04, -1.16880862e-01,\n",
       "       -1.50043113e-01,  2.14195968e-02,  6.29111340e-02,  1.55839109e-01,\n",
       "       -1.36465926e-01,  2.24034359e-02, -8.37798101e-03,  3.25828525e-02,\n",
       "        2.23562047e-02,  1.32230968e-01, -1.47814003e-01, -1.52578552e-02,\n",
       "        2.02210873e-02,  8.73557884e-03, -3.31234952e-02, -1.49783011e-01,\n",
       "        7.00140613e-02, -7.67646556e-02, -1.42666650e-01, -9.37559919e-02,\n",
       "       -2.55174130e-02,  3.70938910e-02,  1.24611922e-02,  5.28058761e-03,\n",
       "       -9.01498368e-02,  1.87129246e-01, -2.55031493e-02, -5.51432391e-02,\n",
       "       -1.98002808e-01,  4.31400735e-02, -4.36981042e-03, -2.02770615e-01,\n",
       "        4.10973155e-02, -3.78355439e-03,  8.64744069e-02, -3.01279496e-02,\n",
       "       -7.09884028e-03,  1.15580924e-01,  4.79671709e-02,  5.43755318e-02,\n",
       "       -1.52662465e-01, -4.23846948e-02,  3.15914921e-01,  1.99912724e-01,\n",
       "       -5.17408264e-02,  9.03121438e-02,  4.88050983e-02, -2.29142795e-01,\n",
       "        5.07651246e-02, -8.81290840e-02,  2.46578833e-01,  3.11297887e-02,\n",
       "        1.43691652e-01,  1.26012773e-01, -8.05998653e-02,  5.88868333e-02,\n",
       "       -8.50706527e-02,  2.14760302e-01,  7.29558338e-02,  1.50920070e-02,\n",
       "       -1.95632823e-02,  4.18513810e-02, -2.21903726e-01, -6.13139030e-03,\n",
       "       -5.65156042e-02, -1.34070179e-01, -3.01363861e-02, -1.52155003e-02,\n",
       "       -1.12237404e-01, -1.14144989e-01, -1.36306882e-02,  1.15704427e-01,\n",
       "       -2.60243809e-02, -3.59843936e-05,  2.99357540e-02, -1.56846690e-01,\n",
       "       -1.29154956e-01,  7.30611500e-02, -7.49982888e-02,  2.51950720e-02,\n",
       "       -2.14508455e-01, -1.75474619e-02,  8.35636108e-02,  1.24326617e-01,\n",
       "        2.95370790e-01,  1.94342869e-02, -1.20727615e-01, -6.23624805e-03,\n",
       "        1.04966462e-01,  5.07281669e-02,  6.04139291e-02,  6.76099760e-02,\n",
       "        1.45770085e-02, -8.13209623e-02,  9.98914286e-02, -9.36477768e-02,\n",
       "        8.33208630e-02, -1.47035076e-01,  1.03680722e-01, -7.70786863e-02,\n",
       "        9.07475731e-02,  5.04495922e-02,  1.43586261e-02, -1.54377779e-01,\n",
       "        1.36178172e-02,  7.40473009e-02, -1.96550268e-02,  9.81110334e-02,\n",
       "       -3.15237945e-02,  5.78266779e-02, -1.79803930e-01, -5.21485844e-02,\n",
       "       -1.00714789e-01, -3.73536832e-02, -1.32970457e-01, -7.41975662e-02,\n",
       "       -5.14794393e-02, -1.43748112e-01, -6.06968656e-02,  2.56099541e-02,\n",
       "       -4.95740742e-02, -6.82658722e-02, -3.18872462e-02, -1.03472282e-01,\n",
       "       -2.85497029e-02,  1.25013902e-01,  3.50031494e-02,  2.18398420e-02,\n",
       "       -7.62346952e-02, -1.39435536e-01,  4.12583331e-02, -6.88636436e-02,\n",
       "       -3.40413993e-02,  6.60680077e-02, -2.28469528e-02,  1.26215019e-02,\n",
       "        3.30444745e-02,  1.24397073e-01,  2.53813014e-02, -2.38477854e-01,\n",
       "        2.60702553e-01, -8.52936690e-03, -1.76996963e-01,  6.45611372e-02,\n",
       "       -8.84954366e-02, -7.37740530e-02,  1.64703883e-02,  1.78135039e-01,\n",
       "       -1.25847229e-01, -8.96853976e-02,  1.64595693e-01, -1.05468425e-01,\n",
       "        1.46600238e-01, -1.59634849e-01,  1.44802404e-02, -7.40699682e-02,\n",
       "        1.14620650e-01, -8.94895003e-02, -3.89190529e-02,  1.85301577e-01,\n",
       "       -5.39127401e-04, -1.11894653e-01,  1.02108686e-01,  3.08982967e-02,\n",
       "        8.63242370e-02, -2.34621775e-02,  1.05747152e-01, -2.06836757e-01,\n",
       "       -2.24469300e-02,  1.11326634e-01, -6.37115262e-02, -1.67132901e-01,\n",
       "        4.22951273e-03, -4.73801835e-03, -6.41339390e-04, -2.29839999e-02,\n",
       "        1.19608449e-01,  2.46250201e-02,  5.01675448e-04,  3.18058143e-02,\n",
       "       -1.92819329e-01,  1.21686356e-01,  5.82792175e-02,  4.84050075e-02,\n",
       "       -1.33927486e-01,  6.48496385e-02, -6.25431765e-02, -1.09145268e-01,\n",
       "       -8.19802778e-02, -3.30829437e-02,  1.28080643e-01, -1.48287680e-01,\n",
       "       -1.39898813e-01,  3.46783064e-02, -1.40531841e-01,  8.54173179e-02,\n",
       "       -1.35857416e-01,  6.63671341e-02,  7.01005893e-02,  1.79080499e-01,\n",
       "        7.69902741e-02, -8.82494634e-02,  1.09076685e-01,  8.44075977e-02,\n",
       "        2.60678347e-02, -3.95000119e-02, -2.02888824e-02,  1.04853315e-01,\n",
       "       -1.43687135e-01, -2.72058915e-02, -9.54621425e-02,  9.45080197e-02,\n",
       "        5.58463460e-02,  3.14319488e-01, -4.59052175e-02, -2.49919545e-02,\n",
       "       -8.00708287e-02, -3.29249926e-02,  1.15554255e-01, -4.86485410e-02,\n",
       "        2.44824898e-01, -8.56954443e-02,  2.74181352e-02,  2.71816311e-01,\n",
       "       -1.97120425e-01, -1.08189639e-01,  1.62186725e-01,  1.42437259e-01,\n",
       "        8.07063104e-02, -1.00652748e-02,  9.85099384e-02,  1.74098205e-02,\n",
       "        1.71215556e-01, -5.88673425e-03, -1.57292656e-02,  4.43941307e-02,\n",
       "        2.17114297e-01, -5.04931004e-04, -4.33525995e-02,  1.72449194e-01,\n",
       "        1.33682778e-01,  5.93318180e-02,  1.28189425e-01, -5.78903136e-03,\n",
       "        9.75852561e-02,  1.17998316e-04,  4.07819697e-03,  5.31610759e-02,\n",
       "       -2.55594770e-01,  3.40347348e-02,  7.83651526e-02, -1.39423620e-01,\n",
       "        7.35071448e-02, -2.03819328e-02, -4.15450713e-02, -2.15462274e-01,\n",
       "       -1.80082511e-02, -6.18049494e-02,  3.36683866e-02, -6.81607189e-02,\n",
       "       -6.13783549e-02, -1.57628405e-01,  2.10686619e-02, -6.69419665e-02,\n",
       "       -6.94281622e-02, -1.74625878e-02,  1.62791460e-02, -5.41980248e-02,\n",
       "        1.05653091e-02, -1.64114206e-01, -1.43091941e-02,  6.81642341e-02,\n",
       "       -4.41581465e-03, -4.95269550e-02, -4.40105008e-02,  1.49227900e-01,\n",
       "       -7.52463010e-02,  1.26928584e-01,  1.54491743e-01,  9.49046217e-02,\n",
       "        1.05856385e-01, -7.20356130e-02,  2.05323618e-02, -8.52859681e-03,\n",
       "       -8.05543451e-02, -6.61585072e-02,  2.00195345e-01, -1.52180525e-02,\n",
       "       -1.25656017e-01, -1.74652421e-01,  3.31635105e-02,  2.97311185e-02,\n",
       "       -1.95674521e-01,  1.88430031e-01, -1.90635866e-01,  1.04258850e-01,\n",
       "       -1.54826135e-01,  2.17605809e-02,  1.24571004e-02, -3.42508861e-02,\n",
       "       -3.61458895e-02,  3.18193682e-01, -7.12762246e-02, -1.44449713e-01,\n",
       "       -5.26393926e-02,  4.45641080e-02, -1.20969956e-01,  1.62179096e-01,\n",
       "        1.56482488e-02,  6.06835697e-02, -7.84798770e-02,  1.07797045e-01,\n",
       "       -8.19511213e-02,  7.75518572e-02, -6.29733747e-02,  7.35988520e-02,\n",
       "       -5.40988668e-02, -4.65905079e-02,  1.41705732e-01,  1.15227770e-01,\n",
       "        4.43145251e-02,  5.35588786e-02, -1.15243506e-01, -9.99873797e-02,\n",
       "        2.05917314e-02, -6.12647623e-02,  2.81625073e-01, -1.90159142e-01,\n",
       "        9.46224587e-02, -5.92424315e-02, -6.41974703e-02, -3.17191620e-02,\n",
       "       -4.28756656e-02, -2.08784274e-01, -5.79031504e-02,  1.97902052e-01,\n",
       "       -7.25522290e-02,  6.65649649e-04, -9.04330063e-02, -3.48900792e-02,\n",
       "       -5.32763572e-02, -1.25730711e-01,  2.32590660e-02,  1.61708663e-01,\n",
       "       -2.81851045e-02, -8.27992838e-02, -1.51369876e-02,  2.34470920e-03,\n",
       "        3.77936835e-02, -1.19097026e-02,  5.77632699e-02, -3.10328074e-02,\n",
       "        3.36616897e-02, -1.02736946e-01,  9.14414056e-02, -1.34574065e-01,\n",
       "       -6.18877561e-02,  2.06189491e-01,  3.50546801e-02,  4.98858296e-03,\n",
       "       -1.75080496e-02, -5.44255768e-02, -8.95853223e-02,  3.64342972e-02,\n",
       "       -1.43335039e-01, -5.43072804e-02, -1.20623981e-01, -1.01057911e-01,\n",
       "        1.97398104e-03,  1.49428272e-02, -8.48854082e-02, -4.40079502e-02,\n",
       "       -5.24402711e-02,  3.06992028e-02, -3.39703701e-02,  1.19494698e-01,\n",
       "       -3.71323801e-02,  8.42602018e-02, -1.33890823e-02, -3.79922377e-02,\n",
       "       -9.12520202e-02, -1.87266454e-02, -6.74255663e-03,  5.93922993e-02,\n",
       "       -1.37187015e-01,  1.98053750e-02, -9.58598671e-02, -2.92937493e-02,\n",
       "        7.12972702e-02, -1.60976199e-02,  8.91446845e-02,  4.51524836e-02,\n",
       "        2.17176220e-02, -5.80569914e-02, -1.83158311e-01, -3.13610280e-02,\n",
       "        6.90999292e-02, -1.37654190e-02,  1.44378114e-02, -4.08344227e-02,\n",
       "        4.02607954e-02,  2.11589108e-02, -1.24221939e-01, -8.73151010e-02,\n",
       "        1.60336993e-01, -1.09942788e-01, -1.72099318e-01,  9.02995620e-02,\n",
       "        2.35603008e-02, -1.14564130e-01,  2.20388955e-01, -2.55913682e-02,\n",
       "       -1.96745373e-02, -8.50704754e-02,  6.06767024e-02, -1.47200419e-01,\n",
       "        9.73519552e-02,  5.02437435e-03, -6.20194553e-03,  4.70607880e-02,\n",
       "       -7.92704546e-02,  5.57638271e-02,  1.68467060e-01,  2.70974434e-02,\n",
       "       -7.09599612e-02,  1.99742330e-01,  6.27973386e-04,  2.66651942e-02,\n",
       "       -6.36958650e-03,  4.09483138e-02,  2.88830582e-02, -1.40038801e-01,\n",
       "       -1.48506506e-01,  3.16781432e-02,  5.65631939e-03,  6.82431577e-02,\n",
       "        2.63093279e-02,  1.39493944e-01, -5.25680878e-02,  1.57153252e-02,\n",
       "       -4.27404388e-02,  1.81464469e-01, -5.80252750e-02, -2.15262695e-01,\n",
       "       -5.97000628e-02,  5.26942335e-02, -4.84576537e-02, -1.38368997e-01,\n",
       "        3.74002994e-02, -2.58480365e-01,  1.09760281e-01, -2.48999023e-02,\n",
       "       -5.12674658e-02, -7.51085628e-02,  1.10021899e-01,  1.26168822e-01,\n",
       "        7.44267093e-02,  2.36773952e-02, -1.98528208e-02, -1.03690170e-01,\n",
       "        3.79224229e-02, -5.00294653e-02,  1.68794203e-01, -6.94415783e-02,\n",
       "       -1.82495137e-01,  2.28062740e-02, -1.08531561e-01,  5.36587581e-02,\n",
       "       -1.79666281e-01, -1.31648744e-01,  6.21400495e-02,  1.62664896e-02,\n",
       "       -3.07813808e-02,  9.65208254e-02, -2.45593440e-02, -3.99445112e-03,\n",
       "       -3.87148452e-02, -1.07892144e-01, -1.08805067e-01, -1.22268804e-01,\n",
       "        4.35453564e-02,  1.81591436e-01,  3.64037877e-02, -9.40889802e-04,\n",
       "        1.14202100e-01, -4.93726787e-02, -3.15825365e-02, -2.45514678e-02,\n",
       "        8.99950974e-02, -6.80777707e-02, -4.75653597e-02,  1.02785475e-01,\n",
       "        1.32059196e-01, -9.22745479e-02, -2.21478669e-02, -1.02050746e-01,\n",
       "        3.45691026e-02, -4.76317913e-02,  1.35748788e-01,  7.57652049e-03,\n",
       "        1.15708555e-01, -8.66511667e-03,  6.25345129e-04,  4.93364260e-03,\n",
       "        6.99896493e-02,  2.79485344e-02,  1.89691509e-02,  2.65199377e-02,\n",
       "       -7.18191578e-02,  4.04785066e-02, -3.60125343e-02,  1.35244669e-01,\n",
       "        2.92478036e-02,  7.37983795e-02,  4.75545589e-02, -1.52473731e-01,\n",
       "        1.71661148e-01,  8.30378362e-02,  3.62804899e-03,  9.73665132e-02,\n",
       "       -2.33495647e-01, -1.29411488e-01, -1.83493215e-02,  1.82680645e-02,\n",
       "       -1.31287752e-01,  1.31927555e-01,  1.36607389e-01, -1.82432302e-01,\n",
       "        2.84060707e-01,  2.65191202e-02,  1.22441821e-01,  1.20960690e-01,\n",
       "       -1.72460202e-01,  1.32512425e-01,  4.15200661e-02,  4.10611388e-02,\n",
       "       -2.28635423e-01, -1.10588578e-01,  1.78820526e-02,  1.36783665e-01,\n",
       "       -7.79428816e-02,  6.20529349e-03,  4.86666427e-02,  2.61266827e-02,\n",
       "        2.59595332e-03,  1.31382667e-01,  9.63920277e-02, -1.61601162e-02,\n",
       "        1.30169420e-01, -7.64505293e-02,  8.69535585e-03, -1.80292986e-02,\n",
       "        1.45514718e-01, -2.73210915e-01, -1.53369886e-01, -1.50802396e-02,\n",
       "       -2.44577600e-01,  1.23784969e-01,  4.05862872e-02, -4.16275603e-02,\n",
       "       -1.83683471e-02,  2.08250516e-01, -8.63776134e-02,  1.56310205e-02,\n",
       "        2.06291260e-02,  4.41833272e-02, -8.18201041e-02,  1.88532827e-01,\n",
       "        1.25226628e-01,  1.45807951e-02, -5.48114846e-02, -1.06716335e-01,\n",
       "        1.03436913e-01,  2.88962547e-01, -1.14193789e-01, -4.55617790e-02,\n",
       "       -2.40059263e-01,  1.02090401e-01, -6.12526083e-02, -1.96470875e-01,\n",
       "        2.32154945e-02,  9.44496908e-02,  7.67660223e-02, -6.78194762e-02,\n",
       "        8.73128576e-02, -8.32419553e-03,  9.14144522e-02,  4.33375296e-02,\n",
       "       -1.30430151e-01, -8.69666806e-02,  1.18038306e-01, -3.54158335e-02,\n",
       "       -7.31759229e-02,  7.31028663e-02, -7.94987243e-02, -6.96026791e-02,\n",
       "        9.33741318e-02,  1.05747314e-01,  2.98796614e-02, -1.39485314e-01,\n",
       "       -1.84272342e-02, -8.48012311e-02,  8.28443169e-02, -4.72246217e-02,\n",
       "        8.91553034e-02,  1.85371153e-01, -1.68794748e-02,  1.14490526e-02,\n",
       "        3.67819939e-02, -4.32210205e-02,  4.28315613e-02, -1.32246659e-01,\n",
       "       -1.01032938e-01,  1.28758853e-01, -5.71715828e-02,  2.30472473e-02,\n",
       "        1.85766710e-01,  2.21225462e-01, -1.62052151e-01, -6.81242995e-02,\n",
       "        1.75028878e-02, -2.37368647e-02,  7.65650961e-02,  8.95673508e-02,\n",
       "       -1.40828412e-01,  9.54646911e-03, -7.33267774e-03, -8.32751169e-03,\n",
       "       -4.02820129e-03, -1.61995031e-01, -4.21192381e-03, -5.54141785e-02,\n",
       "       -2.00473284e-02,  2.30079251e-01, -1.50631631e-01,  4.92366394e-02,\n",
       "       -9.71456491e-02, -3.15578611e-02,  8.35417518e-02, -1.45217023e-01,\n",
       "       -1.86282286e-01, -7.44291878e-02,  1.16169939e-01, -1.43784572e-01,\n",
       "        1.07718507e-01, -9.63096154e-02, -1.64465432e-01,  9.05210718e-02,\n",
       "        9.98085165e-02, -4.61392612e-02,  1.42536642e-01,  3.47527274e-02,\n",
       "       -5.46965429e-02,  7.29449329e-02,  1.52275599e-01,  7.46898764e-02,\n",
       "        4.59412848e-02, -5.44180654e-02, -2.34076388e-01,  1.13287204e-01,\n",
       "        2.14074339e-01, -9.98583310e-02, -2.13337071e-03, -6.04285542e-02,\n",
       "        9.79764995e-02, -5.52252830e-02, -3.26482139e-02, -3.05094705e-02,\n",
       "       -1.53242803e-01,  5.72970161e-02, -2.53370063e-02,  9.33749133e-02,\n",
       "       -7.64781731e-02,  3.40378973e-02, -1.27984081e-01,  2.71765691e-02,\n",
       "       -1.20607666e-02,  2.70240517e-02,  1.17115400e-01,  6.10627194e-02,\n",
       "       -5.20557243e-02,  1.45176432e-01, -4.30211714e-02, -2.04173250e-02,\n",
       "       -1.05605669e-01,  3.32677908e-02, -3.22471071e-03, -6.57745716e-02,\n",
       "       -1.37718028e-01,  9.22611491e-02, -8.74273714e-02, -9.73414773e-02,\n",
       "        3.31908288e-02, -1.01714493e-01, -8.53907286e-02, -9.51547007e-02,\n",
       "        9.60101832e-02, -3.26044626e-02,  2.71162237e-03, -9.12099785e-03,\n",
       "        4.91001431e-02, -1.03003560e-01, -7.76940093e-02,  2.44792222e-02,\n",
       "       -1.14709386e-02,  5.72063993e-02,  4.44689633e-02,  7.09877944e-03,\n",
       "        9.44769696e-02, -5.09466861e-02,  1.78935645e-02, -1.46313355e-01,\n",
       "       -1.30702446e-01, -1.31501686e-01, -1.11534341e-01,  5.62514525e-03,\n",
       "        8.24153715e-02, -2.58735918e-02,  5.20438600e-02,  2.12866445e-01,\n",
       "       -1.40405993e-01,  1.73944421e-02,  9.54149085e-02,  1.25004263e-01,\n",
       "        1.09980236e-01,  7.84240380e-02, -4.62513599e-02,  4.21846117e-02,\n",
       "       -5.87772937e-02,  1.12209376e-01, -7.94196633e-02, -8.48783119e-02,\n",
       "       -3.65026148e-02, -8.63757823e-02, -9.62610924e-02,  6.66184083e-02,\n",
       "        6.34363426e-02, -6.12785167e-02,  5.60137098e-03, -1.47491036e-01,\n",
       "        4.83085024e-02, -2.70222425e-02, -7.37712322e-03,  1.05767400e-01,\n",
       "       -2.25252050e-02, -1.09307963e-01,  1.96710455e-01,  4.15507015e-02,\n",
       "       -1.61508349e-02, -2.62111791e-02, -9.62632284e-02,  6.24171224e-02,\n",
       "       -1.01380080e-01,  1.33696852e-02, -2.81964925e-02,  4.75737949e-02,\n",
       "       -5.92835762e-02,  7.77987466e-02, -3.85871491e-02,  6.54576943e-02,\n",
       "       -8.76422872e-02, -1.28883521e-01, -5.71693489e-02, -1.33481116e-02,\n",
       "        4.57576775e-02, -5.15812298e-02,  9.83099977e-02,  2.24599067e-01,\n",
       "       -1.21709926e-01,  1.14939102e-01,  1.58355888e-02,  3.82720995e-02,\n",
       "        5.26379535e-02,  3.04792763e-02,  1.47039362e-02, -1.01770378e-01,\n",
       "       -1.17264545e-01,  3.83642241e-02, -2.67616698e-02, -1.59020406e-02,\n",
       "        8.32679748e-02, -5.65891842e-02,  8.87198470e-02,  1.55101562e-01,\n",
       "       -9.91694358e-03,  1.48515234e-01, -9.73388516e-02,  1.43382774e-01,\n",
       "        4.82136286e-02, -8.39187364e-02,  1.81754954e-01,  1.11001149e-01,\n",
       "       -2.78581021e-02, -1.18669134e-01, -3.74885385e-02,  5.64170346e-02,\n",
       "        1.16787152e-01,  1.16016149e-01,  6.04280351e-03,  1.32035426e-01,\n",
       "       -1.45151602e-04, -2.10561628e-01,  2.35269256e-01,  1.17780304e-02,\n",
       "        4.58343309e-02,  3.31414947e-02, -5.01811552e-02,  7.06956026e-02,\n",
       "        5.79102365e-02,  6.56360754e-02, -1.46399153e-01, -5.33168004e-02,\n",
       "        2.54957516e-01, -3.74779649e-02, -9.11392823e-02, -4.01366472e-02,\n",
       "       -2.70222363e-02, -3.57937184e-02,  1.19693180e-01, -5.89734344e-02,\n",
       "        1.76215045e-02, -4.42121783e-02, -3.14140775e-02, -3.51368922e-02,\n",
       "       -1.13941438e-01,  1.34898159e-01,  5.95306453e-03, -3.10137675e-02,\n",
       "        5.56495306e-02,  9.22934465e-03,  6.79631225e-02, -1.35554818e-01,\n",
       "       -1.13259088e-01, -9.52549645e-02, -1.09547402e-01, -5.46623519e-03,\n",
       "       -1.98599899e-02,  3.43689735e-02,  2.44745205e-02, -8.00560521e-02,\n",
       "       -6.15910354e-02, -1.09214452e-01, -5.61711405e-02,  4.85951552e-02,\n",
       "        2.34895942e-02,  1.38755259e-02, -4.39330346e-03,  1.82171355e-01,\n",
       "       -1.51411296e-01,  5.93959829e-02, -2.08570054e-02, -5.82318306e-02])"
      ]
     },
     "execution_count": 232,
     "metadata": {},
     "output_type": "execute_result"
    }
   ],
   "source": [
    "b"
   ]
  },
  {
   "cell_type": "code",
   "execution_count": 233,
   "metadata": {},
   "outputs": [
    {
     "data": {
      "image/png": "[encoded data removed]",
      "text/plain": [
       "<Figure size 432x288 with 1 Axes>"
      ]
     },
     "metadata": {
      "needs_background": "light"
     },
     "output_type": "display_data"
    }
   ],
   "source": [
    "import matplotlib.pyplot as plt\n",
    "count, bins, ignored = plt.hist(b, 30, density=True)\n",
    "plt.plot(bins, 1/(sigma * np.sqrt(2 * np.pi)) *\n",
    "               np.exp( - (bins - mu)**2 / (2 * sigma**2) ),\n",
    "         linewidth=2, color='r')\n",
    "plt.show()"
   ]
  },
  {
   "cell_type": "markdown",
   "metadata": {},
   "source": [
    "#### 5. Exponential distribution"
   ]
  },
  {
   "cell_type": "markdown",
   "metadata": {},
   "source": [
    "Exponential Distribution is used to model the time taken between the occurrence of different events. The exponential distribution is one of the extensively used continuous distributions and it is strictly related to the Poisson distribution.Its probability density function is:\n",
    "\n",
    "![alt text](exponential.png)"
   ]
  },
  {
   "cell_type": "markdown",
   "metadata": {},
   "source": [
    "A continuous random variable x (with scale parameter λ > 0) is said to have an exponential distribution only if its probability density function can be expressed by multiplying the scale parameter to the exponential function of minus scale parameter and x for all x greater than or equal to zero, otherwise the probability density function is equal to zero. More information about exponential distribution get here: https://www.wallstreetmojo.com/exponential-distribution/\n",
    "\n",
    "We should use exponential distribution when:\n",
    "\n",
    "- You have a lot of events going.\n",
    "- They happen at a certain rate (which does not change over time).\n",
    "- Just because one happened the chances of another one happening don’t change.\n",
    "\n",
    "https://www.kdnuggets.com/2019/07/5-probability-distributions-every-data-scientist-should-know.html"
   ]
  },
  {
   "cell_type": "markdown",
   "metadata": {},
   "source": [
    "A real life example for exponential distribution: \n",
    "\n",
    "As I mentioned before, exponential distribution measures time taken between occurance of two events. As an example, we could imagine we work at a restaurant and we want to predict what is going to be the time interval between different customers coming to the restaurant. According to https://towardsdatascience.com/ using an Exponential Distribution for this type of problem, could be the perfect place where to start the analysis. "
   ]
  },
  {
   "cell_type": "markdown",
   "metadata": {},
   "source": [
    "![alt text](exp1.png)"
   ]
  },
  {
   "cell_type": "markdown",
   "metadata": {},
   "source": [
    "Image taken from: https://en.wikipedia.org/wiki/Exponential_distribution"
   ]
  },
  {
   "cell_type": "markdown",
   "metadata": {},
   "source": [
    "## 4.The use of seeds"
   ]
  },
  {
   "cell_type": "markdown",
   "metadata": {},
   "source": [
    "As I have mentioned before computers can't produce random numbers itself, they need human help. That is the reason why random numberes are deterministic which means that they operate by a set of rules, and we call them pseudorandom numbers. The pseudorandom number generator is a mathematical function that generates a sequence of nearly random numbers. It takes a parameter to start off the sequence, called the seed. As the function is deterministic, the same seed will produce the same sequence of numbers every time. https://yourbasic.org/algorithms/random-number-generator-seed/\n",
    "\n",
    "\"A random seed specifies the start point when a computer generates a random number sequence. This can be any number, but it usually comes from seconds on a computer system’s clock (Henkemans & Lee, 2001).\" \n",
    "\n",
    "Quote taken from:https://www.statisticshowto.datasciencecentral.com/random-seed-definition/\n",
    "\n",
    "Generally, the seed value is the previous number generated by the generator. However, when the first time you use the random generator, there is no previous value. So by-default current system time is used as a seed value.  The random module uses the seed value as a base to generate a random number.https://pynative.com/python-random-seed/ \n",
    "\n",
    "Syntax of random.seed()\n",
    "\n",
    "If the seed=None,  then by default, current system time is used. If seed value is in the form of an integer it is used as it is. This method is called when RandomState is initialized. It can be called again to re-seed the generator. RandomState exposes a number of methods for generating random numbers drawn from a variety of probability distributions. In addition to the distribution-specific arguments, each method takes a keyword argument size that defaults to None.\n",
    "\n",
    "- If size is None, then a single value is generated and returned.\n",
    "- If size is an integer, then a 1-D array filled with generated values is returned. \n",
    "- If size is a tuple, then an array with that shape is filled and returned.\n",
    "\n",
    "https://docs.scipy.org/doc/numpy-1.16.0/reference/generated/numpy.random.RandomState.html#numpy.random.RandomState\n",
    "\n",
    "I will show an example which generates the same output every time using random.seed()\n",
    "\n"
   ]
  },
  {
   "cell_type": "code",
   "execution_count": 234,
   "metadata": {},
   "outputs": [
    {
     "name": "stdout",
     "output_type": "stream",
     "text": [
      "Random number with seed 30\n",
      "first -  59\n",
      "Second -  59\n",
      "Third -  59\n"
     ]
    }
   ],
   "source": [
    "# Code adjusted from:https://pynative.com/python-random-seed/\n",
    "# Import random library\n",
    "import random\n",
    "# print \"Random number with seed 30\"\n",
    "print (\"Random number with seed 30\")\n",
    "# Random seed is set to 30\n",
    "random.seed( 30 )\n",
    "# Print \"first -\"\n",
    "# Random integer in interval from 25 to 60\n",
    "print (\"first - \", random.randint(25,60))\n",
    "\n",
    "# It will generate a same random number as previous, because the seed is set to 30 \n",
    "random.seed( 30 )\n",
    "# Print \"Second -\"\n",
    "# Random integer in interval from 25 to 60\n",
    "print (\"Second - \", random.randint(25,60))\n",
    "\n",
    "# It will generate a same random number as previous, because the seed is set to 30\n",
    "random.seed( 30 )\n",
    "# Print \"Third -\"\n",
    "# Random integer in interval from 25 to 60\n",
    "print (\"Third - \", random.randint(25,60))"
   ]
  },
  {
   "cell_type": "markdown",
   "metadata": {},
   "source": [
    "As it is shown in the example above we can see 3 outputs with the number 59. In all 3 situations the seed was 30 which means the output was the same although radint function was called in 3 situations. Random.radint function returns random integers from low (inclusive) to high (exclusive) which means that all integers from 25 to 50 (not included) could be returned as output with the seed 30, but in all three situations we got the same output (59)"
   ]
  },
  {
   "cell_type": "code",
   "execution_count": 236,
   "metadata": {},
   "outputs": [
    {
     "name": "stdout",
     "output_type": "stream",
     "text": [
      "Random number with seed 30\n",
      "First -  59\n",
      "Second -  43\n",
      "Third -  59\n"
     ]
    }
   ],
   "source": [
    "# Code adjusted from: https://pynative.com/python-random-seed/\n",
    "# Import random library\n",
    "import random\n",
    "# Print \"Random number with seed 30\"\n",
    "print (\"Random number with seed 30\")\n",
    "# First call of random.seed function\n",
    "random.seed( 30 ) \n",
    "# Print \"First -\"\n",
    "# Random.randint function in a range from 25 to 60\n",
    "print (\"First - \", random.randint(25,60))\n",
    "# Print \"Second -\"\n",
    "# Generate a different random number as previous value is used as a seed\n",
    "print (\"Second - \", random.randint(25,60))\n",
    "# It will generate a same random number as first one because seed value is also set to 30.\n",
    "random.seed( 30 ) \n",
    "# Print \"Third -\"\n",
    "# Third call of random.randint function\n",
    "print (\"Third - \", random.randint(25,60))"
   ]
  },
  {
   "cell_type": "markdown",
   "metadata": {},
   "source": [
    "In the example above we can see that the second output is different because the first output (59) is taken as a seed in the second call. The seed in second case was 59 and that number used as a seed generated different output (43). It the second case function random.seed( 30 ) is omitted and then by default previous output was used as a seed. In this example I used randint function to generate random integers, but other functions can be used as well, for example, random.choice, or random.sample.\n",
    "\n",
    "In this work we have seen in several occassions that there are algorithms that generate numbers which are based on distributions like the Uniform distribution, Poisson distribution or Normal distribution and they follow repeated pattern.  "
   ]
  },
  {
   "cell_type": "code",
   "execution_count": null,
   "metadata": {},
   "outputs": [],
   "source": []
  }
 ],
 "metadata": {
  "kernelspec": {
   "display_name": "Python 3",
   "language": "python",
   "name": "python3"
  },
  "language_info": {
   "codemirror_mode": {
    "name": "ipython",
    "version": 3
   },
   "file_extension": ".py",
   "mimetype": "text/x-python",
   "name": "python",
   "nbconvert_exporter": "python",
   "pygments_lexer": "ipython3",
   "version": "3.7.3"
  }
 },
 "nbformat": 4,
 "nbformat_minor": 2
}
