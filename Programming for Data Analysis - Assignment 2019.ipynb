{
 "cells": [
  {
   "cell_type": "markdown",
   "metadata": {},
   "source": [
    "# Programming for Data Analysis\n",
    "\n",
    "# Assignment 2019 \n",
    "\n"
   ]
  },
  {
   "cell_type": "markdown",
   "metadata": {},
   "source": [
    "## What are random numbers?"
   ]
  },
  {
   "cell_type": "markdown",
   "metadata": {},
   "source": [
    "![random numbers](new.png)"
   ]
  },
  {
   "cell_type": "markdown",
   "metadata": {},
   "source": [
    "\n",
    "\n",
    "Random numbers have been used for many thousands of years. Whether we talk about flipping a coin or rolling a dice, the goal is to leave the end result up to random chance. It is the same case with random number generators in a computer. The aim is to achieve an unpredictable, random result that could not be guessed. Computers generate random numbers for everything from cryptography to gambling. There are two categories of random numbers, “true” random numbers and pseudorandom numbers. Its difference is important for the security of encryption systems. To generate a “true” random number, the computer measures some type of physical phenomenon that takes place outside of the computer. For example the computer could rely on atmospheric noise or simply use the exact time you press keys on your keyboard as a source of unpredictable data (www.howtogeek.com). This type of random numbers is mostly used in programs in which data security is main priority. In this work we are going to focus more on pseudorandom numbers as they are a sample of numbers that look close to true random numbers but were generated using some deterministic process (machinelearningmastery.com).  Pseudorandom number generators (PRNGs) refer to an algorithm that uses mathematical formulas to produce sequences of random numbers (www.geeksforgeeks.org). One of the ways to generate random numbers is by using NumPy random numbers package. For that purpose, NumPy provides various routines that use particular algorithm to generate pseudorandom numbers.In order to dive in it into more details, in the next few paragraphs I will be focusing more on NumPy library and its features. \n"
   ]
  },
  {
   "cell_type": "markdown",
   "metadata": {},
   "source": [
    "## NumPy package\n",
    "  \n",
    "  NumPy (Numerical Python) is a library for the Python programing language. It is intrinsically integrated with Python (en.wikipedia.org). It is a successor for two earlier scientific libraries, Numeric code and Numarray.https://docs.scipy.org/doc/numpy-1.14.0/index.html As NumPy, its initial release was in 2006. The primary creator of NumPy is American data scientist and businessman, Travis Oliphant. NumPy is a distributed, volunteer, open-source project, and everyone is welcome to give their contribution. \n",
    "Some of the features that NumPy contains are powerful N-dimensional array objects, sophisticated functions, tools for integrating C/C++ and Fortran code and many others. Besides its obvious scientific uses, NumPy can also be used as an efficient multi-dimensional container of generic data. Arbitrary data-types can be defined. This allows NumPy to seamlessly and speedily integrate with a wide variety of databases.https://docs.scipy.org/doc/numpy-1.14.0/about.html\n",
    "\n",
    "At the core of the NumPy package, is the ndarray object. This encapsulates n-dimensional arrays of homogeneous data types, with many operations being performed in compiled code for performance. There are several important differences between NumPy arrays and the standard Python sequences:\n",
    "\n",
    "- NumPy arrays have a fixed size at creation while Python lists can grow dynamically. Changing the size of an ndarray will create a new array and delete the original. There are some NumPy’s benefits over Python lists, which include: being more compact, faster access in reading and writing items, being more convenient and more efficient (https://towardsdatascience.com).\n",
    "\n",
    "- The elements in a NumPy array are all required to be of the same data type, and thus will be the same size in memory. \n",
    "\n",
    "- NumPy arrays facilitate advanced mathematical and other types of operations on large numbers of data. Typically, such operations are executed more efficiently and with less code than is possible using Python’s built-in sequences.\n",
    "\n",
    "- In order to efficiently use most of today’s scientific/mathematical Python-based software, just knowing how to use Python’s built-in sequence types is insufficient, it is also crucial to know how to use NumPy arrays (https://numpy.org).\n",
    "\n",
    " "
   ]
  },
  {
   "cell_type": "markdown",
   "metadata": {},
   "source": [
    "The more important attributes of an ndarray object are:\n",
    "\n",
    "##### 1. ndarray.ndim\n",
    "\n",
    "This function returns the number of axes or dimensions of the array. In order to use ndarray.ndim function I have to import numpy package first. This is an example of one-dimensional array. The list of numbers from 4 to 7. "
   ]
  },
  {
   "cell_type": "code",
   "execution_count": 4,
   "metadata": {},
   "outputs": [],
   "source": [
    "#Import numpy as np\n",
    "import numpy as np\n",
    "#numpy.array function is used to generate numbers\n",
    "a = np.array([4, 5, 6, 7])"
   ]
  },
  {
   "cell_type": "code",
   "execution_count": 5,
   "metadata": {},
   "outputs": [
    {
     "data": {
      "text/plain": [
       "array([4, 5, 6, 7])"
      ]
     },
     "execution_count": 5,
     "metadata": {},
     "output_type": "execute_result"
    }
   ],
   "source": [
    "#call the value a\n",
    "a"
   ]
  },
  {
   "cell_type": "code",
   "execution_count": 6,
   "metadata": {},
   "outputs": [
    {
     "data": {
      "text/plain": [
       "1"
      ]
     },
     "execution_count": 6,
     "metadata": {},
     "output_type": "execute_result"
    }
   ],
   "source": [
    "#number of axes of the array    \n",
    "a.ndim"
   ]
  },
  {
   "cell_type": "markdown",
   "metadata": {},
   "source": [
    "##### 2. ndarray.shape\n",
    "\n",
    "This function returns the dimensions of the array. In this situation we got output 4 which means it is one-dimensional array with 4 elements in it. "
   ]
  },
  {
   "cell_type": "code",
   "execution_count": 7,
   "metadata": {},
   "outputs": [
    {
     "data": {
      "text/plain": [
       "(4,)"
      ]
     },
     "execution_count": 7,
     "metadata": {},
     "output_type": "execute_result"
    }
   ],
   "source": [
    "#dimensions of the array\n",
    "a.shape"
   ]
  },
  {
   "cell_type": "markdown",
   "metadata": {},
   "source": [
    "##### 3. ndarray.size\n",
    "\n",
    "This function shows the total number of elements in the array. It is equal to the number of elements of ndarray.shape."
   ]
  },
  {
   "cell_type": "code",
   "execution_count": 8,
   "metadata": {},
   "outputs": [
    {
     "data": {
      "text/plain": [
       "4"
      ]
     },
     "execution_count": 8,
     "metadata": {},
     "output_type": "execute_result"
    }
   ],
   "source": [
    "#total number of elements in the array\n",
    "a.size"
   ]
  },
  {
   "cell_type": "markdown",
   "metadata": {},
   "source": [
    "##### 4.ndarray.dtype\n",
    "\n",
    "This function describes the type of elements in the array. It tells us if the element is for example integer or float number. NumPy provides types of its own (int32, int64, float64...). This type of element is int32. "
   ]
  },
  {
   "cell_type": "code",
   "execution_count": 9,
   "metadata": {},
   "outputs": [
    {
     "data": {
      "text/plain": [
       "dtype('int32')"
      ]
     },
     "execution_count": 9,
     "metadata": {},
     "output_type": "execute_result"
    }
   ],
   "source": [
    "#type of elements in the array\n",
    "a.dtype"
   ]
  },
  {
   "cell_type": "markdown",
   "metadata": {},
   "source": [
    "##### 5.ndarray.itemsize\n",
    "\n",
    "This function shows the size in bytes of each element of the array. For example, an array of elements of type float64 has itemsize 8 (=64/8). In this case as we got an output that this array type is int32 which means that its itemsize is 4 bytes (32/8=4). "
   ]
  },
  {
   "cell_type": "code",
   "execution_count": 10,
   "metadata": {},
   "outputs": [
    {
     "data": {
      "text/plain": [
       "4"
      ]
     },
     "execution_count": 10,
     "metadata": {},
     "output_type": "execute_result"
    }
   ],
   "source": [
    "#size in bytes of each element of the array\n",
    "a.itemsize"
   ]
  },
  {
   "cell_type": "markdown",
   "metadata": {},
   "source": [
    "## Why is NumPy fast?\n",
    "\n",
    "Vectorization describes the absence of any explicit looping, indexing or other features in the code, these things are taking place “behind the scenes” in pre-compiled C code. The advantages of vectorized code are:\n",
    "\n",
    "- vectorized code is easier and more concise to read\n",
    "\n",
    "- fewer lines of code generally means fewer bugs\n",
    "\n",
    "- the code resembles standard mathematical notation \n",
    "\n",
    "- vectorization results in more “Pythonic” code. Without vectorization, our code would be littered with inefficient and difficult to read for loops.\n",
    "\n",
    "Broadcasting is the term used to describe the implicit element-by-element behavior of operations. In NumPy all operations, not just arithmetic operations, but also logical, bit-wise, functional, etc., behave in this implicit element-by-element fashion,  they broadcast. You can read more about numpy package here: https://numpy.org/devdocs/user/whatisnumpy.html"
   ]
  },
  {
   "cell_type": "markdown",
   "metadata": {},
   "source": [
    "## Section 1 - Numpy.random package\n",
    "\n"
   ]
  },
  {
   "cell_type": "markdown",
   "metadata": {},
   "source": [
    "As mentioned before, the focus of this project is to focus on pseudorandom numbers as they are a sample of numbers that look close to true random numbers but are generated using some deterministic process. As computers can not produce random numbers itself, they need packages and algorithms that would deal with it. Numpy.random rackage is one of the libraries in Python that generates pseudorandom data. \n",
    "\n",
    "Within the package there are many different functions and distributions. You can find more information about numpy.random package and its features here: https://docs.scipy.org/doc/numpy-1.15.0/reference/routines.random.html#\n",
    "\n",
    "Numpy.random package consists of 4 parts:\n",
    "\n",
    "##### 1. Simple random data\n",
    "##### 2. Permutations\n",
    "##### 3. Distributions\n",
    "##### 4. Random generator\n",
    "\n",
    "\n",
    "Each of these sections will be discussed in more details in the text below. In the next paragraph I will talk about the use of Simple random data and permutations. "
   ]
  },
  {
   "cell_type": "markdown",
   "metadata": {},
   "source": [
    "## Section 2 - Simple random data and Permutations"
   ]
  },
  {
   "cell_type": "markdown",
   "metadata": {},
   "source": [
    "Simple random data functions:\n",
    "\n",
    "\n",
    "- rand(d0, d1, …, dn) - Random values in a given shape.\n",
    "- randn(d0, d1, …, dn) - Return a sample (or samples) from the “standard normal” distribution.\n",
    "- randint(low[, high, size, dtype]) - Return random integers from low (inclusive) to high (exclusive).\n",
    "- random_integers(low[, high, size]) - Random integers of type np.int between low and high, inclusive.\n",
    "- random_sample([size]) - Return random floats in the half-open interval [0.0, 1.0).\n",
    "- random([size]) - Return random floats in the half-open interval [0.0, 1.0).\n",
    "- ranf([size]) - Return random floats in the half-open interval [0.0, 1.0).\n",
    "- sample([size]) - Return random floats in the half-open interval [0.0, 1.0).\n",
    "- choice(a[, size, replace, p]) - Generates a random sample from a given 1-D array\n",
    "- bytes(length) - Return random bytes."
   ]
  },
  {
   "cell_type": "markdown",
   "metadata": {},
   "source": [
    "##### numpy.random.rand"
   ]
  },
  {
   "cell_type": "markdown",
   "metadata": {},
   "source": [
    "This function gives random values in a given shape. It creates an array of the given shape and populates it with given samples \n",
    "from a uniform distribution. Numbers 4 and 2 signify 4 rows and 2 columns. "
   ]
  },
  {
   "cell_type": "code",
   "execution_count": 11,
   "metadata": {},
   "outputs": [],
   "source": [
    "#import numpy package as np \n",
    "import numpy as np\n",
    "#numpy random function \"rand\" is defined as b\n",
    "b = np.random.rand(4,2)"
   ]
  },
  {
   "cell_type": "code",
   "execution_count": 12,
   "metadata": {},
   "outputs": [
    {
     "data": {
      "text/plain": [
       "array([[0.04626912, 0.83176372],\n",
       "       [0.85730379, 0.72159925],\n",
       "       [0.88484601, 0.47945681],\n",
       "       [0.74881878, 0.702739  ]])"
      ]
     },
     "execution_count": 12,
     "metadata": {},
     "output_type": "execute_result"
    }
   ],
   "source": [
    "#call the function b\n",
    "b"
   ]
  },
  {
   "cell_type": "markdown",
   "metadata": {},
   "source": [
    "##### numpy.random.randn"
   ]
  },
  {
   "cell_type": "markdown",
   "metadata": {},
   "source": [
    "This function returns a sample or more samples from the “standard normal” distribution. A single float randomly sampled from the distribution is returned if no argument is provided."
   ]
  },
  {
   "cell_type": "code",
   "execution_count": 13,
   "metadata": {},
   "outputs": [],
   "source": [
    "#import numpy package as np\n",
    "import numpy as np\n",
    "#numpy random function randn is defined as b\n",
    "b = np.random.randn()"
   ]
  },
  {
   "cell_type": "code",
   "execution_count": 14,
   "metadata": {},
   "outputs": [
    {
     "data": {
      "text/plain": [
       "1.1638663811852887"
      ]
     },
     "execution_count": 14,
     "metadata": {},
     "output_type": "execute_result"
    }
   ],
   "source": [
    "#call the function b\n",
    "b"
   ]
  },
  {
   "cell_type": "markdown",
   "metadata": {},
   "source": [
    "##### numpy.random.randint"
   ]
  },
  {
   "cell_type": "markdown",
   "metadata": {},
   "source": [
    "This function returns random integers from low (inclusive) to high (exclusive). It returns random integers from discrete uniform distribution. As you can see in the example below we got 2 arrays with 4 elements in each. All numbers are in range from 0 to 5 (not including 5)."
   ]
  },
  {
   "cell_type": "code",
   "execution_count": 15,
   "metadata": {},
   "outputs": [],
   "source": [
    "#import numpy package as np\n",
    "import numpy as np\n",
    "#numpy random function randint (random integer) is defined as b\n",
    "b = np.random.randint(5, size=(2, 4))"
   ]
  },
  {
   "cell_type": "code",
   "execution_count": 16,
   "metadata": {},
   "outputs": [
    {
     "data": {
      "text/plain": [
       "array([[0, 0, 3, 0],\n",
       "       [1, 1, 4, 4]])"
      ]
     },
     "execution_count": 16,
     "metadata": {},
     "output_type": "execute_result"
    }
   ],
   "source": [
    "#call the function b\n",
    "b"
   ]
  },
  {
   "cell_type": "markdown",
   "metadata": {},
   "source": [
    "##### numpy.random.random_integers"
   ]
  },
  {
   "cell_type": "markdown",
   "metadata": {},
   "source": [
    "As we can see above, when using randint function high integer is exclusive, while using random_integers high integer is inclusive. So this function is very similar to randint function. In this case there are 3 rows, each row has 2 elements in it and high integer is included. "
   ]
  },
  {
   "cell_type": "code",
   "execution_count": 17,
   "metadata": {},
   "outputs": [
    {
     "name": "stderr",
     "output_type": "stream",
     "text": [
      "C:\\Users\\gener\\Anaconda4\\lib\\site-packages\\ipykernel_launcher.py:4: DeprecationWarning: This function is deprecated. Please call randint(1, 5 + 1) instead\n",
      "  after removing the cwd from sys.path.\n"
     ]
    }
   ],
   "source": [
    "#import numpy package as np\n",
    "import numpy as np\n",
    "#numpy random function random_integers is defined as b\n",
    "c = np.random.random_integers(5, size=(3,2))"
   ]
  },
  {
   "cell_type": "code",
   "execution_count": 18,
   "metadata": {},
   "outputs": [
    {
     "data": {
      "text/plain": [
       "array([[5, 1],\n",
       "       [3, 5],\n",
       "       [4, 3]])"
      ]
     },
     "execution_count": 18,
     "metadata": {},
     "output_type": "execute_result"
    }
   ],
   "source": [
    "#call the function c\n",
    "c"
   ]
  },
  {
   "cell_type": "markdown",
   "metadata": {},
   "source": [
    "##### numpy.random.random_sample,  numpy.random.random,  numpy.random.ranf,  numpy.random_sample"
   ]
  },
  {
   "cell_type": "markdown",
   "metadata": {},
   "source": [
    "These 4 functions return floats. Results are from the “continuous uniform” distribution over the stated interval. I will show two examples of these functions. In the first case using random_sample function it gives back random floats in the half-open interval from 0.0 to 1.0. In this case I got back float number: 04779..."
   ]
  },
  {
   "cell_type": "code",
   "execution_count": 19,
   "metadata": {},
   "outputs": [],
   "source": [
    "#import numpy package as np\n",
    "import numpy as np\n",
    "#numpy random function random sample is defined as b\n",
    "b = np.random.random_sample()"
   ]
  },
  {
   "cell_type": "code",
   "execution_count": 20,
   "metadata": {},
   "outputs": [
    {
     "data": {
      "text/plain": [
       "0.12019098682898177"
      ]
     },
     "execution_count": 20,
     "metadata": {},
     "output_type": "execute_result"
    }
   ],
   "source": [
    "#call the function b\n",
    "b"
   ]
  },
  {
   "cell_type": "markdown",
   "metadata": {},
   "source": [
    "In the second example, we got 5 different arrays, all of them are in the range from 0.0 to 1.0.  Results are also chosen from the “continuous uniform” distribution."
   ]
  },
  {
   "cell_type": "code",
   "execution_count": 21,
   "metadata": {},
   "outputs": [],
   "source": [
    "#import numpy package as np\n",
    "import numpy as np\n",
    "#numpy random function random sample is defined as b\n",
    "b = np.random.random_sample((5,))"
   ]
  },
  {
   "cell_type": "code",
   "execution_count": 22,
   "metadata": {},
   "outputs": [
    {
     "data": {
      "text/plain": [
       "array([0.66544437, 0.54045334, 0.4610013 , 0.58929508, 0.34938524])"
      ]
     },
     "execution_count": 22,
     "metadata": {},
     "output_type": "execute_result"
    }
   ],
   "source": [
    "#call the function b\n",
    "b"
   ]
  },
  {
   "cell_type": "markdown",
   "metadata": {},
   "source": [
    "##### numpy.random.choice"
   ]
  },
  {
   "cell_type": "markdown",
   "metadata": {},
   "source": [
    "This function generates a random sample from a given 1-D array. There are 4 different parameters a : 1-D array-like or int, size : int or tuple of ints, optional, replace : boolean, optional, p : 1-D array-like, optional"
   ]
  },
  {
   "cell_type": "code",
   "execution_count": 23,
   "metadata": {},
   "outputs": [],
   "source": [
    "#import numpy package as np\n",
    "import numpy as np\n",
    "#numpy random function choice is defined as b\n",
    "b = np.random.choice(5, 3)"
   ]
  },
  {
   "cell_type": "code",
   "execution_count": 24,
   "metadata": {},
   "outputs": [
    {
     "data": {
      "text/plain": [
       "array([0, 0, 2])"
      ]
     },
     "execution_count": 24,
     "metadata": {},
     "output_type": "execute_result"
    }
   ],
   "source": [
    "#call the function b\n",
    "b"
   ]
  },
  {
   "cell_type": "markdown",
   "metadata": {},
   "source": [
    "##### numpy.random.bytes"
   ]
  },
  {
   "cell_type": "markdown",
   "metadata": {},
   "source": [
    "This function returns random bytes. "
   ]
  },
  {
   "cell_type": "code",
   "execution_count": 25,
   "metadata": {},
   "outputs": [],
   "source": [
    "#import numpy package as np\n",
    "import numpy as np\n",
    "#numpy random function bytes is defined as b\n",
    "b = np.random.bytes(10)"
   ]
  },
  {
   "cell_type": "code",
   "execution_count": 26,
   "metadata": {},
   "outputs": [
    {
     "data": {
      "text/plain": [
       "b'\\xb1\\xa1\\xe6)\\xa7DJ\\xca\\xc8\\x04'"
      ]
     },
     "execution_count": 26,
     "metadata": {},
     "output_type": "execute_result"
    }
   ],
   "source": [
    "#call the function b\n",
    "b"
   ]
  },
  {
   "cell_type": "markdown",
   "metadata": {},
   "source": [
    "### Permutations"
   ]
  },
  {
   "cell_type": "markdown",
   "metadata": {},
   "source": [
    "A random permutation is a random ordering of a set of objects, that is, a permutation-valued random variable. The use of random permutations is often fundamental to fields that use randomized algorithms such as coding theory, cryptography, and simulation. A good example of a random permutation is the shuffling of a deck of cards: this is ideally a random permutation of the 52 cards.https://en.wikipedia.org/wiki/Random_permutation\n",
    "A permutation, also called an “arrangement number” or “order”, is a rearrangement of the elements of an ordered list. This method takes a list as an input and return an object list of tuples that contain all permutation in a list form. https://www.geeksforgeeks.org/permutation-and-combination-in-python/ There are 2 permutation functions: shuffle(x) and permutation(x). \n",
    "\n",
    "##### numpy.random.shuffle(x)  "
   ]
  },
  {
   "cell_type": "markdown",
   "metadata": {},
   "source": [
    "This function shuffles the array along the first axis of a multi-dimensional array. The order of sub-arrays is changed but their contents remains the same. In the example below I defined b as interval from 0 to 15 (15 is not included). Using random.shuffle function it returned the list of random numbers from 0 to 15 (not included) in random order. "
   ]
  },
  {
   "cell_type": "code",
   "execution_count": 27,
   "metadata": {},
   "outputs": [
    {
     "data": {
      "text/plain": [
       "array([ 4,  8, 12,  7,  9,  0, 14,  5,  6,  2, 10, 11,  3,  1, 13])"
      ]
     },
     "execution_count": 27,
     "metadata": {},
     "output_type": "execute_result"
    }
   ],
   "source": [
    "# Import numpy as np\n",
    "import numpy as np\n",
    "# I defined b as a range of all numbers from 0 to 14 (included)\n",
    "b = np.arange(15)\n",
    "# using numpy random.shuffle function numbers from 0 to 14 are shuffled in random order\n",
    "np.random.shuffle(b)\n",
    "# print all numbers in random order from 0 to 14 (included)\n",
    "b"
   ]
  },
  {
   "cell_type": "markdown",
   "metadata": {},
   "source": [
    "In the second example there are multi-dimensional arrays that are only shuffled along the first axis. There are 5 arrays that have 3 elements. In the first part there are 5 arrays which are in order from 0 to 14 (included). In the second part of the code there is a multi-dimensional array that doesn't start with 0 like the previous one. There are still 5 arrays with 3 elements in them, but the numbers have changed their order. The first array starts with 12 and continues to 13 and 14, the second arrays starts with 3 and it goes up to 5 and so on. From this example we can see that the numbers have been shuffled along the first axis. "
   ]
  },
  {
   "cell_type": "code",
   "execution_count": 28,
   "metadata": {},
   "outputs": [
    {
     "name": "stdout",
     "output_type": "stream",
     "text": [
      "Before Shufflling multi-dimensional array\n",
      "[[ 0  1  2]\n",
      " [ 3  4  5]\n",
      " [ 6  7  8]\n",
      " [ 9 10 11]\n",
      " [12 13 14]]\n",
      "After Shufflling multi-dimensional array\n",
      "[[ 0  1  2]\n",
      " [ 9 10 11]\n",
      " [12 13 14]\n",
      " [ 3  4  5]\n",
      " [ 6  7  8]]\n"
     ]
    }
   ],
   "source": [
    "# Code adjusted from: https://pynative.com/python-random-shuffle/\n",
    "# Import numpy as np\n",
    "import numpy as np\n",
    "print(\"Before Shufflling multi-dimensional array\")\n",
    "#\n",
    "b = np.arange(15).reshape((5, 3))\n",
    "print(b)\n",
    "\n",
    "print (\"After Shufflling multi-dimensional array\")\n",
    "b_new = np.random.shuffle(b)\n",
    "print(b)"
   ]
  },
  {
   "cell_type": "markdown",
   "metadata": {},
   "source": [
    "#### numpy.random.permutation(x)"
   ]
  },
  {
   "cell_type": "markdown",
   "metadata": {},
   "source": [
    "numpy.random.permutation function randomly permute a sequence, or return a permuted range. If x is a multi-dimensional array, it is only shuffled along its first index."
   ]
  },
  {
   "cell_type": "code",
   "execution_count": 29,
   "metadata": {},
   "outputs": [
    {
     "data": {
      "text/plain": [
       "array([[3, 4, 5],\n",
       "       [6, 7, 8],\n",
       "       [0, 1, 2]])"
      ]
     },
     "execution_count": 29,
     "metadata": {},
     "output_type": "execute_result"
    }
   ],
   "source": [
    "b = np.arange(9).reshape((3, 3))\n",
    "np.random.permutation(b)"
   ]
  },
  {
   "cell_type": "markdown",
   "metadata": {},
   "source": [
    "Difference between shuffle and permutation functions:\n",
    "\n",
    "The functions shuffle and permutation both reshuffle the original array (that is, randomly disorder the original element order)\n",
    "The difference between these functions are:\n",
    "\n",
    "- Shuffle operates directly on the original array, changing the order of the original array, no return value.\n",
    "\n",
    "- Permutation does not operate directly on the original array, but instead returns a new shuffled array without changing the original array.\n",
    "\n",
    "More information can be found here: http://programmersought.com/article/42301751121/;jsessionid=A113BA7B1FC347E1462F95F1517A0197"
   ]
  },
  {
   "cell_type": "markdown",
   "metadata": {},
   "source": [
    "## 3. Distribution functions "
   ]
  },
  {
   "cell_type": "markdown",
   "metadata": {},
   "source": [
    "Every time we are working with a dataset, our dataset represents some kind of a sample and using this sample, we need to understand its patterns so that we can make predictions based on them. Datasets are composed of two main types of data: Numerical (eg. integers), and categorical (eg. names). Based on that data it is possible to calculate some predictions like Probability Mass Functions and Probability Density Functions. There are many probability distributions, but in this work I will focus on 5 distributions that data scientists find most useful (https://towardsdatascience.com/). \n",
    "\n",
    "1. Poisson distribution\n",
    "2. Uniform distribution\n",
    "3. Binominal distribution\n",
    "4. Normal distribution\n",
    "5. Exponential distribution\n",
    "\n",
    "More information and plots about each distribution can be seen below.\n"
   ]
  },
  {
   "cell_type": "markdown",
   "metadata": {},
   "source": [
    "#### 1. Poisson distribution"
   ]
  },
  {
   "cell_type": "markdown",
   "metadata": {},
   "source": [
    "Poisson Distribution is applicable in situations where events occur at random points of time and space wherein our interest lies only in the number of occurrences of the event. It gives us the probability of a given number of events happening in a fixed interval of time. https://www.statisticshowto.datasciencecentral.com/poisson-distribution/\n",
    "\n",
    "The Poisson Distribution probability mass function gives the probability of observing k events in a time period given the length of the period and the average events per time:\n",
    "\n",
    "![alt text](poisson.png)\n",
    "\n",
    "Image shows Poisson distribution for probability of k events in time period.\n",
    "\n",
    "A distribution is called Poisson distribution when the following assumptions are valid:\n",
    "\n",
    "1. Any successful event should not influence the outcome of another successful event.\n",
    "2. The probability of success over a short interval must equal the probability of success over a longer interval.\n",
    "3. The probability of success in an interval approaches zero as the interval becomes smaller."
   ]
  },
  {
   "cell_type": "markdown",
   "metadata": {},
   "source": [
    "The Poisson distribution has the following characteristics:\n",
    "\n",
    "- It is a discrete distribution.\n",
    "- Each occurrence is independent of the other occurrences.\n",
    "- It describes discrete occurrences over an interval.\n",
    "- The occurrences in each interval can range from zero to infinity.\n",
    "- The mean number of occurrences must be constant throughout the experiment.\n",
    "\n",
    "https://www.onlinemathlearning.com/poisson-distribution.html\n",
    "\n",
    "In the next 2 examples I will show random.poisson distribution. We can see that the distribution changes as we change the first element in the function. In the first example most of the numbers are distributed around number 1, while in the second example most of the numbers are distributed around number 8. "
   ]
  },
  {
   "cell_type": "code",
   "execution_count": 30,
   "metadata": {},
   "outputs": [],
   "source": [
    "# Import numpy as np\n",
    "import numpy as np\n",
    "# I defined b as numpy random function using poisson distribution\n",
    "b = np.random.poisson(1, 1000)"
   ]
  },
  {
   "cell_type": "code",
   "execution_count": 31,
   "metadata": {},
   "outputs": [
    {
     "data": {
      "text/plain": [
       "array([0, 3, 1, 0, 1, 0, 0, 1, 1, 4, 1, 0, 0, 1, 1, 2, 0, 0, 3, 0, 0, 0,\n",
       "       2, 1, 0, 0, 2, 0, 0, 0, 3, 0, 0, 2, 0, 3, 4, 0, 0, 2, 2, 2, 0, 0,\n",
       "       3, 1, 1, 1, 1, 2, 0, 1, 0, 2, 1, 1, 3, 2, 1, 2, 0, 0, 1, 0, 1, 0,\n",
       "       0, 2, 1, 1, 2, 2, 1, 3, 0, 1, 1, 0, 0, 1, 1, 3, 0, 1, 1, 2, 1, 2,\n",
       "       0, 0, 2, 0, 1, 3, 1, 1, 1, 1, 1, 0, 1, 0, 0, 0, 0, 0, 1, 1, 3, 0,\n",
       "       1, 1, 2, 2, 3, 1, 1, 2, 1, 0, 1, 0, 1, 0, 1, 0, 2, 2, 0, 0, 0, 3,\n",
       "       0, 3, 1, 0, 1, 1, 1, 0, 1, 1, 1, 0, 0, 0, 1, 0, 0, 1, 1, 0, 1, 1,\n",
       "       0, 0, 2, 1, 0, 1, 2, 0, 1, 1, 3, 0, 1, 0, 2, 0, 0, 0, 1, 1, 1, 0,\n",
       "       1, 0, 1, 1, 0, 3, 0, 1, 1, 1, 4, 2, 2, 1, 0, 1, 1, 2, 0, 1, 0, 0,\n",
       "       1, 0, 0, 1, 2, 0, 2, 0, 1, 0, 0, 1, 0, 2, 2, 0, 1, 1, 0, 2, 0, 1,\n",
       "       1, 0, 2, 0, 2, 1, 0, 1, 0, 0, 0, 0, 0, 2, 0, 1, 0, 1, 1, 1, 0, 0,\n",
       "       0, 1, 0, 0, 0, 0, 0, 2, 1, 1, 1, 0, 0, 1, 0, 1, 1, 1, 1, 0, 0, 3,\n",
       "       0, 1, 1, 2, 1, 0, 1, 1, 1, 2, 1, 1, 2, 0, 0, 0, 2, 0, 1, 0, 2, 0,\n",
       "       2, 1, 2, 1, 0, 1, 0, 2, 1, 0, 1, 1, 1, 2, 0, 1, 0, 1, 0, 2, 1, 1,\n",
       "       1, 2, 0, 1, 0, 1, 0, 0, 1, 1, 0, 0, 3, 0, 1, 2, 0, 1, 1, 1, 4, 1,\n",
       "       0, 1, 0, 0, 0, 0, 3, 2, 0, 1, 1, 0, 0, 1, 1, 2, 3, 0, 0, 0, 0, 0,\n",
       "       1, 3, 1, 2, 1, 1, 0, 3, 1, 1, 3, 1, 2, 4, 0, 0, 0, 4, 1, 1, 1, 1,\n",
       "       0, 0, 1, 3, 0, 1, 0, 0, 1, 1, 0, 0, 0, 0, 2, 1, 2, 1, 0, 0, 0, 2,\n",
       "       0, 2, 0, 0, 1, 2, 2, 4, 0, 2, 1, 0, 0, 0, 1, 0, 1, 0, 0, 0, 2, 1,\n",
       "       0, 4, 1, 0, 2, 3, 1, 2, 0, 0, 0, 3, 0, 2, 0, 0, 0, 1, 1, 0, 4, 1,\n",
       "       0, 2, 0, 1, 2, 0, 0, 2, 0, 3, 0, 0, 1, 0, 1, 0, 3, 0, 1, 1, 0, 1,\n",
       "       1, 2, 0, 1, 1, 1, 1, 2, 3, 1, 1, 1, 2, 1, 1, 1, 1, 1, 1, 1, 0, 0,\n",
       "       1, 1, 0, 1, 1, 0, 0, 0, 1, 1, 0, 0, 1, 2, 0, 1, 0, 1, 0, 2, 3, 3,\n",
       "       0, 1, 2, 1, 2, 2, 2, 1, 1, 2, 1, 0, 0, 2, 2, 1, 2, 2, 0, 0, 0, 0,\n",
       "       4, 0, 0, 0, 1, 1, 1, 2, 0, 1, 2, 2, 2, 3, 0, 0, 3, 0, 0, 0, 1, 0,\n",
       "       2, 0, 0, 0, 0, 0, 1, 0, 3, 0, 1, 1, 1, 0, 0, 1, 0, 2, 0, 1, 1, 2,\n",
       "       0, 2, 1, 1, 0, 0, 1, 1, 1, 4, 1, 0, 3, 0, 0, 3, 0, 0, 1, 1, 1, 1,\n",
       "       1, 0, 1, 2, 1, 0, 1, 0, 3, 3, 2, 0, 3, 2, 1, 0, 1, 0, 3, 0, 2, 0,\n",
       "       1, 1, 1, 2, 0, 2, 0, 0, 0, 2, 1, 1, 1, 1, 1, 1, 2, 1, 2, 1, 2, 2,\n",
       "       1, 2, 2, 2, 1, 2, 1, 4, 1, 0, 0, 1, 0, 3, 2, 0, 0, 1, 1, 2, 1, 1,\n",
       "       0, 1, 1, 0, 0, 0, 1, 1, 0, 0, 0, 2, 1, 1, 1, 0, 1, 1, 1, 1, 0, 1,\n",
       "       0, 0, 0, 0, 0, 1, 0, 3, 2, 0, 0, 4, 2, 0, 3, 4, 3, 0, 0, 1, 1, 1,\n",
       "       1, 0, 0, 1, 0, 0, 0, 0, 2, 0, 2, 0, 0, 1, 3, 0, 1, 1, 0, 4, 0, 0,\n",
       "       1, 4, 1, 0, 2, 2, 1, 2, 1, 0, 2, 0, 1, 1, 1, 0, 2, 0, 1, 1, 1, 1,\n",
       "       2, 4, 1, 2, 1, 1, 0, 4, 1, 1, 1, 1, 2, 0, 0, 1, 0, 3, 0, 2, 1, 2,\n",
       "       1, 3, 1, 1, 2, 2, 0, 3, 2, 0, 3, 0, 2, 1, 0, 0, 1, 1, 0, 1, 1, 0,\n",
       "       1, 0, 0, 1, 3, 1, 1, 0, 0, 2, 0, 0, 1, 1, 1, 0, 1, 2, 2, 2, 0, 2,\n",
       "       0, 2, 0, 0, 2, 0, 3, 1, 1, 1, 2, 1, 0, 1, 0, 2, 1, 0, 2, 0, 1, 0,\n",
       "       1, 3, 3, 1, 2, 1, 0, 0, 0, 1, 3, 3, 0, 0, 0, 0, 0, 2, 2, 1, 0, 1,\n",
       "       3, 2, 1, 2, 1, 3, 0, 1, 0, 0, 0, 2, 0, 0, 0, 2, 1, 0, 3, 1, 3, 2,\n",
       "       1, 0, 0, 1, 3, 1, 2, 1, 0, 0, 1, 0, 1, 1, 1, 2, 1, 0, 1, 0, 1, 0,\n",
       "       1, 3, 1, 0, 2, 2, 2, 0, 0, 1, 0, 0, 1, 0, 1, 1, 2, 1, 0, 1, 0, 2,\n",
       "       0, 0, 0, 0, 2, 1, 0, 1, 0, 1, 0, 1, 1, 0, 0, 1, 0, 1, 2, 2, 1, 1,\n",
       "       0, 2, 0, 3, 0, 1, 0, 1, 1, 2, 1, 0, 1, 1, 0, 1, 1, 1, 2, 1, 2, 0,\n",
       "       1, 1, 0, 1, 2, 1, 0, 0, 1, 3, 0, 1, 0, 0, 1, 1, 0, 1, 0, 0, 3, 2,\n",
       "       3, 2, 0, 3, 0, 2, 1, 1, 0, 0])"
      ]
     },
     "execution_count": 31,
     "metadata": {},
     "output_type": "execute_result"
    }
   ],
   "source": [
    "# I called the function b\n",
    "b"
   ]
  },
  {
   "cell_type": "code",
   "execution_count": 32,
   "metadata": {},
   "outputs": [
    {
     "data": {
      "text/plain": [
       "<Figure size 640x480 with 1 Axes>"
      ]
     },
     "metadata": {},
     "output_type": "display_data"
    }
   ],
   "source": [
    "import matplotlib.pyplot as plt\n",
    "count, bins, ignored = plt.hist(b, 8, density=True)\n",
    "plt.show()"
   ]
  },
  {
   "cell_type": "code",
   "execution_count": 33,
   "metadata": {},
   "outputs": [],
   "source": [
    "# Import numpy as np\n",
    "import numpy as np\n",
    "# I defined b as numpy random function using poisson distribution\n",
    "b = np.random.poisson(8, 1000)"
   ]
  },
  {
   "cell_type": "code",
   "execution_count": 34,
   "metadata": {},
   "outputs": [
    {
     "data": {
      "text/plain": [
       "array([11,  8,  6,  6,  8, 13,  8, 11,  4,  5,  8, 11,  2,  6,  8,  6,  3,\n",
       "       12,  6, 18,  7, 10, 13, 10,  4, 10, 13, 11,  3,  5,  7,  5,  9, 12,\n",
       "        9,  4,  5,  9,  8, 10,  9,  9,  7,  8,  8, 12, 13, 14,  6,  6, 11,\n",
       "        8,  3,  8,  9, 10,  8,  6,  7,  8,  8,  4,  7,  7, 15,  2,  5,  9,\n",
       "        5,  8,  9,  7,  8,  9,  8,  5,  7,  8,  7, 13,  8,  4,  6,  8, 10,\n",
       "       12,  6, 13, 10,  6, 10,  7, 12,  9,  3,  8, 12,  8,  7,  7,  5,  7,\n",
       "        4,  7, 10, 12,  7, 11,  9,  6,  6,  5,  5,  7, 12,  3, 10,  4,  5,\n",
       "        4,  7,  7,  8,  8, 17, 10,  9,  3,  7, 12,  7, 11, 10,  5,  7,  3,\n",
       "        7,  7,  7,  6,  2,  6,  9, 10, 11,  6,  4, 10,  8, 15, 10,  7,  6,\n",
       "        5, 10, 14, 11, 11,  7,  5,  6, 11, 12,  3,  6,  0,  8, 15, 10, 10,\n",
       "        7,  9,  6,  6,  6,  4,  9, 12, 11,  3,  7,  5, 10,  5, 11,  8,  5,\n",
       "        9, 15,  9, 10,  7, 12, 11, 12,  8, 11,  8,  5,  4,  7, 12, 13,  6,\n",
       "        8,  4,  8,  5,  2,  3,  7, 11,  5,  4,  5, 10, 11, 11,  9,  8, 12,\n",
       "        6,  7, 13,  6, 13,  6,  8,  8,  8, 13,  7,  6, 11,  4, 13, 14,  5,\n",
       "       10, 11, 12,  7,  8,  4,  9,  7,  7,  4,  7, 13,  8, 10,  5,  7, 10,\n",
       "        9, 10, 10,  9,  6,  3, 16,  5, 12,  7,  8,  7,  6,  9,  8, 11,  4,\n",
       "        9, 10,  7,  6,  4,  7,  4, 10,  2,  9,  4,  5,  8,  8,  6,  5,  9,\n",
       "       11,  6,  9,  6,  6, 11, 10, 14,  8,  8,  5,  2,  9,  6,  7,  8, 12,\n",
       "        4,  9,  4, 11, 11, 12, 12,  5, 14,  4,  8, 12, 10, 10,  8,  9, 12,\n",
       "       11,  6, 11, 11,  7,  8, 10,  9,  6,  8,  6,  6,  5,  5, 14, 10, 14,\n",
       "        9,  4,  9, 11, 11,  9,  4, 11, 11,  6,  7,  3,  5,  6,  6, 11, 11,\n",
       "        6,  7,  9,  8,  8,  8, 11,  6,  8,  9,  3,  4,  9, 13, 10,  3, 11,\n",
       "        7,  3,  5,  5,  4,  7, 12,  6,  9,  7,  2,  9, 10, 16, 10, 11,  4,\n",
       "        6, 10,  9,  5,  7,  8,  5, 13,  5,  9,  7,  4,  9, 11,  9,  5,  7,\n",
       "        9,  7,  5,  6,  7,  3,  5,  8, 10,  3,  8, 13,  8, 15, 10, 12,  5,\n",
       "       10,  9, 11, 10,  1,  8,  3,  7,  7,  6, 13,  5,  8,  9,  5, 10, 11,\n",
       "       13,  5,  6,  8,  6,  9,  9, 10, 15,  7, 15,  8,  5,  7,  5,  9, 11,\n",
       "        8,  7,  8, 11,  9,  9,  6, 10,  8, 11, 10,  5,  9,  9,  7,  7, 10,\n",
       "        7,  4,  6, 14,  6,  5,  7,  4,  9,  9,  9, 10, 10,  9,  9,  5, 15,\n",
       "        7, 12,  6,  7, 11,  8,  9, 11,  7,  7,  5, 10,  6, 12,  5,  3, 10,\n",
       "        3, 12,  6,  7,  4, 11, 10, 12,  5,  7,  9, 12,  7,  5,  9,  6,  8,\n",
       "        9,  3,  8,  4,  8,  6,  7, 10, 13,  6,  9, 12,  8,  9,  9,  7, 12,\n",
       "       10,  6,  6, 10, 10,  7,  8, 11,  6,  9,  4,  8,  9,  8,  9,  8,  8,\n",
       "        4,  5,  5,  7,  9,  4,  9,  4, 10,  8,  8,  6,  7,  9, 10,  5, 13,\n",
       "        8, 13,  7,  5,  7,  8,  6, 13,  5,  3, 11,  9, 15,  8,  6,  8, 12,\n",
       "        6,  9,  8, 12, 10,  8,  9,  9,  5,  9,  6,  5,  9,  9,  7,  9, 13,\n",
       "       11,  7, 11, 13,  9,  7, 12,  7,  4,  5, 10,  8,  6,  5, 18,  6, 12,\n",
       "        6, 10,  8,  5,  8, 10,  6,  4,  3,  6,  9,  6,  7,  7,  6,  2, 10,\n",
       "        5, 10,  6,  6,  8,  8, 11,  8,  4,  9,  5, 14, 12, 10,  3,  5,  8,\n",
       "       13, 10,  7,  8,  9,  3,  8,  8,  5,  7,  6,  8, 11,  8, 12,  9,  8,\n",
       "       11,  8,  7, 10,  6,  8,  7, 13, 11,  3,  8,  6, 10,  7,  5,  5,  8,\n",
       "        5,  6, 11, 11,  9,  5,  7, 10,  4, 11,  4,  5, 10, 14,  6,  9,  9,\n",
       "        6, 10,  8,  7,  8,  9,  8,  5, 11,  6,  8, 12,  6, 11,  7,  9, 12,\n",
       "       12,  9, 13,  8,  8,  7,  7,  3, 11,  9, 11, 12, 10,  7,  7,  8,  4,\n",
       "       12, 11,  7, 12, 11,  6,  8, 15, 11, 14, 13,  9,  8,  8,  6, 12,  5,\n",
       "       13, 13,  6, 11, 10,  4,  4,  4,  9,  6, 10,  7,  8, 17,  5,  8, 11,\n",
       "        5,  8,  6,  9, 10, 11, 11,  7,  8,  4, 10, 13, 11,  9,  9,  9, 14,\n",
       "       10,  5,  3,  5,  7, 10, 10,  8,  7,  8, 10,  5,  5,  8, 10,  9,  8,\n",
       "        7,  8, 13,  8, 10,  5,  6,  8, 11,  3, 10,  9,  8, 12,  8,  7,  9,\n",
       "        6,  8,  7,  8, 13,  5,  8, 12,  7, 10,  7, 10,  8, 14,  6,  3,  8,\n",
       "        7,  7,  8,  7,  6,  8,  7,  6,  8,  7,  6,  7,  8,  5,  7, 11, 10,\n",
       "        9, 12,  8,  9,  8,  5, 10,  7, 13,  8,  9,  2,  7,  6,  6,  7,  8,\n",
       "       13,  7, 12,  8, 11, 12,  6,  8,  6,  9,  4,  7, 10,  7, 12,  6, 10,\n",
       "        3,  6,  9, 10,  9, 12,  6,  8, 11,  9, 11, 10,  8,  8,  8,  9,  7,\n",
       "        9, 10,  4, 12,  8, 10,  7, 10,  7,  4, 10, 11,  6, 11,  4,  6, 11,\n",
       "        7, 10,  6,  5,  9,  9, 12,  7,  8,  6,  3,  7, 12,  8, 12, 11,  8,\n",
       "        8,  7, 10,  9,  5,  4,  4,  8, 10,  9, 13,  7, 10,  8, 10,  8, 10,\n",
       "        5,  4,  8, 11,  4,  3, 15,  8, 11,  7,  5,  5,  8, 10,  9, 11, 14,\n",
       "        6,  6, 11,  4,  8,  7,  9,  6,  5,  8, 10,  6,  7, 13])"
      ]
     },
     "execution_count": 34,
     "metadata": {},
     "output_type": "execute_result"
    }
   ],
   "source": [
    "b"
   ]
  },
  {
   "cell_type": "code",
   "execution_count": 35,
   "metadata": {},
   "outputs": [
    {
     "data": {
      "image/png": "[encoded data removed]",
      "text/plain": [
       "<Figure size 432x288 with 1 Axes>"
      ]
     },
     "metadata": {
      "needs_background": "light"
     },
     "output_type": "display_data"
    }
   ],
   "source": [
    "import matplotlib.pyplot as plt\n",
    "count, bins, ignored = plt.hist(b, 8, density=True)\n",
    "plt.show()"
   ]
  },
  {
   "cell_type": "markdown",
   "metadata": {},
   "source": [
    "#### 2. Uniform distribution"
   ]
  },
  {
   "cell_type": "markdown",
   "metadata": {},
   "source": [
    "When you roll a fair die, the outcomes are 1 to 6. The probabilities of getting these outcomes are equally likely and that is the basis of a uniform distribution. You can see that the shape of the Uniform distribution curve is rectangular, the reason why Uniform distribution is called rectangular distribution. For a Uniform Distribution, a and b are the parameters (https://www.analyticsvidhya.com/). As we can see from the example we have 100 elements in an interval from -1 to 0. All numbers had equall chance to be chosen. When we look at the plot below all columns are almost equall size. "
   ]
  },
  {
   "cell_type": "code",
   "execution_count": 36,
   "metadata": {},
   "outputs": [],
   "source": [
    "# Import numpy as np\n",
    "import numpy as np\n",
    "# I defined b as a numpy random.uniform function in a range from -1 to 0. It includes 100 elements\n",
    "b = np.random.uniform(-1,0,100)"
   ]
  },
  {
   "cell_type": "code",
   "execution_count": 37,
   "metadata": {},
   "outputs": [
    {
     "data": {
      "text/plain": [
       "array([-2.50831532e-01, -4.80955272e-01, -2.67478648e-01, -1.69752938e-01,\n",
       "       -1.33170364e-01, -6.18778488e-01, -4.67537842e-01, -4.53211829e-01,\n",
       "       -4.62466804e-01, -9.26406399e-01, -2.55760967e-01, -9.16085106e-01,\n",
       "       -1.79310950e-01, -4.25548019e-01, -1.56258677e-01, -8.44963549e-01,\n",
       "       -6.94849793e-01, -7.51815258e-01, -6.25203289e-01, -3.50133746e-01,\n",
       "       -2.49566798e-01, -5.53880543e-01, -8.63290429e-01, -4.65873777e-01,\n",
       "       -3.86788715e-01, -2.17039943e-01, -5.80737757e-01, -8.56875150e-01,\n",
       "       -5.19267818e-01, -3.45119149e-01, -2.01091667e-01, -4.85502198e-01,\n",
       "       -9.06931655e-02, -3.75221120e-01, -3.70756049e-02, -8.16091158e-03,\n",
       "       -9.35642769e-01, -8.99878657e-01, -2.14341351e-01, -6.29759926e-01,\n",
       "       -8.48449620e-01, -4.34460733e-01, -2.93506152e-01, -1.16842844e-01,\n",
       "       -2.00806939e-01, -2.86875068e-01, -7.50175012e-01, -1.83330755e-01,\n",
       "       -1.17957492e-01, -4.75241391e-01, -4.66071530e-01, -9.40106378e-02,\n",
       "       -2.63025025e-01, -2.82085693e-01, -4.83719125e-01, -1.95396149e-01,\n",
       "       -3.52506079e-01, -5.35124483e-01, -7.76219610e-01, -2.57560303e-01,\n",
       "       -1.50748672e-01, -9.98019985e-01, -6.83043586e-01, -6.23636458e-01,\n",
       "       -7.67800502e-01, -7.35079473e-01, -5.89707544e-04, -3.14517334e-01,\n",
       "       -9.85241290e-01, -9.54885092e-01, -3.13719771e-01, -7.28740977e-01,\n",
       "       -6.73855708e-01, -9.35848431e-01, -4.99639995e-01, -3.49010396e-01,\n",
       "       -1.23327994e-01, -9.94208646e-01, -8.74084625e-01, -1.50843968e-01,\n",
       "       -2.11845794e-01, -2.46673128e-01, -3.09148467e-01, -2.95212886e-02,\n",
       "       -9.30433749e-01, -9.05296124e-01, -7.37088858e-01, -2.05582994e-01,\n",
       "       -6.56139977e-02, -5.18372289e-01, -1.94656846e-02, -3.89832976e-01,\n",
       "       -8.38899125e-01, -5.46504237e-01, -9.47585075e-01, -2.32427203e-01,\n",
       "       -4.09588537e-01, -7.08311325e-01, -8.82715293e-01, -9.85459203e-01])"
      ]
     },
     "execution_count": 37,
     "metadata": {},
     "output_type": "execute_result"
    }
   ],
   "source": [
    "# Call the function b\n",
    "b"
   ]
  },
  {
   "cell_type": "code",
   "execution_count": 38,
   "metadata": {},
   "outputs": [
    {
     "data": {
      "image/png": "[encoded data removed]",
      "text/plain": [
       "<Figure size 432x288 with 1 Axes>"
      ]
     },
     "metadata": {
      "needs_background": "light"
     },
     "output_type": "display_data"
    }
   ],
   "source": [
    "# Import matplotlib.pyplot as plt\n",
    "import matplotlib.pyplot as plt\n",
    "\n",
    "count, bins, ignored = plt.hist(b, 8, density=True)\n",
    "plt.plot(bins, np.ones_like(bins), linewidth=2, color='r')\n",
    "plt.show()"
   ]
  },
  {
   "cell_type": "markdown",
   "metadata": {},
   "source": [
    "#### 3. Binominal distribution"
   ]
  },
  {
   "cell_type": "markdown",
   "metadata": {},
   "source": [
    "A distribution where only two outcomes are possible, such as success or failure, gain or loss, win or lose and where the probability of success and failure is same for all the trials is called a Binomial Distribution.\n",
    "Each trial is independent since the outcome of the previous toss doesn’t determine or affect the outcome of the current toss. An experiment with only two possible outcomes repeated n number of times is called binomial. The parameters of a binomial distribution are n and p where n is the total number of trials and p is the probability of success in each trial.\n",
    "\n",
    "On the basis of the above explanation, the properties of a Binomial Distribution are\n",
    "\n",
    "Each trial is independent.\n",
    "There are only two possible outcomes in a trial- either a success or a failure.\n",
    "A total number of n identical trials are conducted.\n",
    "The probability of success and failure is same for all trials. (Trials are identical.)\n",
    " "
   ]
  },
  {
   "cell_type": "code",
   "execution_count": 39,
   "metadata": {},
   "outputs": [],
   "source": [
    "# number of trials, probability of each trial\n",
    "n, p = 10, .5\n",
    "b = np.random.binomial(n, p, 100)\n"
   ]
  },
  {
   "cell_type": "code",
   "execution_count": 40,
   "metadata": {},
   "outputs": [
    {
     "data": {
      "text/plain": [
       "array([7, 6, 5, 2, 6, 7, 5, 5, 5, 6, 5, 4, 6, 5, 2, 6, 5, 5, 8, 7, 3, 8,\n",
       "       2, 3, 5, 2, 6, 3, 4, 2, 6, 3, 5, 5, 7, 2, 6, 5, 6, 3, 5, 5, 6, 7,\n",
       "       7, 3, 7, 6, 5, 6, 7, 8, 6, 6, 4, 5, 5, 6, 4, 7, 1, 8, 4, 4, 5, 5,\n",
       "       4, 4, 4, 6, 4, 8, 5, 8, 6, 6, 5, 4, 6, 3, 6, 4, 7, 6, 4, 4, 8, 4,\n",
       "       6, 3, 5, 5, 5, 3, 5, 4, 1, 6, 5, 1])"
      ]
     },
     "execution_count": 40,
     "metadata": {},
     "output_type": "execute_result"
    }
   ],
   "source": [
    "# Result of flipping a coin 10 times, tested 1000 times.\n",
    "b"
   ]
  },
  {
   "cell_type": "markdown",
   "metadata": {},
   "source": [
    "Example taken from: https://docs.scipy.org/doc/numpy-1.15.0/reference/generated/numpy.random.binomial.html#numpy.random.binomial\n",
    "\n",
    "A real world example: a company drills 9 exploration wells, each with an estimated probability of success of 0.1. All nine wells fail. What is the probability of that happening?\n",
    "\n",
    "I will do 20,000 trials of the model, and count the number that generate zero positive results. As it can be seen from the result the probability of all nine wells failing is 38%. \n"
   ]
  },
  {
   "cell_type": "code",
   "execution_count": 41,
   "metadata": {},
   "outputs": [
    {
     "data": {
      "text/plain": [
       "0.3856"
      ]
     },
     "execution_count": 41,
     "metadata": {},
     "output_type": "execute_result"
    }
   ],
   "source": [
    "# Sum of zero positive results in the model of 20000 trials\n",
    "sum(np.random.binomial(9, 0.1, 20000) == 0)/20000."
   ]
  },
  {
   "cell_type": "markdown",
   "metadata": {},
   "source": [
    "#### 4. Normal distribution"
   ]
  },
  {
   "cell_type": "markdown",
   "metadata": {},
   "source": [
    "It represents the behavior of most of the situations in the universe. That is why it’s called a “normal” distribution. The large sum of (small) random variables often turns out to be normally distributed, contributing to its widespread application. Any distribution is known as Normal distribution if it has the following characteristics:\n",
    "\n",
    "- The mean, median and mode of the distribution coincide.\n",
    "- The curve of the distribution is bell-shaped and symmetrical about the line x=μ.\n",
    "- The total area under the curve is 1.\n",
    "- Exactly half of the values are to the left of the center and the other half to the right.\n",
    "\n",
    "A normal distribution is highly different from Binomial Distribution. However, if the number of trials approaches infinity then the shapes will be quite similar."
   ]
  },
  {
   "cell_type": "code",
   "execution_count": 42,
   "metadata": {},
   "outputs": [],
   "source": [
    "#import numpy as np\n",
    "import numpy as np\n",
    "#mean and standard deviation\n",
    "mu, sigma = 0, 0.1\n",
    "b = np.random.normal(mu, sigma, 1000)"
   ]
  },
  {
   "cell_type": "code",
   "execution_count": 43,
   "metadata": {},
   "outputs": [
    {
     "data": {
      "text/plain": [
       "array([ 1.70942278e-01, -1.78688395e-01,  5.76818973e-02,  5.15201049e-02,\n",
       "       -4.51794612e-02, -6.32906961e-02, -3.02453239e-02,  6.01131736e-02,\n",
       "        5.79502016e-02, -6.52540136e-03,  1.77236642e-01,  1.38342061e-01,\n",
       "       -2.85216983e-03,  2.71858735e-02, -4.94080789e-02,  1.30559996e-01,\n",
       "        8.59246276e-02, -5.57756156e-02,  4.52916970e-02,  1.93570457e-02,\n",
       "        7.02415526e-03, -1.39196184e-01,  9.76222617e-03,  1.65133353e-01,\n",
       "       -1.17617905e-01,  1.56084026e-01, -8.11207140e-02,  4.45879794e-02,\n",
       "       -1.24340366e-01, -1.66427681e-02, -4.20450261e-02,  1.21437476e-01,\n",
       "        1.65495808e-01, -2.02087554e-01, -2.93476461e-02,  7.62785187e-02,\n",
       "       -1.26486456e-01,  4.73240021e-02,  2.87201070e-02,  1.18704548e-02,\n",
       "       -1.96300976e-03, -1.15938289e-01,  1.87511594e-01,  2.65378611e-03,\n",
       "        2.03847668e-02, -4.99863662e-03, -1.25848768e-02,  7.85014777e-02,\n",
       "        1.08489357e-01,  1.57287786e-02, -5.56362304e-02,  7.08764656e-02,\n",
       "       -1.17397235e-01,  2.56882778e-01, -3.54141705e-02,  2.25730752e-01,\n",
       "        4.55537550e-02,  6.31334481e-02, -1.89360479e-01, -1.60321076e-01,\n",
       "       -6.76733305e-02,  2.81125393e-02,  3.20949985e-02, -1.85471946e-02,\n",
       "       -2.56049910e-02, -4.17531621e-02, -1.05944978e-01,  4.01818562e-02,\n",
       "       -1.10542357e-02,  4.65754133e-02,  1.42585085e-02,  1.19060174e-01,\n",
       "        6.47401588e-02,  1.04131621e-01,  1.09995648e-01, -4.89312594e-02,\n",
       "        1.31875063e-01,  1.71747088e-01,  1.22506350e-01,  5.27753755e-02,\n",
       "       -6.46370379e-03, -3.48634397e-03, -7.68138288e-02, -7.99670592e-02,\n",
       "        7.38567359e-02,  5.91051377e-02, -2.61775844e-02, -9.90243723e-02,\n",
       "       -1.29573276e-01, -1.91496201e-03, -7.87694644e-02, -1.17938519e-01,\n",
       "       -6.75504755e-02,  5.69699158e-02, -1.60114914e-01, -3.31973261e-02,\n",
       "        1.68545518e-02,  9.70094291e-02,  3.41222330e-02,  2.54199870e-02,\n",
       "        3.17916309e-03, -4.78359347e-02, -4.28658983e-02,  2.05400015e-01,\n",
       "       -8.33501379e-02,  1.14124770e-01,  1.29564832e-01,  5.49427315e-02,\n",
       "       -3.55009667e-02, -2.87087191e-02, -9.18288639e-03, -1.24012059e-01,\n",
       "       -2.35429481e-01,  9.08248927e-02, -5.57487449e-02, -1.03278962e-01,\n",
       "        1.95091079e-02,  1.32755411e-02, -1.74469659e-01,  6.49201113e-02,\n",
       "        3.02404343e-03, -9.73023835e-02, -5.49362484e-03,  7.83188054e-02,\n",
       "       -9.27842594e-02, -1.25532238e-01,  8.90561505e-02, -9.13374772e-03,\n",
       "        9.76299075e-02, -3.51765377e-02, -3.14512227e-02,  6.04553984e-03,\n",
       "        1.70868573e-01, -1.64616317e-01, -1.33601889e-01, -2.23263145e-01,\n",
       "        1.12988573e-01,  8.08921613e-02,  9.99792357e-02,  1.07106523e-02,\n",
       "       -1.55020825e-01,  5.49442674e-02, -4.76400601e-02, -1.27928140e-01,\n",
       "       -4.97868694e-04, -4.74014030e-02, -6.21918871e-02, -4.19274520e-03,\n",
       "        2.72415273e-02,  7.91430881e-02,  4.32117363e-02, -3.46721920e-02,\n",
       "        1.77030479e-01,  1.00337405e-01, -2.89989187e-02, -1.80734638e-01,\n",
       "        4.63282518e-03,  3.70301013e-02, -8.59410022e-02, -1.82441390e-01,\n",
       "        1.52477401e-01, -5.96444924e-03, -7.38235689e-02, -5.70243017e-02,\n",
       "       -1.46287967e-01,  4.96272792e-02,  1.06683706e-01,  6.88339878e-02,\n",
       "        9.55367325e-02, -5.98443853e-02,  1.67465927e-01, -3.18635931e-02,\n",
       "        8.43770351e-02,  7.02142816e-02, -2.83187122e-02,  2.67473458e-02,\n",
       "        1.63728878e-02,  3.18572859e-02, -1.86891248e-01, -1.74221368e-01,\n",
       "       -6.00438174e-02,  7.25955657e-02, -2.83151759e-02,  2.04391152e-01,\n",
       "       -1.06406010e-01, -1.14950078e-01, -9.25541381e-03,  1.40820733e-01,\n",
       "        9.82534285e-03,  9.45894258e-02, -2.14001715e-02,  7.63712860e-02,\n",
       "        7.72187306e-02,  2.14408675e-02, -1.68831925e-01,  2.77892975e-01,\n",
       "       -7.80734328e-02, -1.22373107e-01, -9.46072777e-02,  9.96014090e-02,\n",
       "       -5.16450545e-02,  3.32223304e-02, -1.44357302e-04,  1.18499164e-01,\n",
       "       -4.87869502e-02, -2.54855949e-02,  6.21155519e-02,  4.50381348e-02,\n",
       "       -1.65263838e-01,  8.93683518e-02,  4.59222466e-02,  2.38636743e-01,\n",
       "       -1.37381105e-01,  6.12914577e-02, -7.39604200e-02, -5.56283521e-02,\n",
       "       -1.10096895e-03,  3.85279192e-04, -6.74464553e-02,  1.91176159e-01,\n",
       "       -5.65908150e-02, -1.04646746e-01, -6.58398178e-03,  1.99558626e-02,\n",
       "       -1.99098867e-01,  2.31921661e-02,  2.38141502e-02,  1.25658645e-01,\n",
       "       -1.11687886e-02, -1.74906574e-02, -6.19687030e-02,  6.71055586e-02,\n",
       "        2.48606150e-02,  1.42516086e-01, -7.57064423e-02, -1.15390067e-01,\n",
       "        8.64624303e-02, -1.01261184e-01,  1.01508323e-01,  8.35160292e-02,\n",
       "        2.14384571e-02,  4.83054440e-02,  5.25491315e-02, -8.23319652e-02,\n",
       "        1.92009109e-01, -1.57535282e-02, -5.31728864e-02,  2.89471965e-02,\n",
       "        1.36500738e-01,  6.29349006e-02, -1.04086279e-01,  5.31092690e-02,\n",
       "        2.89533937e-02,  7.80720366e-03,  1.15258773e-02,  1.35342171e-01,\n",
       "        4.90473735e-02, -1.16908347e-01, -4.79783984e-02,  6.28898106e-02,\n",
       "        1.46610209e-01, -2.55648063e-01,  5.95097015e-02, -5.55190039e-02,\n",
       "        3.72574483e-02, -7.13463687e-02,  1.88375264e-01, -2.89571866e-02,\n",
       "        9.88189679e-02, -1.46229513e-01, -6.06295705e-02,  6.71967805e-02,\n",
       "       -9.23118614e-02,  2.67439173e-02, -5.45027013e-02,  1.24534809e-01,\n",
       "        4.39264178e-02, -1.75849372e-01, -6.44067011e-02, -6.56810897e-02,\n",
       "       -7.21787659e-02,  6.98110417e-02, -1.11334709e-01, -6.67125270e-02,\n",
       "       -3.49522311e-02, -3.70967892e-02,  8.95539227e-02, -9.68777048e-02,\n",
       "        2.29818628e-02, -6.76809859e-02, -2.25578459e-02, -5.19678872e-02,\n",
       "        1.25324398e-01, -5.38787878e-03, -6.76008881e-02, -1.81880135e-01,\n",
       "       -2.32042256e-02,  3.99380215e-02, -1.21534815e-01, -5.31930911e-02,\n",
       "        1.36658190e-01,  1.15459376e-01,  1.31592856e-01, -6.29807487e-02,\n",
       "       -5.41050989e-02, -1.14665278e-01,  1.18923648e-02,  1.94575347e-01,\n",
       "       -7.25204998e-02, -2.81108301e-02, -1.10783562e-01,  3.19887067e-02,\n",
       "        5.66610182e-03, -4.93277058e-02,  1.09868031e-01, -3.93219105e-02,\n",
       "        4.50369378e-03,  3.91625707e-02, -9.27287438e-02,  3.27032175e-02,\n",
       "       -1.59984111e-01, -1.34649586e-03, -3.67326470e-02, -8.70006863e-02,\n",
       "        1.55328666e-01,  1.51600009e-01, -1.05601046e-01, -1.82020021e-02,\n",
       "       -8.27295867e-03,  1.15254668e-01, -5.20730623e-02, -7.99448778e-02,\n",
       "       -1.69804070e-02, -2.04098871e-01, -7.90124969e-02,  2.37115089e-02,\n",
       "       -1.57797143e-01,  2.03422139e-02, -1.94111094e-02,  1.82766782e-02,\n",
       "        4.98326714e-02,  2.14154788e-02, -1.73863360e-01, -2.25087970e-01,\n",
       "       -2.24620486e-02, -4.92966651e-02,  3.47801535e-03,  4.12281613e-02,\n",
       "        1.46934533e-02, -1.78434916e-01,  5.36073548e-02,  4.75799056e-02,\n",
       "        2.73622095e-02,  1.02618637e-01, -1.34662428e-01,  2.31195324e-01,\n",
       "        1.65832599e-01,  9.55243550e-02,  5.70106868e-02, -5.60797990e-03,\n",
       "        7.25464734e-02, -1.15338330e-02,  9.78475192e-02,  2.09010981e-01,\n",
       "        6.36573436e-02,  5.35016207e-02, -8.66463191e-02, -8.85874893e-02,\n",
       "        5.32973061e-02,  2.54900287e-01, -6.87408601e-03, -8.46517662e-02,\n",
       "       -6.49504689e-02, -5.25271272e-02, -1.04422094e-01, -4.75804750e-02,\n",
       "        3.99143508e-02, -1.15858757e-01, -1.15515032e-01,  3.43895733e-02,\n",
       "       -1.31353640e-01, -6.89968300e-03, -1.88445241e-01,  1.30830032e-01,\n",
       "        1.36141196e-01, -5.25635116e-02, -8.50659718e-02,  1.36159861e-01,\n",
       "       -3.00763538e-02,  9.72593906e-02,  8.95108987e-02,  1.70590886e-01,\n",
       "       -9.95452829e-02, -3.15019034e-01, -8.83330457e-02, -4.97496596e-02,\n",
       "       -2.31188197e-02, -4.47182157e-02, -5.47234690e-02, -1.13550502e-01,\n",
       "       -1.83107161e-02,  7.27650971e-02, -1.27067664e-02, -8.54054605e-02,\n",
       "        9.01515656e-02,  1.03948951e-01, -9.24006623e-02,  2.91648101e-02,\n",
       "       -2.44924003e-02,  2.26841705e-01,  4.17884615e-02, -1.45791560e-02,\n",
       "       -2.39421470e-01, -1.44280934e-01, -3.05095264e-02,  1.08777743e-01,\n",
       "        1.28501199e-01,  1.69101754e-01,  6.23346134e-02, -2.30165583e-01,\n",
       "       -4.27605244e-02, -9.89662022e-03,  1.25578299e-01,  3.74302202e-02,\n",
       "        1.78306185e-01, -8.97206229e-02, -1.30166979e-01,  6.84962563e-02,\n",
       "       -8.75690969e-02, -3.88116812e-02, -2.32884814e-01,  8.81398656e-02,\n",
       "       -7.85890064e-03,  9.65536178e-03, -1.19915306e-02, -8.85649721e-03,\n",
       "        3.05720668e-02,  1.53044179e-01, -2.49103830e-01, -1.71375094e-02,\n",
       "       -1.39212272e-01, -6.86195577e-02, -1.57454620e-01, -1.33224377e-01,\n",
       "        1.69521741e-01, -4.09930629e-03,  1.18082624e-01, -6.55237485e-02,\n",
       "       -9.25420247e-02, -4.12641915e-02,  1.29656515e-01, -1.19438720e-02,\n",
       "       -9.22731991e-02,  1.44188404e-01, -1.55972257e-01,  7.78458385e-02,\n",
       "       -4.91465445e-02, -1.08468709e-01, -6.51749612e-02,  1.35627443e-01,\n",
       "        3.57118059e-02,  1.64733449e-01, -3.22391811e-02, -5.47402877e-02,\n",
       "        3.61296411e-02,  1.17759468e-01, -2.21988802e-03, -2.04301164e-02,\n",
       "       -6.69460402e-02, -3.01476789e-02, -6.27188641e-02,  6.00699533e-02,\n",
       "        7.63828455e-02, -2.13536047e-02, -1.56620309e-01,  6.27942308e-02,\n",
       "        8.34515828e-02,  1.02905882e-02,  2.62792854e-02, -3.68533185e-02,\n",
       "        6.57400022e-02,  4.26631119e-02, -3.99778324e-02,  1.35851353e-01,\n",
       "       -9.59943639e-02,  1.74341760e-01, -1.90149773e-02,  2.88528932e-02,\n",
       "       -1.22244865e-01,  1.71379383e-02,  5.68014671e-02, -8.50526059e-02,\n",
       "        8.17328349e-02,  1.03048305e-01, -7.32633598e-02,  6.59960693e-02,\n",
       "        1.01844770e-01,  1.09823746e-01, -1.00848381e-02,  2.03824695e-01,\n",
       "        9.75046754e-02,  1.01990761e-01, -4.75999936e-02,  2.27154336e-02,\n",
       "       -2.45450889e-02, -5.74476155e-02,  7.56832400e-02,  8.52059818e-04,\n",
       "       -4.49657136e-04,  4.66636950e-02,  7.17474628e-02, -1.67241810e-01,\n",
       "        9.98902031e-02,  1.48326535e-01,  2.37085855e-01,  1.82832595e-02,\n",
       "       -6.71633545e-02, -1.87452854e-01,  1.31039105e-01, -2.71442171e-01,\n",
       "        1.47353215e-01,  7.82027974e-03,  1.25677448e-01,  1.44773237e-02,\n",
       "        8.10973714e-02, -8.68848900e-02,  1.62235366e-01,  1.16964965e-01,\n",
       "        1.73923360e-01,  5.56851131e-02,  8.28515352e-02,  5.24817927e-02,\n",
       "       -3.08430030e-02, -5.94619884e-02, -2.77746429e-02,  4.53314615e-02,\n",
       "        5.83525540e-02,  5.63644330e-02,  2.38418674e-01, -1.03989424e-02,\n",
       "       -4.61919597e-02,  8.48098891e-02, -4.21634916e-02,  1.59337842e-02,\n",
       "        5.42832519e-02, -4.53304688e-02, -2.23350118e-02, -1.40283307e-02,\n",
       "        1.98861658e-01,  2.22532949e-01, -3.83185011e-02,  4.70198890e-02,\n",
       "        2.30264279e-01, -6.49324822e-02,  9.56053755e-03, -5.26291193e-03,\n",
       "       -1.15738219e-01, -5.05335919e-02, -2.59152603e-02, -3.33592567e-03,\n",
       "       -2.92164535e-02,  6.29242345e-02, -1.34689263e-01, -4.72132458e-02,\n",
       "        5.41313180e-02,  9.75998631e-02, -4.58963797e-02,  5.22741237e-03,\n",
       "       -7.16774998e-02,  8.58960526e-02,  3.45614585e-02,  1.18879100e-01,\n",
       "       -6.91825166e-03,  1.30454156e-01,  2.33862200e-02, -6.32765968e-03,\n",
       "       -5.86310251e-02,  1.21370882e-01,  6.26402191e-02, -1.03098874e-01,\n",
       "       -9.99805591e-02, -8.73578846e-03, -4.16906139e-02, -1.06259888e-01,\n",
       "       -2.38592563e-02,  5.66921372e-02,  1.00795876e-01, -2.70927362e-02,\n",
       "        2.20329400e-01,  1.28935673e-01, -5.58240276e-02, -3.23187142e-02,\n",
       "        2.36955601e-02,  1.73044776e-01, -8.06945168e-02,  3.17430535e-02,\n",
       "       -1.22749543e-01, -5.69559264e-02,  1.29314015e-01, -1.18224812e-01,\n",
       "        2.34045109e-01, -4.88054827e-02, -1.49475729e-02,  5.27274607e-02,\n",
       "       -1.80131956e-02,  8.41315807e-02,  1.96114184e-01, -8.58703646e-02,\n",
       "       -9.83984559e-03, -3.79766076e-02,  2.73040253e-02,  1.64558146e-01,\n",
       "        3.01676762e-02, -8.16463626e-02,  1.14552547e-02,  9.40025109e-03,\n",
       "        5.89294332e-02,  1.93528542e-01,  1.27007525e-01, -7.97802165e-02,\n",
       "       -1.80684377e-01,  2.32512041e-01, -1.34416526e-01,  1.12711031e-01,\n",
       "       -4.25029601e-02,  1.87114438e-02,  1.43329599e-01, -5.83120622e-02,\n",
       "        2.90997742e-02,  3.39440906e-02,  5.85200614e-02, -4.90059222e-02,\n",
       "        1.82321064e-01,  9.66145218e-03,  7.27498052e-02, -8.60141346e-02,\n",
       "       -5.38847247e-02, -5.24561123e-02,  1.80548754e-01, -3.32875652e-02,\n",
       "       -2.29680210e-01, -8.03862980e-02, -1.92767046e-02, -3.03049824e-02,\n",
       "        6.14917955e-02, -1.01568037e-01,  7.72751163e-02, -1.22310779e-01,\n",
       "       -1.74709667e-01,  5.89294181e-02,  2.84417712e-02, -3.65027022e-02,\n",
       "        1.79799175e-02,  1.34178725e-01, -5.15584951e-02,  3.08493567e-03,\n",
       "        1.20226245e-02,  5.50528706e-02,  2.05672002e-01,  2.03075534e-01,\n",
       "        3.25125432e-02,  1.24171362e-02,  4.06411956e-02, -9.96161181e-02,\n",
       "        5.06300672e-02,  1.39187610e-01, -4.16029444e-02, -1.31564739e-01,\n",
       "       -8.47821811e-02,  2.84685497e-02,  3.86659855e-03,  2.34379485e-02,\n",
       "        3.66174903e-02,  1.20908764e-01, -9.30378332e-03, -1.18553765e-01,\n",
       "        7.50816510e-02, -4.00577248e-03, -1.44174250e-03, -1.98726078e-02,\n",
       "       -7.29346430e-02, -6.87261155e-02,  1.06808052e-01, -1.23837770e-01,\n",
       "       -2.20618616e-01, -1.26871306e-01, -1.54823981e-02,  1.80675642e-02,\n",
       "       -5.40303121e-03,  1.24641563e-01,  8.24596285e-02, -1.02877340e-01,\n",
       "       -1.17484172e-01,  9.20711752e-02, -1.62153261e-02, -1.02324392e-01,\n",
       "        1.10304782e-01,  1.68512947e-01,  7.26842694e-02,  3.83788558e-02,\n",
       "        4.18509370e-03,  2.65647695e-01, -4.97228807e-02,  2.97632002e-02,\n",
       "       -1.55672646e-01, -6.95966730e-02,  2.51638611e-02,  2.67513653e-02,\n",
       "       -1.01966454e-01,  5.53771259e-02, -1.57172485e-01,  3.98551217e-02,\n",
       "        2.96303438e-02, -1.40391520e-01, -1.78243025e-02, -1.28422034e-01,\n",
       "        2.92685253e-02, -1.16385398e-01, -2.63573057e-01,  7.23038215e-02,\n",
       "        8.52862834e-03,  4.43778433e-02,  2.14532454e-02,  1.04789306e-01,\n",
       "        1.72830472e-02,  6.81166198e-02,  1.43560619e-01,  1.93833120e-02,\n",
       "       -1.18927041e-01, -4.71929214e-03,  5.84058382e-02, -4.88112668e-02,\n",
       "        1.19740611e-01, -9.59351639e-02,  1.76711324e-01,  4.45843600e-02,\n",
       "       -7.35600370e-02, -1.72433251e-02,  1.10289433e-01, -3.53599254e-02,\n",
       "       -3.34954907e-02,  2.48924268e-02, -1.85973461e-01,  6.48130838e-02,\n",
       "        1.76402251e-01, -1.29576029e-01,  7.66492444e-03, -1.57741960e-01,\n",
       "       -4.29388134e-02, -6.12202840e-02, -6.44022540e-02, -1.17206372e-01,\n",
       "       -1.57287971e-01,  1.30209635e-03,  6.83756375e-02, -1.16311683e-02,\n",
       "       -9.35889542e-02,  1.62146874e-01, -3.37460774e-02, -1.44301361e-01,\n",
       "        5.88291854e-03, -6.11888055e-02, -2.47985323e-02, -2.55886753e-02,\n",
       "        2.78992140e-02, -1.74417510e-01,  8.06391372e-02,  1.42523255e-01,\n",
       "       -7.74446903e-02,  3.38909032e-02, -2.43102283e-01,  4.56270821e-02,\n",
       "        1.54556604e-03,  2.95770916e-02,  3.76753552e-02,  8.41263286e-03,\n",
       "        3.88604494e-02, -1.31954479e-01, -1.58680542e-02,  9.69450072e-02,\n",
       "       -7.25756397e-03,  1.33589368e-02,  6.88409641e-02, -2.83366532e-02,\n",
       "       -1.24922707e-01, -2.06595792e-01,  5.39859463e-02, -1.35461734e-01,\n",
       "       -2.76938791e-02, -4.95754749e-02,  1.24793519e-01, -1.29475498e-01,\n",
       "       -2.18395519e-01, -7.60307709e-03, -2.19313202e-02, -3.07556980e-03,\n",
       "        2.29305010e-01, -2.66676350e-02, -1.11680930e-01, -5.96401278e-02,\n",
       "       -9.88541629e-02, -1.98793660e-02,  4.09498634e-02, -6.57074388e-02,\n",
       "        2.39357509e-02,  2.78358612e-02,  6.94337877e-02, -1.37897531e-01,\n",
       "        1.88116097e-01, -7.72584003e-02, -4.30549010e-02, -1.44519367e-01,\n",
       "       -5.62244158e-02,  1.12039382e-02,  6.71453726e-02,  1.40765674e-03,\n",
       "        5.75082733e-02, -1.83117348e-01, -6.82971917e-02, -9.86149689e-02,\n",
       "       -7.70734068e-02,  1.03132459e-01, -9.83980817e-02, -1.39275956e-01,\n",
       "        1.70633269e-01,  5.50819743e-02, -7.22881152e-02,  2.10392618e-01,\n",
       "        8.84838873e-02,  1.20150855e-01, -3.39745126e-02,  1.84299431e-01,\n",
       "       -6.43742330e-03, -3.91804842e-02, -1.32202013e-01, -4.38325939e-03,\n",
       "        1.40849232e-01,  7.73510058e-02, -1.37185483e-01, -6.90775054e-02,\n",
       "       -2.34488789e-01,  1.03373740e-02, -3.63367972e-02, -9.75045627e-02,\n",
       "        2.35513647e-01, -3.56753159e-02,  7.50467365e-03,  9.43151956e-02,\n",
       "        7.64570018e-02, -1.94494852e-01, -6.74296912e-02, -1.55134635e-01,\n",
       "        1.10814271e-01, -1.62429463e-01,  5.74928444e-04, -9.92007802e-02,\n",
       "        2.13254711e-01,  2.03639656e-01, -3.50744008e-02,  3.00581857e-02,\n",
       "       -4.32702931e-02, -1.21357124e-01, -2.95574091e-01, -1.57765167e-01,\n",
       "       -1.26840101e-01, -8.10717112e-02, -1.54240142e-03,  1.98472591e-02,\n",
       "        7.71657996e-02, -2.30506162e-04, -1.39153567e-01,  7.54070099e-02,\n",
       "        2.84339851e-02, -1.02831484e-01,  5.52453267e-03, -6.10685225e-02,\n",
       "       -1.37670338e-01, -1.84007713e-01, -2.59716355e-02, -1.10407323e-01,\n",
       "        7.37600185e-02, -4.53445395e-02,  1.27448209e-01, -6.45537253e-02,\n",
       "        5.09377993e-02,  2.26281593e-02, -4.34357216e-02, -1.03860023e-01,\n",
       "       -1.30682982e-01, -1.52634542e-01,  9.51277810e-02, -7.50435133e-02,\n",
       "        6.45175401e-02,  5.18586720e-02,  1.38495415e-01,  1.08863774e-01,\n",
       "        1.04559009e-01,  1.27351516e-01, -7.50451402e-02, -7.55750776e-02,\n",
       "       -1.28426077e-02,  1.16473266e-01, -2.22233200e-02,  1.17412542e-01,\n",
       "       -1.56030435e-01,  5.06460368e-02, -3.24111002e-02,  3.28969662e-02,\n",
       "       -3.08551855e-02,  1.02126251e-01,  8.30458068e-02, -4.67054655e-03,\n",
       "        3.91914165e-02, -1.51671678e-01, -2.84404637e-01, -1.09943181e-01,\n",
       "       -4.90625477e-02, -2.14866518e-01, -6.89145192e-02, -2.14633169e-01,\n",
       "       -9.92014369e-02, -1.71014090e-02, -4.17096679e-03, -2.49817410e-01,\n",
       "        7.10977811e-02,  2.44974250e-03,  4.08802163e-02, -4.82048999e-02,\n",
       "        2.23356178e-02,  6.90304128e-02, -2.13552047e-01,  6.94475898e-02,\n",
       "       -2.08212499e-02,  3.99039503e-02,  2.39932773e-02, -5.41790040e-02,\n",
       "        8.21392132e-02,  2.79148854e-02,  9.65494153e-03,  1.02187147e-01,\n",
       "       -1.48156745e-01, -6.59983984e-02, -2.97483118e-02, -1.62175009e-02,\n",
       "       -3.14859246e-02, -3.60308984e-02, -7.70417874e-02,  7.66502461e-02,\n",
       "       -1.24240559e-01, -6.53808503e-02, -4.87111041e-02, -7.93021397e-02,\n",
       "        1.01095466e-01, -2.49855154e-02, -5.36463243e-02,  4.34143416e-02,\n",
       "       -8.91883375e-02,  9.98811794e-02,  1.39342951e-01,  5.91489250e-02,\n",
       "        1.88460951e-01,  8.62059958e-02,  9.59498264e-02, -5.88788564e-02,\n",
       "       -1.03941242e-01, -7.19063843e-02,  1.06273506e-01, -8.31729174e-02,\n",
       "       -3.35258377e-02,  1.58612558e-01,  9.52167479e-02, -4.64812816e-02,\n",
       "        2.77443173e-02, -4.69890549e-03, -1.92883749e-02,  7.37626471e-03,\n",
       "        9.75240604e-02,  2.40824659e-01, -1.24201851e-01,  4.25125248e-02,\n",
       "        1.75277847e-01,  1.43983427e-02, -2.58870364e-01, -1.68285473e-01,\n",
       "        3.81911829e-02, -5.80122705e-02,  5.42072265e-02, -1.95480582e-01,\n",
       "        1.28422344e-02, -1.32678372e-01, -4.49685915e-02,  8.36062019e-02,\n",
       "        1.00980539e-01,  1.62884223e-01,  5.33142321e-02,  9.20940140e-02,\n",
       "       -9.88517061e-02, -6.76636003e-02,  8.11458442e-02, -9.30635755e-02])"
      ]
     },
     "execution_count": 43,
     "metadata": {},
     "output_type": "execute_result"
    }
   ],
   "source": [
    "b"
   ]
  },
  {
   "cell_type": "code",
   "execution_count": 44,
   "metadata": {},
   "outputs": [
    {
     "data": {
      "image/png": "[encoded data removed]",
      "text/plain": [
       "<Figure size 432x288 with 1 Axes>"
      ]
     },
     "metadata": {
      "needs_background": "light"
     },
     "output_type": "display_data"
    }
   ],
   "source": [
    "import matplotlib.pyplot as plt\n",
    "count, bins, ignored = plt.hist(b, 30, density=True)\n",
    "plt.plot(bins, 1/(sigma * np.sqrt(2 * np.pi)) *\n",
    "               np.exp( - (bins - mu)**2 / (2 * sigma**2) ),\n",
    "         linewidth=2, color='r')\n",
    "plt.show()"
   ]
  },
  {
   "cell_type": "markdown",
   "metadata": {},
   "source": [
    "#### 5. Exponential distribution"
   ]
  },
  {
   "cell_type": "markdown",
   "metadata": {},
   "source": [
    "Exponential Distribution is used to model the time taken between the occurrence of different events. The exponential distribution is one of the extensively used continuous distributions and it is strictly related to the Poisson distribution.Its probability density function is:\n",
    "\n",
    "![alt text](exponential.png)"
   ]
  },
  {
   "cell_type": "markdown",
   "metadata": {},
   "source": [
    "A continuous random variable x (with scale parameter λ > 0) is said to have an exponential distribution only if its probability density function can be expressed by multiplying the scale parameter to the exponential function of minus scale parameter and x for all x greater than or equal to zero, otherwise the probability density function is equal to zero. More information about exponential distribution get here: https://www.wallstreetmojo.com/exponential-distribution/\n",
    "\n",
    "We should use exponential distribution when:\n",
    "\n",
    "- You have a lot of events going.\n",
    "- They happen at a certain rate (which does not change over time).\n",
    "- Just because one happened the chances of another one happening don’t change.\n",
    "\n",
    "https://www.kdnuggets.com/2019/07/5-probability-distributions-every-data-scientist-should-know.html"
   ]
  },
  {
   "cell_type": "markdown",
   "metadata": {},
   "source": [
    "A real life example for exponential distribution: \n",
    "\n",
    "As I mentioned before, exponential distribution measures time taken between occurance of two events. As an example, we could imagine we work at a restaurant and we want to predict what is going to be the time interval between different customers coming to the restaurant. According to https://towardsdatascience.com/ using an Exponential Distribution for this type of problem, could be the perfect place where to start the analysis. "
   ]
  },
  {
   "cell_type": "markdown",
   "metadata": {},
   "source": [
    "![alt text](exp1.png)"
   ]
  },
  {
   "cell_type": "markdown",
   "metadata": {},
   "source": [
    "Image taken from: https://en.wikipedia.org/wiki/Exponential_distribution"
   ]
  },
  {
   "cell_type": "markdown",
   "metadata": {},
   "source": [
    "## 4.The use of seeds"
   ]
  },
  {
   "cell_type": "markdown",
   "metadata": {},
   "source": [
    "As I have mentioned before computers can't produce random numbers itself, they need human help. That is the reason why random numberes are deterministic which means that they operate by a set of rules, and we call them pseudorandom numbers. The pseudorandom number generator is a mathematical function that generates a sequence of nearly random numbers. It takes a parameter to start off the sequence, called the seed. As the function is deterministic, the same seed will produce the same sequence of numbers every time. https://yourbasic.org/algorithms/random-number-generator-seed/\n",
    "\n",
    "\"A random seed specifies the start point when a computer generates a random number sequence. This can be any number, but it usually comes from seconds on a computer system’s clock (Henkemans & Lee, 2001).\" \n",
    "\n",
    "Quote taken from:https://www.statisticshowto.datasciencecentral.com/random-seed-definition/\n",
    "\n",
    "Generally, the seed value is the previous number generated by the generator. However, when the first time you use the random generator, there is no previous value. So by-default current system time is used as a seed value.  The random module uses the seed value as a base to generate a random number.https://pynative.com/python-random-seed/ \n",
    "\n",
    "Syntax of random.seed()\n",
    "\n",
    "If the seed=None,  then by default, current system time is used. If seed value is in the form of an integer it is used as it is. This method is called when RandomState is initialized. It can be called again to re-seed the generator. RandomState exposes a number of methods for generating random numbers drawn from a variety of probability distributions. In addition to the distribution-specific arguments, each method takes a keyword argument size that defaults to None.\n",
    "\n",
    "- If size is None, then a single value is generated and returned.\n",
    "- If size is an integer, then a 1-D array filled with generated values is returned. \n",
    "- If size is a tuple, then an array with that shape is filled and returned.\n",
    "\n",
    "https://docs.scipy.org/doc/numpy-1.16.0/reference/generated/numpy.random.RandomState.html#numpy.random.RandomState\n",
    "\n",
    "I will show an example which generates the same output every time using random.seed()\n",
    "\n"
   ]
  },
  {
   "cell_type": "code",
   "execution_count": 46,
   "metadata": {},
   "outputs": [
    {
     "name": "stdout",
     "output_type": "stream",
     "text": [
      "Random number with seed 30\n",
      "first -  59\n",
      "Second -  59\n",
      "Third -  59\n"
     ]
    }
   ],
   "source": [
    "# code adjusted from:https://pynative.com/python-random-seed/\n",
    "#import random library\n",
    "import random\n",
    "\n",
    "print (\"Random number with seed 30\")\n",
    "random.seed( 30 )\n",
    "print (\"first - \", random.randint(25,60))\n",
    "\n",
    "#will generate a same random number as previous\n",
    "random.seed( 30 )\n",
    "print (\"Second - \", random.randint(25,60))\n",
    "\n",
    "#will generate a same random number as previous\n",
    "random.seed( 30 )\n",
    "print (\"Third - \", random.randint(25,60))"
   ]
  },
  {
   "cell_type": "markdown",
   "metadata": {},
   "source": [
    "As it is shown in the example above we can see 3 outputs with the number 59. In all 3 situations the seed was 30 which means the output was the same although radint function was called. Random.radint function returns random integers from low (inclusive) to high (exclusive) which means that all integers from 25 to 50 (not included) could be returned as output with the seed 30, but in all three situations we got the same output (59)"
   ]
  },
  {
   "cell_type": "code",
   "execution_count": 47,
   "metadata": {},
   "outputs": [
    {
     "name": "stdout",
     "output_type": "stream",
     "text": [
      "Random number with seed 30\n",
      "first -  59\n",
      "Second -  43\n",
      "Third -  59\n"
     ]
    }
   ],
   "source": [
    "# code adjusted from: https://pynative.com/python-random-seed/\n",
    "# import random library\n",
    "import random\n",
    "\n",
    "print (\"Random number with seed 30\")\n",
    "random.seed( 30 ) #first call\n",
    "print (\"first - \", random.randint(25,60))\n",
    "\n",
    "#generate a different random number as previous value is used as a seed\n",
    "print (\"Second - \", random.randint(25,60))\n",
    "\n",
    "#will generate a same random number as first one because seed value is same\n",
    "random.seed( 30 ) # second call\n",
    "print (\"Third - \", random.randint(25,60))"
   ]
  },
  {
   "cell_type": "markdown",
   "metadata": {},
   "source": [
    "In the example above we can see that the second output is different because the first output (59) is taken as a seed in the second case. The seed in second case was 59 and that number used as a seed generated different output (43). It the second case function random.seed( 30 ) is omitted and then by default previous output was used as a seed. In this example I used randint function to generate random integers, but other functions can be used as well, for example, random.choice, or random.sample.\n",
    "\n",
    "There are algorithms that generate numbers which are based on distributions like the Bernoulli distribution or Poisson distribution and they follow repeated pattern.  "
   ]
  },
  {
   "cell_type": "code",
   "execution_count": null,
   "metadata": {},
   "outputs": [],
   "source": []
  }
 ],
 "metadata": {
  "kernelspec": {
   "display_name": "Python 3",
   "language": "python",
   "name": "python3"
  },
  "language_info": {
   "codemirror_mode": {
    "name": "ipython",
    "version": 3
   },
   "file_extension": ".py",
   "mimetype": "text/x-python",
   "name": "python",
   "nbconvert_exporter": "python",
   "pygments_lexer": "ipython3",
   "version": "3.7.3"
  }
 },
 "nbformat": 4,
 "nbformat_minor": 2
}
