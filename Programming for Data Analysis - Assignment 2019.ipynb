{
 "cells": [
  {
   "cell_type": "markdown",
   "metadata": {},
   "source": [
    "# Programming for Data Analysis\n",
    "\n",
    "# Assignment 2019 \n",
    "\n"
   ]
  },
  {
   "cell_type": "markdown",
   "metadata": {},
   "source": [
    "## What are random numbers?"
   ]
  },
  {
   "cell_type": "markdown",
   "metadata": {},
   "source": [
    "![random numbers](new.png)"
   ]
  },
  {
   "cell_type": "markdown",
   "metadata": {},
   "source": [
    "\n",
    "\n",
    "Random numbers have been used for many thousands of years. Whether we talk about flipping a coin or rolling a dice, the goal is to leave the end result up to random chance. It is the same case with random number generators in a computer. The aim is to achieve an unpredictable, random result that could not be guessed. Computers generate random numbers for everything from cryptography to gambling. There are two categories of random numbers, “true” random numbers and pseudorandom numbers. Its difference is important for the security of encryption systems. To generate a “true” random number, the computer measures some type of physical phenomenon that takes place outside of the computer. For example the computer could rely on atmospheric noise or simply use the exact time you press keys on your keyboard as a source of unpredictable data (www.howtogeek.com). This type of random numbers is mostly used in programs in which data security is main priority. In this work we are going to focus more on pseudorandom numbers as they are a sample of numbers that look close to true random numbers but were generated using some deterministic process (machinelearningmastery.com).  Pseudorandom number generators (PRNGs) refer to an algorithm that uses mathematical formulas to produce sequences of random numbers (www.geeksforgeeks.org). One of the ways to generate random numbers is by using NumPy random numbers package. For that purpose, NumPy provides various routines that use particular algorithm to generate pseudorandom numbers.In order to dive in it into more details, in the next few paragraphs I will be focusing more on NumPy library and its features. \n"
   ]
  },
  {
   "cell_type": "markdown",
   "metadata": {},
   "source": [
    "## NumPy package\n",
    "  \n",
    "  NumPy (Numerical Python) is a library for the Python programing language. It is intrinsically integrated with Python (en.wikipedia.org). It is a successor for two earlier scientific libraries, Numeric code and Numarray.https://docs.scipy.org/doc/numpy-1.14.0/index.html As NumPy, its initial release was in 2006. The primary creator of NumPy is American data scientist and businessman, Travis Oliphant. NumPy is a distributed, volunteer, open-source project, and everyone is welcome to give their contribution. \n",
    "Some of the features that NumPy contains are powerful N-dimensional array objects, sophisticated functions, tools for integrating C/C++ and Fortran code and many others. Besides its obvious scientific uses, NumPy can also be used as an efficient multi-dimensional container of generic data. Arbitrary data-types can be defined. This allows NumPy to seamlessly and speedily integrate with a wide variety of databases.https://docs.scipy.org/doc/numpy-1.14.0/about.html\n",
    "\n",
    "At the core of the NumPy package, is the ndarray object. This encapsulates n-dimensional arrays of homogeneous data types, with many operations being performed in compiled code for performance. There are several important differences between NumPy arrays and the standard Python sequences:\n",
    "\n",
    "- NumPy arrays have a fixed size at creation while Python lists can grow dynamically. Changing the size of an ndarray will create a new array and delete the original. There are some NumPy’s benefits over Python lists, which include: being more compact, faster access in reading and writing items, being more convenient and more efficient (https://towardsdatascience.com).\n",
    "\n",
    "- The elements in a NumPy array are all required to be of the same data type, and thus will be the same size in memory. \n",
    "\n",
    "- NumPy arrays facilitate advanced mathematical and other types of operations on large numbers of data. Typically, such operations are executed more efficiently and with less code than is possible using Python’s built-in sequences.\n",
    "\n",
    "- In order to efficiently use most of today’s scientific/mathematical Python-based software, just knowing how to use Python’s built-in sequence types is insufficient, it is also crucial to know how to use NumPy arrays (https://numpy.org).\n",
    "\n",
    " "
   ]
  },
  {
   "cell_type": "markdown",
   "metadata": {},
   "source": [
    "The more important attributes of an ndarray object are:\n",
    "\n",
    "##### 1. ndarray.ndim\n",
    "\n",
    "This function returns the number of axes or dimensions of the array. In order to use ndarray.ndim function I have to import numpy package first. This is an example of one-dimensional array. The list of numbers from 4 to 7. "
   ]
  },
  {
   "cell_type": "code",
   "execution_count": 32,
   "metadata": {},
   "outputs": [],
   "source": [
    "#Import numpy as np\n",
    "import numpy as np\n",
    "#numpy.array function is used to generate numbers\n",
    "a = np.array([4, 5, 6, 7])"
   ]
  },
  {
   "cell_type": "code",
   "execution_count": 33,
   "metadata": {},
   "outputs": [
    {
     "data": {
      "text/plain": [
       "array([4, 5, 6, 7])"
      ]
     },
     "execution_count": 33,
     "metadata": {},
     "output_type": "execute_result"
    }
   ],
   "source": [
    "#call the value a\n",
    "a"
   ]
  },
  {
   "cell_type": "code",
   "execution_count": 34,
   "metadata": {},
   "outputs": [
    {
     "data": {
      "text/plain": [
       "1"
      ]
     },
     "execution_count": 34,
     "metadata": {},
     "output_type": "execute_result"
    }
   ],
   "source": [
    "#number of axes of the array    \n",
    "a.ndim"
   ]
  },
  {
   "cell_type": "markdown",
   "metadata": {},
   "source": [
    "##### 2. ndarray.shape\n",
    "\n",
    "This function returns the dimensions of the array. In this situation we got output 4 which means it is one-dimensional array with 4 elements in it. "
   ]
  },
  {
   "cell_type": "code",
   "execution_count": 35,
   "metadata": {},
   "outputs": [
    {
     "data": {
      "text/plain": [
       "(4,)"
      ]
     },
     "execution_count": 35,
     "metadata": {},
     "output_type": "execute_result"
    }
   ],
   "source": [
    "#dimensions of the array\n",
    "a.shape"
   ]
  },
  {
   "cell_type": "markdown",
   "metadata": {},
   "source": [
    "##### 3. ndarray.size\n",
    "\n",
    "This function shows the total number of elements in the array. It is equal to the number of elements of ndarray.shape."
   ]
  },
  {
   "cell_type": "code",
   "execution_count": 36,
   "metadata": {},
   "outputs": [
    {
     "data": {
      "text/plain": [
       "4"
      ]
     },
     "execution_count": 36,
     "metadata": {},
     "output_type": "execute_result"
    }
   ],
   "source": [
    "#total number of elements in the array\n",
    "a.size"
   ]
  },
  {
   "cell_type": "markdown",
   "metadata": {},
   "source": [
    "##### 4.ndarray.dtype\n",
    "\n",
    "This function describes the type of elements in the array. It tells us if the element is for example integer or float number. NumPy provides types of its own (int32, int64, float64...). This type of element is int32. "
   ]
  },
  {
   "cell_type": "code",
   "execution_count": 37,
   "metadata": {},
   "outputs": [
    {
     "data": {
      "text/plain": [
       "dtype('int32')"
      ]
     },
     "execution_count": 37,
     "metadata": {},
     "output_type": "execute_result"
    }
   ],
   "source": [
    "#type of elements in the array\n",
    "a.dtype"
   ]
  },
  {
   "cell_type": "markdown",
   "metadata": {},
   "source": [
    "##### 5.ndarray.itemsize\n",
    "\n",
    "This function shows the size in bytes of each element of the array. For example, an array of elements of type float64 has itemsize 8 (=64/8). In this case as we got an output that this array type is int32 which means that its itemsize is 4 bytes (32/8=4). "
   ]
  },
  {
   "cell_type": "code",
   "execution_count": 38,
   "metadata": {},
   "outputs": [
    {
     "data": {
      "text/plain": [
       "4"
      ]
     },
     "execution_count": 38,
     "metadata": {},
     "output_type": "execute_result"
    }
   ],
   "source": [
    "#size in bytes of each element of the array\n",
    "a.itemsize"
   ]
  },
  {
   "cell_type": "markdown",
   "metadata": {},
   "source": [
    "## Why is NumPy fast?\n",
    "\n",
    "Vectorization describes the absence of any explicit looping, indexing or other features in the code, these things are taking place “behind the scenes” in pre-compiled C code. The advantages of vectorized code are:\n",
    "\n",
    "- vectorized code is easier and more concise to read\n",
    "\n",
    "- fewer lines of code generally means fewer bugs\n",
    "\n",
    "- the code resembles standard mathematical notation \n",
    "\n",
    "- vectorization results in more “Pythonic” code. Without vectorization, our code would be littered with inefficient and difficult to read for loops.\n",
    "\n",
    "Broadcasting is the term used to describe the implicit element-by-element behavior of operations. In NumPy all operations, not just arithmetic operations, but also logical, bit-wise, functional, etc., behave in this implicit element-by-element fashion,  they broadcast. You can read more about numpy package here: https://numpy.org/devdocs/user/whatisnumpy.html"
   ]
  },
  {
   "cell_type": "markdown",
   "metadata": {},
   "source": [
    "## Section 1 - Numpy.random package\n",
    "\n"
   ]
  },
  {
   "cell_type": "markdown",
   "metadata": {},
   "source": [
    "As mentioned before, the focus of this project is to focus on pseudorandom numbers as they are a sample of numbers that look close to true random numbers but are generated using some deterministic process. As computers can not produce random numbers itself, they need packages and algorithms that would deal with it. Numpy.random rackage is one of the libraries in Python that generates pseudorandom data. \n",
    "\n",
    "Within the package there are many different functions and distributions. You can find more information about numpy.random package and its features here: https://docs.scipy.org/doc/numpy-1.15.0/reference/routines.random.html#\n",
    "\n",
    "Numpy.random package consists of 4 parts:\n",
    "\n",
    "##### 1. Simple random data\n",
    "##### 2. Permutations\n",
    "##### 3. Distributions\n",
    "##### 4. Random generator\n",
    "\n",
    "\n",
    "Each of these sections will be discussed in more details in the text below. In the next paragraph I will talk about the use of Simple random data and permutations. "
   ]
  },
  {
   "cell_type": "markdown",
   "metadata": {},
   "source": [
    "## Section 2 - Simple random data and Permutations"
   ]
  },
  {
   "cell_type": "markdown",
   "metadata": {},
   "source": [
    "Simple random data functions:\n",
    "\n",
    "\n",
    "- rand(d0, d1, …, dn) - Random values in a given shape.\n",
    "- randn(d0, d1, …, dn) - Return a sample (or samples) from the “standard normal” distribution.\n",
    "- randint(low[, high, size, dtype]) - Return random integers from low (inclusive) to high (exclusive).\n",
    "- random_integers(low[, high, size]) - Random integers of type np.int between low and high, inclusive.\n",
    "- random_sample([size]) - Return random floats in the half-open interval [0.0, 1.0).\n",
    "- random([size]) - Return random floats in the half-open interval [0.0, 1.0).\n",
    "- ranf([size]) - Return random floats in the half-open interval [0.0, 1.0).\n",
    "- sample([size]) - Return random floats in the half-open interval [0.0, 1.0).\n",
    "- choice(a[, size, replace, p]) - Generates a random sample from a given 1-D array\n",
    "- bytes(length) - Return random bytes."
   ]
  },
  {
   "cell_type": "markdown",
   "metadata": {},
   "source": [
    "##### numpy.random.rand"
   ]
  },
  {
   "cell_type": "markdown",
   "metadata": {},
   "source": [
    "This function gives random values in a given shape. It creates an array of the given shape and populates it with given samples \n",
    "from a uniform distribution. Numbers 4 and 2 signify 4 rows and 2 columns. "
   ]
  },
  {
   "cell_type": "code",
   "execution_count": 39,
   "metadata": {},
   "outputs": [],
   "source": [
    "#import numpy package as np \n",
    "import numpy as np\n",
    "#numpy random function \"rand\" is defined as b\n",
    "b = np.random.rand(4,2)"
   ]
  },
  {
   "cell_type": "code",
   "execution_count": 40,
   "metadata": {},
   "outputs": [
    {
     "data": {
      "text/plain": [
       "array([[0.22427945, 0.85654774],\n",
       "       [0.6211916 , 0.6261309 ],\n",
       "       [0.67500644, 0.09665956],\n",
       "       [0.3199594 , 0.61037469]])"
      ]
     },
     "execution_count": 40,
     "metadata": {},
     "output_type": "execute_result"
    }
   ],
   "source": [
    "#call the function b\n",
    "b"
   ]
  },
  {
   "cell_type": "markdown",
   "metadata": {},
   "source": [
    "##### numpy.random.randn"
   ]
  },
  {
   "cell_type": "markdown",
   "metadata": {},
   "source": [
    "This function returns a sample or more samples from the “standard normal” distribution. A single float randomly sampled from the distribution is returned if no argument is provided."
   ]
  },
  {
   "cell_type": "code",
   "execution_count": 41,
   "metadata": {},
   "outputs": [],
   "source": [
    "#import numpy package as np\n",
    "import numpy as np\n",
    "#numpy random function randn is defined as b\n",
    "b = np.random.randn()"
   ]
  },
  {
   "cell_type": "code",
   "execution_count": 42,
   "metadata": {},
   "outputs": [
    {
     "data": {
      "text/plain": [
       "-1.1721652650631251"
      ]
     },
     "execution_count": 42,
     "metadata": {},
     "output_type": "execute_result"
    }
   ],
   "source": [
    "#call the function b\n",
    "b"
   ]
  },
  {
   "cell_type": "markdown",
   "metadata": {},
   "source": [
    "##### numpy.random.randint"
   ]
  },
  {
   "cell_type": "markdown",
   "metadata": {},
   "source": [
    "This function returns random integers from low (inclusive) to high (exclusive). It returns random integers from discrete uniform distribution. As you can see in the example below we got 2 arrays with 4 elements in each. All numbers are in range from 0 to 5 (not including 5)."
   ]
  },
  {
   "cell_type": "code",
   "execution_count": 43,
   "metadata": {},
   "outputs": [],
   "source": [
    "#import numpy package as np\n",
    "import numpy as np\n",
    "#numpy random function randint (random integer) is defined as b\n",
    "b = np.random.randint(5, size=(2, 4))"
   ]
  },
  {
   "cell_type": "code",
   "execution_count": 44,
   "metadata": {},
   "outputs": [
    {
     "data": {
      "text/plain": [
       "array([[0, 3, 3, 3],\n",
       "       [4, 4, 4, 2]])"
      ]
     },
     "execution_count": 44,
     "metadata": {},
     "output_type": "execute_result"
    }
   ],
   "source": [
    "#call the function b\n",
    "b"
   ]
  },
  {
   "cell_type": "markdown",
   "metadata": {},
   "source": [
    "##### numpy.random.random_integers"
   ]
  },
  {
   "cell_type": "markdown",
   "metadata": {},
   "source": [
    "As we can see above, when using randint function high integer is exclusive, while using random_integers high integer is inclusive. So this function is very similar to randint function. In this case there are 3 rows, each row has 2 elements in it and high integer is included. "
   ]
  },
  {
   "cell_type": "code",
   "execution_count": 2,
   "metadata": {
    "collapsed": true
   },
   "outputs": [
    {
     "name": "stderr",
     "output_type": "stream",
     "text": [
      "C:\\Users\\gener\\Anaconda4\\lib\\site-packages\\ipykernel_launcher.py:4: DeprecationWarning: This function is deprecated. Please call randint(1, 5 + 1) instead\n",
      "  after removing the cwd from sys.path.\n"
     ]
    }
   ],
   "source": [
    "#import numpy package as np\n",
    "import numpy as np\n",
    "#numpy random function random_integers is defined as b\n",
    "c = np.random.random_integers(5, size=(3,2))"
   ]
  },
  {
   "cell_type": "code",
   "execution_count": 3,
   "metadata": {},
   "outputs": [
    {
     "data": {
      "text/plain": [
       "array([[2, 5],\n",
       "       [1, 3],\n",
       "       [1, 2]])"
      ]
     },
     "execution_count": 3,
     "metadata": {},
     "output_type": "execute_result"
    }
   ],
   "source": [
    "#call the function c\n",
    "c"
   ]
  },
  {
   "cell_type": "markdown",
   "metadata": {},
   "source": [
    "##### numpy.random.random_sample,  numpy.random.random,  numpy.random.ranf,  numpy.random_sample"
   ]
  },
  {
   "cell_type": "markdown",
   "metadata": {},
   "source": [
    "These 4 functions return floats. Results are from the “continuous uniform” distribution over the stated interval. I will show two examples of these functions. In the first case using random_sample function it gives back random floats in the half-open interval from 0.0 to 1.0. In this case I got back float number: 04779..."
   ]
  },
  {
   "cell_type": "code",
   "execution_count": 46,
   "metadata": {},
   "outputs": [],
   "source": [
    "#import numpy package as np\n",
    "import numpy as np\n",
    "#numpy random function random sample is defined as b\n",
    "b = np.random.random_sample()"
   ]
  },
  {
   "cell_type": "code",
   "execution_count": 47,
   "metadata": {},
   "outputs": [
    {
     "data": {
      "text/plain": [
       "0.4779352719841624"
      ]
     },
     "execution_count": 47,
     "metadata": {},
     "output_type": "execute_result"
    }
   ],
   "source": [
    "#call the function b\n",
    "b"
   ]
  },
  {
   "cell_type": "markdown",
   "metadata": {},
   "source": [
    "In the second example, we got 5 different arrays, all of them are in the range from 0.0 to 1.0.  Results are also chosen from the “continuous uniform” distribution."
   ]
  },
  {
   "cell_type": "code",
   "execution_count": 48,
   "metadata": {},
   "outputs": [],
   "source": [
    "#import numpy package as np\n",
    "import numpy as np\n",
    "#numpy random function random sample is defined as b\n",
    "b = np.random.random_sample((5,))"
   ]
  },
  {
   "cell_type": "code",
   "execution_count": 49,
   "metadata": {},
   "outputs": [
    {
     "data": {
      "text/plain": [
       "array([0.85525413, 0.72798211, 0.68681135, 0.90478692, 0.5735883 ])"
      ]
     },
     "execution_count": 49,
     "metadata": {},
     "output_type": "execute_result"
    }
   ],
   "source": [
    "#call the function b\n",
    "b"
   ]
  },
  {
   "cell_type": "markdown",
   "metadata": {},
   "source": [
    "##### numpy.random.choice"
   ]
  },
  {
   "cell_type": "markdown",
   "metadata": {},
   "source": [
    "This function generates a random sample from a given 1-D array. There are 4 different parameters a : 1-D array-like or int, size : int or tuple of ints, optional, replace : boolean, optional, p : 1-D array-like, optional"
   ]
  },
  {
   "cell_type": "code",
   "execution_count": 50,
   "metadata": {},
   "outputs": [],
   "source": [
    "#import numpy package as np\n",
    "import numpy as np\n",
    "#numpy random function choice is defined as b\n",
    "b = np.random.choice(5, 3)"
   ]
  },
  {
   "cell_type": "code",
   "execution_count": 51,
   "metadata": {},
   "outputs": [
    {
     "data": {
      "text/plain": [
       "array([0, 0, 4])"
      ]
     },
     "execution_count": 51,
     "metadata": {},
     "output_type": "execute_result"
    }
   ],
   "source": [
    "#call the function b\n",
    "b"
   ]
  },
  {
   "cell_type": "markdown",
   "metadata": {},
   "source": [
    "##### numpy.random.bytes"
   ]
  },
  {
   "cell_type": "markdown",
   "metadata": {},
   "source": [
    "This function returns random bytes. "
   ]
  },
  {
   "cell_type": "code",
   "execution_count": 52,
   "metadata": {},
   "outputs": [],
   "source": [
    "#import numpy package as np\n",
    "import numpy as np\n",
    "#numpy random function bytes is defined as b\n",
    "b = np.random.bytes(10)"
   ]
  },
  {
   "cell_type": "code",
   "execution_count": 53,
   "metadata": {},
   "outputs": [
    {
     "data": {
      "text/plain": [
       "b'<R\\xb9\\x1f\\xaf\\xc0\\xa3r4G'"
      ]
     },
     "execution_count": 53,
     "metadata": {},
     "output_type": "execute_result"
    }
   ],
   "source": [
    "#call the function b\n",
    "b"
   ]
  },
  {
   "cell_type": "markdown",
   "metadata": {},
   "source": [
    "## 3. Distribution functions "
   ]
  },
  {
   "cell_type": "markdown",
   "metadata": {},
   "source": [
    "Every time we are working with a dataset, our dataset represents some kind of a sample and using this sample, we need to understand its patterns so that we can make predictions based on them. Datasets are composed of two main types of data: Numerical (eg. integers), and categorical (eg. names). Based on that data it is possible to calculate some predictions like Probability Mass Functions and Probability Density Functions. There are many probability distributions, but in this work I will focus on 5 distributions that data scientists find most useful (https://towardsdatascience.com/). \n",
    "\n",
    "1. Poisson distribution\n",
    "2. Uniform distribution\n",
    "3. Binominal distribution\n",
    "4. Normal distribution\n",
    "5. Exponential distribution\n",
    "\n",
    "More information and plots about each distribution can be seen below.\n"
   ]
  },
  {
   "cell_type": "markdown",
   "metadata": {},
   "source": [
    "#### 1. Poisson distribution"
   ]
  },
  {
   "cell_type": "markdown",
   "metadata": {},
   "source": [
    "Poisson Distribution is applicable in situations where events occur at random points of time and space wherein our interest lies only in the number of occurrences of the event.\n",
    "\n",
    "A distribution is called Poisson distribution when the following assumptions are valid:\n",
    "\n",
    "1. Any successful event should not influence the outcome of another successful event.\n",
    "2. The probability of success over a short interval must equal the probability of success over a longer interval.\n",
    "3. The probability of success in an interval approaches zero as the interval becomes smaller."
   ]
  },
  {
   "cell_type": "code",
   "execution_count": 5,
   "metadata": {},
   "outputs": [],
   "source": [
    "import numpy as np\n",
    "b = np.random.poisson(8, 100)"
   ]
  },
  {
   "cell_type": "code",
   "execution_count": 6,
   "metadata": {},
   "outputs": [
    {
     "data": {
      "text/plain": [
       "array([ 7,  5,  7,  8,  7,  9,  5,  6,  8, 11, 13,  3, 10,  6,  9, 10,  5,\n",
       "        7,  9,  2, 10,  9, 12,  6,  7,  5, 15, 11, 10,  8,  6,  7,  4,  1,\n",
       "        9,  8,  8,  3, 11,  8, 11,  7,  5, 13,  8,  6, 12,  7,  7,  6, 10,\n",
       "        7,  9,  9, 10,  9,  8,  5,  5,  3,  5, 10, 12,  9,  7, 14,  5,  7,\n",
       "        7,  9,  3, 12,  8,  9,  9,  7,  9,  6,  6,  5,  9, 10,  3,  5,  9,\n",
       "       10,  8,  5, 10, 16,  6,  8,  7,  8,  6,  7,  7,  9,  8,  6])"
      ]
     },
     "execution_count": 6,
     "metadata": {},
     "output_type": "execute_result"
    }
   ],
   "source": [
    "b"
   ]
  },
  {
   "cell_type": "code",
   "execution_count": 9,
   "metadata": {},
   "outputs": [
    {
     "data": {
      "image/png": "[encoded data removed]",
      "text/plain": [
       "<Figure size 432x288 with 1 Axes>"
      ]
     },
     "metadata": {
      "needs_background": "light"
     },
     "output_type": "display_data"
    }
   ],
   "source": [
    "import matplotlib.pyplot as plt\n",
    "count, bins, ignored = plt.hist(b, 8, density=True)\n",
    "plt.show()"
   ]
  },
  {
   "cell_type": "markdown",
   "metadata": {},
   "source": [
    "#### 2. Uniform distribution"
   ]
  },
  {
   "cell_type": "markdown",
   "metadata": {},
   "source": [
    "When you roll a fair die, the outcomes are 1 to 6. The probabilities of getting these outcomes are equally likely and that is the basis of a uniform distribution. You can see that the shape of the Uniform distribution curve is rectangular, the reason why Uniform distribution is called rectangular distribution. For a Uniform Distribution, a and b are the parameters (https://www.analyticsvidhya.com/)."
   ]
  },
  {
   "cell_type": "code",
   "execution_count": 16,
   "metadata": {},
   "outputs": [],
   "source": [
    "import numpy as np\n",
    "b = np.random.uniform(-1,0,100)"
   ]
  },
  {
   "cell_type": "code",
   "execution_count": 17,
   "metadata": {},
   "outputs": [
    {
     "data": {
      "text/plain": [
       "array([-0.97797447, -0.10212028, -0.5819304 , -0.53986097, -0.05971931,\n",
       "       -0.12464593, -0.52330538, -0.97150416, -0.292102  , -0.04236273,\n",
       "       -0.05752169, -0.33123929, -0.71242077, -0.76471579, -0.31241129,\n",
       "       -0.92220213, -0.79335526, -0.98510334, -0.45856327, -0.88770573,\n",
       "       -0.96916323, -0.66328403, -0.41100023, -0.82952373, -0.31583918,\n",
       "       -0.93224587, -0.82564446, -0.24822697, -0.18315811, -0.51891846,\n",
       "       -0.27760656, -0.7107089 , -0.0684043 , -0.5995809 , -0.45431217,\n",
       "       -0.06868269, -0.28667267, -0.28208718, -0.74768199, -0.92001859,\n",
       "       -0.75665623, -0.80862274, -0.55139735, -0.50019098, -0.73334948,\n",
       "       -0.8200725 , -0.44021463, -0.08074488, -0.99454146, -0.66695269,\n",
       "       -0.01020354, -0.19607362, -0.27248548, -0.72870135, -0.27861075,\n",
       "       -0.88151536, -0.18459921, -0.49678001, -0.46100709, -0.13963907,\n",
       "       -0.6995492 , -0.02329201, -0.88569806, -0.78183678, -0.83106344,\n",
       "       -0.0868975 , -0.44842019, -0.53805017, -0.48721349, -0.99292962,\n",
       "       -0.67987097, -0.5161276 , -0.32127074, -0.57259698, -0.02079233,\n",
       "       -0.4795306 , -0.02878186, -0.81566956, -0.71546092, -0.3738928 ,\n",
       "       -0.0926516 , -0.1802305 , -0.86925531, -0.5573615 , -0.40379727,\n",
       "       -0.12254912, -0.19152093, -0.79210606, -0.06598624, -0.62329746,\n",
       "       -0.69992862, -0.81926907, -0.19710156, -0.49062691, -0.79676247,\n",
       "       -0.78000501, -0.65555426, -0.06420099, -0.955884  , -0.25622667])"
      ]
     },
     "execution_count": 17,
     "metadata": {},
     "output_type": "execute_result"
    }
   ],
   "source": [
    "b"
   ]
  },
  {
   "cell_type": "code",
   "execution_count": 18,
   "metadata": {},
   "outputs": [
    {
     "data": {
      "image/png": "[encoded data removed]",
      "text/plain": [
       "<Figure size 432x288 with 1 Axes>"
      ]
     },
     "metadata": {
      "needs_background": "light"
     },
     "output_type": "display_data"
    }
   ],
   "source": [
    "import matplotlib.pyplot as plt\n",
    "count, bins, ignored = plt.hist(b, 8, density=True)\n",
    "plt.plot(bins, np.ones_like(bins), linewidth=2, color='r')\n",
    "plt.show()"
   ]
  },
  {
   "cell_type": "markdown",
   "metadata": {},
   "source": [
    "#### 3. Binominal distribution"
   ]
  },
  {
   "cell_type": "markdown",
   "metadata": {},
   "source": [
    "A distribution where only two outcomes are possible, such as success or failure, gain or loss, win or lose and where the probability of success and failure is same for all the trials is called a Binomial Distribution.\n",
    "Each trial is independent since the outcome of the previous toss doesn’t determine or affect the outcome of the current toss. An experiment with only two possible outcomes repeated n number of times is called binomial. The parameters of a binomial distribution are n and p where n is the total number of trials and p is the probability of success in each trial.\n",
    "\n",
    "On the basis of the above explanation, the properties of a Binomial Distribution are\n",
    "\n",
    "Each trial is independent.\n",
    "There are only two possible outcomes in a trial- either a success or a failure.\n",
    "A total number of n identical trials are conducted.\n",
    "The probability of success and failure is same for all trials. (Trials are identical.)\n",
    " "
   ]
  },
  {
   "cell_type": "code",
   "execution_count": 20,
   "metadata": {},
   "outputs": [],
   "source": [
    "n, p = 10, .5\n",
    "b = np.random.binomial(n, p, 1000)\n"
   ]
  },
  {
   "cell_type": "code",
   "execution_count": 21,
   "metadata": {},
   "outputs": [
    {
     "data": {
      "text/plain": [
       "array([7, 5, 3, 5, 6, 5, 9, 4, 4, 6, 6, 4, 6, 2, 7, 4, 3, 5, 8, 9, 3, 6,\n",
       "       6, 6, 4, 6, 4, 6, 6, 4, 6, 6, 5, 6, 7, 8, 6, 4, 7, 3, 4, 9, 7, 4,\n",
       "       5, 2, 5, 5, 4, 7, 6, 4, 7, 5, 3, 1, 5, 4, 4, 5, 6, 4, 5, 6, 4, 4,\n",
       "       9, 2, 6, 6, 4, 5, 7, 5, 6, 6, 7, 5, 8, 5, 5, 5, 3, 8, 7, 4, 2, 4,\n",
       "       7, 6, 7, 5, 3, 6, 5, 4, 3, 5, 7, 2, 5, 6, 7, 6, 3, 7, 6, 3, 4, 4,\n",
       "       6, 6, 7, 8, 5, 5, 4, 6, 4, 4, 6, 4, 2, 4, 4, 6, 6, 5, 5, 5, 6, 5,\n",
       "       5, 2, 3, 3, 3, 5, 3, 5, 4, 4, 2, 5, 3, 7, 4, 3, 6, 5, 4, 6, 4, 6,\n",
       "       7, 3, 5, 1, 5, 4, 5, 4, 6, 5, 7, 6, 4, 5, 6, 6, 6, 2, 6, 6, 5, 3,\n",
       "       5, 4, 6, 6, 4, 2, 7, 4, 3, 6, 6, 4, 7, 3, 6, 7, 3, 5, 2, 8, 7, 4,\n",
       "       6, 5, 7, 6, 4, 4, 4, 4, 5, 5, 6, 5, 8, 6, 6, 7, 6, 2, 7, 6, 4, 4,\n",
       "       5, 5, 5, 6, 3, 6, 5, 2, 6, 4, 5, 6, 6, 6, 5, 1, 6, 7, 1, 4, 4, 5,\n",
       "       6, 6, 6, 3, 7, 8, 5, 5, 6, 5, 5, 4, 5, 5, 6, 4, 3, 5, 6, 5, 4, 5,\n",
       "       4, 3, 5, 5, 5, 6, 7, 4, 6, 3, 9, 8, 8, 4, 3, 6, 4, 4, 3, 4, 6, 7,\n",
       "       4, 5, 3, 7, 7, 6, 7, 5, 6, 6, 7, 4, 2, 6, 7, 5, 7, 5, 4, 6, 3, 4,\n",
       "       8, 5, 7, 4, 4, 5, 5, 7, 6, 7, 5, 4, 6, 7, 6, 4, 4, 5, 6, 4, 5, 6,\n",
       "       5, 2, 5, 9, 4, 6, 4, 4, 5, 6, 4, 6, 1, 5, 5, 4, 6, 3, 5, 4, 6, 7,\n",
       "       6, 6, 4, 5, 3, 3, 6, 4, 5, 7, 6, 5, 5, 7, 5, 3, 4, 4, 8, 5, 6, 7,\n",
       "       6, 3, 6, 4, 3, 8, 4, 6, 7, 4, 3, 6, 9, 5, 5, 4, 4, 5, 6, 7, 5, 4,\n",
       "       5, 4, 3, 4, 7, 3, 4, 7, 4, 3, 5, 4, 7, 5, 3, 5, 7, 5, 6, 5, 4, 4,\n",
       "       4, 4, 7, 6, 5, 6, 4, 6, 3, 5, 8, 7, 3, 3, 2, 3, 5, 7, 5, 3, 6, 5,\n",
       "       2, 2, 4, 5, 7, 4, 6, 5, 5, 4, 5, 3, 7, 4, 2, 6, 4, 5, 5, 6, 7, 1,\n",
       "       8, 5, 6, 4, 5, 4, 8, 5, 5, 6, 4, 4, 4, 5, 7, 8, 5, 5, 3, 7, 6, 5,\n",
       "       2, 7, 4, 7, 7, 6, 4, 4, 3, 5, 5, 3, 3, 6, 7, 5, 3, 3, 6, 4, 4, 8,\n",
       "       6, 4, 5, 5, 0, 5, 6, 3, 3, 2, 5, 4, 4, 7, 4, 5, 5, 2, 7, 7, 5, 5,\n",
       "       3, 4, 7, 4, 2, 2, 6, 3, 2, 3, 5, 3, 6, 6, 6, 5, 5, 4, 5, 8, 5, 4,\n",
       "       6, 3, 5, 6, 1, 8, 2, 3, 7, 6, 7, 5, 3, 3, 4, 7, 4, 6, 4, 4, 4, 3,\n",
       "       6, 3, 5, 6, 5, 4, 4, 3, 1, 6, 3, 5, 7, 4, 4, 6, 7, 6, 5, 7, 8, 7,\n",
       "       7, 6, 7, 3, 7, 7, 3, 7, 7, 4, 6, 5, 7, 5, 5, 7, 4, 7, 3, 3, 3, 5,\n",
       "       2, 6, 5, 6, 7, 6, 7, 3, 3, 4, 6, 3, 7, 7, 9, 7, 4, 6, 4, 5, 5, 5,\n",
       "       5, 3, 7, 5, 7, 3, 3, 4, 2, 6, 4, 1, 4, 3, 7, 5, 7, 3, 5, 4, 7, 5,\n",
       "       6, 4, 5, 4, 3, 5, 3, 3, 4, 3, 6, 5, 6, 6, 3, 5, 2, 6, 6, 4, 9, 5,\n",
       "       6, 7, 4, 3, 2, 5, 3, 6, 7, 6, 7, 4, 7, 4, 6, 4, 6, 1, 7, 2, 6, 4,\n",
       "       3, 4, 5, 5, 5, 7, 5, 3, 7, 3, 7, 5, 3, 7, 5, 2, 8, 5, 5, 7, 5, 6,\n",
       "       4, 4, 4, 2, 6, 6, 5, 5, 4, 7, 8, 3, 4, 4, 6, 3, 6, 6, 1, 4, 6, 5,\n",
       "       5, 4, 6, 5, 7, 6, 5, 5, 4, 5, 7, 4, 8, 3, 6, 4, 3, 3, 3, 3, 6, 5,\n",
       "       4, 3, 3, 6, 3, 6, 4, 6, 4, 6, 3, 6, 4, 7, 5, 6, 5, 5, 5, 1, 5, 8,\n",
       "       3, 8, 4, 5, 7, 2, 5, 6, 3, 5, 4, 6, 5, 8, 7, 1, 7, 4, 5, 4, 5, 4,\n",
       "       5, 4, 7, 3, 7, 4, 6, 8, 4, 2, 6, 6, 5, 4, 6, 3, 4, 6, 5, 6, 5, 7,\n",
       "       4, 5, 3, 3, 4, 5, 6, 4, 4, 5, 6, 3, 6, 4, 3, 2, 6, 4, 6, 4, 4, 6,\n",
       "       3, 6, 4, 1, 7, 6, 5, 4, 3, 7, 4, 6, 7, 5, 5, 4, 4, 4, 4, 2, 5, 4,\n",
       "       6, 7, 5, 1, 7, 6, 6, 5, 7, 4, 7, 6, 4, 5, 1, 6, 3, 3, 5, 5, 5, 4,\n",
       "       3, 6, 8, 2, 3, 6, 8, 5, 6, 5, 7, 8, 6, 5, 5, 3, 4, 3, 7, 3, 6, 9,\n",
       "       8, 6, 3, 5, 6, 6, 3, 6, 3, 6, 2, 6, 7, 8, 6, 5, 8, 6, 2, 5, 5, 4,\n",
       "       6, 6, 7, 4, 8, 5, 5, 7, 6, 3, 6, 4, 4, 3, 7, 5, 3, 4, 3, 7, 6, 6,\n",
       "       4, 4, 4, 4, 7, 7, 5, 2, 6, 7, 5, 5, 4, 8, 6, 8, 2, 6, 4, 3, 3, 4,\n",
       "       8, 8, 3, 2, 4, 6, 5, 3, 5, 6])"
      ]
     },
     "execution_count": 21,
     "metadata": {},
     "output_type": "execute_result"
    }
   ],
   "source": [
    "b"
   ]
  },
  {
   "cell_type": "markdown",
   "metadata": {},
   "source": [
    "#### 4. Normal distribution"
   ]
  },
  {
   "cell_type": "markdown",
   "metadata": {},
   "source": [
    "It represents the behavior of most of the situations in the universe. That is why it’s called a “normal” distribution. The large sum of (small) random variables often turns out to be normally distributed, contributing to its widespread application. Any distribution is known as Normal distribution if it has the following characteristics:\n",
    "\n",
    "- The mean, median and mode of the distribution coincide.\n",
    "- The curve of the distribution is bell-shaped and symmetrical about the line x=μ.\n",
    "- The total area under the curve is 1.\n",
    "- Exactly half of the values are to the left of the center and the other half to the right.\n",
    "\n",
    "A normal distribution is highly different from Binomial Distribution. However, if the number of trials approaches infinity then the shapes will be quite similar."
   ]
  },
  {
   "cell_type": "markdown",
   "metadata": {},
   "source": [
    "#### 5. Exponential distribution"
   ]
  },
  {
   "cell_type": "markdown",
   "metadata": {},
   "source": [
    "Exponential Distribution is used to model the time taken between the occurrence of different events."
   ]
  },
  {
   "cell_type": "code",
   "execution_count": null,
   "metadata": {},
   "outputs": [],
   "source": []
  }
 ],
 "metadata": {
  "kernelspec": {
   "display_name": "Python 3",
   "language": "python",
   "name": "python3"
  },
  "language_info": {
   "codemirror_mode": {
    "name": "ipython",
    "version": 3
   },
   "file_extension": ".py",
   "mimetype": "text/x-python",
   "name": "python",
   "nbconvert_exporter": "python",
   "pygments_lexer": "ipython3",
   "version": "3.7.3"
  }
 },
 "nbformat": 4,
 "nbformat_minor": 2
}
