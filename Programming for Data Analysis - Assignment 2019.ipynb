{
 "cells": [
  {
   "cell_type": "markdown",
   "metadata": {},
   "source": [
    "# Programming for Data Analysis\n",
    "\n",
    "# Assignment 2019 \n",
    "\n"
   ]
  },
  {
   "cell_type": "markdown",
   "metadata": {},
   "source": [
    "## What are random numbers?"
   ]
  },
  {
   "cell_type": "markdown",
   "metadata": {},
   "source": [
    "![random numbers](new.png)"
   ]
  },
  {
   "cell_type": "markdown",
   "metadata": {},
   "source": [
    "\n",
    "\n",
    "Random numbers have been used for many thousands of years. Whether we talk about flipping a coin or rolling a dice, the goal is to leave the end result up to random chance. It is the same case with random number generators in a computer. The aim is to achieve an unpredictable, random result that could not be guessed. Computers generate random numbers for everything from cryptography to gambling. There are two categories of random numbers, “true” random numbers and pseudorandom numbers. Its difference is important for the security of encryption systems. To generate a “true” random number, the computer measures some type of physical phenomenon that takes place outside of the computer. For example the computer could rely on atmospheric noise or simply use the exact time you press keys on your keyboard as a source of unpredictable data (www.howtogeek.com). This type of random numbers is mostly used in programs in which data security is main priority. In this work we are going to focus more on pseudorandom numbers as they are a sample of numbers that look close to true random numbers but were generated using some deterministic process (machinelearningmastery.com).  Pseudorandom number generators (PRNGs) refer to an algorithm that uses mathematical formulas to produce sequences of random numbers (www.geeksforgeeks.org). One of the ways to generate random numbers is by using NumPy random numbers package. For that purpose, NumPy provides various routines that use particular algorithm to generate pseudorandom numbers.In order to dive in it into more details, in the next few paragraphs I will be focusing more on NumPy library and its features. \n"
   ]
  },
  {
   "cell_type": "markdown",
   "metadata": {},
   "source": [
    "## NumPy package\n",
    "  \n",
    "  NumPy (Numerical Python) is a library for the Python programing language. It is intrinsically integrated with Python (en.wikipedia.org). It is a successor for two earlier scientific libraries, Numeric code and Numarray.https://docs.scipy.org/doc/numpy-1.14.0/index.html As NumPy, its initial release was in 2006. The primary creator of NumPy is American data scientist and businessman, Travis Oliphant. NumPy is a distributed, volunteer, open-source project, and everyone is welcome to give their contribution. \n",
    "Some of the features that NumPy contains are powerful N-dimensional array objects, sophisticated functions, tools for integrating C/C++ and Fortran code and many others. Besides its obvious scientific uses, NumPy can also be used as an efficient multi-dimensional container of generic data. Arbitrary data-types can be defined. This allows NumPy to seamlessly and speedily integrate with a wide variety of databases.https://docs.scipy.org/doc/numpy-1.14.0/about.html\n",
    "\n",
    "At the core of the NumPy package, is the ndarray object. This encapsulates n-dimensional arrays of homogeneous data types, with many operations being performed in compiled code for performance. There are several important differences between NumPy arrays and the standard Python sequences:\n",
    "\n",
    "- NumPy arrays have a fixed size at creation while Python lists can grow dynamically. Changing the size of an ndarray will create a new array and delete the original. There are some NumPy’s benefits over Python lists, which include: being more compact, faster access in reading and writing items, being more convenient and more efficient (https://towardsdatascience.com).\n",
    "\n",
    "- The elements in a NumPy array are all required to be of the same data type, and thus will be the same size in memory. \n",
    "\n",
    "- NumPy arrays facilitate advanced mathematical and other types of operations on large numbers of data. Typically, such operations are executed more efficiently and with less code than is possible using Python’s built-in sequences.\n",
    "\n",
    "- In order to efficiently use most of today’s scientific/mathematical Python-based software, just knowing how to use Python’s built-in sequence types is insufficient, it is also crucial to know how to use NumPy arrays (https://numpy.org).\n",
    "\n",
    " "
   ]
  },
  {
   "cell_type": "markdown",
   "metadata": {},
   "source": [
    "The more important attributes of an ndarray object are:\n",
    "\n",
    "##### 1. ndarray.ndim\n",
    "\n",
    "This function returns the number of axes or dimensions of the array. In order to use ndarray.ndim function I have to import numpy package first. This is an example of one-dimensional array. The list of numbers from 4 to 7. "
   ]
  },
  {
   "cell_type": "code",
   "execution_count": 2,
   "metadata": {},
   "outputs": [],
   "source": [
    "#Import numpy as np\n",
    "import numpy as np\n",
    "#numpy.array function is used to generate numbers\n",
    "a = np.array([4, 5, 6, 7])"
   ]
  },
  {
   "cell_type": "code",
   "execution_count": 3,
   "metadata": {},
   "outputs": [
    {
     "data": {
      "text/plain": [
       "array([4, 5, 6, 7])"
      ]
     },
     "execution_count": 3,
     "metadata": {},
     "output_type": "execute_result"
    }
   ],
   "source": [
    "#call the value a\n",
    "a"
   ]
  },
  {
   "cell_type": "code",
   "execution_count": 4,
   "metadata": {},
   "outputs": [
    {
     "data": {
      "text/plain": [
       "1"
      ]
     },
     "execution_count": 4,
     "metadata": {},
     "output_type": "execute_result"
    }
   ],
   "source": [
    "#number of axes of the array    \n",
    "a.ndim"
   ]
  },
  {
   "cell_type": "markdown",
   "metadata": {},
   "source": [
    "##### 2. ndarray.shape\n",
    "\n",
    "This function returns the dimensions of the array. In this situation we got output 4 which means it is one-dimensional array with 4 elements in it. "
   ]
  },
  {
   "cell_type": "code",
   "execution_count": 5,
   "metadata": {},
   "outputs": [
    {
     "data": {
      "text/plain": [
       "(4,)"
      ]
     },
     "execution_count": 5,
     "metadata": {},
     "output_type": "execute_result"
    }
   ],
   "source": [
    "#dimensions of the array\n",
    "a.shape"
   ]
  },
  {
   "cell_type": "markdown",
   "metadata": {},
   "source": [
    "##### 3. ndarray.size\n",
    "\n",
    "This function shows the total number of elements in the array. It is equal to the number of elements of ndarray.shape."
   ]
  },
  {
   "cell_type": "code",
   "execution_count": 6,
   "metadata": {},
   "outputs": [
    {
     "data": {
      "text/plain": [
       "4"
      ]
     },
     "execution_count": 6,
     "metadata": {},
     "output_type": "execute_result"
    }
   ],
   "source": [
    "#total number of elements in the array\n",
    "a.size"
   ]
  },
  {
   "cell_type": "markdown",
   "metadata": {},
   "source": [
    "##### 4.ndarray.dtype\n",
    "\n",
    "This function describes the type of elements in the array. It tells us if the element is for example integer or float number. NumPy provides types of its own (int32, int64, float64...). This type of element is int32. "
   ]
  },
  {
   "cell_type": "code",
   "execution_count": 7,
   "metadata": {},
   "outputs": [
    {
     "data": {
      "text/plain": [
       "dtype('int32')"
      ]
     },
     "execution_count": 7,
     "metadata": {},
     "output_type": "execute_result"
    }
   ],
   "source": [
    "#type of elements in the array\n",
    "a.dtype"
   ]
  },
  {
   "cell_type": "markdown",
   "metadata": {},
   "source": [
    "##### 5.ndarray.itemsize\n",
    "\n",
    "This function shows the size in bytes of each element of the array. For example, an array of elements of type float64 has itemsize 8 (=64/8). In this case as we got an output that this array type is int32 which means that its itemsize is 4 bytes (32/8=4). "
   ]
  },
  {
   "cell_type": "code",
   "execution_count": 8,
   "metadata": {},
   "outputs": [
    {
     "data": {
      "text/plain": [
       "4"
      ]
     },
     "execution_count": 8,
     "metadata": {},
     "output_type": "execute_result"
    }
   ],
   "source": [
    "#size in bytes of each element of the array\n",
    "a.itemsize"
   ]
  },
  {
   "cell_type": "markdown",
   "metadata": {},
   "source": [
    "## Why is NumPy fast?\n",
    "\n",
    "Vectorization describes the absence of any explicit looping, indexing or other features in the code, these things are taking place “behind the scenes” in pre-compiled C code. The advantages of vectorized code are:\n",
    "\n",
    "- vectorized code is easier and more concise to read\n",
    "\n",
    "- fewer lines of code generally means fewer bugs\n",
    "\n",
    "- the code resembles standard mathematical notation \n",
    "\n",
    "- vectorization results in more “Pythonic” code. Without vectorization, our code would be littered with inefficient and difficult to read for loops.\n",
    "\n",
    "Broadcasting is the term used to describe the implicit element-by-element behavior of operations. In NumPy all operations, not just arithmetic operations, but also logical, bit-wise, functional, etc., behave in this implicit element-by-element fashion,  they broadcast. You can read more about numpy package here: https://numpy.org/devdocs/user/whatisnumpy.html"
   ]
  },
  {
   "cell_type": "markdown",
   "metadata": {},
   "source": [
    "## Section 1 - Numpy.random package\n",
    "\n"
   ]
  },
  {
   "cell_type": "markdown",
   "metadata": {},
   "source": [
    "As mentioned before, the focus of this project is to focus on pseudorandom numbers as they are a sample of numbers that look close to true random numbers but are generated using some deterministic process. As computers can not produce random numbers itself, they need packages and algorithms that would deal with it. Numpy.random rackage is one of the libraries in Python that generates pseudorandom data. \n",
    "\n",
    "Within the package there are many different functions and distributions. You can find more information about numpy.random package and its features here: https://docs.scipy.org/doc/numpy-1.15.0/reference/routines.random.html#\n",
    "\n",
    "Numpy.random package consists of 4 parts:\n",
    "\n",
    "##### 1. Simple random data\n",
    "##### 2. Permutations\n",
    "##### 3. Distributions\n",
    "##### 4. Random generator\n",
    "\n",
    "\n",
    "Each of these sections will be discussed in more details in the text below. In the next paragraph I will talk about the use of Simple random data and permutations. "
   ]
  },
  {
   "cell_type": "markdown",
   "metadata": {},
   "source": [
    "## Section 2 - Simple random data and Permutations"
   ]
  },
  {
   "cell_type": "markdown",
   "metadata": {},
   "source": [
    "Simple random data functions:\n",
    "\n",
    "\n",
    "- rand(d0, d1, …, dn) - Random values in a given shape.\n",
    "- randn(d0, d1, …, dn) - Return a sample (or samples) from the “standard normal” distribution.\n",
    "- randint(low[, high, size, dtype]) - Return random integers from low (inclusive) to high (exclusive).\n",
    "- random_integers(low[, high, size]) - Random integers of type np.int between low and high, inclusive.\n",
    "- random_sample([size]) - Return random floats in the half-open interval [0.0, 1.0).\n",
    "- random([size]) - Return random floats in the half-open interval [0.0, 1.0).\n",
    "- ranf([size]) - Return random floats in the half-open interval [0.0, 1.0).\n",
    "- sample([size]) - Return random floats in the half-open interval [0.0, 1.0).\n",
    "- choice(a[, size, replace, p]) - Generates a random sample from a given 1-D array\n",
    "- bytes(length) - Return random bytes."
   ]
  },
  {
   "cell_type": "markdown",
   "metadata": {},
   "source": [
    "##### numpy.random.rand"
   ]
  },
  {
   "cell_type": "markdown",
   "metadata": {},
   "source": [
    "This function gives random values in a given shape. It creates an array of the given shape and populates it with given samples \n",
    "from a uniform distribution. Numbers 4 and 2 signify 4 rows and 2 columns. "
   ]
  },
  {
   "cell_type": "code",
   "execution_count": 9,
   "metadata": {},
   "outputs": [],
   "source": [
    "#import numpy package as np \n",
    "import numpy as np\n",
    "#numpy random function \"rand\" is defined as b\n",
    "b = np.random.rand(4,2)"
   ]
  },
  {
   "cell_type": "code",
   "execution_count": 10,
   "metadata": {},
   "outputs": [
    {
     "data": {
      "text/plain": [
       "array([[0.52329669, 0.35546095],\n",
       "       [0.55103454, 0.50884797],\n",
       "       [0.77458735, 0.01033974],\n",
       "       [0.90639595, 0.8488547 ]])"
      ]
     },
     "execution_count": 10,
     "metadata": {},
     "output_type": "execute_result"
    }
   ],
   "source": [
    "#call the function b\n",
    "b"
   ]
  },
  {
   "cell_type": "markdown",
   "metadata": {},
   "source": [
    "##### numpy.random.randn"
   ]
  },
  {
   "cell_type": "markdown",
   "metadata": {},
   "source": [
    "This function returns a sample or more samples from the “standard normal” distribution. A single float randomly sampled from the distribution is returned if no argument is provided."
   ]
  },
  {
   "cell_type": "code",
   "execution_count": 11,
   "metadata": {},
   "outputs": [],
   "source": [
    "#import numpy package as np\n",
    "import numpy as np\n",
    "#numpy random function randn is defined as b\n",
    "b = np.random.randn()"
   ]
  },
  {
   "cell_type": "code",
   "execution_count": 12,
   "metadata": {},
   "outputs": [
    {
     "data": {
      "text/plain": [
       "-1.403188691654372"
      ]
     },
     "execution_count": 12,
     "metadata": {},
     "output_type": "execute_result"
    }
   ],
   "source": [
    "#call the function b\n",
    "b"
   ]
  },
  {
   "cell_type": "markdown",
   "metadata": {},
   "source": [
    "##### numpy.random.randint"
   ]
  },
  {
   "cell_type": "markdown",
   "metadata": {},
   "source": [
    "This function returns random integers from low (inclusive) to high (exclusive). It returns random integers from discrete uniform distribution. As you can see in the example below we got 2 arrays with 4 elements in each. All numbers are in range from 0 to 5 (not including 5)."
   ]
  },
  {
   "cell_type": "code",
   "execution_count": 13,
   "metadata": {},
   "outputs": [],
   "source": [
    "#import numpy package as np\n",
    "import numpy as np\n",
    "#numpy random function randint (random integer) is defined as b\n",
    "b = np.random.randint(5, size=(2, 4))"
   ]
  },
  {
   "cell_type": "code",
   "execution_count": 14,
   "metadata": {},
   "outputs": [
    {
     "data": {
      "text/plain": [
       "array([[3, 3, 4, 1],\n",
       "       [3, 4, 4, 4]])"
      ]
     },
     "execution_count": 14,
     "metadata": {},
     "output_type": "execute_result"
    }
   ],
   "source": [
    "#call the function b\n",
    "b"
   ]
  },
  {
   "cell_type": "markdown",
   "metadata": {},
   "source": [
    "##### numpy.random.random_integers"
   ]
  },
  {
   "cell_type": "markdown",
   "metadata": {},
   "source": [
    "As we can see above, when using randint function high integer is exclusive, while using random_integers high integer is inclusive. So this function is very similar to randint function. In this case there are 3 rows, each row has 2 elements in it and high integer is included. "
   ]
  },
  {
   "cell_type": "code",
   "execution_count": 15,
   "metadata": {},
   "outputs": [
    {
     "name": "stderr",
     "output_type": "stream",
     "text": [
      "C:\\Users\\gener\\Anaconda4\\lib\\site-packages\\ipykernel_launcher.py:4: DeprecationWarning: This function is deprecated. Please call randint(1, 5 + 1) instead\n",
      "  after removing the cwd from sys.path.\n"
     ]
    }
   ],
   "source": [
    "#import numpy package as np\n",
    "import numpy as np\n",
    "#numpy random function random_integers is defined as b\n",
    "c = np.random.random_integers(5, size=(3,2))"
   ]
  },
  {
   "cell_type": "code",
   "execution_count": 16,
   "metadata": {},
   "outputs": [
    {
     "data": {
      "text/plain": [
       "array([[4, 5],\n",
       "       [3, 4],\n",
       "       [1, 5]])"
      ]
     },
     "execution_count": 16,
     "metadata": {},
     "output_type": "execute_result"
    }
   ],
   "source": [
    "#call the function c\n",
    "c"
   ]
  },
  {
   "cell_type": "markdown",
   "metadata": {},
   "source": [
    "##### numpy.random.random_sample,  numpy.random.random,  numpy.random.ranf,  numpy.random_sample"
   ]
  },
  {
   "cell_type": "markdown",
   "metadata": {},
   "source": [
    "These 4 functions return floats. Results are from the “continuous uniform” distribution over the stated interval. I will show two examples of these functions. In the first case using random_sample function it gives back random floats in the half-open interval from 0.0 to 1.0. In this case I got back float number: 04779..."
   ]
  },
  {
   "cell_type": "code",
   "execution_count": 17,
   "metadata": {},
   "outputs": [],
   "source": [
    "#import numpy package as np\n",
    "import numpy as np\n",
    "#numpy random function random sample is defined as b\n",
    "b = np.random.random_sample()"
   ]
  },
  {
   "cell_type": "code",
   "execution_count": 18,
   "metadata": {},
   "outputs": [
    {
     "data": {
      "text/plain": [
       "0.4848627200511062"
      ]
     },
     "execution_count": 18,
     "metadata": {},
     "output_type": "execute_result"
    }
   ],
   "source": [
    "#call the function b\n",
    "b"
   ]
  },
  {
   "cell_type": "markdown",
   "metadata": {},
   "source": [
    "In the second example, we got 5 different arrays, all of them are in the range from 0.0 to 1.0.  Results are also chosen from the “continuous uniform” distribution."
   ]
  },
  {
   "cell_type": "code",
   "execution_count": 19,
   "metadata": {},
   "outputs": [],
   "source": [
    "#import numpy package as np\n",
    "import numpy as np\n",
    "#numpy random function random sample is defined as b\n",
    "b = np.random.random_sample((5,))"
   ]
  },
  {
   "cell_type": "code",
   "execution_count": 20,
   "metadata": {},
   "outputs": [
    {
     "data": {
      "text/plain": [
       "array([0.69417458, 0.37804277, 0.74057858, 0.50747503, 0.18621949])"
      ]
     },
     "execution_count": 20,
     "metadata": {},
     "output_type": "execute_result"
    }
   ],
   "source": [
    "#call the function b\n",
    "b"
   ]
  },
  {
   "cell_type": "markdown",
   "metadata": {},
   "source": [
    "##### numpy.random.choice"
   ]
  },
  {
   "cell_type": "markdown",
   "metadata": {},
   "source": [
    "This function generates a random sample from a given 1-D array. There are 4 different parameters a : 1-D array-like or int, size : int or tuple of ints, optional, replace : boolean, optional, p : 1-D array-like, optional"
   ]
  },
  {
   "cell_type": "code",
   "execution_count": 21,
   "metadata": {},
   "outputs": [],
   "source": [
    "#import numpy package as np\n",
    "import numpy as np\n",
    "#numpy random function choice is defined as b\n",
    "b = np.random.choice(5, 3)"
   ]
  },
  {
   "cell_type": "code",
   "execution_count": 22,
   "metadata": {},
   "outputs": [
    {
     "data": {
      "text/plain": [
       "array([4, 1, 3])"
      ]
     },
     "execution_count": 22,
     "metadata": {},
     "output_type": "execute_result"
    }
   ],
   "source": [
    "#call the function b\n",
    "b"
   ]
  },
  {
   "cell_type": "markdown",
   "metadata": {},
   "source": [
    "##### numpy.random.bytes"
   ]
  },
  {
   "cell_type": "markdown",
   "metadata": {},
   "source": [
    "This function returns random bytes. "
   ]
  },
  {
   "cell_type": "code",
   "execution_count": 23,
   "metadata": {},
   "outputs": [],
   "source": [
    "#import numpy package as np\n",
    "import numpy as np\n",
    "#numpy random function bytes is defined as b\n",
    "b = np.random.bytes(10)"
   ]
  },
  {
   "cell_type": "code",
   "execution_count": 24,
   "metadata": {},
   "outputs": [
    {
     "data": {
      "text/plain": [
       "b'\\x90\\x9b\\x8a\\x12W@\\x9b\\xb8\\xd87'"
      ]
     },
     "execution_count": 24,
     "metadata": {},
     "output_type": "execute_result"
    }
   ],
   "source": [
    "#call the function b\n",
    "b"
   ]
  },
  {
   "cell_type": "markdown",
   "metadata": {},
   "source": [
    "### Permutations"
   ]
  },
  {
   "cell_type": "markdown",
   "metadata": {},
   "source": [
    "A random permutation is a random ordering of a set of objects, that is, a permutation-valued random variable. The use of random permutations is often fundamental to fields that use randomized algorithms such as coding theory, cryptography, and simulation. A good example of a random permutation is the shuffling of a deck of cards: this is ideally a random permutation of the 52 cards.https://en.wikipedia.org/wiki/Random_permutation\n",
    "A permutation, also called an “arrangement number” or “order”, is a rearrangement of the elements of an ordered list. This method takes a list as an input and return an object list of tuples that contain all permutation in a list form. https://www.geeksforgeeks.org/permutation-and-combination-in-python/ There are 2 permutation functions: shuffle(x) and permutation(x). \n",
    "\n",
    "##### numpy.random.shuffle(x)  "
   ]
  },
  {
   "cell_type": "markdown",
   "metadata": {},
   "source": [
    "This function shuffles the array along the first axis of a multi-dimensional array. The order of sub-arrays is changed but their contents remains the same. In the example below I defined b as interval from 0 to 15 (15 is not included). Using random.shuffle function it returned the list of random numbers from 0 to 15 (not included) in random order. "
   ]
  },
  {
   "cell_type": "code",
   "execution_count": 25,
   "metadata": {},
   "outputs": [
    {
     "data": {
      "text/plain": [
       "array([ 6,  8, 10,  3,  0,  4, 13,  7, 14,  1, 12,  9,  2, 11,  5])"
      ]
     },
     "execution_count": 25,
     "metadata": {},
     "output_type": "execute_result"
    }
   ],
   "source": [
    "# Import numpy as np\n",
    "import numpy as np\n",
    "# I defined b as a range of all numbers from 0 to 14 (included)\n",
    "b = np.arange(15)\n",
    "# using numpy random.shuffle function numbers from 0 to 14 are shuffled in random order\n",
    "np.random.shuffle(b)\n",
    "# print all numbers in random order from 0 to 14 (included)\n",
    "b"
   ]
  },
  {
   "cell_type": "markdown",
   "metadata": {},
   "source": [
    "In the second example there are multi-dimensional arrays that are only shuffled along the first axis. There are 5 arrays that have 3 elements. In the first part there are 5 arrays which are in order from 0 to 14 (included). In the second part of the code there is a multi-dimensional array that doesn't start with 0 like the previous one. There are still 5 arrays with 3 elements in them, but the numbers have changed their order. The first array starts with 12 and continues to 13 and 14, the second arrays starts with 3 and it goes up to 5 and so on. From this example we can see that the numbers have been shuffled along the first axis. "
   ]
  },
  {
   "cell_type": "code",
   "execution_count": 26,
   "metadata": {},
   "outputs": [
    {
     "name": "stdout",
     "output_type": "stream",
     "text": [
      "Before Shufflling multi-dimensional array\n",
      "[[ 0  1  2]\n",
      " [ 3  4  5]\n",
      " [ 6  7  8]\n",
      " [ 9 10 11]\n",
      " [12 13 14]]\n",
      "After Shufflling multi-dimensional array\n",
      "[[ 3  4  5]\n",
      " [12 13 14]\n",
      " [ 0  1  2]\n",
      " [ 9 10 11]\n",
      " [ 6  7  8]]\n"
     ]
    }
   ],
   "source": [
    "# Code adjusted from: https://pynative.com/python-random-shuffle/\n",
    "# Import numpy as np\n",
    "import numpy as np\n",
    "print(\"Before Shufflling multi-dimensional array\")\n",
    "#\n",
    "b = np.arange(15).reshape((5, 3))\n",
    "print(b)\n",
    "\n",
    "print (\"After Shufflling multi-dimensional array\")\n",
    "b_new = np.random.shuffle(b)\n",
    "print(b)"
   ]
  },
  {
   "cell_type": "markdown",
   "metadata": {},
   "source": [
    "#### numpy.random.permutation(x)"
   ]
  },
  {
   "cell_type": "markdown",
   "metadata": {},
   "source": [
    "numpy.random.permutation function randomly permute a sequence, or return a permuted range. If x is a multi-dimensional array, it is only shuffled along its first index."
   ]
  },
  {
   "cell_type": "code",
   "execution_count": 27,
   "metadata": {},
   "outputs": [
    {
     "data": {
      "text/plain": [
       "array([[0, 1, 2],\n",
       "       [3, 4, 5],\n",
       "       [6, 7, 8]])"
      ]
     },
     "execution_count": 27,
     "metadata": {},
     "output_type": "execute_result"
    }
   ],
   "source": [
    "b = np.arange(9).reshape((3, 3))\n",
    "np.random.permutation(b)"
   ]
  },
  {
   "cell_type": "markdown",
   "metadata": {},
   "source": [
    "Difference between shuffle and permutation functions:\n",
    "\n",
    "The functions shuffle and permutation both reshuffle the original array (that is, randomly disorder the original element order)\n",
    "The difference between these functions are:\n",
    "\n",
    "- Shuffle operates directly on the original array, changing the order of the original array, no return value.\n",
    "\n",
    "- Permutation does not operate directly on the original array, but instead returns a new shuffled array without changing the original array.\n",
    "\n",
    "More information can be found here: http://programmersought.com/article/42301751121/;jsessionid=A113BA7B1FC347E1462F95F1517A0197"
   ]
  },
  {
   "cell_type": "markdown",
   "metadata": {},
   "source": [
    "## 3. Distribution functions "
   ]
  },
  {
   "cell_type": "markdown",
   "metadata": {},
   "source": [
    "Every time we are working with a dataset, our dataset represents some kind of a sample and using this sample, we need to understand its patterns so that we can make predictions based on them. Datasets are composed of two main types of data: Numerical (eg. integers), and categorical (eg. names). Based on that data it is possible to calculate some predictions like Probability Mass Functions and Probability Density Functions. There are many probability distributions, but in this work I will focus on 5 distributions that data scientists find most useful (https://towardsdatascience.com/). \n",
    "\n",
    "1. Poisson distribution\n",
    "2. Uniform distribution\n",
    "3. Binominal distribution\n",
    "4. Normal distribution\n",
    "5. Exponential distribution\n",
    "\n",
    "More information and plots about each distribution can be seen below.\n"
   ]
  },
  {
   "cell_type": "markdown",
   "metadata": {},
   "source": [
    "#### 1. Poisson distribution"
   ]
  },
  {
   "cell_type": "markdown",
   "metadata": {},
   "source": [
    "Poisson Distribution is applicable in situations where events occur at random points of time and space wherein our interest lies only in the number of occurrences of the event. It gives us the probability of a given number of events happening in a fixed interval of time. https://www.statisticshowto.datasciencecentral.com/poisson-distribution/\n",
    "\n",
    "The Poisson Distribution probability mass function gives the probability of observing k events in a time period given the length of the period and the average events per time:\n",
    "\n",
    "![alt text](poisson.png)\n",
    "\n",
    "Image shows Poisson distribution for probability of k events in time period.\n",
    "\n",
    "A distribution is called Poisson distribution when the following assumptions are valid:\n",
    "\n",
    "1. Any successful event should not influence the outcome of another successful event.\n",
    "2. The probability of success over a short interval must equal the probability of success over a longer interval.\n",
    "3. The probability of success in an interval approaches zero as the interval becomes smaller."
   ]
  },
  {
   "cell_type": "markdown",
   "metadata": {},
   "source": [
    "The Poisson distribution has the following characteristics:\n",
    "\n",
    "- It is a discrete distribution.\n",
    "- Each occurrence is independent of the other occurrences.\n",
    "- It describes discrete occurrences over an interval.\n",
    "- The occurrences in each interval can range from zero to infinity.\n",
    "- The mean number of occurrences must be constant throughout the experiment.\n",
    "\n",
    "https://www.onlinemathlearning.com/poisson-distribution.html\n",
    "\n",
    "In the next 2 examples I will show random.poisson distribution. We can see that the distribution changes as we change the first element in the function. In the first example most of the numbers are distributed around number 1, while in the second example most of the numbers are distributed around number 8. "
   ]
  },
  {
   "cell_type": "code",
   "execution_count": 28,
   "metadata": {},
   "outputs": [],
   "source": [
    "# Import numpy as np\n",
    "import numpy as np\n",
    "# I defined b as numpy random function using poisson distribution\n",
    "b = np.random.poisson(1, 1000)"
   ]
  },
  {
   "cell_type": "code",
   "execution_count": 29,
   "metadata": {},
   "outputs": [
    {
     "data": {
      "text/plain": [
       "array([1, 1, 2, 0, 0, 0, 0, 0, 1, 0, 0, 0, 0, 1, 1, 2, 0, 2, 2, 0, 2, 0,\n",
       "       2, 2, 1, 1, 0, 1, 1, 1, 2, 1, 1, 1, 0, 0, 0, 0, 0, 1, 2, 1, 1, 0,\n",
       "       0, 0, 3, 0, 1, 1, 2, 1, 1, 2, 3, 1, 0, 1, 3, 2, 1, 0, 0, 2, 0, 1,\n",
       "       0, 0, 5, 0, 1, 2, 1, 0, 0, 1, 0, 2, 3, 1, 0, 0, 1, 1, 0, 0, 0, 0,\n",
       "       1, 0, 1, 2, 0, 0, 0, 4, 1, 1, 2, 2, 0, 3, 2, 0, 0, 0, 1, 1, 2, 2,\n",
       "       1, 4, 0, 0, 1, 1, 0, 0, 1, 2, 2, 2, 1, 1, 1, 3, 1, 2, 1, 2, 0, 1,\n",
       "       0, 0, 0, 1, 2, 0, 2, 1, 0, 0, 1, 1, 1, 3, 3, 1, 1, 0, 0, 1, 0, 1,\n",
       "       1, 3, 2, 0, 1, 0, 0, 0, 1, 2, 2, 2, 1, 1, 0, 3, 0, 1, 0, 0, 0, 1,\n",
       "       0, 2, 2, 2, 0, 1, 2, 0, 0, 1, 1, 1, 1, 1, 0, 0, 0, 2, 0, 2, 0, 0,\n",
       "       0, 2, 1, 2, 3, 0, 1, 0, 0, 1, 3, 0, 3, 1, 2, 0, 0, 1, 0, 2, 2, 1,\n",
       "       1, 0, 1, 0, 2, 2, 1, 0, 3, 3, 2, 0, 1, 0, 1, 0, 0, 0, 0, 0, 2, 2,\n",
       "       2, 0, 1, 0, 0, 0, 0, 1, 1, 0, 0, 1, 1, 1, 0, 3, 0, 0, 0, 1, 0, 2,\n",
       "       1, 2, 1, 0, 2, 0, 1, 1, 2, 1, 1, 1, 2, 0, 1, 1, 0, 1, 1, 0, 2, 2,\n",
       "       0, 2, 0, 1, 1, 2, 0, 1, 1, 3, 0, 1, 0, 2, 2, 0, 0, 0, 2, 0, 2, 1,\n",
       "       0, 0, 0, 0, 3, 0, 1, 1, 1, 0, 1, 0, 0, 0, 0, 1, 0, 1, 2, 1, 2, 2,\n",
       "       0, 3, 1, 1, 1, 0, 0, 5, 0, 0, 0, 0, 2, 0, 1, 1, 2, 0, 3, 2, 0, 1,\n",
       "       0, 1, 0, 2, 0, 1, 0, 1, 1, 2, 0, 1, 1, 1, 1, 0, 1, 1, 1, 1, 1, 0,\n",
       "       1, 0, 2, 2, 0, 0, 0, 2, 1, 0, 1, 1, 1, 1, 1, 0, 0, 1, 2, 0, 0, 1,\n",
       "       2, 2, 1, 0, 1, 1, 2, 0, 0, 0, 2, 0, 0, 1, 0, 0, 1, 1, 2, 3, 0, 1,\n",
       "       1, 2, 1, 2, 0, 1, 1, 0, 0, 0, 2, 2, 0, 2, 0, 0, 0, 0, 1, 0, 2, 1,\n",
       "       0, 1, 1, 0, 0, 1, 2, 0, 0, 2, 1, 1, 1, 1, 0, 2, 1, 1, 3, 0, 1, 0,\n",
       "       1, 0, 0, 1, 1, 1, 0, 2, 2, 0, 1, 0, 0, 0, 1, 3, 2, 2, 2, 0, 1, 1,\n",
       "       1, 1, 0, 3, 1, 1, 1, 0, 0, 0, 2, 1, 0, 2, 0, 0, 0, 0, 2, 1, 0, 0,\n",
       "       2, 0, 1, 1, 0, 2, 1, 1, 2, 0, 2, 0, 1, 0, 1, 0, 1, 3, 0, 1, 0, 2,\n",
       "       2, 1, 0, 3, 3, 0, 1, 0, 0, 0, 3, 0, 1, 0, 1, 0, 0, 2, 1, 0, 1, 1,\n",
       "       2, 1, 0, 2, 0, 0, 2, 1, 0, 0, 1, 1, 1, 1, 0, 1, 3, 0, 0, 1, 2, 2,\n",
       "       0, 1, 3, 2, 0, 2, 0, 0, 1, 1, 2, 0, 1, 1, 2, 3, 1, 1, 1, 1, 0, 3,\n",
       "       2, 1, 2, 0, 2, 0, 1, 3, 0, 0, 2, 0, 0, 0, 0, 1, 3, 4, 1, 1, 1, 2,\n",
       "       4, 0, 2, 2, 0, 1, 0, 2, 0, 3, 2, 0, 1, 1, 1, 1, 1, 2, 0, 1, 0, 2,\n",
       "       2, 5, 4, 0, 1, 2, 2, 1, 0, 0, 3, 0, 1, 2, 0, 0, 1, 0, 0, 0, 0, 3,\n",
       "       1, 3, 0, 0, 1, 2, 1, 3, 4, 0, 1, 0, 0, 0, 0, 0, 0, 1, 1, 2, 3, 2,\n",
       "       1, 0, 0, 0, 0, 1, 3, 1, 0, 0, 1, 1, 0, 0, 2, 1, 0, 1, 0, 0, 0, 1,\n",
       "       0, 3, 2, 1, 0, 0, 0, 2, 0, 0, 1, 1, 0, 0, 1, 1, 3, 1, 1, 2, 1, 1,\n",
       "       0, 1, 1, 0, 0, 0, 0, 3, 0, 2, 1, 2, 1, 2, 2, 3, 0, 0, 1, 1, 2, 2,\n",
       "       1, 5, 2, 0, 0, 1, 2, 1, 2, 0, 2, 2, 0, 2, 1, 0, 1, 1, 0, 4, 0, 1,\n",
       "       2, 0, 1, 0, 3, 2, 2, 1, 0, 0, 0, 3, 1, 0, 1, 3, 1, 0, 2, 0, 2, 0,\n",
       "       1, 2, 1, 2, 1, 3, 1, 0, 2, 2, 4, 3, 0, 2, 2, 3, 0, 0, 0, 3, 1, 0,\n",
       "       1, 1, 0, 2, 2, 0, 1, 0, 0, 1, 3, 1, 2, 0, 0, 2, 1, 1, 1, 0, 0, 2,\n",
       "       2, 2, 1, 0, 2, 0, 1, 1, 2, 0, 0, 1, 0, 2, 1, 2, 1, 0, 3, 2, 0, 3,\n",
       "       0, 3, 0, 1, 1, 2, 0, 0, 0, 2, 1, 2, 3, 1, 0, 2, 2, 2, 1, 1, 1, 0,\n",
       "       0, 2, 1, 0, 0, 0, 0, 1, 0, 0, 3, 1, 0, 2, 2, 0, 1, 2, 0, 0, 1, 2,\n",
       "       1, 2, 0, 1, 2, 0, 2, 0, 0, 0, 0, 0, 2, 4, 1, 1, 1, 1, 2, 1, 0, 1,\n",
       "       1, 0, 0, 0, 1, 1, 1, 0, 0, 0, 2, 0, 0, 1, 2, 2, 1, 1, 1, 3, 1, 1,\n",
       "       0, 3, 0, 1, 0, 2, 2, 2, 0, 2, 1, 1, 2, 2, 0, 1, 1, 0, 0, 0, 1, 1,\n",
       "       0, 0, 5, 0, 1, 0, 2, 1, 2, 2, 1, 3, 0, 1, 1, 2, 0, 0, 2, 1, 3, 0,\n",
       "       0, 1, 0, 1, 2, 0, 3, 1, 0, 2])"
      ]
     },
     "execution_count": 29,
     "metadata": {},
     "output_type": "execute_result"
    }
   ],
   "source": [
    "# I called the function b\n",
    "b"
   ]
  },
  {
   "cell_type": "code",
   "execution_count": 30,
   "metadata": {},
   "outputs": [
    {
     "data": {
      "text/plain": [
       "<Figure size 640x480 with 1 Axes>"
      ]
     },
     "metadata": {},
     "output_type": "display_data"
    }
   ],
   "source": [
    "import matplotlib.pyplot as plt\n",
    "count, bins, ignored = plt.hist(b, 8, density=True)\n",
    "plt.show()"
   ]
  },
  {
   "cell_type": "code",
   "execution_count": 31,
   "metadata": {},
   "outputs": [],
   "source": [
    "# Import numpy as np\n",
    "import numpy as np\n",
    "# I defined b as numpy random function using poisson distribution\n",
    "b = np.random.poisson(8, 1000)"
   ]
  },
  {
   "cell_type": "code",
   "execution_count": 32,
   "metadata": {},
   "outputs": [
    {
     "data": {
      "text/plain": [
       "array([11,  7,  3,  5, 14,  6,  8,  8,  8,  5,  4, 11, 10, 12, 13,  8,  7,\n",
       "       11, 12,  9,  7,  9,  5,  8, 15, 12,  7,  5,  7, 10,  4,  7,  7,  7,\n",
       "        8,  8,  7,  6,  8, 10,  7, 15,  6,  6,  3,  7,  7,  6, 10,  5,  8,\n",
       "       11, 20, 12,  7,  9,  8, 16,  5, 10,  9, 14,  9,  6, 11,  7,  5, 15,\n",
       "       18,  5,  5,  9,  3,  6, 12, 10,  7,  2,  7,  5,  6,  6,  6, 12,  6,\n",
       "       10, 10, 13,  5, 10,  7,  7,  7,  8, 10,  7,  9,  7, 11,  9, 11,  5,\n",
       "       10,  4,  7, 10,  5,  4,  8,  9,  6,  9,  8,  9, 12,  8, 11, 11,  8,\n",
       "        1, 10, 16,  8,  7,  5,  9,  7, 11, 12,  7,  7, 10,  6,  7,  8,  6,\n",
       "        8, 10, 10,  5,  7,  7, 12,  6, 15,  6, 13,  3,  6,  4,  8,  5,  6,\n",
       "        9,  9,  7, 11,  9,  8, 11,  6, 10, 10,  6,  9,  9,  5, 10, 13,  2,\n",
       "        2,  8,  7,  5,  8,  8,  8,  8,  9, 10,  8,  7, 12, 11,  3,  5,  6,\n",
       "        7,  7,  4,  9,  9,  6,  8, 12,  8,  4,  7,  9,  5,  8, 10,  2,  3,\n",
       "       14, 12, 11,  2, 10,  6,  7,  7, 11, 10, 12,  8,  8,  6,  7,  8,  4,\n",
       "        9,  4,  4,  8,  6, 12,  7,  7,  5,  8,  6, 11,  6,  9, 10,  8, 10,\n",
       "        5,  7,  8,  9,  3,  7,  7,  7,  7,  7,  8,  5,  8,  9,  9,  6, 11,\n",
       "        9,  6,  6,  9, 10,  6,  7,  6,  6, 10,  8,  5,  5,  7, 11,  8, 11,\n",
       "        6,  6,  9,  9,  5,  5,  7, 12,  8,  8,  7,  3,  5,  6, 10, 11,  7,\n",
       "        8, 11,  5, 10,  6,  9,  7, 11, 12, 10, 14,  4,  6,  7,  8, 12,  9,\n",
       "        7,  7,  9,  8,  3,  6,  5,  7,  6,  9,  3,  6,  7,  5,  8,  5,  9,\n",
       "        8, 10,  7,  3,  8,  9,  5,  5,  5, 11,  9,  9,  9,  2,  7,  9,  5,\n",
       "       10,  5,  4, 10, 11,  8,  7,  9,  9,  7, 10,  7, 10,  8, 14,  3, 10,\n",
       "        5,  8,  5,  7, 10, 11,  9,  7,  5,  5,  8,  7, 11,  5,  9,  6, 12,\n",
       "        7, 12,  7,  9, 10,  4,  5, 10,  5,  9,  7,  9, 12,  6,  5, 10,  8,\n",
       "        9, 12,  5,  5, 12,  5,  9, 15,  9,  4, 12,  6,  3,  5, 11, 13, 12,\n",
       "        9,  6,  8, 10,  8,  7, 13, 11,  7, 10, 10,  6, 13,  4,  3,  7,  8,\n",
       "       11,  4, 12,  7, 11,  3, 11,  4,  0,  8, 12, 14,  8, 11,  9,  7, 11,\n",
       "       10,  8,  4,  5,  8,  8,  9, 11,  3,  4,  5, 10,  8, 15,  4, 12,  4,\n",
       "        8,  7,  5, 14,  7,  8,  9,  9,  8, 12,  9,  6, 10,  4,  8,  6,  4,\n",
       "        9, 10,  9, 16,  0, 11, 10,  9,  3, 10,  6,  3,  7,  5,  6,  6,  3,\n",
       "        7, 14, 11,  9, 10, 17,  8, 10,  8,  9,  8,  8, 10, 10,  5,  2,  6,\n",
       "        4, 13, 10,  6, 10,  3,  4,  7,  6, 17,  9,  8,  8,  6,  9,  2,  7,\n",
       "       14,  6,  7,  8,  4, 13, 11,  8,  8,  8,  8,  5,  7,  6,  5, 12,  5,\n",
       "        9, 12,  8,  7,  7,  4,  8,  9,  8,  6,  3,  9,  9,  8,  2, 14,  8,\n",
       "        5,  4, 11, 13,  7,  8,  5,  7, 14, 10,  8, 13,  5,  7, 10, 13,  7,\n",
       "        8,  5, 12, 11,  5,  7,  6,  6,  9, 12,  2,  7,  9,  5,  4,  6, 10,\n",
       "        7,  4,  3,  8, 10,  8,  9,  7,  8,  8,  9,  6, 10,  8, 10, 11,  6,\n",
       "       11,  8,  4, 10,  3,  5, 14, 10,  4,  9,  6,  6, 10, 11,  6,  9, 13,\n",
       "        9,  5,  7,  6,  9, 11,  5, 11,  9,  9, 10, 11,  3, 12,  8,  6,  5,\n",
       "        9,  7,  7, 14,  9,  8,  4, 15,  9, 11, 10,  7,  9,  4, 13,  7,  6,\n",
       "        5,  7,  9, 12,  6,  6,  5, 12,  7,  8, 13,  7,  6,  7,  8,  9,  5,\n",
       "        3,  4,  6,  6, 10,  6,  5,  7,  9,  9,  8,  9,  9, 10, 12,  8,  9,\n",
       "        9, 12,  8, 12, 10,  5,  9,  5, 12,  4,  8,  7,  4,  6,  6,  9,  3,\n",
       "        6,  7,  5, 10,  3,  8,  2,  8,  8,  7, 11,  5,  9,  9,  9,  6, 11,\n",
       "        9,  2,  8,  9,  6, 10,  7,  9,  6, 11,  6, 11, 14,  6, 13,  5,  5,\n",
       "        9,  7,  8, 10,  5,  4,  8,  6, 10,  5,  6,  7,  7, 10, 12,  7,  9,\n",
       "       11,  9,  6,  8,  4,  7, 10,  5, 10,  6,  8,  8,  9,  8,  9,  5,  3,\n",
       "        5,  9, 11,  9,  9, 13,  6, 10,  5,  6, 11, 13, 10,  7,  7,  8,  3,\n",
       "        8, 13, 12,  8, 11,  6,  9,  7,  4,  4,  3, 10,  7,  2,  6, 12,  4,\n",
       "       12, 11,  5, 10, 10,  5,  8,  6,  5,  4,  4,  8,  9,  9,  8,  6,  7,\n",
       "       11, 11,  7, 14, 10,  8,  8,  5,  7, 10,  7,  4,  7,  6,  5,  8,  7,\n",
       "       10,  8,  7,  2,  9, 13,  6,  5, 10,  7, 11,  9,  9,  9, 15,  7, 17,\n",
       "        7,  9,  9,  4,  4,  7,  6, 11,  5, 10,  8, 10,  8,  8,  5,  5,  8,\n",
       "        7,  4, 10, 11,  8,  8, 12, 16,  6,  8,  4,  2,  6, 15,  7, 13,  4,\n",
       "        8,  9,  7, 11,  9,  8, 10,  7,  5, 15,  9,  8, 10,  8,  5,  5, 14,\n",
       "        5, 11,  4, 10, 12,  4, 12,  5, 13,  8,  7, 11,  9,  9, 12, 10, 12,\n",
       "       10,  9,  8,  7,  4,  5, 10,  4,  3, 12,  9,  8, 11,  4,  7,  7,  7,\n",
       "        7,  4, 12,  9,  6,  7, 11, 14,  7,  5,  7, 13,  5,  7,  6,  9,  7,\n",
       "        9, 10,  7,  7,  9,  5, 15,  7,  6,  9,  8,  5,  4,  5,  5, 11, 13,\n",
       "        7,  8, 12,  6,  8, 11, 10,  9,  3,  8,  5,  8,  8,  7])"
      ]
     },
     "execution_count": 32,
     "metadata": {},
     "output_type": "execute_result"
    }
   ],
   "source": [
    "b"
   ]
  },
  {
   "cell_type": "code",
   "execution_count": 33,
   "metadata": {},
   "outputs": [
    {
     "data": {
      "image/png": "[encoded data removed]",
      "text/plain": [
       "<Figure size 432x288 with 1 Axes>"
      ]
     },
     "metadata": {
      "needs_background": "light"
     },
     "output_type": "display_data"
    }
   ],
   "source": [
    "import matplotlib.pyplot as plt\n",
    "count, bins, ignored = plt.hist(b, 8, density=True)\n",
    "plt.show()"
   ]
  },
  {
   "cell_type": "markdown",
   "metadata": {},
   "source": [
    "#### 2. Uniform distribution"
   ]
  },
  {
   "cell_type": "markdown",
   "metadata": {},
   "source": [
    "When you roll a fair die, the outcomes are 1 to 6. The probabilities of getting these outcomes are equally likely and that is the basis of a uniform distribution. You can see that the shape of the Uniform distribution curve is rectangular, the reason why Uniform distribution is called rectangular distribution. For a Uniform Distribution, a and b are the parameters (https://www.analyticsvidhya.com/). As we can see from the example we have 100 elements in an interval from -1 to 0. All numbers had equall chance to be chosen. When we look at the plot below all columns are almost equall size. "
   ]
  },
  {
   "cell_type": "code",
   "execution_count": 34,
   "metadata": {},
   "outputs": [],
   "source": [
    "# Import numpy as np\n",
    "import numpy as np\n",
    "# I defined b as a numpy random.uniform function in a range from -1 to 0. It includes 100 elements\n",
    "b = np.random.uniform(-1,0,100)"
   ]
  },
  {
   "cell_type": "code",
   "execution_count": 35,
   "metadata": {},
   "outputs": [
    {
     "data": {
      "text/plain": [
       "array([-0.71586893, -0.20518439, -0.00219772, -0.90658297, -0.33258387,\n",
       "       -0.67505291, -0.14004832, -0.57782015, -0.74755981, -0.79395701,\n",
       "       -0.35458109, -0.20453141, -0.2478261 , -0.43673252, -0.33478124,\n",
       "       -0.18957951, -0.9405039 , -0.66677727, -0.46507114, -0.40259285,\n",
       "       -0.85222944, -0.08261228, -0.10401649, -0.65781987, -0.73863164,\n",
       "       -0.45128755, -0.83012722, -0.00964133, -0.66032614, -0.41848316,\n",
       "       -0.4360251 , -0.65136756, -0.68774782, -0.02875709, -0.35706096,\n",
       "       -0.60636989, -0.60732793, -0.12400028, -0.36500237, -0.99773535,\n",
       "       -0.62353379, -0.38574415, -0.13989313, -0.23721517, -0.65648518,\n",
       "       -0.66810746, -0.21749127, -0.83048232, -0.63050489, -0.72122337,\n",
       "       -0.16277898, -0.58232827, -0.21086009, -0.82971413, -0.65708761,\n",
       "       -0.41939605, -0.33045608, -0.15339228, -0.36489828, -0.34003127,\n",
       "       -0.64130834, -0.63232535, -0.77438805, -0.03588905, -0.60063887,\n",
       "       -0.05753246, -0.55460198, -0.48270703, -0.68323088, -0.57731654,\n",
       "       -0.18186747, -0.33812771, -0.15562109, -0.26170295, -0.62190286,\n",
       "       -0.91104835, -0.65179089, -0.58988629, -0.10224943, -0.89244434,\n",
       "       -0.81378628, -0.32575217, -0.91160225, -0.36041818, -0.99959229,\n",
       "       -0.35466565, -0.83900564, -0.34616446, -0.50172335, -0.55540818,\n",
       "       -0.31371529, -0.314998  , -0.7209344 , -0.45789219, -0.85074657,\n",
       "       -0.11790504, -0.38582351, -0.46793776, -0.9954632 , -0.41966806])"
      ]
     },
     "execution_count": 35,
     "metadata": {},
     "output_type": "execute_result"
    }
   ],
   "source": [
    "# Call the function b\n",
    "b"
   ]
  },
  {
   "cell_type": "code",
   "execution_count": 36,
   "metadata": {},
   "outputs": [
    {
     "data": {
      "image/png": "[encoded data removed]",
      "text/plain": [
       "<Figure size 432x288 with 1 Axes>"
      ]
     },
     "metadata": {
      "needs_background": "light"
     },
     "output_type": "display_data"
    }
   ],
   "source": [
    "# Import matplotlib.pyplot as plt\n",
    "import matplotlib.pyplot as plt\n",
    "\n",
    "count, bins, ignored = plt.hist(b, 8, density=True)\n",
    "plt.plot(bins, np.ones_like(bins), linewidth=2, color='r')\n",
    "plt.show()"
   ]
  },
  {
   "cell_type": "markdown",
   "metadata": {},
   "source": [
    "#### 3. Binominal distribution"
   ]
  },
  {
   "cell_type": "markdown",
   "metadata": {},
   "source": [
    "A distribution where only two outcomes are possible, such as success or failure, gain or loss, win or lose and where the probability of success and failure is same for all the trials is called a Binomial Distribution.\n",
    "Each trial is independent since the outcome of the previous toss doesn’t determine or affect the outcome of the current toss. An experiment with only two possible outcomes repeated n number of times is called binomial. The parameters of a binomial distribution are n and p where n is the total number of trials and p is the probability of success in each trial.\n",
    "\n",
    "On the basis of the above explanation, the properties of a Binomial Distribution are\n",
    "\n",
    "Each trial is independent.\n",
    "There are only two possible outcomes in a trial- either a success or a failure.\n",
    "A total number of n identical trials are conducted.\n",
    "The probability of success and failure is same for all trials. (Trials are identical.)\n",
    " "
   ]
  },
  {
   "cell_type": "code",
   "execution_count": 37,
   "metadata": {},
   "outputs": [],
   "source": [
    "# number of trials, probability of each trial\n",
    "n, p = 10, .5\n",
    "b = np.random.binomial(n, p, 100)\n"
   ]
  },
  {
   "cell_type": "code",
   "execution_count": 38,
   "metadata": {},
   "outputs": [
    {
     "data": {
      "text/plain": [
       "array([6, 4, 5, 5, 7, 2, 4, 6, 6, 5, 7, 5, 4, 2, 2, 7, 4, 6, 4, 3, 6, 4,\n",
       "       7, 5, 6, 3, 7, 2, 7, 2, 7, 5, 4, 6, 7, 6, 6, 6, 5, 7, 4, 3, 5, 3,\n",
       "       5, 4, 6, 6, 3, 6, 6, 2, 5, 5, 5, 7, 3, 4, 4, 6, 6, 6, 4, 8, 5, 6,\n",
       "       4, 5, 3, 5, 4, 4, 6, 5, 3, 8, 3, 4, 6, 6, 5, 4, 7, 6, 6, 6, 5, 5,\n",
       "       7, 7, 8, 2, 6, 6, 7, 5, 6, 3, 5, 6])"
      ]
     },
     "execution_count": 38,
     "metadata": {},
     "output_type": "execute_result"
    }
   ],
   "source": [
    "# Result of flipping a coin 10 times, tested 1000 times.\n",
    "b"
   ]
  },
  {
   "cell_type": "markdown",
   "metadata": {},
   "source": [
    "Example taken from: https://docs.scipy.org/doc/numpy-1.15.0/reference/generated/numpy.random.binomial.html#numpy.random.binomial\n",
    "\n",
    "A real world example: a company drills 9 exploration wells, each with an estimated probability of success of 0.1. All nine wells fail. What is the probability of that happening?\n",
    "\n",
    "I will do 20,000 trials of the model, and count the number that generate zero positive results. As it can be seen from the result the probability of all nine wells failing is 38%. \n"
   ]
  },
  {
   "cell_type": "code",
   "execution_count": 39,
   "metadata": {},
   "outputs": [
    {
     "data": {
      "text/plain": [
       "0.3885"
      ]
     },
     "execution_count": 39,
     "metadata": {},
     "output_type": "execute_result"
    }
   ],
   "source": [
    "# Sum of zero positive results in the model of 20000 trials\n",
    "sum(np.random.binomial(9, 0.1, 20000) == 0)/20000."
   ]
  },
  {
   "cell_type": "markdown",
   "metadata": {},
   "source": [
    "#### 4. Normal distribution"
   ]
  },
  {
   "cell_type": "markdown",
   "metadata": {},
   "source": [
    "It represents the behavior of most of the situations in the universe. That is why it’s called a “normal” distribution. The large sum of (small) random variables often turns out to be normally distributed, contributing to its widespread application. Any distribution is known as Normal distribution if it has the following characteristics:\n",
    "\n",
    "- The mean, median and mode of the distribution coincide.\n",
    "- The curve of the distribution is bell-shaped and symmetrical about the line x=μ.\n",
    "- The total area under the curve is 1.\n",
    "- Exactly half of the values are to the left of the center and the other half to the right.\n",
    "\n",
    "A normal distribution is highly different from Binomial Distribution. However, if the number of trials approaches infinity then the shapes will be quite similar."
   ]
  },
  {
   "cell_type": "code",
   "execution_count": 132,
   "metadata": {},
   "outputs": [],
   "source": [
    "#import numpy as np\n",
    "import numpy as np\n",
    "#mean and standard deviation\n",
    "mu, sigma = 0, 0.1\n",
    "b = np.random.normal(mu, sigma, 1000)"
   ]
  },
  {
   "cell_type": "code",
   "execution_count": 133,
   "metadata": {},
   "outputs": [
    {
     "data": {
      "text/plain": [
       "array([-3.52759773e-02, -2.01160560e-02,  2.52956852e-01,  5.44679672e-02,\n",
       "        1.85095152e-02,  5.95082584e-02,  8.92411938e-02,  7.84329952e-02,\n",
       "        9.00803491e-02,  8.37628187e-02,  4.15902102e-02,  2.05760439e-02,\n",
       "        1.15576614e-01,  4.02930351e-02, -4.40288124e-02, -8.81236771e-02,\n",
       "       -4.87903872e-03, -3.85256569e-02,  1.10868759e-01, -1.02157409e-01,\n",
       "       -7.29646882e-02, -1.62724974e-01,  1.98442322e-02, -7.10608205e-03,\n",
       "       -1.16981265e-03, -1.46948978e-01, -8.16632389e-02,  8.77766911e-02,\n",
       "        1.11787554e-01,  2.18852281e-01, -5.77300986e-02,  1.06554242e-02,\n",
       "        3.34381803e-02, -1.36678458e-01, -1.47286140e-01, -8.41679786e-02,\n",
       "        8.35497238e-02, -8.19753636e-02, -1.40011870e-02, -5.02545504e-02,\n",
       "       -8.85639272e-02, -7.71495706e-02, -4.02133279e-02, -3.90900926e-02,\n",
       "       -8.12974024e-02, -2.27405257e-02, -5.22839886e-02,  3.28297365e-02,\n",
       "        1.25277898e-01,  1.29288037e-01, -1.62858854e-01, -5.53171077e-02,\n",
       "       -4.53002629e-04, -5.48079812e-02, -1.24576187e-01,  9.55094371e-02,\n",
       "        1.61414312e-01,  3.77240968e-03, -3.07719677e-02,  7.70156673e-02,\n",
       "       -8.38781074e-02, -1.62590139e-01, -1.03816289e-01, -7.27542992e-02,\n",
       "       -2.10100020e-03,  2.89541647e-01,  5.33058981e-02, -4.28243530e-02,\n",
       "       -3.44768190e-02, -1.91011186e-02, -2.49308545e-03, -4.45347828e-02,\n",
       "       -2.89259365e-01,  1.41790639e-01,  5.74691565e-03,  8.89749928e-02,\n",
       "        1.08846687e-01, -4.90877120e-02, -4.14320462e-02, -4.87181903e-02,\n",
       "       -6.52712474e-03, -3.64307414e-02, -8.65094678e-02, -1.26727022e-02,\n",
       "        4.58519408e-02, -2.08837539e-01, -7.39399046e-02, -1.22640055e-01,\n",
       "        2.78690841e-01, -9.93914919e-02,  3.35209464e-02, -9.30412395e-02,\n",
       "        7.29563889e-02,  7.67274317e-02, -2.12354935e-03, -2.37295707e-01,\n",
       "        1.01395394e-02,  1.77885469e-01, -7.43769007e-02, -1.88295791e-01,\n",
       "       -1.39314826e-01,  6.43935530e-02, -3.04361160e-02, -7.91299761e-02,\n",
       "        9.83825810e-02, -1.57565119e-01, -1.34153626e-01,  7.31636155e-03,\n",
       "       -1.54910977e-01, -1.31268115e-01, -8.23985702e-03,  1.20502827e-01,\n",
       "        1.19910296e-03,  1.82064377e-02, -2.57630769e-03,  8.66244085e-02,\n",
       "       -3.64277556e-02, -1.15408346e-01, -1.19641148e-01, -9.67347639e-02,\n",
       "        1.19772161e-02, -1.12714782e-01, -1.15611364e-02,  2.32460519e-01,\n",
       "        1.39518269e-01,  4.80559173e-02, -6.09776866e-02, -9.86248563e-02,\n",
       "       -1.67837277e-02,  4.38210555e-02, -9.15504371e-02, -8.56602410e-02,\n",
       "        9.98105418e-05, -5.41101586e-02,  6.94595922e-02, -1.97379479e-01,\n",
       "        2.42303734e-02, -8.18699905e-02,  6.64434027e-02,  8.94756510e-02,\n",
       "        1.09817665e-01,  1.74489715e-01,  2.37250057e-01,  4.41540863e-02,\n",
       "       -1.24034142e-02, -1.32614619e-01,  1.15042236e-01, -7.44244702e-02,\n",
       "       -2.01007883e-02, -7.56339757e-02, -6.88373683e-02,  1.05665720e-02,\n",
       "        1.40534011e-01, -1.47415842e-01, -1.44771256e-01,  7.32591716e-02,\n",
       "        1.04227078e-01, -1.05157163e-01, -6.13192305e-02, -9.70567315e-02,\n",
       "       -1.23291757e-01,  5.02682282e-02,  1.59552533e-01, -3.03818926e-02,\n",
       "        3.39704848e-02,  1.41377153e-01, -1.54646943e-01, -2.15393569e-02,\n",
       "       -5.24511377e-02, -1.15796667e-01,  2.10956124e-02, -1.15677331e-01,\n",
       "       -2.24393473e-01, -4.82850320e-02,  6.50423282e-02,  4.37014673e-02,\n",
       "       -1.37123499e-01, -8.06607998e-02,  7.31773405e-02,  8.26589898e-02,\n",
       "       -1.46792582e-02,  2.46884124e-02, -5.06192564e-02, -6.60437160e-02,\n",
       "        7.86096351e-02, -1.00931222e-01, -7.58096554e-02, -9.53283209e-02,\n",
       "       -1.65292839e-03, -3.12808571e-02,  2.86835647e-02,  3.73292097e-02,\n",
       "        3.86928061e-02, -6.15485056e-02,  1.30851983e-01, -2.16675830e-01,\n",
       "       -2.84392718e-01,  9.00763816e-02, -1.77343793e-01,  9.13847360e-02,\n",
       "        1.69057977e-02, -9.91892240e-03, -1.90108089e-02,  1.36683079e-01,\n",
       "       -1.72817123e-01, -6.54183171e-03,  1.18337018e-01, -1.28784580e-01,\n",
       "       -3.05669524e-02,  4.54159101e-02,  4.20060582e-02, -2.60800533e-03,\n",
       "        1.21644640e-01, -3.50484027e-02, -5.64273693e-02, -2.94125269e-02,\n",
       "        2.12537382e-03, -3.37744376e-02, -5.52863933e-02, -7.98236919e-02,\n",
       "        1.25999938e-02,  1.19264220e-01,  2.28856620e-02, -8.38056119e-03,\n",
       "        9.49140410e-03,  9.78225095e-02, -3.76528834e-02,  7.92723785e-02,\n",
       "       -1.78862629e-01, -6.73478503e-03, -5.74092315e-02,  1.84144727e-02,\n",
       "       -1.93828871e-02,  2.22240464e-02, -7.28821679e-02,  1.69285655e-02,\n",
       "        4.51744870e-02, -1.77636759e-01, -1.20498005e-01,  3.43267699e-02,\n",
       "       -8.45709868e-03,  4.59780671e-02, -1.00141217e-01, -1.51462229e-02,\n",
       "        2.53377707e-03, -4.96074699e-03,  8.45840252e-02,  7.58916256e-02,\n",
       "       -4.36623164e-04, -1.41448423e-01,  9.25760890e-03,  8.64329740e-02,\n",
       "       -2.06466795e-01, -4.53052593e-02,  2.94061288e-02,  7.29348829e-03,\n",
       "       -2.16367165e-02, -2.04653462e-01, -1.00775591e-01, -1.35243788e-01,\n",
       "        8.68140079e-02,  1.17423823e-01, -1.89063992e-02,  2.13816651e-01,\n",
       "       -7.16882861e-03,  1.22191273e-01, -2.02296482e-01,  4.79835246e-02,\n",
       "       -8.38017542e-02,  7.34806719e-02,  1.80477521e-01,  3.14880133e-02,\n",
       "        1.42207653e-01,  4.17096959e-02,  4.60155748e-02, -1.15581260e-02,\n",
       "       -9.98950321e-03,  9.54678519e-02,  1.39819915e-02,  3.70668080e-02,\n",
       "       -2.27354740e-01,  6.77711636e-02, -7.45531717e-03, -2.12967939e-02,\n",
       "        1.05036438e-01,  3.99516323e-03,  1.09330013e-01, -4.21079480e-02,\n",
       "       -5.39952295e-02,  7.07057145e-02,  2.77087989e-03,  5.83448179e-02,\n",
       "        7.85650192e-02, -9.39457613e-02, -5.10557560e-02, -2.72843986e-02,\n",
       "       -4.73126695e-02,  2.02403131e-02,  3.82464187e-02,  5.87989378e-02,\n",
       "        4.17505581e-02,  7.55132347e-02,  4.27752828e-02, -1.60216760e-01,\n",
       "       -6.04007669e-02, -2.34024747e-02,  3.77902334e-02, -9.43298538e-02,\n",
       "        1.69975896e-01, -1.63611368e-01, -2.03705612e-02, -3.96865123e-02,\n",
       "       -6.28554430e-02,  5.44501838e-02, -1.92794318e-01, -7.75296443e-02,\n",
       "       -8.15319052e-02,  1.23830775e-01,  4.31328686e-02, -7.08179727e-02,\n",
       "       -2.15696814e-02,  1.33973790e-01,  3.43374808e-02, -1.41489675e-01,\n",
       "        1.20843507e-02, -6.52258463e-02, -6.07761676e-02,  2.18657720e-01,\n",
       "        4.08815501e-02,  4.52718246e-02, -2.85127799e-02,  1.28410457e-01,\n",
       "       -1.24221967e-01, -2.04289271e-02, -6.50911962e-02, -4.39526654e-03,\n",
       "        3.19783723e-02, -5.75182378e-02,  1.56000689e-01, -6.65183370e-02,\n",
       "       -9.18499770e-02,  9.00615890e-03, -1.39144537e-01, -5.18202036e-02,\n",
       "       -2.07732938e-01,  3.76071770e-03, -3.86826715e-02, -3.43146867e-02,\n",
       "       -2.48493879e-02, -5.14114216e-02,  7.38137148e-02,  1.00097016e-01,\n",
       "        3.43753580e-02,  1.21706773e-01, -1.40344700e-01,  3.30323942e-02,\n",
       "        1.35699532e-02, -1.34776302e-02,  2.71381301e-02, -1.27945345e-01,\n",
       "        9.65551410e-02, -5.22768590e-02,  1.37080709e-01,  5.22352019e-02,\n",
       "       -1.46287875e-01, -2.08008842e-01, -2.71249086e-03, -6.10797931e-02,\n",
       "        4.65325162e-02, -1.51830517e-01,  9.22966666e-02,  3.17999748e-03,\n",
       "        3.21004640e-02,  2.01449015e-01, -6.89734705e-02,  6.61139943e-02,\n",
       "       -6.14890174e-02,  7.37705760e-02, -2.36392363e-02,  6.50041881e-02,\n",
       "       -6.93097578e-02,  4.91129277e-02, -1.17720243e-01, -2.06396150e-02,\n",
       "        3.88817893e-02,  1.38003060e-01, -1.13121587e-01,  1.86320023e-01,\n",
       "        5.83188685e-04,  2.86724017e-03,  2.17087542e-03, -1.79021688e-01,\n",
       "        2.64491019e-03, -3.76575355e-02,  4.95394086e-02, -9.89004309e-03,\n",
       "       -6.71587420e-02, -1.56929404e-02,  1.82537220e-01, -1.72680363e-01,\n",
       "        2.46921609e-02,  1.66176392e-01, -1.82900820e-01,  1.07654645e-02,\n",
       "        5.31634335e-02, -2.60567599e-03,  1.22540278e-01, -3.41919473e-02,\n",
       "        4.54558153e-02,  1.60865808e-01, -8.97406134e-02, -1.87145876e-02,\n",
       "        5.34509233e-02, -2.90034619e-02, -2.66882989e-03, -2.95261351e-02,\n",
       "       -2.37343897e-02, -4.86963846e-02, -2.06239412e-01,  6.16085437e-02,\n",
       "        2.53793378e-02, -9.00514794e-02, -4.32241806e-02, -5.30593313e-02,\n",
       "       -1.49751038e-02,  1.01509050e-01, -1.39267700e-02,  4.01071980e-02,\n",
       "        5.60675510e-02, -7.74843434e-02,  1.29531536e-01, -4.99792742e-02,\n",
       "        1.74746512e-01,  6.92867228e-02,  4.22829961e-02, -1.79662961e-01,\n",
       "       -1.45774030e-02, -6.27617645e-02,  1.12356850e-01,  4.36714392e-02,\n",
       "       -7.45207275e-02,  8.37835829e-03, -4.55225258e-02,  1.76298644e-02,\n",
       "        9.16654030e-02,  1.08551370e-01, -3.69275974e-02, -2.77472918e-02,\n",
       "       -7.39507390e-02, -5.33187410e-02,  7.71306544e-02,  1.34064192e-01,\n",
       "       -4.35650644e-02,  7.76717424e-04, -1.07721782e-03,  7.93329413e-02,\n",
       "        6.40354517e-02, -7.66956108e-02,  9.32065435e-02,  5.78207593e-02,\n",
       "       -3.21156020e-02, -6.29173692e-02, -5.61594854e-03, -2.55034205e-02,\n",
       "       -7.06468012e-02, -4.45821026e-03,  1.74080242e-01, -2.66396265e-01,\n",
       "        1.87892914e-02, -7.59396143e-02, -1.71169684e-02, -1.48331789e-01,\n",
       "        7.80141049e-02,  1.73308932e-01, -6.56248625e-02,  4.25793511e-02,\n",
       "        7.27314298e-02,  6.09656117e-02,  4.12891357e-02,  9.62609720e-02,\n",
       "       -3.01279673e-02, -2.41856463e-01,  1.13443792e-01,  4.36077477e-02,\n",
       "        1.52884296e-01, -1.46186002e-01, -3.88116547e-02, -7.77570824e-02,\n",
       "       -3.29835805e-02,  6.42887063e-02,  5.92716089e-02, -1.08883339e-02,\n",
       "       -4.68578861e-02, -1.27958056e-01,  1.81765691e-01,  3.08273617e-02,\n",
       "        1.70294975e-02, -2.98650795e-02,  2.28529341e-01, -1.23104153e-02,\n",
       "       -4.96140187e-02, -5.58124512e-02,  1.88405576e-02, -8.66610118e-02,\n",
       "       -2.14992117e-02,  1.96440082e-02,  1.73324207e-02, -6.60903988e-02,\n",
       "        4.05737402e-02, -1.35424759e-01,  5.79313001e-02, -2.44595731e-01,\n",
       "        1.01197094e-01,  8.34742528e-02, -8.50244977e-02, -1.69523561e-02,\n",
       "       -7.28751946e-02,  7.51822565e-02, -5.12541171e-02,  5.92126666e-02,\n",
       "        1.87073975e-02,  2.27490359e-02, -1.09924960e-01, -1.35213136e-01,\n",
       "       -6.82875431e-02,  1.79297326e-01,  2.90450979e-02, -4.97467976e-03,\n",
       "       -4.16468737e-03,  2.13117837e-02, -1.16520351e-02,  1.39846605e-02,\n",
       "        1.26363160e-01,  1.65331037e-02, -1.42660640e-01,  1.38270493e-01,\n",
       "        2.01307672e-02, -1.17316804e-01, -1.10178606e-01, -1.09961486e-02,\n",
       "       -1.34254487e-01, -1.92859905e-01, -1.39464548e-01, -2.44703604e-01,\n",
       "        2.25277488e-03, -2.77341242e-01,  7.37025043e-02,  4.11454492e-02,\n",
       "        1.55128524e-01, -2.20103858e-02, -9.26403073e-02, -2.91143559e-02,\n",
       "        4.20751233e-02,  1.14645236e-01, -4.14394110e-02,  2.79494799e-02,\n",
       "       -2.34470490e-01, -8.16864693e-02, -2.75721849e-02, -1.10449839e-01,\n",
       "       -3.09278819e-02, -9.04240119e-02,  6.57078940e-02,  7.41869891e-02,\n",
       "       -5.63239305e-02,  3.27436097e-03, -2.22221537e-02,  7.67180953e-02,\n",
       "       -1.05483597e-01,  1.35081626e-02,  2.26400104e-01, -1.14174966e-01,\n",
       "        1.82567541e-01, -1.28108172e-01,  5.44588994e-02,  1.06474316e-01,\n",
       "       -7.31141173e-02,  9.78136193e-03,  7.66672061e-02,  4.45856875e-03,\n",
       "        6.05152130e-02, -7.43570794e-02,  5.25130314e-02,  1.14026571e-01,\n",
       "        1.40849593e-02, -1.15273381e-01,  8.26793516e-02, -7.26266172e-02,\n",
       "        5.89555304e-02, -1.29508730e-01, -1.65465229e-02, -1.10114669e-01,\n",
       "       -1.57005399e-02, -1.51612359e-01, -1.52227780e-01, -3.84553853e-02,\n",
       "        7.24983858e-02,  3.85726541e-02,  1.68818407e-01,  8.93005460e-02,\n",
       "        1.31147722e-01, -3.77851212e-02,  1.69480168e-02,  3.66740127e-02,\n",
       "       -4.07989242e-02,  1.49416070e-01,  2.50943346e-01,  3.26406414e-02,\n",
       "       -1.85550539e-02,  2.54294008e-02, -7.74593142e-02,  1.88978357e-01,\n",
       "       -3.46971634e-02, -6.74363944e-02, -9.29852696e-02, -1.73713051e-01,\n",
       "       -2.61453460e-01,  3.45131993e-02,  1.31363404e-01, -1.01656376e-01,\n",
       "        2.99898907e-02,  3.18754246e-02,  2.44158230e-02, -1.03235875e-01,\n",
       "        9.52535833e-02, -1.41715222e-02, -8.95766427e-02,  1.97876570e-02,\n",
       "       -1.70961508e-01,  3.13769934e-02,  1.07747777e-01, -8.24404514e-02,\n",
       "       -5.49078623e-02, -4.21937230e-02,  1.98460973e-01, -3.68523466e-02,\n",
       "       -4.45539773e-02,  5.13761734e-02,  6.65689758e-02, -1.09332578e-01,\n",
       "        5.10445196e-02,  7.53774279e-02,  2.98182135e-02,  1.51229063e-01,\n",
       "        1.03333374e-01, -2.33552043e-02, -1.25360684e-01,  1.28752506e-01,\n",
       "       -6.09608902e-02,  3.35697823e-02,  1.05909232e-01, -6.06514601e-03,\n",
       "       -2.79290984e-03, -7.52693960e-02,  8.86019587e-02,  8.06538174e-02,\n",
       "       -6.81049748e-02,  1.50962569e-03, -1.40280704e-01,  1.12042703e-01,\n",
       "       -6.95244495e-02, -7.18897886e-03, -7.44296463e-02,  3.61603527e-02,\n",
       "        1.05762712e-01,  4.15660116e-02, -8.65747736e-02, -2.18454151e-02,\n",
       "        6.25027931e-02,  7.30361404e-03,  9.59389592e-02,  1.04613240e-01,\n",
       "        4.09785355e-02, -9.04754734e-02, -1.09665081e-01,  4.99798456e-02,\n",
       "       -8.06821978e-05, -1.14314034e-01,  1.57878791e-04, -1.29697565e-02,\n",
       "       -1.70985477e-02,  1.37074241e-02,  3.38509607e-02,  9.63530107e-02,\n",
       "        1.87636540e-02,  7.26789327e-02,  7.75821290e-02, -3.34905807e-02,\n",
       "       -5.45273354e-03, -1.02812977e-02, -7.92331737e-02,  7.33435442e-02,\n",
       "       -1.10905657e-01, -6.74429985e-02, -5.54168586e-02, -7.39274583e-02,\n",
       "       -1.35504906e-02,  6.57607799e-03,  2.42097698e-02, -1.61592299e-01,\n",
       "        9.22249476e-02, -3.84595664e-02, -1.39973454e-02, -1.75301882e-02,\n",
       "        1.47126563e-02,  6.97542334e-02, -7.50442081e-02,  8.81598058e-02,\n",
       "       -4.68270971e-02, -1.26866643e-01,  5.26563323e-02,  1.03760068e-01,\n",
       "       -1.20297906e-01,  7.15269798e-02, -1.95758612e-01,  2.13350449e-02,\n",
       "       -9.15325932e-02,  1.19069552e-01, -3.35774216e-02, -9.75908144e-02,\n",
       "       -9.55043430e-02, -1.08290612e-01, -1.08673965e-02,  5.73783087e-02,\n",
       "        1.14940220e-02,  4.12005801e-02,  2.43391545e-02,  5.07516759e-02,\n",
       "        1.15544400e-01,  2.75794231e-02,  1.48669097e-01, -5.00938431e-02,\n",
       "       -5.05797723e-02, -3.30023553e-02,  1.33235518e-01,  8.73833790e-02,\n",
       "        2.45619137e-02, -9.73496754e-02,  4.27336962e-03,  1.86107208e-02,\n",
       "       -8.72876163e-03,  1.44482999e-01,  4.70948507e-02, -6.55198069e-02,\n",
       "       -8.93126690e-02,  2.54941057e-02,  9.37511724e-02,  1.32103388e-01,\n",
       "        2.36141838e-01, -1.69664661e-02, -5.29921499e-02,  1.32741409e-01,\n",
       "       -1.12693627e-01, -3.18433933e-02,  5.06126442e-02, -1.68593443e-01,\n",
       "        3.44838868e-02,  1.46136330e-02, -4.52734546e-02,  2.78995647e-02,\n",
       "        5.31726825e-02,  1.56209689e-01,  5.69777656e-02, -1.08967248e-01,\n",
       "        1.75605894e-01,  3.19472622e-02,  4.47086324e-02, -1.00547924e-01,\n",
       "        2.45006053e-02,  1.86073859e-01, -3.98821660e-02,  2.06433577e-02,\n",
       "       -5.94707221e-02,  1.80675914e-02, -8.41039598e-02, -8.49285512e-03,\n",
       "       -2.30217807e-02,  2.78640738e-02, -1.28361233e-01, -7.63284000e-02,\n",
       "       -5.88074246e-02, -7.52531712e-02,  2.45201357e-03,  1.26507926e-01,\n",
       "       -6.17751858e-02, -1.62446158e-01, -3.61240538e-02, -7.46517473e-03,\n",
       "        7.26964024e-02,  5.55500422e-02,  4.86416293e-02, -2.79755647e-02,\n",
       "        2.25382858e-02,  2.90281999e-02, -3.75267903e-02,  5.23031932e-02,\n",
       "        1.15470105e-01,  7.30108444e-02,  6.50057447e-04, -9.90520779e-02,\n",
       "        1.03225596e-01, -3.69504788e-02, -7.02561650e-02, -2.30376342e-01,\n",
       "       -5.69161583e-02,  2.24996790e-02,  1.14950764e-02,  1.63245828e-02,\n",
       "        1.05834938e-01,  1.79968598e-01, -2.99742299e-02,  1.91209685e-02,\n",
       "        1.80937443e-03,  3.26432018e-02, -8.37860902e-02,  3.41888180e-02,\n",
       "        9.42330437e-02,  2.00921143e-01,  2.51150851e-02, -4.76711303e-02,\n",
       "        9.08838825e-03,  2.13197873e-01,  8.97265951e-02, -6.40909057e-02,\n",
       "       -7.78435869e-02, -1.20180644e-01, -8.74417691e-02, -1.43528749e-01,\n",
       "       -8.06089897e-02,  1.10113227e-01,  2.39552735e-02,  2.36946400e-01,\n",
       "       -4.22283032e-02, -1.27239842e-01,  1.67017263e-01,  3.42725236e-02,\n",
       "       -2.41730167e-01, -2.52215495e-01, -4.21219582e-02,  8.53835741e-03,\n",
       "       -1.32681716e-01, -6.40841377e-02, -1.10464443e-01, -3.41453455e-02,\n",
       "        1.25590463e-01, -1.21802004e-01,  6.39595310e-02,  1.08254008e-01,\n",
       "        1.67170376e-02, -8.12271866e-04, -9.54676390e-02,  2.65604999e-01,\n",
       "        2.81214986e-01,  1.28313932e-01,  1.29113544e-01, -9.93716042e-02,\n",
       "       -3.33613103e-02, -1.10685634e-01, -1.68195054e-01,  2.13873675e-01,\n",
       "       -2.75618446e-02,  1.72025689e-02, -1.56736670e-02,  1.49822851e-01,\n",
       "        6.97777605e-02,  3.15842766e-02,  1.24366936e-01,  9.30712348e-04,\n",
       "       -8.41959248e-03,  8.34694043e-02,  2.60280868e-02, -6.49390713e-02,\n",
       "       -1.44863771e-01,  1.32535048e-01,  3.74821130e-02, -5.71432699e-02,\n",
       "       -9.91831446e-02,  1.62427005e-01, -1.06596069e-02,  6.10942670e-03,\n",
       "        1.12262586e-01, -1.17476689e-01, -1.41634349e-01, -8.74633035e-03,\n",
       "       -3.67964146e-02, -1.79723795e-01,  5.82652196e-02, -1.42684603e-01,\n",
       "       -7.83382655e-03, -5.21024671e-02,  5.95610723e-02, -2.12240311e-02,\n",
       "        6.98984747e-02,  3.00069822e-01, -1.26362375e-01,  3.29399697e-02,\n",
       "       -4.64046161e-02, -4.41096609e-02, -1.10279013e-01,  9.42852877e-04,\n",
       "       -4.03527743e-02,  3.09213793e-02, -7.08288519e-02,  8.21694709e-03,\n",
       "       -4.14581365e-02, -4.57780110e-03,  1.29588023e-01,  6.02619785e-02,\n",
       "        7.89326032e-02, -5.68836921e-02, -8.74881339e-02, -3.68402704e-02,\n",
       "       -3.50530590e-02, -5.26557548e-03,  8.03260167e-03,  1.28106856e-01,\n",
       "        6.51388957e-02,  1.07474612e-01,  4.78775910e-03, -1.74899611e-01,\n",
       "       -1.01721095e-02, -8.31574909e-02,  8.75747196e-03, -6.39259875e-03,\n",
       "        5.23405604e-02,  7.34368944e-02, -7.57252355e-02, -8.85783112e-02,\n",
       "        1.21199549e-01, -5.11391052e-02,  3.59303278e-02,  9.63593824e-02,\n",
       "       -7.03900181e-02,  6.51157612e-02, -1.45043623e-01,  3.39161393e-02,\n",
       "        3.14215504e-02, -3.50893756e-02, -9.77252774e-02, -1.42418710e-01,\n",
       "        4.51072871e-02, -6.22756665e-02, -7.24124193e-02, -5.89508949e-02,\n",
       "       -5.31469362e-02, -9.04839985e-03, -1.84608944e-01,  4.63301254e-02,\n",
       "        1.41059127e-01,  9.18197721e-02, -8.25472492e-02,  2.15465511e-02,\n",
       "       -4.75632019e-02, -1.25133232e-01, -3.62317983e-02,  1.23056573e-01,\n",
       "        1.48917871e-01,  8.46808659e-02,  1.16588639e-02,  8.13544621e-02,\n",
       "        6.64314358e-02, -1.12195265e-01,  3.15428647e-02, -1.04192653e-02,\n",
       "       -5.53311805e-02,  4.27489555e-02,  1.62116148e-01, -3.01431428e-02,\n",
       "       -2.26223651e-02,  6.78412545e-02,  1.16286449e-01, -1.09724412e-01,\n",
       "       -1.83193235e-02,  8.52034150e-02,  8.50224210e-02, -5.46790760e-02,\n",
       "        1.03244102e-01, -8.78298335e-02,  3.54830171e-02, -2.68980224e-02,\n",
       "        1.32438392e-01, -1.79724680e-03,  2.28099120e-01,  1.11158023e-01,\n",
       "        5.58953746e-02,  1.53132657e-01, -1.02945479e-01, -1.51237106e-01,\n",
       "       -4.93693135e-02,  2.06015720e-01, -4.21403754e-02, -5.21901498e-02,\n",
       "        1.41193500e-01, -2.66227145e-02, -2.29673772e-02,  8.97585202e-02,\n",
       "        3.59598476e-02,  8.84874863e-03,  9.40949402e-02, -2.60185755e-01])"
      ]
     },
     "execution_count": 133,
     "metadata": {},
     "output_type": "execute_result"
    }
   ],
   "source": [
    "b"
   ]
  },
  {
   "cell_type": "code",
   "execution_count": 134,
   "metadata": {},
   "outputs": [
    {
     "data": {
      "image/png": "[encoded data removed]",
      "text/plain": [
       "<Figure size 432x288 with 1 Axes>"
      ]
     },
     "metadata": {
      "needs_background": "light"
     },
     "output_type": "display_data"
    }
   ],
   "source": [
    "import matplotlib.pyplot as plt\n",
    "count, bins, ignored = plt.hist(b, 30, density=True)\n",
    "plt.plot(bins, 1/(sigma * np.sqrt(2 * np.pi)) *\n",
    "               np.exp( - (bins - mu)**2 / (2 * sigma**2) ),\n",
    "         linewidth=2, color='r')\n",
    "plt.show()"
   ]
  },
  {
   "cell_type": "markdown",
   "metadata": {},
   "source": [
    "#### 5. Exponential distribution"
   ]
  },
  {
   "cell_type": "markdown",
   "metadata": {},
   "source": [
    "Exponential Distribution is used to model the time taken between the occurrence of different events. The exponential distribution is one of the extensively used continuous distributions and it is strictly related to the Poisson distribution.Its probability density function is:\n",
    "\n",
    "![alt text](exponential.png)"
   ]
  },
  {
   "cell_type": "markdown",
   "metadata": {},
   "source": [
    "A continuous random variable x (with scale parameter λ > 0) is said to have an exponential distribution only if its probability density function can be expressed by multiplying the scale parameter to the exponential function of minus scale parameter and x for all x greater than or equal to zero, otherwise the probability density function is equal to zero. More information about exponential distribution get here: https://www.wallstreetmojo.com/exponential-distribution/\n",
    "\n",
    "We should use exponential distribution when:\n",
    "\n",
    "- You have a lot of events going.\n",
    "- They happen at a certain rate (which does not change over time).\n",
    "- Just because one happened the chances of another one happening don’t change.\n",
    "\n",
    "https://www.kdnuggets.com/2019/07/5-probability-distributions-every-data-scientist-should-know.html"
   ]
  },
  {
   "cell_type": "markdown",
   "metadata": {},
   "source": [
    "A real life example for exponential distribution: \n",
    "\n",
    "As I mentioned before, exponential distribution measures time taken between occurance of two events. As an example, we could imagine we work at a restaurant and we want to predict what is going to be the time interval between different customers coming to the restaurant. According to https://towardsdatascience.com/ using an Exponential Distribution for this type of problem, could be the perfect place where to start the analysis. "
   ]
  },
  {
   "cell_type": "markdown",
   "metadata": {},
   "source": [
    "![alt text](exp1.png)"
   ]
  },
  {
   "cell_type": "markdown",
   "metadata": {},
   "source": [
    "Image taken from: https://en.wikipedia.org/wiki/Exponential_distribution"
   ]
  },
  {
   "cell_type": "markdown",
   "metadata": {},
   "source": [
    "## 4.The use of seeds"
   ]
  },
  {
   "cell_type": "markdown",
   "metadata": {},
   "source": [
    "As I have mentioned before computers can't produce random numbers itself, they need human help. That is the reason why random numberes are deterministic which means that they operate by a set of rules, and we call them pseudorandom numbers. The pseudorandom number generator is a mathematical function that generates a sequence of nearly random numbers. It takes a parameter to start off the sequence, called the seed. As the function is deterministic, the same seed will produce the same sequence of numbers every time. https://yourbasic.org/algorithms/random-number-generator-seed/\n",
    "\n",
    "\"A random seed specifies the start point when a computer generates a random number sequence. This can be any number, but it usually comes from seconds on a computer system’s clock (Henkemans & Lee, 2001).\" \n",
    "\n",
    "Quote taken from:https://www.statisticshowto.datasciencecentral.com/random-seed-definition/\n",
    "\n",
    "Generally, the seed value is the previous number generated by the generator. However, when the first time you use the random generator, there is no previous value. So by-default current system time is used as a seed value.  The random module uses the seed value as a base to generate a random number.https://pynative.com/python-random-seed/ \n",
    "\n",
    "Syntax of random.seed()\n",
    "\n",
    "If the seed=None,  then by default, current system time is used. If seed value is in the form of an integer it is used as it is. This method is called when RandomState is initialized. It can be called again to re-seed the generator. RandomState exposes a number of methods for generating random numbers drawn from a variety of probability distributions. In addition to the distribution-specific arguments, each method takes a keyword argument size that defaults to None.\n",
    "\n",
    "- If size is None, then a single value is generated and returned.\n",
    "- If size is an integer, then a 1-D array filled with generated values is returned. \n",
    "- If size is a tuple, then an array with that shape is filled and returned.\n",
    "\n",
    "https://docs.scipy.org/doc/numpy-1.16.0/reference/generated/numpy.random.RandomState.html#numpy.random.RandomState\n",
    "\n",
    "I will show an example which generates the same output every time using random.seed()\n",
    "\n"
   ]
  },
  {
   "cell_type": "code",
   "execution_count": 135,
   "metadata": {},
   "outputs": [
    {
     "name": "stdout",
     "output_type": "stream",
     "text": [
      "Random number with seed 30\n",
      "first -  59\n",
      "Second -  59\n",
      "Third -  59\n"
     ]
    }
   ],
   "source": [
    "# code adjusted from:https://pynative.com/python-random-seed/\n",
    "#import random library\n",
    "import random\n",
    "\n",
    "print (\"Random number with seed 30\")\n",
    "random.seed( 30 )\n",
    "print (\"first - \", random.randint(25,60))\n",
    "\n",
    "#will generate a same random number as previous\n",
    "random.seed( 30 )\n",
    "print (\"Second - \", random.randint(25,60))\n",
    "\n",
    "#will generate a same random number as previous\n",
    "random.seed( 30 )\n",
    "print (\"Third - \", random.randint(25,60))"
   ]
  },
  {
   "cell_type": "markdown",
   "metadata": {},
   "source": [
    "As it is shown in the example above we can see 3 outputs with the number 59. In all 3 situations the seed was 30 which means the output was the same although radint function was called. Random.radint function returns random integers from low (inclusive) to high (exclusive) which means that all integers from 25 to 50 (not included) could be returned as output with the seed 30, but in all three situations we got the same output (59)"
   ]
  },
  {
   "cell_type": "code",
   "execution_count": 136,
   "metadata": {},
   "outputs": [
    {
     "name": "stdout",
     "output_type": "stream",
     "text": [
      "Random number with seed 30\n",
      "first -  59\n",
      "Second -  43\n",
      "Third -  59\n"
     ]
    }
   ],
   "source": [
    "# code adjusted from: https://pynative.com/python-random-seed/\n",
    "# import random library\n",
    "import random\n",
    "\n",
    "print (\"Random number with seed 30\")\n",
    "random.seed( 30 ) #first call\n",
    "print (\"first - \", random.randint(25,60))\n",
    "\n",
    "#generate a different random number as previous value is used as a seed\n",
    "print (\"Second - \", random.randint(25,60))\n",
    "\n",
    "#will generate a same random number as first one because seed value is same\n",
    "random.seed( 30 ) # second call\n",
    "print (\"Third - \", random.randint(25,60))"
   ]
  },
  {
   "cell_type": "markdown",
   "metadata": {},
   "source": [
    "In the example above we can see that the second output is different because the first output (59) is taken as a seed in the second case. The seed in second case was 59 and that number used as a seed generated different output (43). It the second case function random.seed( 30 ) is omitted and then by default previous output was used as a seed. In this example I used randint function to generate random integers, but other functions can be used as well, for example, random.choice, or random.sample.\n",
    "\n",
    "There are algorithms that generate numbers which are based on distributions like the Bernoulli distribution or Poisson distribution and they follow repeated pattern.  "
   ]
  },
  {
   "cell_type": "code",
   "execution_count": null,
   "metadata": {},
   "outputs": [],
   "source": []
  }
 ],
 "metadata": {
  "kernelspec": {
   "display_name": "Python 3",
   "language": "python",
   "name": "python3"
  },
  "language_info": {
   "codemirror_mode": {
    "name": "ipython",
    "version": 3
   },
   "file_extension": ".py",
   "mimetype": "text/x-python",
   "name": "python",
   "nbconvert_exporter": "python",
   "pygments_lexer": "ipython3",
   "version": "3.7.3"
  }
 },
 "nbformat": 4,
 "nbformat_minor": 2
}
